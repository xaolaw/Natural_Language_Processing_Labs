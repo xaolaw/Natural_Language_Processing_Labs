{
 "cells": [
  {
   "cell_type": "markdown",
   "metadata": {},
   "source": [
    "## 1) Configure document store"
   ]
  },
  {
   "cell_type": "code",
   "execution_count": 1,
   "metadata": {},
   "outputs": [],
   "source": [
    "from haystack import Pipeline\n",
    "from haystack.document_stores import FAISSDocumentStore\n",
    "from haystack.nodes import EmbeddingRetriever\n",
    "\n",
    "CREATE_NEW_DOCUMENT_STORE = False\n",
    "\n",
    "index_path = \"db_backup/index.faiss\"\n",
    "config_path = \"db_backup/config.json\"\n",
    "\n",
    "doc_store = None\n",
    "\n",
    "if CREATE_NEW_DOCUMENT_STORE:\n",
    "    doc_store = FAISSDocumentStore()\n",
    "else:\n",
    "    doc_store = FAISSDocumentStore(faiss_index_path=index_path, faiss_config_path=config_path)\n",
    "\n",
    "retriever = EmbeddingRetriever(\n",
    "    embedding_model='ipipan/silver-retriever-base-v1', document_store=doc_store\n",
    ")\n",
    "\n",
    "query_pipeline = Pipeline()\n",
    "query_pipeline.add_node(component=retriever, name=\"Retriever\", inputs=[\"Query\"])\n"
   ]
  },
  {
   "cell_type": "code",
   "execution_count": 2,
   "metadata": {},
   "outputs": [],
   "source": [
    "from datasets import load_dataset\n",
    "\n",
    "ds = load_dataset(\"clarin-knext/fiqa-pl\", \"corpus\")\n",
    "ds2 = load_dataset(\"clarin-knext/fiqa-pl\", \"queries\")\n",
    "\n",
    "realations = load_dataset(\"clarin-knext/fiqa-pl-qrels\")"
   ]
  },
  {
   "cell_type": "code",
   "execution_count": 3,
   "metadata": {},
   "outputs": [
    {
     "data": {
      "text/plain": [
       "DatasetDict({\n",
       "    train: Dataset({\n",
       "        features: ['query-id', 'corpus-id', 'score'],\n",
       "        num_rows: 14166\n",
       "    })\n",
       "    validation: Dataset({\n",
       "        features: ['query-id', 'corpus-id', 'score'],\n",
       "        num_rows: 1238\n",
       "    })\n",
       "    test: Dataset({\n",
       "        features: ['query-id', 'corpus-id', 'score'],\n",
       "        num_rows: 1706\n",
       "    })\n",
       "})"
      ]
     },
     "execution_count": 3,
     "metadata": {},
     "output_type": "execute_result"
    }
   ],
   "source": [
    "realations"
   ]
  },
  {
   "cell_type": "code",
   "execution_count": 4,
   "metadata": {},
   "outputs": [
    {
     "data": {
      "text/plain": [
       "Dataset({\n",
       "    features: ['query-id', 'corpus-id', 'score'],\n",
       "    num_rows: 17110\n",
       "})"
      ]
     },
     "execution_count": 4,
     "metadata": {},
     "output_type": "execute_result"
    }
   ],
   "source": [
    "from datasets import concatenate_datasets\n",
    "\n",
    "combined = concatenate_datasets([realations['train'], realations['validation'], realations['test']])\n",
    "combined"
   ]
  },
  {
   "cell_type": "code",
   "execution_count": 5,
   "metadata": {},
   "outputs": [],
   "source": [
    "from haystack import Document\n",
    "\n",
    "\n",
    "\n",
    "\n",
    "doc_corpus = []\n",
    "\n",
    "for row in ds['corpus']:\n",
    "    doc_corpus.append(\n",
    "        Document(\n",
    "            meta={'name': row['title'], 'id': row['_id']},\n",
    "\t\t\tcontent=row['text']\n",
    "        )\n",
    "    )\n",
    "\n",
    "if CREATE_NEW_DOCUMENT_STORE:\n",
    "    doc_store.write_documents(doc_corpus)\n",
    "    doc_store.update_embeddings(retriever=retriever)\n",
    "    doc_store.save(index_path, config_path)\n"
   ]
  },
  {
   "cell_type": "code",
   "execution_count": 6,
   "metadata": {},
   "outputs": [
    {
     "data": {
      "text/plain": [
       "{'_id': '0',\n",
       " 'title': '',\n",
       " 'text': 'Co jest uważane za wydatek służbowy w podróży służbowej?'}"
      ]
     },
     "execution_count": 6,
     "metadata": {},
     "output_type": "execute_result"
    }
   ],
   "source": [
    "ds2['queries'][0]"
   ]
  },
  {
   "cell_type": "code",
   "execution_count": 7,
   "metadata": {},
   "outputs": [
    {
     "data": {
      "text/plain": [
       "[18850]"
      ]
     },
     "execution_count": 7,
     "metadata": {},
     "output_type": "execute_result"
    }
   ],
   "source": [
    "combined.filter(lambda e: e['query-id'] == 0)['corpus-id']"
   ]
  },
  {
   "cell_type": "code",
   "execution_count": 8,
   "metadata": {},
   "outputs": [],
   "source": [
    "combined_dict = {}\n",
    "\n",
    "for row in combined:\n",
    "    if int(row['query-id']) in combined_dict:\n",
    "        combined_dict[int(row['query-id'])].append((int(row['corpus-id']), int(row['score'])))\n",
    "    else:\n",
    "        combined_dict[int(row['query-id'])] = [(int(row['corpus-id']), int(row['score']))]"
   ]
  },
  {
   "cell_type": "code",
   "execution_count": 16,
   "metadata": {},
   "outputs": [
    {
     "data": {
      "application/vnd.jupyter.widget-view+json": {
       "model_id": "c359b91831ee4bedb3bb6d3836d01f6d",
       "version_major": 2,
       "version_minor": 0
      },
      "text/plain": [
       "Batches:   0%|          | 0/32 [00:00<?, ?it/s]"
      ]
     },
     "metadata": {},
     "output_type": "display_data"
    },
    {
     "data": {
      "application/vnd.jupyter.widget-view+json": {
       "model_id": "182ede62a34a4986913fab28169a3723",
       "version_major": 2,
       "version_minor": 0
      },
      "text/plain": [
       "Batches:   0%|          | 0/32 [00:00<?, ?it/s]"
      ]
     },
     "metadata": {},
     "output_type": "display_data"
    },
    {
     "data": {
      "application/vnd.jupyter.widget-view+json": {
       "model_id": "742fc4dfd1a94cc79148b5672ff0896d",
       "version_major": 2,
       "version_minor": 0
      },
      "text/plain": [
       "Batches:   0%|          | 0/32 [00:00<?, ?it/s]"
      ]
     },
     "metadata": {},
     "output_type": "display_data"
    },
    {
     "data": {
      "application/vnd.jupyter.widget-view+json": {
       "model_id": "ed380e07b911485fb31885dbddc1d69c",
       "version_major": 2,
       "version_minor": 0
      },
      "text/plain": [
       "Batches:   0%|          | 0/32 [00:00<?, ?it/s]"
      ]
     },
     "metadata": {},
     "output_type": "display_data"
    },
    {
     "data": {
      "application/vnd.jupyter.widget-view+json": {
       "model_id": "04bc148c32c74b24863e1223607357ec",
       "version_major": 2,
       "version_minor": 0
      },
      "text/plain": [
       "Batches:   0%|          | 0/32 [00:00<?, ?it/s]"
      ]
     },
     "metadata": {},
     "output_type": "display_data"
    },
    {
     "data": {
      "application/vnd.jupyter.widget-view+json": {
       "model_id": "5114ba386ebf4b3eaa1d08e2c3006952",
       "version_major": 2,
       "version_minor": 0
      },
      "text/plain": [
       "Batches:   0%|          | 0/32 [00:00<?, ?it/s]"
      ]
     },
     "metadata": {},
     "output_type": "display_data"
    },
    {
     "data": {
      "application/vnd.jupyter.widget-view+json": {
       "model_id": "6c561ab86eb6429e8a87f4aa34870cb7",
       "version_major": 2,
       "version_minor": 0
      },
      "text/plain": [
       "Batches:   0%|          | 0/21 [00:00<?, ?it/s]"
      ]
     },
     "metadata": {},
     "output_type": "display_data"
    },
    {
     "name": "stdout",
     "output_type": "stream",
     "text": [
      "0.4052346570397112\n",
      "took 382.18325114250183s, so 0.057488455346345044 per query.\n"
     ]
    }
   ],
   "source": [
    "from sklearn.metrics import ndcg_score\n",
    "import numpy as np\n",
    "from more_itertools import chunked\n",
    "import time\n",
    "\n",
    "ndcg5_list = []\n",
    "batch_size = 1000\n",
    "\n",
    "combined_time = 0\n",
    "\n",
    "for row_batch in chunked(ds2['queries'], batch_size):\n",
    "    start_time = time.time()\n",
    "    ans_batch = query_pipeline.run_batch([row['text'] for row in row_batch])\n",
    "    end_time = time.time()\n",
    "    combined_time += end_time - start_time\n",
    "    for ans, row in zip(ans_batch['documents'], row_batch):\n",
    "        wyn = combined_dict[int(row['_id'])]\n",
    "        c_ids = [id for id, _ in wyn]\n",
    "        scores = [score for _, score in wyn]\n",
    "        values = []\n",
    "        relevance = []\n",
    "        for doc in ans:\n",
    "            q_id = int(doc.meta['id'])\n",
    "            if q_id in c_ids:\n",
    "                relevance.append(float(scores[c_ids.index(q_id)]))\n",
    "                values.append(1)\n",
    "            else:\n",
    "                relevance.append(0)\n",
    "                values.append(0)\n",
    "        ndcg5_list.append(ndcg_score(np.asarray([values]), np.asarray([relevance]), k=5))\n",
    "\n",
    "\n",
    "\n",
    "ndcg5_final = np.mean(ndcg5_list)\n",
    "print(ndcg5_final)\n",
    "n = len(ds2['queries'])\n",
    "print(f'took {combined_time}s, so {combined_time / n} per query.')"
   ]
  },
  {
   "cell_type": "code",
   "execution_count": 13,
   "metadata": {},
   "outputs": [
    {
     "data": {
      "text/plain": [
       "6648"
      ]
     },
     "execution_count": 13,
     "metadata": {},
     "output_type": "execute_result"
    }
   ],
   "source": []
  },
  {
   "cell_type": "markdown",
   "metadata": {},
   "source": [
    "# Questions"
   ]
  },
  {
   "cell_type": "markdown",
   "metadata": {},
   "source": [
    "#### Which of the methods: lexical match (e.g. ElasticSearch) or dense representation works better?\n",
    "\n",
    "The Elastic search had a NDCG@5 score of 0.2657 in the best case, while the Neural network had 0.4052"
   ]
  },
  {
   "cell_type": "markdown",
   "metadata": {},
   "source": [
    "#### Which of the methods is faster?\n",
    "\n",
    "Neural Network took about 0.05s per query while elastic search had 648*4 queries which is rougly 2400 ant the whole cell took 16s so one query took 0.006s."
   ]
  },
  {
   "cell_type": "markdown",
   "metadata": {},
   "source": [
    "#### Try to determine the other pros and cons of using lexical search and dense document retrieval models.\n",
    "\n",
    "Dense pros:\n",
    "- The Dense Document retrival has better accuracy at ndcg score\n",
    "- Can be fine tuned\n",
    "\n",
    "Dense cons:\n",
    "- Long time to create encoded documents\n",
    "- Retrival of documents is 10 times longer\n",
    "\n",
    "Elastic search pros:\n",
    "- Indexing in elastic search took less than than dence retirval\n",
    "- No model needed\n",
    "- Faster retrival of data\n",
    "\n",
    "Elastic search cons:\n",
    "- Accuracy is 2 times worse \n",
    "- Needs exact keywords to find appropiate answer"
   ]
  }
 ],
 "metadata": {
  "kernelspec": {
   "display_name": ".venv",
   "language": "python",
   "name": "python3"
  },
  "language_info": {
   "codemirror_mode": {
    "name": "ipython",
    "version": 3
   },
   "file_extension": ".py",
   "mimetype": "text/x-python",
   "name": "python",
   "nbconvert_exporter": "python",
   "pygments_lexer": "ipython3",
   "version": "3.11.9"
  }
 },
 "nbformat": 4,
 "nbformat_minor": 2
}
