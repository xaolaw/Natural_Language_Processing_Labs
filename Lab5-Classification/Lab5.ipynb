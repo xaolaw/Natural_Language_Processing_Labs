{
 "cells": [
  {
   "cell_type": "markdown",
   "metadata": {},
   "source": [
    "# 1) Loading corpus and queries"
   ]
  },
  {
   "cell_type": "code",
   "execution_count": 1,
   "metadata": {},
   "outputs": [],
   "source": [
    "from datasets import load_dataset\n",
    "\n",
    "ds = load_dataset(\"clarin-knext/fiqa-pl\", \"corpus\")\n",
    "ds2 = load_dataset(\"clarin-knext/fiqa-pl\", \"queries\")\n",
    "corpus = ds['corpus'].to_pandas()\n",
    "queries = ds2['queries'].to_pandas()"
   ]
  },
  {
   "cell_type": "code",
   "execution_count": 2,
   "metadata": {},
   "outputs": [
    {
     "data": {
      "text/html": [
       "<div>\n",
       "<style scoped>\n",
       "    .dataframe tbody tr th:only-of-type {\n",
       "        vertical-align: middle;\n",
       "    }\n",
       "\n",
       "    .dataframe tbody tr th {\n",
       "        vertical-align: top;\n",
       "    }\n",
       "\n",
       "    .dataframe thead th {\n",
       "        text-align: right;\n",
       "    }\n",
       "</style>\n",
       "<table border=\"1\" class=\"dataframe\">\n",
       "  <thead>\n",
       "    <tr style=\"text-align: right;\">\n",
       "      <th></th>\n",
       "      <th>_id</th>\n",
       "      <th>title</th>\n",
       "      <th>text</th>\n",
       "    </tr>\n",
       "  </thead>\n",
       "  <tbody>\n",
       "    <tr>\n",
       "      <th>0</th>\n",
       "      <td>0</td>\n",
       "      <td></td>\n",
       "      <td>Co jest uważane za wydatek służbowy w podróży ...</td>\n",
       "    </tr>\n",
       "    <tr>\n",
       "      <th>1</th>\n",
       "      <td>4</td>\n",
       "      <td></td>\n",
       "      <td>Wydatki służbowe - ubezpieczenie samochodu pod...</td>\n",
       "    </tr>\n",
       "    <tr>\n",
       "      <th>2</th>\n",
       "      <td>5</td>\n",
       "      <td></td>\n",
       "      <td>Rozpoczęcie nowego biznesu online</td>\n",
       "    </tr>\n",
       "    <tr>\n",
       "      <th>3</th>\n",
       "      <td>6</td>\n",
       "      <td></td>\n",
       "      <td>„Dzień roboczy” i „termin płatności” rachunków</td>\n",
       "    </tr>\n",
       "    <tr>\n",
       "      <th>4</th>\n",
       "      <td>7</td>\n",
       "      <td></td>\n",
       "      <td>Nowy właściciel firmy – Jak działają podatki d...</td>\n",
       "    </tr>\n",
       "  </tbody>\n",
       "</table>\n",
       "</div>"
      ],
      "text/plain": [
       "  _id title                                               text\n",
       "0   0        Co jest uważane za wydatek służbowy w podróży ...\n",
       "1   4        Wydatki służbowe - ubezpieczenie samochodu pod...\n",
       "2   5                        Rozpoczęcie nowego biznesu online\n",
       "3   6           „Dzień roboczy” i „termin płatności” rachunków\n",
       "4   7        Nowy właściciel firmy – Jak działają podatki d..."
      ]
     },
     "execution_count": 2,
     "metadata": {},
     "output_type": "execute_result"
    }
   ],
   "source": [
    "queries.head()"
   ]
  },
  {
   "cell_type": "markdown",
   "metadata": {},
   "source": [
    "# 2) Creating a dataset of positive and negative sentence pairs"
   ]
  },
  {
   "cell_type": "markdown",
   "metadata": {},
   "source": [
    "First we will load the dataset that conects queries with corpus by id, question and answer."
   ]
  },
  {
   "cell_type": "code",
   "execution_count": 3,
   "metadata": {},
   "outputs": [
    {
     "data": {
      "text/plain": [
       "DatasetDict({\n",
       "    train: Dataset({\n",
       "        features: ['query-id', 'corpus-id', 'score'],\n",
       "        num_rows: 14166\n",
       "    })\n",
       "    validation: Dataset({\n",
       "        features: ['query-id', 'corpus-id', 'score'],\n",
       "        num_rows: 1238\n",
       "    })\n",
       "    test: Dataset({\n",
       "        features: ['query-id', 'corpus-id', 'score'],\n",
       "        num_rows: 1706\n",
       "    })\n",
       "})"
      ]
     },
     "execution_count": 3,
     "metadata": {},
     "output_type": "execute_result"
    }
   ],
   "source": [
    "ds3 = load_dataset(\"clarin-knext/fiqa-pl-qrels\")\n",
    "ds3"
   ]
  },
  {
   "cell_type": "code",
   "execution_count": 4,
   "metadata": {},
   "outputs": [],
   "source": [
    "validation = ds3['validation'].to_pandas()\n",
    "train = ds3['train'].to_pandas()\n",
    "test = ds3['test'].to_pandas()"
   ]
  },
  {
   "cell_type": "code",
   "execution_count": 5,
   "metadata": {},
   "outputs": [
    {
     "data": {
      "text/html": [
       "<div>\n",
       "<style scoped>\n",
       "    .dataframe tbody tr th:only-of-type {\n",
       "        vertical-align: middle;\n",
       "    }\n",
       "\n",
       "    .dataframe tbody tr th {\n",
       "        vertical-align: top;\n",
       "    }\n",
       "\n",
       "    .dataframe thead th {\n",
       "        text-align: right;\n",
       "    }\n",
       "</style>\n",
       "<table border=\"1\" class=\"dataframe\">\n",
       "  <thead>\n",
       "    <tr style=\"text-align: right;\">\n",
       "      <th></th>\n",
       "      <th>query-id</th>\n",
       "      <th>corpus-id</th>\n",
       "      <th>score</th>\n",
       "    </tr>\n",
       "  </thead>\n",
       "  <tbody>\n",
       "    <tr>\n",
       "      <th>0</th>\n",
       "      <td>1</td>\n",
       "      <td>14255</td>\n",
       "      <td>1</td>\n",
       "    </tr>\n",
       "    <tr>\n",
       "      <th>1</th>\n",
       "      <td>2</td>\n",
       "      <td>308938</td>\n",
       "      <td>1</td>\n",
       "    </tr>\n",
       "    <tr>\n",
       "      <th>2</th>\n",
       "      <td>3</td>\n",
       "      <td>296717</td>\n",
       "      <td>1</td>\n",
       "    </tr>\n",
       "    <tr>\n",
       "      <th>3</th>\n",
       "      <td>3</td>\n",
       "      <td>100764</td>\n",
       "      <td>1</td>\n",
       "    </tr>\n",
       "    <tr>\n",
       "      <th>4</th>\n",
       "      <td>3</td>\n",
       "      <td>314352</td>\n",
       "      <td>1</td>\n",
       "    </tr>\n",
       "  </tbody>\n",
       "</table>\n",
       "</div>"
      ],
      "text/plain": [
       "   query-id  corpus-id  score\n",
       "0         1      14255      1\n",
       "1         2     308938      1\n",
       "2         3     296717      1\n",
       "3         3     100764      1\n",
       "4         3     314352      1"
      ]
     },
     "execution_count": 5,
     "metadata": {},
     "output_type": "execute_result"
    }
   ],
   "source": [
    "validation.head()"
   ]
  },
  {
   "cell_type": "markdown",
   "metadata": {},
   "source": [
    "let's see the question and answer"
   ]
  },
  {
   "cell_type": "code",
   "execution_count": 6,
   "metadata": {},
   "outputs": [
    {
     "name": "stdout",
     "output_type": "stream",
     "text": [
      "Question:  Zgłaszanie wydatków biznesowych dla firmy bez dochodu\n",
      "Answer:  Tak, możesz ubiegać się o potrącenia biznesowe, jeśli nie uzyskujesz jeszcze żadnych dochodów. Ale najpierw powinieneś zdecydować, jaką strukturę chcesz mieć dla swojej firmy. Albo struktura firmy, albo jednoosobowy przedsiębiorca lub spółka osobowa. Struktura firmy Jeśli wybierzesz strukturę firmy (która jest droższa w przygotowaniu), będziesz ubiegać się o potrącenia, ale bez dochodu. Więc ponosiłbyś stratę i kontynuowałbyś straty, dopóki dochód z firmy nie przekroczy twoich wydatków. Straty te pozostaną więc w firmie i będą mogły zostać przeniesione na przyszłe lata dochodowe, kiedy będziesz osiągać zyski, aby zrekompensować te zyski. Więcej informacji można znaleźć w ATO – Straty podatkowe firmy. Przedsiębiorca jednoosobowy o strukturze partnerskiej Jeśli zdecydujesz się być jednoosobowym przedsiębiorcą lub spółką osobową, a Twoja firma ponosi straty, musisz sprawdzić zasady dotyczące strat niekomercyjnych, aby sprawdzić, czy możesz zrównoważyć stratę z dochodami z innych źródeł, takich jak zarobki. Aby zrekompensować straty firmy z innymi dochodami, firma musi zdać jeden z tych testów: Jeśli nie zdasz żadnego z tych testów, co najprawdopodobniej nie zostanie wykonane jako start-up, musisz kontynuować działalność straty aż do roku dochodowego, w którym zdasz jeden z testów, wtedy możesz odliczyć je od innych dochodów. To właśnie odróżnia legalną firmę od kogoś, kto ma hobby, ponieważ jeśli nie zaczniesz zarabiać co najmniej 20 000 USD ze sprzedaży (najłatwiejszy test do zdawania), nie możesz wykorzystać strat biznesowych w stosunku do innych dochodów. Więcej informacji można znaleźć w ATO – Straty niekomercyjne.\n"
     ]
    }
   ],
   "source": [
    "print(\"Question: \", queries[queries['_id'] == '1']['text'].iloc[0])\n",
    "print(\"Answer: \", corpus[corpus['_id'] == '14255']['text'].iloc[0])"
   ]
  },
  {
   "cell_type": "markdown",
   "metadata": {},
   "source": [
    "Loading model"
   ]
  },
  {
   "cell_type": "code",
   "execution_count": 7,
   "metadata": {},
   "outputs": [
    {
     "name": "stdout",
     "output_type": "stream",
     "text": [
      "tensor([[0.1710, 0.8694],\n",
      "        [0.1697, 0.8670]], device='cuda:0')\n"
     ]
    }
   ],
   "source": [
    "from transformers import AutoTokenizer, AutoModelForSequenceClassification\n",
    "from torch import nn\n",
    "import torch\n",
    "\n",
    "model_path = \"clarin-knext/herbert-base-reranker-msmarco\"\n",
    "model = AutoModelForSequenceClassification.from_pretrained(\n",
    "    model_path\n",
    "    ).to(\"cuda\")\n",
    "model.classifier = nn.Linear(768, 2, device=model.device)\n",
    "model.num_labels = 2\n",
    "model.config.num_labels = 2\n",
    "\n",
    "\n",
    "tokenizer = AutoTokenizer.from_pretrained(model_path)\n",
    "features = tokenizer(['Jakie miasto jest stolica Polski?', 'Stolicą Polski jest Warszawa.'],  padding=True, truncation=True, return_tensors=\"pt\").to(\"cuda\")\n",
    "model.eval()\n",
    "with torch.no_grad():\n",
    "    scores = model(**features).logits\n",
    "    print(scores)"
   ]
  },
  {
   "cell_type": "code",
   "execution_count": 8,
   "metadata": {},
   "outputs": [
    {
     "data": {
      "text/plain": [
       "'</s>'"
      ]
     },
     "execution_count": 8,
     "metadata": {},
     "output_type": "execute_result"
    }
   ],
   "source": [
    "separator = tokenizer.sep_token\n",
    "separator"
   ]
  },
  {
   "cell_type": "markdown",
   "metadata": {},
   "source": [
    "Preparing dataset"
   ]
  },
  {
   "cell_type": "code",
   "execution_count": 9,
   "metadata": {},
   "outputs": [],
   "source": [
    "import pandas as pd\n",
    "\n",
    "big_df = pd.concat([validation,train,test]).reset_index(drop=True)"
   ]
  },
  {
   "cell_type": "markdown",
   "metadata": {},
   "source": [
    "Positive sentences"
   ]
  },
  {
   "cell_type": "code",
   "execution_count": 10,
   "metadata": {},
   "outputs": [
    {
     "data": {
      "text/plain": [
       "[{'sentence': 'Zgłaszanie wydatków biznesowych dla firmy bez dochodu</s>Tak, możesz ubiegać się o potrącenia biznesowe, jeśli nie uzyskujesz jeszcze żadnych dochodów. Ale najpierw powinieneś zdecydować, jaką strukturę chcesz mieć dla swojej firmy. Albo struktura firmy, albo jednoosobowy przedsiębiorca lub spółka osobowa. Struktura firmy Jeśli wybierzesz strukturę firmy (która jest droższa w przygotowaniu), będziesz ubiegać się o potrącenia, ale bez dochodu. Więc ponosiłbyś stratę i kontynuowałbyś straty, dopóki dochód z firmy nie przekroczy twoich wydatków. Straty te pozostaną więc w firmie i będą mogły zostać przeniesione na przyszłe lata dochodowe, kiedy będziesz osiągać zyski, aby zrekompensować te zyski. Więcej informacji można znaleźć w ATO – Straty podatkowe firmy. Przedsiębiorca jednoosobowy o strukturze partnerskiej Jeśli zdecydujesz się być jednoosobowym przedsiębiorcą lub spółką osobową, a Twoja firma ponosi straty, musisz sprawdzić zasady dotyczące strat niekomercyjnych, aby sprawdzić, czy możesz zrównoważyć stratę z dochodami z innych źródeł, takich jak zarobki. Aby zrekompensować straty firmy z innymi dochodami, firma musi zdać jeden z tych testów: Jeśli nie zdasz żadnego z tych testów, co najprawdopodobniej nie zostanie wykonane jako start-up, musisz kontynuować działalność straty aż do roku dochodowego, w którym zdasz jeden z testów, wtedy możesz odliczyć je od innych dochodów. To właśnie odróżnia legalną firmę od kogoś, kto ma hobby, ponieważ jeśli nie zaczniesz zarabiać co najmniej 20 000 USD ze sprzedaży (najłatwiejszy test do zdawania), nie możesz wykorzystać strat biznesowych w stosunku do innych dochodów. Więcej informacji można znaleźć w ATO – Straty niekomercyjne.',\n",
       "  'label': 1},\n",
       " {'sentence': 'Przekazywanie pieniędzy z jednej kontroli biznesowej do innej kontroli biznesowej</s>„Powinieneś mieć oddzielne pliki dla każdej z dwóch firm. Firma, która przekazuje pieniądze, powinna „„wypisać czek”” w swoim pliku QB. Firma, która otrzymuje pieniądze, powinna „„zrobić depozyt”” w swoim pliku QB. QB „wypisz czek” nawet wtedy, gdy dokonujesz płatności w inny sposób, np. ACH). Żadna firma nie powinna mieć wyraźnie reprezentowanych kont bankowych drugiej strony. Z każdej strony musisz również zaklasyfikować płatność jako pochodzącą z/przeszedł na inne konto – aby wiedzieć, co jest tam poprawne, musimy najpierw wiedzieć, dlaczego przelewasz pieniądze i w jaki sposób masz ustalone książki. Myślę, że to prawdopodobnie wykracza poza zakres tego, co jest na temat / wykonalne tutaj. Pieniądze z twojego konta osobistego są prawdopodobnie kapitałem własnym właściciela, chyba że dzieje się coś innego. Na przykład w S Corp powinieneś płacić sobie pensję. Jeśli przez przypadek przepłacisz, możesz napisać czek z powrotem do firmy z konta osobistego, aby poprawić błąd. To nie jest kapitał własny — to prawdopodobnie „wydatek ujemny” na innym koncie, które śledzi wypłaty wynagrodzenia”.',\n",
       "  'label': 1},\n",
       " {'sentence': 'Posiadanie oddzielnego konta bankowego do prowadzenia działalności/inwestowania, ale nie „konta firmowego”?</s>„Posiadanie oddzielnego konta czekowego dla firmy ma sens. Ułatwia to dokumentowanie dochodów/wydatków. Możesz „wyjaśnić” każdy dolar wchodzący i wychodzący z konta bez konieczności pamiętania, że \\u200b\\u200bniektóre z nich były przeznaczone na pozycje niebiznesowe. Unia kredytowa pozwoliła mi mieć drugie konto czekowe i pozwoliła mi umieścić to, co chciałem jako imię na czeku.Myślę, że wyglądało to trochę lepiej niż posiadanie mojego imienia i nazwiska na czeku.Nie widzę potrzeby oddzielnego rachunek bieżący do inwestowania Pieniądze mogą być trzymane na oddzielnym koncie oszczędnościowym, które nie ma żadnych opłat, a nawet może trochę zarobić. Chyba że robisz dużo transakcji inwestycyjnych w miesiącu, to mi się udało. Finansuję IRA i 529 planuje w ten sposób. Otrzymujemy czeki 4-5 razy w miesiącu, ale pieniądze wysyłamy do każdego z funduszy raz w miesiącu. Będziesz potrzebować konta firmowego, jeśli liczba transakcji stanie się duża. Jeśli za każdym razem wpłacasz dziesiątki czeków do banku, bank będzie chciał się przenieść y na konto firmowe.\"',\n",
       "  'label': 1},\n",
       " {'sentence': 'Posiadanie oddzielnego konta bankowego do prowadzenia działalności/inwestowania, ale nie „konta firmowego”?</s>„Nie określasz, w jakim kraju się znajdujesz, więc moje odpowiedzi są bardziej z punktu widzenia najlepszych praktyk niż z punktu widzenia prawa. Nie zamierzam używać go do użytku osobistego, ale mam na myśli, że jest tak jak to możliwe. niebezpieczna propozycja.. Nie należy mieszać wydatków służbowych z osobistymi. Jeśli jest szansa, że \\u200b\\u200btak się stanie, przestań, zrób to tak, aby tak się nie stało. Duże niebezpieczeństwo polega na możliwości śledzenia między tym, co robisz dla firmy, a tym, co robisz dla siebie. Jeśli używasz tego konta jako „tymczasowego” konta do inwestycji itp., czy są to inwestycje dla siebie? Czy dla firmy? Czy jest to opodatkowanie na zyskach kapitałowych i/lub dywidendach są takie same dla osób prywatnych i firm w Twojej jurysdykcji? Jeśli kupisz widget, czy widget jest wydatkiem na dochód firmy? A może jest to wydatek z własnej kieszeni na konsumpcję osobistą? Ten pierwszy zmniejsza dochód podlegający opodatkowaniu , to drugie nie. Nie widzę korzyści z posiadania prawdziwego konta firmowego, ponieważ używaj tych, które mają cechy charakterystyczne dla korporacji, LLC itp. - nic korzystnego dla jedynego właściciela, który nie ma raportów / pracowników. Prawdziwą korzyścią jest to, że istnieje wyraźne rozgraniczenie między dochodami/wydatkami biznesowymi a dochodami/wydatkami osobistymi. To konto może również przyjmować pieniądze i przechowywać je z transakcji biznesowych/sprzedaży, a także ewentualnie przenosić część na konto osobiste, jeśli nie ma potrzeby reinwestowania tej kwoty/procentu. To, czego szukasz, to potocznie zwany rachunek bieżący, ponieważ służy do bieżących wydatków. Jeśli przenosisz pieniądze z konta na konto osobiste, oznacza to płacenie sobie, co ma również inne konsekwencje. Najbezpieczniejszym/najczystszym sposobem, aby to zrobić, jest: Choć może to brzmieć jak przesada, jest to jedyny sposób, aby zagwarantować, że dochody/wydatki zostaną przydzielone właściwej jednostce (tj. Tobie lub Twojej firmie). Z kanadyjskiego punktu widzenia:\"',\n",
       "  'label': 1},\n",
       " {'sentence': 'Posiadanie oddzielnego konta bankowego do prowadzenia działalności/inwestowania, ale nie „konta firmowego”?</s>Jeśli to ułatwia finanse, dlaczego nie? Moja żona i ja mieliśmy jego/jej/nasz jeszcze zanim się pobraliśmy. Mam również konto do obsługi transakcji dotyczących mojej wynajmowanej nieruchomości i jedno dodatkowe do korzystania z PayPal. Miałem paranoję, podając numer konta czekowego z upoważnieniem dla osoby trzeciej do obciążenia go, tak aby konto miało maksymalnie kilkaset dolarów. Wszystko to ma na celu wyjaśnienie, że twoje finanse powinny być tak zorganizowane, aby uprościć twoje życie i zapewnić ci wygodę.',\n",
       "  'label': 1}]"
      ]
     },
     "execution_count": 10,
     "metadata": {},
     "output_type": "execute_result"
    }
   ],
   "source": [
    "list_ = []\n",
    "\n",
    "for i in range(2):\n",
    "  for index, row in big_df.iterrows():\n",
    "\n",
    "    corpus_id = row['corpus-id']\n",
    "    query_id = row['query-id']\n",
    "\n",
    "    list_.append({\n",
    "      'sentence': queries[queries['_id'] == str(query_id)]['text'].iloc[0] + separator + corpus[corpus['_id'] == str(corpus_id)]['text'].iloc[0],\n",
    "      'label': 1\n",
    "    })\n",
    "\n",
    "list_[:5]"
   ]
  },
  {
   "cell_type": "markdown",
   "metadata": {},
   "source": [
    "Negative sentences"
   ]
  },
  {
   "cell_type": "code",
   "execution_count": 11,
   "metadata": {},
   "outputs": [
    {
     "data": {
      "text/plain": [
       "34220"
      ]
     },
     "execution_count": 11,
     "metadata": {},
     "output_type": "execute_result"
    }
   ],
   "source": [
    "len(list_)"
   ]
  },
  {
   "cell_type": "code",
   "execution_count": 12,
   "metadata": {},
   "outputs": [],
   "source": [
    "for index, row in big_df.iterrows():\n",
    "\n",
    "  corpus_id = row['corpus-id']\n",
    "  query_id = row['query-id']\n",
    "\n",
    "  for i in range(3):\n",
    "    \n",
    "    index = (corpus_id + i)%len(corpus)\n",
    "    if corpus.iloc[index]['_id'] != corpus_id:\n",
    "      list_.append({\n",
    "        'sentence': queries[queries['_id'] == str(query_id)]['text'].iloc[0] + separator + corpus.iloc[index]['text'],\n",
    "        'label': 0\n",
    "      })"
   ]
  },
  {
   "cell_type": "code",
   "execution_count": 13,
   "metadata": {},
   "outputs": [
    {
     "data": {
      "text/plain": [
       "85550"
      ]
     },
     "execution_count": 13,
     "metadata": {},
     "output_type": "execute_result"
    }
   ],
   "source": [
    "len(list_)"
   ]
  },
  {
   "cell_type": "code",
   "execution_count": 14,
   "metadata": {},
   "outputs": [
    {
     "data": {
      "application/vnd.jupyter.widget-view+json": {
       "model_id": "497e80347fe64ce0a58f3452c3bdd57d",
       "version_major": 2,
       "version_minor": 0
      },
      "text/plain": [
       "Stringifying the column:   0%|          | 0/51330 [00:00<?, ? examples/s]"
      ]
     },
     "metadata": {},
     "output_type": "display_data"
    },
    {
     "data": {
      "application/vnd.jupyter.widget-view+json": {
       "model_id": "cae04f4a38264e069751edf4b10459e2",
       "version_major": 2,
       "version_minor": 0
      },
      "text/plain": [
       "Casting to class labels:   0%|          | 0/51330 [00:00<?, ? examples/s]"
      ]
     },
     "metadata": {},
     "output_type": "display_data"
    },
    {
     "data": {
      "application/vnd.jupyter.widget-view+json": {
       "model_id": "6d478d3d3cc4452f832ba2ef8637be26",
       "version_major": 2,
       "version_minor": 0
      },
      "text/plain": [
       "Stringifying the column:   0%|          | 0/17110 [00:00<?, ? examples/s]"
      ]
     },
     "metadata": {},
     "output_type": "display_data"
    },
    {
     "data": {
      "application/vnd.jupyter.widget-view+json": {
       "model_id": "2ce5b95a6ed648e9a163544f3f5cecd9",
       "version_major": 2,
       "version_minor": 0
      },
      "text/plain": [
       "Casting to class labels:   0%|          | 0/17110 [00:00<?, ? examples/s]"
      ]
     },
     "metadata": {},
     "output_type": "display_data"
    },
    {
     "data": {
      "application/vnd.jupyter.widget-view+json": {
       "model_id": "9c3ab071e44c4c08b39ccf68c3f5fef2",
       "version_major": 2,
       "version_minor": 0
      },
      "text/plain": [
       "Stringifying the column:   0%|          | 0/17110 [00:00<?, ? examples/s]"
      ]
     },
     "metadata": {},
     "output_type": "display_data"
    },
    {
     "data": {
      "application/vnd.jupyter.widget-view+json": {
       "model_id": "992436766a8849139335a4cfd3050d30",
       "version_major": 2,
       "version_minor": 0
      },
      "text/plain": [
       "Casting to class labels:   0%|          | 0/17110 [00:00<?, ? examples/s]"
      ]
     },
     "metadata": {},
     "output_type": "display_data"
    }
   ],
   "source": [
    "from sklearn.model_selection import train_test_split\n",
    "from datasets import Dataset\n",
    "\n",
    "df = pd.DataFrame(list_, columns=['sentence', 'label'])\n",
    "\n",
    "temp, test = train_test_split(df, test_size=0.2, random_state=1234)\n",
    "train, eval = train_test_split(temp, test_size=0.25, random_state=1234)\n",
    "\n",
    "train = Dataset.from_pandas(train)\n",
    "train = train.class_encode_column(\"label\")\n",
    "test = Dataset.from_pandas(test)\n",
    "test = test.class_encode_column(\"label\")\n",
    "eval = Dataset.from_pandas(eval)\n",
    "eval = eval.class_encode_column(\"label\")\n",
    "\n",
    "train= train.rename_column(\"__index_level_0__\", \"input_ids\")\n",
    "test = test.rename_column(\"__index_level_0__\", \"input_ids\")\n",
    "eval = eval.rename_column(\"__index_level_0__\", \"input_ids\")"
   ]
  },
  {
   "cell_type": "code",
   "execution_count": 15,
   "metadata": {},
   "outputs": [
    {
     "name": "stdout",
     "output_type": "stream",
     "text": [
      "Train length:  51330  Test length:  17110  Evaluation:  17110\n"
     ]
    }
   ],
   "source": [
    "print(\"Train length: \", len(train), \" Test length: \", len(test), \" Evaluation: \", len(eval))"
   ]
  },
  {
   "cell_type": "code",
   "execution_count": 16,
   "metadata": {},
   "outputs": [
    {
     "data": {
      "text/plain": [
       "{'sentence': 'Jak sprawdzić, czy firma jest legalna?</s>Jeśli masz pieniądze i determinację, aby spłacić wszystkie karty w ciągu sześciu miesięcy, zamówienie nie wpłynie na twoją zdolność kredytową i finanse. Gdybyś miał mniej dostępnych pieniędzy (powiedzmy, że mógłbyś spłacić łącznie 500 USD miesięcznie), wtedy ze względów finansowych dobrze byłoby spłacić najpierw kartę kredytową o najwyższym oprocentowaniu, więc płacisz mniejsze odsetki. Byłoby dobrze ze względów psychologicznych, aby najpierw zapłacić kartą najmniejszą kwotą (aby szybko poczuć sukces, a niektórzy ludzie potrzebują tego poczucia sukcesu, aby dalej się opłacać, tylko psychologicznie). A jeśli te rzeczy są ze sobą sprzeczne, zastanów się, co jest ważniejsze. I cokolwiek robisz, spłacanie długu jest lepsze niż niespłacanie go. Więc jeśli nie możesz się zdecydować, płacisz #1, potem #2, potem #3, potem #4, a potem #5.',\n",
       " 'label': 0,\n",
       " 'input_ids': 53483}"
      ]
     },
     "execution_count": 16,
     "metadata": {},
     "output_type": "execute_result"
    }
   ],
   "source": [
    "train[0]"
   ]
  },
  {
   "cell_type": "code",
   "execution_count": 17,
   "metadata": {},
   "outputs": [
    {
     "name": "stderr",
     "output_type": "stream",
     "text": [
      "d:\\programowanie\\PJN\\Natural_Language_Processing_Labs\\.venv\\Lib\\site-packages\\transformers\\training_args.py:1575: FutureWarning: `evaluation_strategy` is deprecated and will be removed in version 4.46 of 🤗 Transformers. Use `eval_strategy` instead\n",
      "  warnings.warn(\n"
     ]
    }
   ],
   "source": [
    "from transformers import Trainer, TrainingArguments\n",
    "import numpy as np\n",
    "\n",
    "# define training arguments\n",
    "training_args = TrainingArguments(\n",
    "    output_dir=\"training\",\n",
    "    num_train_epochs=3,\n",
    "    evaluation_strategy=\"epoch\",\n",
    "    save_strategy=\"epoch\",\n",
    "    per_device_eval_batch_size=24,\n",
    "    per_device_train_batch_size=24\n",
    ")\n",
    "\n",
    "def compute_metric(eval_prediction):\n",
    "    predictions, labels = eval_prediction\n",
    "    predictions = np.argmax(predictions, axis=-1)\n",
    "    accuracy = np.mean(predictions == labels)\n",
    "    return {\"accuracy\": accuracy}"
   ]
  },
  {
   "cell_type": "code",
   "execution_count": 18,
   "metadata": {},
   "outputs": [
    {
     "data": {
      "application/vnd.jupyter.widget-view+json": {
       "model_id": "ea1c840c1e484e1daf2ad13317c09698",
       "version_major": 2,
       "version_minor": 0
      },
      "text/plain": [
       "Map:   0%|          | 0/51330 [00:00<?, ? examples/s]"
      ]
     },
     "metadata": {},
     "output_type": "display_data"
    },
    {
     "data": {
      "application/vnd.jupyter.widget-view+json": {
       "model_id": "c6a8a46538f54518967f3bcbe8a76cd3",
       "version_major": 2,
       "version_minor": 0
      },
      "text/plain": [
       "Map:   0%|          | 0/17110 [00:00<?, ? examples/s]"
      ]
     },
     "metadata": {},
     "output_type": "display_data"
    },
    {
     "data": {
      "application/vnd.jupyter.widget-view+json": {
       "model_id": "b739dd5fdcf24da0a365c3e400045418",
       "version_major": 2,
       "version_minor": 0
      },
      "text/plain": [
       "Map:   0%|          | 0/17110 [00:00<?, ? examples/s]"
      ]
     },
     "metadata": {},
     "output_type": "display_data"
    }
   ],
   "source": [
    "def tokenizer_fn(batch):\n",
    "    return tokenizer(batch['sentence'], truncation=True, padding=True)\n",
    "\n",
    "tokenized_train = train.map(tokenizer_fn, batched=True)\n",
    "tokenized_eval = eval.map(tokenizer_fn, batched=True)\n",
    "tokenized_test = test.map(tokenizer_fn, batched=True)"
   ]
  },
  {
   "cell_type": "markdown",
   "metadata": {},
   "source": [
    "Custom trainer with weighted classes"
   ]
  },
  {
   "cell_type": "code",
   "execution_count": 21,
   "metadata": {},
   "outputs": [],
   "source": [
    "class CustomTrainer(Trainer):\n",
    "    def compute_loss(self, model, inputs, return_outputs=False, num_items_in_batch = None):\n",
    "        labels = inputs.pop(\"labels\")\n",
    "        # forward pass\n",
    "        outputs = model(**inputs)\n",
    "        logits = outputs.get(\"logits\")\n",
    "        # compute custom loss (suppose one has 2 labels with different weights)\n",
    "        loss_fct = nn.CrossEntropyLoss(weight=torch.tensor([1.0, 5.0], device=model.device))\n",
    "        loss = loss_fct(logits.view(-1, self.model.config.num_labels), labels.view(-1))\n",
    "        return (loss, outputs) if return_outputs else loss"
   ]
  },
  {
   "cell_type": "code",
   "execution_count": 22,
   "metadata": {},
   "outputs": [
    {
     "name": "stderr",
     "output_type": "stream",
     "text": [
      "C:\\Users\\User\\AppData\\Local\\Temp\\ipykernel_23208\\3114532008.py:1: FutureWarning: `tokenizer` is deprecated and will be removed in version 5.0.0 for `CustomTrainer.__init__`. Use `processing_class` instead.\n",
      "  trainer = CustomTrainer(\n"
     ]
    }
   ],
   "source": [
    "trainer = CustomTrainer(\n",
    "    model=model,\n",
    "    args=training_args,\n",
    "    train_dataset=tokenized_train,\n",
    "    eval_dataset=tokenized_eval,\n",
    "    tokenizer=tokenizer,\n",
    "    compute_metrics=compute_metric\n",
    ")"
   ]
  },
  {
   "cell_type": "code",
   "execution_count": 23,
   "metadata": {},
   "outputs": [
    {
     "data": {
      "application/vnd.jupyter.widget-view+json": {
       "model_id": "00908e25661d402793139c861851bd9f",
       "version_major": 2,
       "version_minor": 0
      },
      "text/plain": [
       "  0%|          | 0/6417 [00:00<?, ?it/s]"
      ]
     },
     "metadata": {},
     "output_type": "display_data"
    },
    {
     "name": "stdout",
     "output_type": "stream",
     "text": [
      "{'loss': 0.2812, 'grad_norm': 2.461892604827881, 'learning_rate': 4.610409848839022e-05, 'epoch': 0.23}\n",
      "{'loss': 0.2245, 'grad_norm': 2.900048017501831, 'learning_rate': 4.220819697678043e-05, 'epoch': 0.47}\n",
      "{'loss': 0.1968, 'grad_norm': 21.29344940185547, 'learning_rate': 3.831229546517064e-05, 'epoch': 0.7}\n",
      "{'loss': 0.2121, 'grad_norm': 6.034542560577393, 'learning_rate': 3.441639395356086e-05, 'epoch': 0.94}\n"
     ]
    },
    {
     "data": {
      "application/vnd.jupyter.widget-view+json": {
       "model_id": "92c166dd68c44b9aa7b121849ad03b04",
       "version_major": 2,
       "version_minor": 0
      },
      "text/plain": [
       "  0%|          | 0/713 [00:00<?, ?it/s]"
      ]
     },
     "metadata": {},
     "output_type": "display_data"
    },
    {
     "name": "stdout",
     "output_type": "stream",
     "text": [
      "{'eval_loss': 0.22107411921024323, 'eval_accuracy': 0.9330800701344243, 'eval_runtime': 335.9443, 'eval_samples_per_second': 50.931, 'eval_steps_per_second': 2.122, 'epoch': 1.0}\n",
      "{'loss': 0.1731, 'grad_norm': 5.430860996246338, 'learning_rate': 3.0520492441951073e-05, 'epoch': 1.17}\n",
      "{'loss': 0.1521, 'grad_norm': 14.77031135559082, 'learning_rate': 2.6624590930341282e-05, 'epoch': 1.4}\n",
      "{'loss': 0.138, 'grad_norm': 40.71648025512695, 'learning_rate': 2.2728689418731498e-05, 'epoch': 1.64}\n",
      "{'loss': 0.1357, 'grad_norm': 5.493531227111816, 'learning_rate': 1.883278790712171e-05, 'epoch': 1.87}\n"
     ]
    },
    {
     "data": {
      "application/vnd.jupyter.widget-view+json": {
       "model_id": "2dc214a804704c129b4008d85558637b",
       "version_major": 2,
       "version_minor": 0
      },
      "text/plain": [
       "  0%|          | 0/713 [00:00<?, ?it/s]"
      ]
     },
     "metadata": {},
     "output_type": "display_data"
    },
    {
     "name": "stdout",
     "output_type": "stream",
     "text": [
      "{'eval_loss': 0.18507573008537292, 'eval_accuracy': 0.9457627118644067, 'eval_runtime': 345.6799, 'eval_samples_per_second': 49.497, 'eval_steps_per_second': 2.063, 'epoch': 2.0}\n"
     ]
    },
    {
     "ename": "KeyboardInterrupt",
     "evalue": "",
     "output_type": "error",
     "traceback": [
      "\u001b[1;31m---------------------------------------------------------------------------\u001b[0m",
      "\u001b[1;31mKeyboardInterrupt\u001b[0m                         Traceback (most recent call last)",
      "Cell \u001b[1;32mIn[23], line 1\u001b[0m\n\u001b[1;32m----> 1\u001b[0m \u001b[43mtrainer\u001b[49m\u001b[38;5;241;43m.\u001b[39;49m\u001b[43mtrain\u001b[49m\u001b[43m(\u001b[49m\u001b[43m)\u001b[49m\n",
      "File \u001b[1;32md:\\programowanie\\PJN\\Natural_Language_Processing_Labs\\.venv\\Lib\\site-packages\\transformers\\trainer.py:2164\u001b[0m, in \u001b[0;36mTrainer.train\u001b[1;34m(self, resume_from_checkpoint, trial, ignore_keys_for_eval, **kwargs)\u001b[0m\n\u001b[0;32m   2162\u001b[0m         hf_hub_utils\u001b[38;5;241m.\u001b[39menable_progress_bars()\n\u001b[0;32m   2163\u001b[0m \u001b[38;5;28;01melse\u001b[39;00m:\n\u001b[1;32m-> 2164\u001b[0m     \u001b[38;5;28;01mreturn\u001b[39;00m \u001b[43minner_training_loop\u001b[49m\u001b[43m(\u001b[49m\n\u001b[0;32m   2165\u001b[0m \u001b[43m        \u001b[49m\u001b[43margs\u001b[49m\u001b[38;5;241;43m=\u001b[39;49m\u001b[43margs\u001b[49m\u001b[43m,\u001b[49m\n\u001b[0;32m   2166\u001b[0m \u001b[43m        \u001b[49m\u001b[43mresume_from_checkpoint\u001b[49m\u001b[38;5;241;43m=\u001b[39;49m\u001b[43mresume_from_checkpoint\u001b[49m\u001b[43m,\u001b[49m\n\u001b[0;32m   2167\u001b[0m \u001b[43m        \u001b[49m\u001b[43mtrial\u001b[49m\u001b[38;5;241;43m=\u001b[39;49m\u001b[43mtrial\u001b[49m\u001b[43m,\u001b[49m\n\u001b[0;32m   2168\u001b[0m \u001b[43m        \u001b[49m\u001b[43mignore_keys_for_eval\u001b[49m\u001b[38;5;241;43m=\u001b[39;49m\u001b[43mignore_keys_for_eval\u001b[49m\u001b[43m,\u001b[49m\n\u001b[0;32m   2169\u001b[0m \u001b[43m    \u001b[49m\u001b[43m)\u001b[49m\n",
      "File \u001b[1;32md:\\programowanie\\PJN\\Natural_Language_Processing_Labs\\.venv\\Lib\\site-packages\\transformers\\trainer.py:2529\u001b[0m, in \u001b[0;36mTrainer._inner_training_loop\u001b[1;34m(self, batch_size, args, resume_from_checkpoint, trial, ignore_keys_for_eval)\u001b[0m\n\u001b[0;32m   2523\u001b[0m \u001b[38;5;28;01mwith\u001b[39;00m context():\n\u001b[0;32m   2524\u001b[0m     tr_loss_step \u001b[38;5;241m=\u001b[39m \u001b[38;5;28mself\u001b[39m\u001b[38;5;241m.\u001b[39mtraining_step(model, inputs, num_items_in_batch)\n\u001b[0;32m   2526\u001b[0m \u001b[38;5;28;01mif\u001b[39;00m (\n\u001b[0;32m   2527\u001b[0m     args\u001b[38;5;241m.\u001b[39mlogging_nan_inf_filter\n\u001b[0;32m   2528\u001b[0m     \u001b[38;5;129;01mand\u001b[39;00m \u001b[38;5;129;01mnot\u001b[39;00m is_torch_xla_available()\n\u001b[1;32m-> 2529\u001b[0m     \u001b[38;5;129;01mand\u001b[39;00m (torch\u001b[38;5;241m.\u001b[39misnan(tr_loss_step) \u001b[38;5;129;01mor\u001b[39;00m \u001b[43mtorch\u001b[49m\u001b[38;5;241;43m.\u001b[39;49m\u001b[43misinf\u001b[49m\u001b[43m(\u001b[49m\u001b[43mtr_loss_step\u001b[49m\u001b[43m)\u001b[49m)\n\u001b[0;32m   2530\u001b[0m ):\n\u001b[0;32m   2531\u001b[0m     \u001b[38;5;66;03m# if loss is nan or inf simply add the average of previous logged losses\u001b[39;00m\n\u001b[0;32m   2532\u001b[0m     tr_loss \u001b[38;5;241m=\u001b[39m tr_loss \u001b[38;5;241m+\u001b[39m tr_loss \u001b[38;5;241m/\u001b[39m (\u001b[38;5;241m1\u001b[39m \u001b[38;5;241m+\u001b[39m \u001b[38;5;28mself\u001b[39m\u001b[38;5;241m.\u001b[39mstate\u001b[38;5;241m.\u001b[39mglobal_step \u001b[38;5;241m-\u001b[39m \u001b[38;5;28mself\u001b[39m\u001b[38;5;241m.\u001b[39m_globalstep_last_logged)\n\u001b[0;32m   2533\u001b[0m \u001b[38;5;28;01melse\u001b[39;00m:\n",
      "\u001b[1;31mKeyboardInterrupt\u001b[0m: "
     ]
    }
   ],
   "source": [
    "trainer.train(resume_from_checkpoint = True)"
   ]
  },
  {
   "cell_type": "code",
   "execution_count": 22,
   "metadata": {},
   "outputs": [
    {
     "data": {
      "text/plain": [
       "Dataset({\n",
       "    features: ['sentence', 'label', 'input_ids', 'token_type_ids', 'attention_mask'],\n",
       "    num_rows: 13688\n",
       "})"
      ]
     },
     "execution_count": 22,
     "metadata": {},
     "output_type": "execute_result"
    }
   ],
   "source": [
    "tokenized_eval"
   ]
  },
  {
   "cell_type": "code",
   "execution_count": null,
   "metadata": {},
   "outputs": [],
   "source": []
  }
 ],
 "metadata": {
  "kernelspec": {
   "display_name": ".venv",
   "language": "python",
   "name": "python3"
  },
  "language_info": {
   "codemirror_mode": {
    "name": "ipython",
    "version": 3
   },
   "file_extension": ".py",
   "mimetype": "text/x-python",
   "name": "python",
   "nbconvert_exporter": "python",
   "pygments_lexer": "ipython3",
   "version": "3.11.9"
  }
 },
 "nbformat": 4,
 "nbformat_minor": 2
}
