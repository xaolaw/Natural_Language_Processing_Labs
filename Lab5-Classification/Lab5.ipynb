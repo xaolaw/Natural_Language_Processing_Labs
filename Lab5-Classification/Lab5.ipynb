{
 "cells": [
  {
   "cell_type": "markdown",
   "metadata": {},
   "source": [
    "# 1) Loading corpus and queries"
   ]
  },
  {
   "cell_type": "code",
   "execution_count": 1,
   "metadata": {},
   "outputs": [],
   "source": [
    "from datasets import load_dataset\n",
    "\n",
    "ds = load_dataset(\"clarin-knext/fiqa-pl\", \"corpus\")\n",
    "ds2 = load_dataset(\"clarin-knext/fiqa-pl\", \"queries\")\n",
    "corpus = ds['corpus'].to_pandas()\n",
    "queries = ds2['queries'].to_pandas()"
   ]
  },
  {
   "cell_type": "code",
   "execution_count": 2,
   "metadata": {},
   "outputs": [
    {
     "data": {
      "text/html": [
       "<div>\n",
       "<style scoped>\n",
       "    .dataframe tbody tr th:only-of-type {\n",
       "        vertical-align: middle;\n",
       "    }\n",
       "\n",
       "    .dataframe tbody tr th {\n",
       "        vertical-align: top;\n",
       "    }\n",
       "\n",
       "    .dataframe thead th {\n",
       "        text-align: right;\n",
       "    }\n",
       "</style>\n",
       "<table border=\"1\" class=\"dataframe\">\n",
       "  <thead>\n",
       "    <tr style=\"text-align: right;\">\n",
       "      <th></th>\n",
       "      <th>_id</th>\n",
       "      <th>title</th>\n",
       "      <th>text</th>\n",
       "    </tr>\n",
       "  </thead>\n",
       "  <tbody>\n",
       "    <tr>\n",
       "      <th>0</th>\n",
       "      <td>0</td>\n",
       "      <td></td>\n",
       "      <td>Co jest uważane za wydatek służbowy w podróży ...</td>\n",
       "    </tr>\n",
       "    <tr>\n",
       "      <th>1</th>\n",
       "      <td>4</td>\n",
       "      <td></td>\n",
       "      <td>Wydatki służbowe - ubezpieczenie samochodu pod...</td>\n",
       "    </tr>\n",
       "    <tr>\n",
       "      <th>2</th>\n",
       "      <td>5</td>\n",
       "      <td></td>\n",
       "      <td>Rozpoczęcie nowego biznesu online</td>\n",
       "    </tr>\n",
       "    <tr>\n",
       "      <th>3</th>\n",
       "      <td>6</td>\n",
       "      <td></td>\n",
       "      <td>„Dzień roboczy” i „termin płatności” rachunków</td>\n",
       "    </tr>\n",
       "    <tr>\n",
       "      <th>4</th>\n",
       "      <td>7</td>\n",
       "      <td></td>\n",
       "      <td>Nowy właściciel firmy – Jak działają podatki d...</td>\n",
       "    </tr>\n",
       "  </tbody>\n",
       "</table>\n",
       "</div>"
      ],
      "text/plain": [
       "  _id title                                               text\n",
       "0   0        Co jest uważane za wydatek służbowy w podróży ...\n",
       "1   4        Wydatki służbowe - ubezpieczenie samochodu pod...\n",
       "2   5                        Rozpoczęcie nowego biznesu online\n",
       "3   6           „Dzień roboczy” i „termin płatności” rachunków\n",
       "4   7        Nowy właściciel firmy – Jak działają podatki d..."
      ]
     },
     "execution_count": 2,
     "metadata": {},
     "output_type": "execute_result"
    }
   ],
   "source": [
    "queries.head()"
   ]
  },
  {
   "cell_type": "markdown",
   "metadata": {},
   "source": [
    "# 2) Creating a dataset of positive and negative sentence pairs"
   ]
  },
  {
   "cell_type": "markdown",
   "metadata": {},
   "source": [
    "First we will load the dataset that conects queries with corpus by id, question and answer."
   ]
  },
  {
   "cell_type": "code",
   "execution_count": 3,
   "metadata": {},
   "outputs": [
    {
     "data": {
      "text/plain": [
       "DatasetDict({\n",
       "    train: Dataset({\n",
       "        features: ['query-id', 'corpus-id', 'score'],\n",
       "        num_rows: 14166\n",
       "    })\n",
       "    validation: Dataset({\n",
       "        features: ['query-id', 'corpus-id', 'score'],\n",
       "        num_rows: 1238\n",
       "    })\n",
       "    test: Dataset({\n",
       "        features: ['query-id', 'corpus-id', 'score'],\n",
       "        num_rows: 1706\n",
       "    })\n",
       "})"
      ]
     },
     "execution_count": 3,
     "metadata": {},
     "output_type": "execute_result"
    }
   ],
   "source": [
    "ds3 = load_dataset(\"clarin-knext/fiqa-pl-qrels\")\n",
    "ds3"
   ]
  },
  {
   "cell_type": "code",
   "execution_count": 4,
   "metadata": {},
   "outputs": [],
   "source": [
    "validation = ds3['validation'].to_pandas()\n",
    "train = ds3['train'].to_pandas()\n",
    "test = ds3['test'].to_pandas()"
   ]
  },
  {
   "cell_type": "code",
   "execution_count": 5,
   "metadata": {},
   "outputs": [
    {
     "data": {
      "text/html": [
       "<div>\n",
       "<style scoped>\n",
       "    .dataframe tbody tr th:only-of-type {\n",
       "        vertical-align: middle;\n",
       "    }\n",
       "\n",
       "    .dataframe tbody tr th {\n",
       "        vertical-align: top;\n",
       "    }\n",
       "\n",
       "    .dataframe thead th {\n",
       "        text-align: right;\n",
       "    }\n",
       "</style>\n",
       "<table border=\"1\" class=\"dataframe\">\n",
       "  <thead>\n",
       "    <tr style=\"text-align: right;\">\n",
       "      <th></th>\n",
       "      <th>query-id</th>\n",
       "      <th>corpus-id</th>\n",
       "      <th>score</th>\n",
       "    </tr>\n",
       "  </thead>\n",
       "  <tbody>\n",
       "    <tr>\n",
       "      <th>0</th>\n",
       "      <td>1</td>\n",
       "      <td>14255</td>\n",
       "      <td>1</td>\n",
       "    </tr>\n",
       "    <tr>\n",
       "      <th>1</th>\n",
       "      <td>2</td>\n",
       "      <td>308938</td>\n",
       "      <td>1</td>\n",
       "    </tr>\n",
       "    <tr>\n",
       "      <th>2</th>\n",
       "      <td>3</td>\n",
       "      <td>296717</td>\n",
       "      <td>1</td>\n",
       "    </tr>\n",
       "    <tr>\n",
       "      <th>3</th>\n",
       "      <td>3</td>\n",
       "      <td>100764</td>\n",
       "      <td>1</td>\n",
       "    </tr>\n",
       "    <tr>\n",
       "      <th>4</th>\n",
       "      <td>3</td>\n",
       "      <td>314352</td>\n",
       "      <td>1</td>\n",
       "    </tr>\n",
       "  </tbody>\n",
       "</table>\n",
       "</div>"
      ],
      "text/plain": [
       "   query-id  corpus-id  score\n",
       "0         1      14255      1\n",
       "1         2     308938      1\n",
       "2         3     296717      1\n",
       "3         3     100764      1\n",
       "4         3     314352      1"
      ]
     },
     "execution_count": 5,
     "metadata": {},
     "output_type": "execute_result"
    }
   ],
   "source": [
    "validation.head()"
   ]
  },
  {
   "cell_type": "markdown",
   "metadata": {},
   "source": [
    "let's see the question and answer"
   ]
  },
  {
   "cell_type": "code",
   "execution_count": 6,
   "metadata": {},
   "outputs": [
    {
     "name": "stdout",
     "output_type": "stream",
     "text": [
      "Question:  Zgłaszanie wydatków biznesowych dla firmy bez dochodu\n",
      "Answer:  Tak, możesz ubiegać się o potrącenia biznesowe, jeśli nie uzyskujesz jeszcze żadnych dochodów. Ale najpierw powinieneś zdecydować, jaką strukturę chcesz mieć dla swojej firmy. Albo struktura firmy, albo jednoosobowy przedsiębiorca lub spółka osobowa. Struktura firmy Jeśli wybierzesz strukturę firmy (która jest droższa w przygotowaniu), będziesz ubiegać się o potrącenia, ale bez dochodu. Więc ponosiłbyś stratę i kontynuowałbyś straty, dopóki dochód z firmy nie przekroczy twoich wydatków. Straty te pozostaną więc w firmie i będą mogły zostać przeniesione na przyszłe lata dochodowe, kiedy będziesz osiągać zyski, aby zrekompensować te zyski. Więcej informacji można znaleźć w ATO – Straty podatkowe firmy. Przedsiębiorca jednoosobowy o strukturze partnerskiej Jeśli zdecydujesz się być jednoosobowym przedsiębiorcą lub spółką osobową, a Twoja firma ponosi straty, musisz sprawdzić zasady dotyczące strat niekomercyjnych, aby sprawdzić, czy możesz zrównoważyć stratę z dochodami z innych źródeł, takich jak zarobki. Aby zrekompensować straty firmy z innymi dochodami, firma musi zdać jeden z tych testów: Jeśli nie zdasz żadnego z tych testów, co najprawdopodobniej nie zostanie wykonane jako start-up, musisz kontynuować działalność straty aż do roku dochodowego, w którym zdasz jeden z testów, wtedy możesz odliczyć je od innych dochodów. To właśnie odróżnia legalną firmę od kogoś, kto ma hobby, ponieważ jeśli nie zaczniesz zarabiać co najmniej 20 000 USD ze sprzedaży (najłatwiejszy test do zdawania), nie możesz wykorzystać strat biznesowych w stosunku do innych dochodów. Więcej informacji można znaleźć w ATO – Straty niekomercyjne.\n"
     ]
    }
   ],
   "source": [
    "print(\"Question: \", queries[queries['_id'] == '1']['text'].iloc[0])\n",
    "print(\"Answer: \", corpus[corpus['_id'] == '14255']['text'].iloc[0])"
   ]
  },
  {
   "cell_type": "markdown",
   "metadata": {},
   "source": [
    "Loading model"
   ]
  },
  {
   "cell_type": "code",
   "execution_count": 7,
   "metadata": {},
   "outputs": [
    {
     "name": "stdout",
     "output_type": "stream",
     "text": [
      "tensor([[ 0.7578, -0.6469],\n",
      "        [-0.7338,  1.0468]], device='cuda:0')\n"
     ]
    }
   ],
   "source": [
    "from transformers import AutoTokenizer, AutoModelForSequenceClassification\n",
    "from torch import nn\n",
    "import torch\n",
    "\n",
    "trained_model = True\n",
    "model_path = \"\"\n",
    "model = None\n",
    "\n",
    "if trained_model:\n",
    "    model_path = \"../trained_model\"\n",
    "    model = AutoModelForSequenceClassification.from_pretrained(\n",
    "        model_path\n",
    "        ).to(\"cuda\")\n",
    "else:\n",
    "    model_path = \"clarin-knext/herbert-base-reranker-msmarco\"\n",
    "    model = AutoModelForSequenceClassification.from_pretrained(\n",
    "        model_path\n",
    "        ).to(\"cuda\")\n",
    "    model.classifier = nn.Linear(768, 2, device=model.device)\n",
    "    model.num_labels = 2\n",
    "    model.config.num_labels = 2\n",
    "\n",
    "\n",
    "tokenizer = AutoTokenizer.from_pretrained(model_path)\n",
    "features = tokenizer(['Jakie miasto jest stolica Polski?', 'Stolicą Polski jest Warszawa.'],  padding=True, truncation=True, return_tensors=\"pt\").to(\"cuda\")\n",
    "model.eval()\n",
    "with torch.no_grad():\n",
    "    scores = model(**features).logits\n",
    "    print(scores)"
   ]
  },
  {
   "cell_type": "code",
   "execution_count": 8,
   "metadata": {},
   "outputs": [
    {
     "data": {
      "text/plain": [
       "'</s>'"
      ]
     },
     "execution_count": 8,
     "metadata": {},
     "output_type": "execute_result"
    }
   ],
   "source": [
    "separator = tokenizer.sep_token\n",
    "separator"
   ]
  },
  {
   "cell_type": "markdown",
   "metadata": {},
   "source": [
    "Preparing dataset"
   ]
  },
  {
   "cell_type": "code",
   "execution_count": 9,
   "metadata": {},
   "outputs": [],
   "source": [
    "import pandas as pd\n",
    "\n",
    "big_df = pd.concat([validation,train,test]).reset_index(drop=True)"
   ]
  },
  {
   "cell_type": "markdown",
   "metadata": {},
   "source": [
    "Positive sentences"
   ]
  },
  {
   "cell_type": "code",
   "execution_count": 10,
   "metadata": {},
   "outputs": [
    {
     "data": {
      "text/plain": [
       "[{'sentence': 'Zgłaszanie wydatków biznesowych dla firmy bez dochodu</s>Tak, możesz ubiegać się o potrącenia biznesowe, jeśli nie uzyskujesz jeszcze żadnych dochodów. Ale najpierw powinieneś zdecydować, jaką strukturę chcesz mieć dla swojej firmy. Albo struktura firmy, albo jednoosobowy przedsiębiorca lub spółka osobowa. Struktura firmy Jeśli wybierzesz strukturę firmy (która jest droższa w przygotowaniu), będziesz ubiegać się o potrącenia, ale bez dochodu. Więc ponosiłbyś stratę i kontynuowałbyś straty, dopóki dochód z firmy nie przekroczy twoich wydatków. Straty te pozostaną więc w firmie i będą mogły zostać przeniesione na przyszłe lata dochodowe, kiedy będziesz osiągać zyski, aby zrekompensować te zyski. Więcej informacji można znaleźć w ATO – Straty podatkowe firmy. Przedsiębiorca jednoosobowy o strukturze partnerskiej Jeśli zdecydujesz się być jednoosobowym przedsiębiorcą lub spółką osobową, a Twoja firma ponosi straty, musisz sprawdzić zasady dotyczące strat niekomercyjnych, aby sprawdzić, czy możesz zrównoważyć stratę z dochodami z innych źródeł, takich jak zarobki. Aby zrekompensować straty firmy z innymi dochodami, firma musi zdać jeden z tych testów: Jeśli nie zdasz żadnego z tych testów, co najprawdopodobniej nie zostanie wykonane jako start-up, musisz kontynuować działalność straty aż do roku dochodowego, w którym zdasz jeden z testów, wtedy możesz odliczyć je od innych dochodów. To właśnie odróżnia legalną firmę od kogoś, kto ma hobby, ponieważ jeśli nie zaczniesz zarabiać co najmniej 20 000 USD ze sprzedaży (najłatwiejszy test do zdawania), nie możesz wykorzystać strat biznesowych w stosunku do innych dochodów. Więcej informacji można znaleźć w ATO – Straty niekomercyjne.',\n",
       "  'label': 1},\n",
       " {'sentence': 'Przekazywanie pieniędzy z jednej kontroli biznesowej do innej kontroli biznesowej</s>„Powinieneś mieć oddzielne pliki dla każdej z dwóch firm. Firma, która przekazuje pieniądze, powinna „„wypisać czek”” w swoim pliku QB. Firma, która otrzymuje pieniądze, powinna „„zrobić depozyt”” w swoim pliku QB. QB „wypisz czek” nawet wtedy, gdy dokonujesz płatności w inny sposób, np. ACH). Żadna firma nie powinna mieć wyraźnie reprezentowanych kont bankowych drugiej strony. Z każdej strony musisz również zaklasyfikować płatność jako pochodzącą z/przeszedł na inne konto – aby wiedzieć, co jest tam poprawne, musimy najpierw wiedzieć, dlaczego przelewasz pieniądze i w jaki sposób masz ustalone książki. Myślę, że to prawdopodobnie wykracza poza zakres tego, co jest na temat / wykonalne tutaj. Pieniądze z twojego konta osobistego są prawdopodobnie kapitałem własnym właściciela, chyba że dzieje się coś innego. Na przykład w S Corp powinieneś płacić sobie pensję. Jeśli przez przypadek przepłacisz, możesz napisać czek z powrotem do firmy z konta osobistego, aby poprawić błąd. To nie jest kapitał własny — to prawdopodobnie „wydatek ujemny” na innym koncie, które śledzi wypłaty wynagrodzenia”.',\n",
       "  'label': 1},\n",
       " {'sentence': 'Posiadanie oddzielnego konta bankowego do prowadzenia działalności/inwestowania, ale nie „konta firmowego”?</s>„Posiadanie oddzielnego konta czekowego dla firmy ma sens. Ułatwia to dokumentowanie dochodów/wydatków. Możesz „wyjaśnić” każdy dolar wchodzący i wychodzący z konta bez konieczności pamiętania, że \\u200b\\u200bniektóre z nich były przeznaczone na pozycje niebiznesowe. Unia kredytowa pozwoliła mi mieć drugie konto czekowe i pozwoliła mi umieścić to, co chciałem jako imię na czeku.Myślę, że wyglądało to trochę lepiej niż posiadanie mojego imienia i nazwiska na czeku.Nie widzę potrzeby oddzielnego rachunek bieżący do inwestowania Pieniądze mogą być trzymane na oddzielnym koncie oszczędnościowym, które nie ma żadnych opłat, a nawet może trochę zarobić. Chyba że robisz dużo transakcji inwestycyjnych w miesiącu, to mi się udało. Finansuję IRA i 529 planuje w ten sposób. Otrzymujemy czeki 4-5 razy w miesiącu, ale pieniądze wysyłamy do każdego z funduszy raz w miesiącu. Będziesz potrzebować konta firmowego, jeśli liczba transakcji stanie się duża. Jeśli za każdym razem wpłacasz dziesiątki czeków do banku, bank będzie chciał się przenieść y na konto firmowe.\"',\n",
       "  'label': 1},\n",
       " {'sentence': 'Posiadanie oddzielnego konta bankowego do prowadzenia działalności/inwestowania, ale nie „konta firmowego”?</s>„Nie określasz, w jakim kraju się znajdujesz, więc moje odpowiedzi są bardziej z punktu widzenia najlepszych praktyk niż z punktu widzenia prawa. Nie zamierzam używać go do użytku osobistego, ale mam na myśli, że jest tak jak to możliwe. niebezpieczna propozycja.. Nie należy mieszać wydatków służbowych z osobistymi. Jeśli jest szansa, że \\u200b\\u200btak się stanie, przestań, zrób to tak, aby tak się nie stało. Duże niebezpieczeństwo polega na możliwości śledzenia między tym, co robisz dla firmy, a tym, co robisz dla siebie. Jeśli używasz tego konta jako „tymczasowego” konta do inwestycji itp., czy są to inwestycje dla siebie? Czy dla firmy? Czy jest to opodatkowanie na zyskach kapitałowych i/lub dywidendach są takie same dla osób prywatnych i firm w Twojej jurysdykcji? Jeśli kupisz widget, czy widget jest wydatkiem na dochód firmy? A może jest to wydatek z własnej kieszeni na konsumpcję osobistą? Ten pierwszy zmniejsza dochód podlegający opodatkowaniu , to drugie nie. Nie widzę korzyści z posiadania prawdziwego konta firmowego, ponieważ używaj tych, które mają cechy charakterystyczne dla korporacji, LLC itp. - nic korzystnego dla jedynego właściciela, który nie ma raportów / pracowników. Prawdziwą korzyścią jest to, że istnieje wyraźne rozgraniczenie między dochodami/wydatkami biznesowymi a dochodami/wydatkami osobistymi. To konto może również przyjmować pieniądze i przechowywać je z transakcji biznesowych/sprzedaży, a także ewentualnie przenosić część na konto osobiste, jeśli nie ma potrzeby reinwestowania tej kwoty/procentu. To, czego szukasz, to potocznie zwany rachunek bieżący, ponieważ służy do bieżących wydatków. Jeśli przenosisz pieniądze z konta na konto osobiste, oznacza to płacenie sobie, co ma również inne konsekwencje. Najbezpieczniejszym/najczystszym sposobem, aby to zrobić, jest: Choć może to brzmieć jak przesada, jest to jedyny sposób, aby zagwarantować, że dochody/wydatki zostaną przydzielone właściwej jednostce (tj. Tobie lub Twojej firmie). Z kanadyjskiego punktu widzenia:\"',\n",
       "  'label': 1},\n",
       " {'sentence': 'Posiadanie oddzielnego konta bankowego do prowadzenia działalności/inwestowania, ale nie „konta firmowego”?</s>Jeśli to ułatwia finanse, dlaczego nie? Moja żona i ja mieliśmy jego/jej/nasz jeszcze zanim się pobraliśmy. Mam również konto do obsługi transakcji dotyczących mojej wynajmowanej nieruchomości i jedno dodatkowe do korzystania z PayPal. Miałem paranoję, podając numer konta czekowego z upoważnieniem dla osoby trzeciej do obciążenia go, tak aby konto miało maksymalnie kilkaset dolarów. Wszystko to ma na celu wyjaśnienie, że twoje finanse powinny być tak zorganizowane, aby uprościć twoje życie i zapewnić ci wygodę.',\n",
       "  'label': 1}]"
      ]
     },
     "execution_count": 10,
     "metadata": {},
     "output_type": "execute_result"
    }
   ],
   "source": [
    "list_ = []\n",
    "\n",
    "for index, row in big_df.iterrows():\n",
    "\n",
    "  corpus_id = row['corpus-id']\n",
    "  query_id = row['query-id']\n",
    "\n",
    "  list_.append({\n",
    "    'sentence': queries[queries['_id'] == str(query_id)]['text'].iloc[0] + separator + corpus[corpus['_id'] == str(corpus_id)]['text'].iloc[0],\n",
    "    'label': 1\n",
    "  })\n",
    "\n",
    "list_[:5]"
   ]
  },
  {
   "cell_type": "markdown",
   "metadata": {},
   "source": [
    "Negative sentences"
   ]
  },
  {
   "cell_type": "code",
   "execution_count": 11,
   "metadata": {},
   "outputs": [
    {
     "data": {
      "text/plain": [
       "17110"
      ]
     },
     "execution_count": 11,
     "metadata": {},
     "output_type": "execute_result"
    }
   ],
   "source": [
    "len(list_)"
   ]
  },
  {
   "cell_type": "code",
   "execution_count": 12,
   "metadata": {},
   "outputs": [],
   "source": [
    "for index, row in big_df.iterrows():\n",
    "\n",
    "  corpus_id = row['corpus-id']\n",
    "  query_id = row['query-id']\n",
    "\n",
    "  for i in range(3):\n",
    "    \n",
    "    index = (corpus_id + i)%len(corpus)\n",
    "    if corpus.iloc[index]['_id'] != corpus_id:\n",
    "      list_.append({\n",
    "        'sentence': queries[queries['_id'] == str(query_id)]['text'].iloc[0] + separator + corpus.iloc[index]['text'],\n",
    "        'label': 0\n",
    "      })"
   ]
  },
  {
   "cell_type": "code",
   "execution_count": 13,
   "metadata": {},
   "outputs": [
    {
     "data": {
      "text/plain": [
       "68440"
      ]
     },
     "execution_count": 13,
     "metadata": {},
     "output_type": "execute_result"
    }
   ],
   "source": [
    "len(list_)"
   ]
  },
  {
   "cell_type": "markdown",
   "metadata": {},
   "source": [
    "# 3) Training a text classifier"
   ]
  },
  {
   "cell_type": "code",
   "execution_count": 14,
   "metadata": {},
   "outputs": [
    {
     "data": {
      "application/vnd.jupyter.widget-view+json": {
       "model_id": "dead63742d0b40e8b2911bdab16416f7",
       "version_major": 2,
       "version_minor": 0
      },
      "text/plain": [
       "Stringifying the column:   0%|          | 0/41064 [00:00<?, ? examples/s]"
      ]
     },
     "metadata": {},
     "output_type": "display_data"
    },
    {
     "data": {
      "application/vnd.jupyter.widget-view+json": {
       "model_id": "33ba3a4631424768990c098fd3784e22",
       "version_major": 2,
       "version_minor": 0
      },
      "text/plain": [
       "Casting to class labels:   0%|          | 0/41064 [00:00<?, ? examples/s]"
      ]
     },
     "metadata": {},
     "output_type": "display_data"
    },
    {
     "data": {
      "application/vnd.jupyter.widget-view+json": {
       "model_id": "b93a148cfc7840e7995a401628ea27a4",
       "version_major": 2,
       "version_minor": 0
      },
      "text/plain": [
       "Stringifying the column:   0%|          | 0/13688 [00:00<?, ? examples/s]"
      ]
     },
     "metadata": {},
     "output_type": "display_data"
    },
    {
     "data": {
      "application/vnd.jupyter.widget-view+json": {
       "model_id": "38edcd7d6d054795bb906f68c50b15a1",
       "version_major": 2,
       "version_minor": 0
      },
      "text/plain": [
       "Casting to class labels:   0%|          | 0/13688 [00:00<?, ? examples/s]"
      ]
     },
     "metadata": {},
     "output_type": "display_data"
    },
    {
     "data": {
      "application/vnd.jupyter.widget-view+json": {
       "model_id": "52e0feb6c1384b529646808889cf0591",
       "version_major": 2,
       "version_minor": 0
      },
      "text/plain": [
       "Stringifying the column:   0%|          | 0/13688 [00:00<?, ? examples/s]"
      ]
     },
     "metadata": {},
     "output_type": "display_data"
    },
    {
     "data": {
      "application/vnd.jupyter.widget-view+json": {
       "model_id": "c9d5f9d8cfa240099ad165b3167c7c5a",
       "version_major": 2,
       "version_minor": 0
      },
      "text/plain": [
       "Casting to class labels:   0%|          | 0/13688 [00:00<?, ? examples/s]"
      ]
     },
     "metadata": {},
     "output_type": "display_data"
    }
   ],
   "source": [
    "from sklearn.model_selection import train_test_split\n",
    "from datasets import Dataset\n",
    "\n",
    "df = pd.DataFrame(list_, columns=['sentence', 'label'])\n",
    "\n",
    "temp, test = train_test_split(df, test_size=0.2, random_state=2137)\n",
    "train, eval = train_test_split(temp, test_size=0.25, random_state=2137)\n",
    "\n",
    "train = Dataset.from_pandas(train)\n",
    "train = train.class_encode_column(\"label\")\n",
    "test = Dataset.from_pandas(test)\n",
    "test = test.class_encode_column(\"label\")\n",
    "eval = Dataset.from_pandas(eval)\n",
    "eval = eval.class_encode_column(\"label\")\n",
    "\n",
    "train= train.rename_column(\"__index_level_0__\", \"input_ids\")\n",
    "test = test.rename_column(\"__index_level_0__\", \"input_ids\")\n",
    "eval = eval.rename_column(\"__index_level_0__\", \"input_ids\")"
   ]
  },
  {
   "cell_type": "code",
   "execution_count": 15,
   "metadata": {},
   "outputs": [
    {
     "name": "stdout",
     "output_type": "stream",
     "text": [
      "Train length:  41064  Test length:  13688  Evaluation:  13688\n"
     ]
    }
   ],
   "source": [
    "print(\"Train length: \", len(train), \" Test length: \", len(test), \" Evaluation: \", len(eval))"
   ]
  },
  {
   "cell_type": "code",
   "execution_count": 16,
   "metadata": {},
   "outputs": [
    {
     "data": {
      "text/plain": [
       "{'sentence': 'Co to jest odwrócenie niedźwiedziego paska?</s>Depilacja laserowa nie jest trwała, trzeba wykonać kilka sesji, aby usunąć wszystkie włosy, każda sesja kosztuje setki. A potem może to potrwać tylko kilka lat, zanim włosy odrosną. Nie jest wart swojej ceny, chyba że masz tak dużą kwotę, że możesz wyrzucić kilka tysięcy. Jak powiedzieli inni, albo kupuj hurtowo ostrza, albo kup brzytwę. Będą znacznie bardziej ekonomiczne zarówno w krótkim, jak i długim okresie.',\n",
       " 'label': 0,\n",
       " 'input_ids': 51985}"
      ]
     },
     "execution_count": 16,
     "metadata": {},
     "output_type": "execute_result"
    }
   ],
   "source": [
    "train[0]"
   ]
  },
  {
   "cell_type": "code",
   "execution_count": 17,
   "metadata": {},
   "outputs": [
    {
     "name": "stderr",
     "output_type": "stream",
     "text": [
      "d:\\Studia\\NLP\\.venv\\Lib\\site-packages\\transformers\\training_args.py:1575: FutureWarning: `evaluation_strategy` is deprecated and will be removed in version 4.46 of 🤗 Transformers. Use `eval_strategy` instead\n",
      "  warnings.warn(\n"
     ]
    }
   ],
   "source": [
    "from transformers import Trainer, TrainingArguments\n",
    "import numpy as np\n",
    "\n",
    "# define training arguments\n",
    "training_args = TrainingArguments(\n",
    "    output_dir=\"training\",\n",
    "    num_train_epochs=3,\n",
    "    evaluation_strategy=\"epoch\",\n",
    "    save_strategy=\"epoch\",\n",
    "    per_device_eval_batch_size=24,\n",
    "    per_device_train_batch_size=24\n",
    ")\n",
    "\n",
    "def compute_metric(eval_prediction):\n",
    "    predictions, labels = eval_prediction\n",
    "    predictions = np.argmax(predictions, axis=-1)\n",
    "    accuracy = np.mean(predictions == labels)\n",
    "    return {\"accuracy\": accuracy}"
   ]
  },
  {
   "cell_type": "code",
   "execution_count": 18,
   "metadata": {},
   "outputs": [
    {
     "data": {
      "application/vnd.jupyter.widget-view+json": {
       "model_id": "17ff98cb116640e38e3a0978e78dce27",
       "version_major": 2,
       "version_minor": 0
      },
      "text/plain": [
       "Map:   0%|          | 0/41064 [00:00<?, ? examples/s]"
      ]
     },
     "metadata": {},
     "output_type": "display_data"
    },
    {
     "data": {
      "application/vnd.jupyter.widget-view+json": {
       "model_id": "242dd45a4f504b378a5485da1f8bcb72",
       "version_major": 2,
       "version_minor": 0
      },
      "text/plain": [
       "Map:   0%|          | 0/13688 [00:00<?, ? examples/s]"
      ]
     },
     "metadata": {},
     "output_type": "display_data"
    },
    {
     "data": {
      "application/vnd.jupyter.widget-view+json": {
       "model_id": "face5dc230b54ff296f718d94c4e2d07",
       "version_major": 2,
       "version_minor": 0
      },
      "text/plain": [
       "Map:   0%|          | 0/13688 [00:00<?, ? examples/s]"
      ]
     },
     "metadata": {},
     "output_type": "display_data"
    }
   ],
   "source": [
    "def tokenizer_fn(batch):\n",
    "    return tokenizer(batch['sentence'], truncation=True, padding=True)\n",
    "\n",
    "tokenized_train = train.map(tokenizer_fn, batched=True)\n",
    "tokenized_eval = eval.map(tokenizer_fn, batched=True)\n",
    "tokenized_test = test.map(tokenizer_fn, batched=True)"
   ]
  },
  {
   "cell_type": "markdown",
   "metadata": {},
   "source": [
    "Custom trainer with weighted classes"
   ]
  },
  {
   "cell_type": "code",
   "execution_count": 19,
   "metadata": {},
   "outputs": [],
   "source": [
    "class CustomTrainer(Trainer):\n",
    "    def compute_loss(self, model, inputs, return_outputs=False, num_items_in_batch = None):\n",
    "        labels = inputs.pop(\"labels\")\n",
    "        # forward pass\n",
    "        outputs = model(**inputs)\n",
    "        logits = outputs.get(\"logits\")\n",
    "        # compute custom loss (suppose one has 2 labels with different weights)\n",
    "        loss_fct = nn.CrossEntropyLoss(weight=torch.tensor([1.0, 5.0], device=model.device))\n",
    "        loss = loss_fct(logits.view(-1, self.model.config.num_labels), labels.view(-1))\n",
    "        return (loss, outputs) if return_outputs else loss"
   ]
  },
  {
   "cell_type": "code",
   "execution_count": 20,
   "metadata": {},
   "outputs": [
    {
     "name": "stderr",
     "output_type": "stream",
     "text": [
      "C:\\Users\\adam6\\AppData\\Local\\Temp\\ipykernel_26348\\3114532008.py:1: FutureWarning: `tokenizer` is deprecated and will be removed in version 5.0.0 for `CustomTrainer.__init__`. Use `processing_class` instead.\n",
      "  trainer = CustomTrainer(\n"
     ]
    }
   ],
   "source": [
    "trainer = CustomTrainer(\n",
    "    model=model,\n",
    "    args=training_args,\n",
    "    train_dataset=tokenized_train,\n",
    "    eval_dataset=tokenized_eval,\n",
    "    tokenizer=tokenizer,\n",
    "    compute_metrics=compute_metric\n",
    ")"
   ]
  },
  {
   "cell_type": "code",
   "execution_count": null,
   "metadata": {},
   "outputs": [],
   "source": [
    "#trainer.train(resume_from_checkpoint = True)"
   ]
  },
  {
   "cell_type": "code",
   "execution_count": 21,
   "metadata": {},
   "outputs": [
    {
     "data": {
      "text/plain": [
       "Dataset({\n",
       "    features: ['sentence', 'label', 'input_ids', 'token_type_ids', 'attention_mask'],\n",
       "    num_rows: 13688\n",
       "})"
      ]
     },
     "execution_count": 21,
     "metadata": {},
     "output_type": "execute_result"
    }
   ],
   "source": [
    "tokenized_eval"
   ]
  },
  {
   "cell_type": "markdown",
   "metadata": {},
   "source": [
    "# 4) Reporting results"
   ]
  },
  {
   "cell_type": "code",
   "execution_count": 25,
   "metadata": {},
   "outputs": [
    {
     "data": {
      "application/vnd.jupyter.widget-view+json": {
       "model_id": "8d4efdcd6a30475a931820a02cad71d1",
       "version_major": 2,
       "version_minor": 0
      },
      "text/plain": [
       "  0%|          | 0/571 [00:00<?, ?it/s]"
      ]
     },
     "metadata": {},
     "output_type": "display_data"
    },
    {
     "data": {
      "text/plain": [
       "{'eval_loss': 0.19881130754947662,\n",
       " 'eval_model_preparation_time': 0.004,\n",
       " 'eval_accuracy': 0.9720923436586791,\n",
       " 'eval_runtime': 381.2239,\n",
       " 'eval_samples_per_second': 35.905,\n",
       " 'eval_steps_per_second': 1.498}"
      ]
     },
     "execution_count": 25,
     "metadata": {},
     "output_type": "execute_result"
    }
   ],
   "source": [
    "trainer.evaluate()"
   ]
  },
  {
   "cell_type": "markdown",
   "metadata": {},
   "source": [
    "# 5) Re-ranking"
   ]
  },
  {
   "cell_type": "markdown",
   "metadata": {},
   "source": [
    "#### Find passage candidates using FTS, where the query is the question."
   ]
  },
  {
   "cell_type": "code",
   "execution_count": null,
   "metadata": {},
   "outputs": [],
   "source": []
  }
 ],
 "metadata": {
  "kernelspec": {
   "display_name": ".venv",
   "language": "python",
   "name": "python3"
  },
  "language_info": {
   "codemirror_mode": {
    "name": "ipython",
    "version": 3
   },
   "file_extension": ".py",
   "mimetype": "text/x-python",
   "name": "python",
   "nbconvert_exporter": "python",
   "pygments_lexer": "ipython3",
   "version": "3.11.9"
  }
 },
 "nbformat": 4,
 "nbformat_minor": 2
}
