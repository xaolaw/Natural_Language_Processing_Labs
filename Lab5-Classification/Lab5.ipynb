{
 "cells": [
  {
   "cell_type": "markdown",
   "metadata": {},
   "source": [
    "# 1) Loading corpus and queries"
   ]
  },
  {
   "cell_type": "code",
   "execution_count": 22,
   "metadata": {},
   "outputs": [],
   "source": [
    "from datasets import load_dataset\n",
    "\n",
    "ds = load_dataset(\"clarin-knext/fiqa-pl\", \"corpus\")\n",
    "ds2 = load_dataset(\"clarin-knext/fiqa-pl\", \"queries\")\n",
    "corpus = ds['corpus'].to_pandas()\n",
    "queries = ds2['queries'].to_pandas()"
   ]
  },
  {
   "cell_type": "code",
   "execution_count": 26,
   "metadata": {},
   "outputs": [
    {
     "data": {
      "text/html": [
       "<div>\n",
       "<style scoped>\n",
       "    .dataframe tbody tr th:only-of-type {\n",
       "        vertical-align: middle;\n",
       "    }\n",
       "\n",
       "    .dataframe tbody tr th {\n",
       "        vertical-align: top;\n",
       "    }\n",
       "\n",
       "    .dataframe thead th {\n",
       "        text-align: right;\n",
       "    }\n",
       "</style>\n",
       "<table border=\"1\" class=\"dataframe\">\n",
       "  <thead>\n",
       "    <tr style=\"text-align: right;\">\n",
       "      <th></th>\n",
       "      <th>_id</th>\n",
       "      <th>title</th>\n",
       "      <th>text</th>\n",
       "    </tr>\n",
       "  </thead>\n",
       "  <tbody>\n",
       "    <tr>\n",
       "      <th>0</th>\n",
       "      <td>0</td>\n",
       "      <td></td>\n",
       "      <td>Co jest uważane za wydatek służbowy w podróży ...</td>\n",
       "    </tr>\n",
       "    <tr>\n",
       "      <th>1</th>\n",
       "      <td>4</td>\n",
       "      <td></td>\n",
       "      <td>Wydatki służbowe - ubezpieczenie samochodu pod...</td>\n",
       "    </tr>\n",
       "    <tr>\n",
       "      <th>2</th>\n",
       "      <td>5</td>\n",
       "      <td></td>\n",
       "      <td>Rozpoczęcie nowego biznesu online</td>\n",
       "    </tr>\n",
       "    <tr>\n",
       "      <th>3</th>\n",
       "      <td>6</td>\n",
       "      <td></td>\n",
       "      <td>„Dzień roboczy” i „termin płatności” rachunków</td>\n",
       "    </tr>\n",
       "    <tr>\n",
       "      <th>4</th>\n",
       "      <td>7</td>\n",
       "      <td></td>\n",
       "      <td>Nowy właściciel firmy – Jak działają podatki d...</td>\n",
       "    </tr>\n",
       "  </tbody>\n",
       "</table>\n",
       "</div>"
      ],
      "text/plain": [
       "  _id title                                               text\n",
       "0   0        Co jest uważane za wydatek służbowy w podróży ...\n",
       "1   4        Wydatki służbowe - ubezpieczenie samochodu pod...\n",
       "2   5                        Rozpoczęcie nowego biznesu online\n",
       "3   6           „Dzień roboczy” i „termin płatności” rachunków\n",
       "4   7        Nowy właściciel firmy – Jak działają podatki d..."
      ]
     },
     "execution_count": 26,
     "metadata": {},
     "output_type": "execute_result"
    }
   ],
   "source": [
    "queries.head()"
   ]
  },
  {
   "cell_type": "markdown",
   "metadata": {},
   "source": [
    "# 2) Creating a dataset of positive and negative sentence pairs"
   ]
  },
  {
   "cell_type": "markdown",
   "metadata": {},
   "source": [
    "First we will load the dataset that conects queries with corpus by id, question and answer."
   ]
  },
  {
   "cell_type": "code",
   "execution_count": 17,
   "metadata": {},
   "outputs": [
    {
     "data": {
      "application/vnd.jupyter.widget-view+json": {
       "model_id": "5c4340069cf34cfba9cc385aa4f579b7",
       "version_major": 2,
       "version_minor": 0
      },
      "text/plain": [
       "README.md:   0%|          | 0.00/201 [00:00<?, ?B/s]"
      ]
     },
     "metadata": {},
     "output_type": "display_data"
    },
    {
     "name": "stderr",
     "output_type": "stream",
     "text": [
      "d:\\Studia\\NLP\\.venv\\Lib\\site-packages\\huggingface_hub\\file_download.py:139: UserWarning: `huggingface_hub` cache-system uses symlinks by default to efficiently store duplicated files but your machine does not support them in C:\\Users\\adam6\\.cache\\huggingface\\hub\\datasets--clarin-knext--fiqa-pl-qrels. Caching files will still work but in a degraded version that might require more space on your disk. This warning can be disabled by setting the `HF_HUB_DISABLE_SYMLINKS_WARNING` environment variable. For more details, see https://huggingface.co/docs/huggingface_hub/how-to-cache#limitations.\n",
      "To support symlinks on Windows, you either need to activate Developer Mode or to run Python as an administrator. In order to activate developer mode, see this article: https://docs.microsoft.com/en-us/windows/apps/get-started/enable-your-device-for-development\n",
      "  warnings.warn(message)\n"
     ]
    },
    {
     "data": {
      "application/vnd.jupyter.widget-view+json": {
       "model_id": "af5c9a2542e14fffa060392940ad6f29",
       "version_major": 2,
       "version_minor": 0
      },
      "text/plain": [
       "train.tsv:   0%|          | 0.00/210k [00:00<?, ?B/s]"
      ]
     },
     "metadata": {},
     "output_type": "display_data"
    },
    {
     "data": {
      "application/vnd.jupyter.widget-view+json": {
       "model_id": "bfbdc2b1e2df4daebd94942ed0f25ddb",
       "version_major": 2,
       "version_minor": 0
      },
      "text/plain": [
       "dev.tsv:   0%|          | 0.00/18.3k [00:00<?, ?B/s]"
      ]
     },
     "metadata": {},
     "output_type": "display_data"
    },
    {
     "data": {
      "application/vnd.jupyter.widget-view+json": {
       "model_id": "3e64a61f58ed44e2862725fc71d76104",
       "version_major": 2,
       "version_minor": 0
      },
      "text/plain": [
       "test.tsv:   0%|          | 0.00/25.3k [00:00<?, ?B/s]"
      ]
     },
     "metadata": {},
     "output_type": "display_data"
    },
    {
     "data": {
      "application/vnd.jupyter.widget-view+json": {
       "model_id": "5cbf51c91d6645ca9d74fb90daf5d389",
       "version_major": 2,
       "version_minor": 0
      },
      "text/plain": [
       "Generating train split:   0%|          | 0/14166 [00:00<?, ? examples/s]"
      ]
     },
     "metadata": {},
     "output_type": "display_data"
    },
    {
     "data": {
      "application/vnd.jupyter.widget-view+json": {
       "model_id": "4e6635ef711e4b288d79b21c58550fa7",
       "version_major": 2,
       "version_minor": 0
      },
      "text/plain": [
       "Generating validation split:   0%|          | 0/1238 [00:00<?, ? examples/s]"
      ]
     },
     "metadata": {},
     "output_type": "display_data"
    },
    {
     "data": {
      "application/vnd.jupyter.widget-view+json": {
       "model_id": "4cadec2cf2bc40d4b01f9c73cfd2d0c8",
       "version_major": 2,
       "version_minor": 0
      },
      "text/plain": [
       "Generating test split:   0%|          | 0/1706 [00:00<?, ? examples/s]"
      ]
     },
     "metadata": {},
     "output_type": "display_data"
    },
    {
     "data": {
      "text/plain": [
       "DatasetDict({\n",
       "    train: Dataset({\n",
       "        features: ['query-id', 'corpus-id', 'score'],\n",
       "        num_rows: 14166\n",
       "    })\n",
       "    validation: Dataset({\n",
       "        features: ['query-id', 'corpus-id', 'score'],\n",
       "        num_rows: 1238\n",
       "    })\n",
       "    test: Dataset({\n",
       "        features: ['query-id', 'corpus-id', 'score'],\n",
       "        num_rows: 1706\n",
       "    })\n",
       "})"
      ]
     },
     "execution_count": 17,
     "metadata": {},
     "output_type": "execute_result"
    }
   ],
   "source": [
    "ds3 = load_dataset(\"clarin-knext/fiqa-pl-qrels\")\n",
    "ds3"
   ]
  },
  {
   "cell_type": "code",
   "execution_count": 24,
   "metadata": {},
   "outputs": [],
   "source": [
    "validation = ds3['validation'].to_pandas()\n",
    "train = ds3['train'].to_pandas()\n",
    "test = ds3['test'].to_pandas()"
   ]
  },
  {
   "cell_type": "code",
   "execution_count": 25,
   "metadata": {},
   "outputs": [
    {
     "data": {
      "text/html": [
       "<div>\n",
       "<style scoped>\n",
       "    .dataframe tbody tr th:only-of-type {\n",
       "        vertical-align: middle;\n",
       "    }\n",
       "\n",
       "    .dataframe tbody tr th {\n",
       "        vertical-align: top;\n",
       "    }\n",
       "\n",
       "    .dataframe thead th {\n",
       "        text-align: right;\n",
       "    }\n",
       "</style>\n",
       "<table border=\"1\" class=\"dataframe\">\n",
       "  <thead>\n",
       "    <tr style=\"text-align: right;\">\n",
       "      <th></th>\n",
       "      <th>query-id</th>\n",
       "      <th>corpus-id</th>\n",
       "      <th>score</th>\n",
       "    </tr>\n",
       "  </thead>\n",
       "  <tbody>\n",
       "    <tr>\n",
       "      <th>0</th>\n",
       "      <td>1</td>\n",
       "      <td>14255</td>\n",
       "      <td>1</td>\n",
       "    </tr>\n",
       "    <tr>\n",
       "      <th>1</th>\n",
       "      <td>2</td>\n",
       "      <td>308938</td>\n",
       "      <td>1</td>\n",
       "    </tr>\n",
       "    <tr>\n",
       "      <th>2</th>\n",
       "      <td>3</td>\n",
       "      <td>296717</td>\n",
       "      <td>1</td>\n",
       "    </tr>\n",
       "    <tr>\n",
       "      <th>3</th>\n",
       "      <td>3</td>\n",
       "      <td>100764</td>\n",
       "      <td>1</td>\n",
       "    </tr>\n",
       "    <tr>\n",
       "      <th>4</th>\n",
       "      <td>3</td>\n",
       "      <td>314352</td>\n",
       "      <td>1</td>\n",
       "    </tr>\n",
       "  </tbody>\n",
       "</table>\n",
       "</div>"
      ],
      "text/plain": [
       "   query-id  corpus-id  score\n",
       "0         1      14255      1\n",
       "1         2     308938      1\n",
       "2         3     296717      1\n",
       "3         3     100764      1\n",
       "4         3     314352      1"
      ]
     },
     "execution_count": 25,
     "metadata": {},
     "output_type": "execute_result"
    }
   ],
   "source": [
    "validation.head()"
   ]
  },
  {
   "cell_type": "markdown",
   "metadata": {},
   "source": [
    "let's see the question and answer"
   ]
  },
  {
   "cell_type": "code",
   "execution_count": 36,
   "metadata": {},
   "outputs": [
    {
     "name": "stdout",
     "output_type": "stream",
     "text": [
      "Question:  Zgłaszanie wydatków biznesowych dla firmy bez dochodu\n",
      "Answer:  Tak, możesz ubiegać się o potrącenia biznesowe, jeśli nie uzyskujesz jeszcze żadnych dochodów. Ale najpierw powinieneś zdecydować, jaką strukturę chcesz mieć dla swojej firmy. Albo struktura firmy, albo jednoosobowy przedsiębiorca lub spółka osobowa. Struktura firmy Jeśli wybierzesz strukturę firmy (która jest droższa w przygotowaniu), będziesz ubiegać się o potrącenia, ale bez dochodu. Więc ponosiłbyś stratę i kontynuowałbyś straty, dopóki dochód z firmy nie przekroczy twoich wydatków. Straty te pozostaną więc w firmie i będą mogły zostać przeniesione na przyszłe lata dochodowe, kiedy będziesz osiągać zyski, aby zrekompensować te zyski. Więcej informacji można znaleźć w ATO – Straty podatkowe firmy. Przedsiębiorca jednoosobowy o strukturze partnerskiej Jeśli zdecydujesz się być jednoosobowym przedsiębiorcą lub spółką osobową, a Twoja firma ponosi straty, musisz sprawdzić zasady dotyczące strat niekomercyjnych, aby sprawdzić, czy możesz zrównoważyć stratę z dochodami z innych źródeł, takich jak zarobki. Aby zrekompensować straty firmy z innymi dochodami, firma musi zdać jeden z tych testów: Jeśli nie zdasz żadnego z tych testów, co najprawdopodobniej nie zostanie wykonane jako start-up, musisz kontynuować działalność straty aż do roku dochodowego, w którym zdasz jeden z testów, wtedy możesz odliczyć je od innych dochodów. To właśnie odróżnia legalną firmę od kogoś, kto ma hobby, ponieważ jeśli nie zaczniesz zarabiać co najmniej 20 000 USD ze sprzedaży (najłatwiejszy test do zdawania), nie możesz wykorzystać strat biznesowych w stosunku do innych dochodów. Więcej informacji można znaleźć w ATO – Straty niekomercyjne.\n"
     ]
    }
   ],
   "source": [
    "print(\"Question: \", queries[queries['_id'] == '1']['text'].iloc[0])\n",
    "print(\"Answer: \", corpus[corpus['_id'] == '14255']['text'].iloc[0])"
   ]
  },
  {
   "cell_type": "markdown",
   "metadata": {},
   "source": [
    "Loading model"
   ]
  },
  {
   "cell_type": "code",
   "execution_count": 40,
   "metadata": {},
   "outputs": [
    {
     "data": {
      "application/vnd.jupyter.widget-view+json": {
       "model_id": "c96331018e2b46e8a315574d91f61bee",
       "version_major": 2,
       "version_minor": 0
      },
      "text/plain": [
       "config.json:   0%|          | 0.00/775 [00:00<?, ?B/s]"
      ]
     },
     "metadata": {},
     "output_type": "display_data"
    },
    {
     "name": "stderr",
     "output_type": "stream",
     "text": [
      "d:\\Studia\\NLP\\.venv\\Lib\\site-packages\\huggingface_hub\\file_download.py:139: UserWarning: `huggingface_hub` cache-system uses symlinks by default to efficiently store duplicated files but your machine does not support them in C:\\Users\\adam6\\.cache\\huggingface\\hub\\models--clarin-knext--herbert-base-reranker-msmarco. Caching files will still work but in a degraded version that might require more space on your disk. This warning can be disabled by setting the `HF_HUB_DISABLE_SYMLINKS_WARNING` environment variable. For more details, see https://huggingface.co/docs/huggingface_hub/how-to-cache#limitations.\n",
      "To support symlinks on Windows, you either need to activate Developer Mode or to run Python as an administrator. In order to activate developer mode, see this article: https://docs.microsoft.com/en-us/windows/apps/get-started/enable-your-device-for-development\n",
      "  warnings.warn(message)\n"
     ]
    },
    {
     "data": {
      "application/vnd.jupyter.widget-view+json": {
       "model_id": "9f1c323f415b4005afa2b557cbdc7974",
       "version_major": 2,
       "version_minor": 0
      },
      "text/plain": [
       "pytorch_model.bin:   0%|          | 0.00/498M [00:00<?, ?B/s]"
      ]
     },
     "metadata": {},
     "output_type": "display_data"
    },
    {
     "data": {
      "application/vnd.jupyter.widget-view+json": {
       "model_id": "cbea698246b64f0e9193fa33b87aa6bf",
       "version_major": 2,
       "version_minor": 0
      },
      "text/plain": [
       "tokenizer_config.json:   0%|          | 0.00/558 [00:00<?, ?B/s]"
      ]
     },
     "metadata": {},
     "output_type": "display_data"
    },
    {
     "data": {
      "application/vnd.jupyter.widget-view+json": {
       "model_id": "beb52f30ad114e9984af79512e216bf7",
       "version_major": 2,
       "version_minor": 0
      },
      "text/plain": [
       "vocab.json:   0%|          | 0.00/907k [00:00<?, ?B/s]"
      ]
     },
     "metadata": {},
     "output_type": "display_data"
    },
    {
     "data": {
      "application/vnd.jupyter.widget-view+json": {
       "model_id": "10e6e4a42f72477d866ea938bc46ef65",
       "version_major": 2,
       "version_minor": 0
      },
      "text/plain": [
       "merges.txt:   0%|          | 0.00/556k [00:00<?, ?B/s]"
      ]
     },
     "metadata": {},
     "output_type": "display_data"
    },
    {
     "data": {
      "application/vnd.jupyter.widget-view+json": {
       "model_id": "34dc08d256d84888bc18ddab88467671",
       "version_major": 2,
       "version_minor": 0
      },
      "text/plain": [
       "tokenizer.json:   0%|          | 0.00/2.30M [00:00<?, ?B/s]"
      ]
     },
     "metadata": {},
     "output_type": "display_data"
    },
    {
     "data": {
      "application/vnd.jupyter.widget-view+json": {
       "model_id": "054a3dd7f8e843dfba81f1d5e5890e23",
       "version_major": 2,
       "version_minor": 0
      },
      "text/plain": [
       "special_tokens_map.json:   0%|          | 0.00/144 [00:00<?, ?B/s]"
      ]
     },
     "metadata": {},
     "output_type": "display_data"
    },
    {
     "name": "stdout",
     "output_type": "stream",
     "text": [
      "tensor([[-6.0782],\n",
      "        [-6.0638]])\n"
     ]
    }
   ],
   "source": [
    "from transformers import AutoTokenizer, AutoModelForSequenceClassification\n",
    "import torch\n",
    "\n",
    "model_path = \"clarin-knext/herbert-base-reranker-msmarco\"\n",
    "model = AutoModelForSequenceClassification.from_pretrained(model_path)\n",
    "tokenizer = AutoTokenizer.from_pretrained(model_path)\n",
    "features = tokenizer(['Jakie miasto jest stolica Polski?', 'Stolicą Polski jest Warszawa.'],  padding=True, truncation=True, return_tensors=\"pt\")\n",
    "model.eval()\n",
    "with torch.no_grad():\n",
    "    scores = model(**features).logits\n",
    "    print(scores)"
   ]
  },
  {
   "cell_type": "code",
   "execution_count": 62,
   "metadata": {},
   "outputs": [
    {
     "data": {
      "text/plain": [
       "'</s>'"
      ]
     },
     "execution_count": 62,
     "metadata": {},
     "output_type": "execute_result"
    }
   ],
   "source": [
    "separator = tokenizer.sep_token\n",
    "separator"
   ]
  },
  {
   "cell_type": "markdown",
   "metadata": {},
   "source": [
    "Preparing dataset"
   ]
  },
  {
   "cell_type": "code",
   "execution_count": 49,
   "metadata": {},
   "outputs": [],
   "source": [
    "import pandas as pd\n",
    "\n",
    "big_df = pd.concat([validation,train,test]).reset_index(drop=True)"
   ]
  },
  {
   "cell_type": "markdown",
   "metadata": {},
   "source": [
    "Positive sentences"
   ]
  },
  {
   "cell_type": "code",
   "execution_count": 87,
   "metadata": {},
   "outputs": [
    {
     "data": {
      "text/plain": [
       "[{'sentence': 'Zgłaszanie wydatków biznesowych dla firmy bez dochodu</s>Tak, możesz ubiegać się o potrącenia biznesowe, jeśli nie uzyskujesz jeszcze żadnych dochodów. Ale najpierw powinieneś zdecydować, jaką strukturę chcesz mieć dla swojej firmy. Albo struktura firmy, albo jednoosobowy przedsiębiorca lub spółka osobowa. Struktura firmy Jeśli wybierzesz strukturę firmy (która jest droższa w przygotowaniu), będziesz ubiegać się o potrącenia, ale bez dochodu. Więc ponosiłbyś stratę i kontynuowałbyś straty, dopóki dochód z firmy nie przekroczy twoich wydatków. Straty te pozostaną więc w firmie i będą mogły zostać przeniesione na przyszłe lata dochodowe, kiedy będziesz osiągać zyski, aby zrekompensować te zyski. Więcej informacji można znaleźć w ATO – Straty podatkowe firmy. Przedsiębiorca jednoosobowy o strukturze partnerskiej Jeśli zdecydujesz się być jednoosobowym przedsiębiorcą lub spółką osobową, a Twoja firma ponosi straty, musisz sprawdzić zasady dotyczące strat niekomercyjnych, aby sprawdzić, czy możesz zrównoważyć stratę z dochodami z innych źródeł, takich jak zarobki. Aby zrekompensować straty firmy z innymi dochodami, firma musi zdać jeden z tych testów: Jeśli nie zdasz żadnego z tych testów, co najprawdopodobniej nie zostanie wykonane jako start-up, musisz kontynuować działalność straty aż do roku dochodowego, w którym zdasz jeden z testów, wtedy możesz odliczyć je od innych dochodów. To właśnie odróżnia legalną firmę od kogoś, kto ma hobby, ponieważ jeśli nie zaczniesz zarabiać co najmniej 20 000 USD ze sprzedaży (najłatwiejszy test do zdawania), nie możesz wykorzystać strat biznesowych w stosunku do innych dochodów. Więcej informacji można znaleźć w ATO – Straty niekomercyjne.',\n",
       "  'is_positive': True},\n",
       " {'sentence': 'Przekazywanie pieniędzy z jednej kontroli biznesowej do innej kontroli biznesowej</s>„Powinieneś mieć oddzielne pliki dla każdej z dwóch firm. Firma, która przekazuje pieniądze, powinna „„wypisać czek”” w swoim pliku QB. Firma, która otrzymuje pieniądze, powinna „„zrobić depozyt”” w swoim pliku QB. QB „wypisz czek” nawet wtedy, gdy dokonujesz płatności w inny sposób, np. ACH). Żadna firma nie powinna mieć wyraźnie reprezentowanych kont bankowych drugiej strony. Z każdej strony musisz również zaklasyfikować płatność jako pochodzącą z/przeszedł na inne konto – aby wiedzieć, co jest tam poprawne, musimy najpierw wiedzieć, dlaczego przelewasz pieniądze i w jaki sposób masz ustalone książki. Myślę, że to prawdopodobnie wykracza poza zakres tego, co jest na temat / wykonalne tutaj. Pieniądze z twojego konta osobistego są prawdopodobnie kapitałem własnym właściciela, chyba że dzieje się coś innego. Na przykład w S Corp powinieneś płacić sobie pensję. Jeśli przez przypadek przepłacisz, możesz napisać czek z powrotem do firmy z konta osobistego, aby poprawić błąd. To nie jest kapitał własny — to prawdopodobnie „wydatek ujemny” na innym koncie, które śledzi wypłaty wynagrodzenia”.',\n",
       "  'is_positive': True},\n",
       " {'sentence': 'Posiadanie oddzielnego konta bankowego do prowadzenia działalności/inwestowania, ale nie „konta firmowego”?</s>„Posiadanie oddzielnego konta czekowego dla firmy ma sens. Ułatwia to dokumentowanie dochodów/wydatków. Możesz „wyjaśnić” każdy dolar wchodzący i wychodzący z konta bez konieczności pamiętania, że \\u200b\\u200bniektóre z nich były przeznaczone na pozycje niebiznesowe. Unia kredytowa pozwoliła mi mieć drugie konto czekowe i pozwoliła mi umieścić to, co chciałem jako imię na czeku.Myślę, że wyglądało to trochę lepiej niż posiadanie mojego imienia i nazwiska na czeku.Nie widzę potrzeby oddzielnego rachunek bieżący do inwestowania Pieniądze mogą być trzymane na oddzielnym koncie oszczędnościowym, które nie ma żadnych opłat, a nawet może trochę zarobić. Chyba że robisz dużo transakcji inwestycyjnych w miesiącu, to mi się udało. Finansuję IRA i 529 planuje w ten sposób. Otrzymujemy czeki 4-5 razy w miesiącu, ale pieniądze wysyłamy do każdego z funduszy raz w miesiącu. Będziesz potrzebować konta firmowego, jeśli liczba transakcji stanie się duża. Jeśli za każdym razem wpłacasz dziesiątki czeków do banku, bank będzie chciał się przenieść y na konto firmowe.\"',\n",
       "  'is_positive': True},\n",
       " {'sentence': 'Posiadanie oddzielnego konta bankowego do prowadzenia działalności/inwestowania, ale nie „konta firmowego”?</s>„Nie określasz, w jakim kraju się znajdujesz, więc moje odpowiedzi są bardziej z punktu widzenia najlepszych praktyk niż z punktu widzenia prawa. Nie zamierzam używać go do użytku osobistego, ale mam na myśli, że jest tak jak to możliwe. niebezpieczna propozycja.. Nie należy mieszać wydatków służbowych z osobistymi. Jeśli jest szansa, że \\u200b\\u200btak się stanie, przestań, zrób to tak, aby tak się nie stało. Duże niebezpieczeństwo polega na możliwości śledzenia między tym, co robisz dla firmy, a tym, co robisz dla siebie. Jeśli używasz tego konta jako „tymczasowego” konta do inwestycji itp., czy są to inwestycje dla siebie? Czy dla firmy? Czy jest to opodatkowanie na zyskach kapitałowych i/lub dywidendach są takie same dla osób prywatnych i firm w Twojej jurysdykcji? Jeśli kupisz widget, czy widget jest wydatkiem na dochód firmy? A może jest to wydatek z własnej kieszeni na konsumpcję osobistą? Ten pierwszy zmniejsza dochód podlegający opodatkowaniu , to drugie nie. Nie widzę korzyści z posiadania prawdziwego konta firmowego, ponieważ używaj tych, które mają cechy charakterystyczne dla korporacji, LLC itp. - nic korzystnego dla jedynego właściciela, który nie ma raportów / pracowników. Prawdziwą korzyścią jest to, że istnieje wyraźne rozgraniczenie między dochodami/wydatkami biznesowymi a dochodami/wydatkami osobistymi. To konto może również przyjmować pieniądze i przechowywać je z transakcji biznesowych/sprzedaży, a także ewentualnie przenosić część na konto osobiste, jeśli nie ma potrzeby reinwestowania tej kwoty/procentu. To, czego szukasz, to potocznie zwany rachunek bieżący, ponieważ służy do bieżących wydatków. Jeśli przenosisz pieniądze z konta na konto osobiste, oznacza to płacenie sobie, co ma również inne konsekwencje. Najbezpieczniejszym/najczystszym sposobem, aby to zrobić, jest: Choć może to brzmieć jak przesada, jest to jedyny sposób, aby zagwarantować, że dochody/wydatki zostaną przydzielone właściwej jednostce (tj. Tobie lub Twojej firmie). Z kanadyjskiego punktu widzenia:\"',\n",
       "  'is_positive': True},\n",
       " {'sentence': 'Posiadanie oddzielnego konta bankowego do prowadzenia działalności/inwestowania, ale nie „konta firmowego”?</s>Jeśli to ułatwia finanse, dlaczego nie? Moja żona i ja mieliśmy jego/jej/nasz jeszcze zanim się pobraliśmy. Mam również konto do obsługi transakcji dotyczących mojej wynajmowanej nieruchomości i jedno dodatkowe do korzystania z PayPal. Miałem paranoję, podając numer konta czekowego z upoważnieniem dla osoby trzeciej do obciążenia go, tak aby konto miało maksymalnie kilkaset dolarów. Wszystko to ma na celu wyjaśnienie, że twoje finanse powinny być tak zorganizowane, aby uprościć twoje życie i zapewnić ci wygodę.',\n",
       "  'is_positive': True}]"
      ]
     },
     "execution_count": 87,
     "metadata": {},
     "output_type": "execute_result"
    }
   ],
   "source": [
    "list_ = []\n",
    "\n",
    "for index, row in big_df.iterrows():\n",
    "\n",
    "  corpus_id = row['corpus-id']\n",
    "  query_id = row['query-id']\n",
    "\n",
    "  list_.append({\n",
    "    'sentence': queries[queries['_id'] == str(query_id)]['text'].iloc[0] + separator + corpus[corpus['_id'] == str(corpus_id)]['text'].iloc[0],\n",
    "    'is_positive': True\n",
    "  })\n",
    "\n",
    "list_[:5]"
   ]
  },
  {
   "cell_type": "markdown",
   "metadata": {},
   "source": [
    "Negative sentences"
   ]
  },
  {
   "cell_type": "code",
   "execution_count": 88,
   "metadata": {},
   "outputs": [
    {
     "data": {
      "text/plain": [
       "17110"
      ]
     },
     "execution_count": 88,
     "metadata": {},
     "output_type": "execute_result"
    }
   ],
   "source": [
    "len(list_)"
   ]
  },
  {
   "cell_type": "code",
   "execution_count": 89,
   "metadata": {},
   "outputs": [],
   "source": [
    "for index, row in big_df.iterrows():\n",
    "\n",
    "  corpus_id = row['corpus-id']\n",
    "  query_id = row['query-id']\n",
    "\n",
    "  for i in range(3):\n",
    "    \n",
    "    index = (corpus_id + i)%len(corpus)\n",
    "    if corpus.iloc[index]['_id'] != corpus_id:\n",
    "      list_.append({\n",
    "        'sentence': queries[queries['_id'] == str(query_id)]['text'].iloc[0] + separator + corpus.iloc[index]['text'],\n",
    "        'is_positive': False\n",
    "      })"
   ]
  },
  {
   "cell_type": "code",
   "execution_count": 90,
   "metadata": {},
   "outputs": [
    {
     "data": {
      "text/plain": [
       "68440"
      ]
     },
     "execution_count": 90,
     "metadata": {},
     "output_type": "execute_result"
    }
   ],
   "source": [
    "len(list_)"
   ]
  },
  {
   "cell_type": "code",
   "execution_count": 93,
   "metadata": {},
   "outputs": [],
   "source": [
    "from sklearn.model_selection import train_test_split\n",
    "\n",
    "df = pd.DataFrame(list_, columns=['sentence', 'is_positive'])\n",
    "\n",
    "temp, test = train_test_split(df, test_size=0.2, random_state=2137)\n",
    "train, eval = train_test_split(temp, test_size=0.25, random_state=2137)"
   ]
  },
  {
   "cell_type": "code",
   "execution_count": 94,
   "metadata": {},
   "outputs": [
    {
     "name": "stdout",
     "output_type": "stream",
     "text": [
      "Train length:  41064  Test length:  13688  Evaluation:  13688\n"
     ]
    }
   ],
   "source": [
    "print(\"Train length: \", len(train), \" Test length: \", len(test), \" Evaluation: \", len(eval))"
   ]
  },
  {
   "cell_type": "code",
   "execution_count": 95,
   "metadata": {},
   "outputs": [
    {
     "data": {
      "text/html": [
       "<div>\n",
       "<style scoped>\n",
       "    .dataframe tbody tr th:only-of-type {\n",
       "        vertical-align: middle;\n",
       "    }\n",
       "\n",
       "    .dataframe tbody tr th {\n",
       "        vertical-align: top;\n",
       "    }\n",
       "\n",
       "    .dataframe thead th {\n",
       "        text-align: right;\n",
       "    }\n",
       "</style>\n",
       "<table border=\"1\" class=\"dataframe\">\n",
       "  <thead>\n",
       "    <tr style=\"text-align: right;\">\n",
       "      <th></th>\n",
       "      <th>sentence</th>\n",
       "      <th>is_positive</th>\n",
       "    </tr>\n",
       "  </thead>\n",
       "  <tbody>\n",
       "    <tr>\n",
       "      <th>51985</th>\n",
       "      <td>Co to jest odwrócenie niedźwiedziego paska?&lt;/s...</td>\n",
       "      <td>False</td>\n",
       "    </tr>\n",
       "    <tr>\n",
       "      <th>65451</th>\n",
       "      <td>Jak mogę ustalić, czy moja stopa zwrotu jest „...</td>\n",
       "      <td>False</td>\n",
       "    </tr>\n",
       "    <tr>\n",
       "      <th>49524</th>\n",
       "      <td>Czy mogę mieć kilka darmowych kart kredytowych...</td>\n",
       "      <td>False</td>\n",
       "    </tr>\n",
       "    <tr>\n",
       "      <th>6109</th>\n",
       "      <td>Co stanie się z moimi akcjami, gdy broker zban...</td>\n",
       "      <td>True</td>\n",
       "    </tr>\n",
       "    <tr>\n",
       "      <th>62381</th>\n",
       "      <td>Jak mogę dowiedzieć się, ile licytować za miej...</td>\n",
       "      <td>False</td>\n",
       "    </tr>\n",
       "  </tbody>\n",
       "</table>\n",
       "</div>"
      ],
      "text/plain": [
       "                                                sentence  is_positive\n",
       "51985  Co to jest odwrócenie niedźwiedziego paska?</s...        False\n",
       "65451  Jak mogę ustalić, czy moja stopa zwrotu jest „...        False\n",
       "49524  Czy mogę mieć kilka darmowych kart kredytowych...        False\n",
       "6109   Co stanie się z moimi akcjami, gdy broker zban...         True\n",
       "62381  Jak mogę dowiedzieć się, ile licytować za miej...        False"
      ]
     },
     "execution_count": 95,
     "metadata": {},
     "output_type": "execute_result"
    }
   ],
   "source": [
    "train.head()"
   ]
  }
 ],
 "metadata": {
  "kernelspec": {
   "display_name": ".venv",
   "language": "python",
   "name": "python3"
  },
  "language_info": {
   "codemirror_mode": {
    "name": "ipython",
    "version": 3
   },
   "file_extension": ".py",
   "mimetype": "text/x-python",
   "name": "python",
   "nbconvert_exporter": "python",
   "pygments_lexer": "ipython3",
   "version": "3.11.9"
  }
 },
 "nbformat": 4,
 "nbformat_minor": 2
}
