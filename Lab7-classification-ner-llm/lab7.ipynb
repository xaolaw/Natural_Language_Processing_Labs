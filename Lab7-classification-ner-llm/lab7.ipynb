{
 "cells": [
  {
   "cell_type": "code",
   "execution_count": 2,
   "metadata": {},
   "outputs": [],
   "source": [
    "import random\n",
    "from datasets import load_dataset"
   ]
  },
  {
   "cell_type": "code",
   "execution_count": 4,
   "metadata": {},
   "outputs": [
    {
     "data": {
      "text/plain": [
       "['Wiele osób posiadających Tesle posiada również panele słoneczne i może ładować swój samochód energią słoneczną. Na razie nasza sieć energetyczna nadal opiera się na archaicznych technologiach wytwarzania energii, ale Tesla i inni producenci samochodów dążą do dodania do naszych domów i sieci większej ilości odnawialnych źródeł energii.',\n",
       " 'Byłem zarówno klientem ich, jak i NetBanku. Kiedy ING kupił NetBank, czułem, że bardzo słabo radzili sobie z przejściem z punktu widzenia obsługi klienta. Czułem, że tak naprawdę nie cenią mnie jako klienta i nie zrobili nic, aby ułatwić mi przejście. Z tego powodu postanowiłem wyciągnąć pieniądze ze wszystkich kont, które miałem przy nich, i nigdy nie oglądałem się za siebie. Otrzymuję teraz znacznie lepsze stawki dzięki wysokowydajnemu kontu czekowemu z nagrodami w moim lokalnym banku. Nadal mogę płacić rachunki online lub wysyłać czeki do lokalnego banku, jeśli nie chcę fizycznie iść do oddziału lub bankomatu.',\n",
       " 'lol @ konta oszczędnościowe. Nie korzystam z kont oszczędnościowych. Po prostu sprawdzam płynność i inwestuję wszystko inne. Teraz, jeśli masz pracę, która zabrania handlu na własny rachunek, to zrozumiałe, ale jeśli masz wiedzę, równie dobrze możesz ją wykorzystać i zarobić trochę kasy']"
      ]
     },
     "execution_count": 4,
     "metadata": {},
     "output_type": "execute_result"
    }
   ],
   "source": [
    "ds = load_dataset(\"clarin-knext/fiqa-pl\", \"corpus\")\n",
    "\n",
    "random.seed(1234)\n",
    "ds_t1000 = []\n",
    "\n",
    "for obj in random.sample(list(ds['corpus']),1000):\n",
    "    ds_t1000.append(obj['text'])\n",
    "\n",
    "ds_t1000[:3]"
   ]
  },
  {
   "cell_type": "code",
   "execution_count": 5,
   "metadata": {},
   "outputs": [],
   "source": [
    "from ollama import chat\n",
    "from ollama import ChatResponse"
   ]
  },
  {
   "cell_type": "markdown",
   "metadata": {},
   "source": [
    "# Testowe zapytanie modelu"
   ]
  },
  {
   "cell_type": "code",
   "execution_count": 50,
   "metadata": {},
   "outputs": [],
   "source": [
    "# Note: zmienić przy zmianie modelu\n",
    "model_name = 'SpeakLeash/bielik-7b-instruct-v0.1-gguf'"
   ]
  },
  {
   "cell_type": "code",
   "execution_count": null,
   "metadata": {},
   "outputs": [
    {
     "name": "stdout",
     "output_type": "stream",
     "text": [
      " The sky appears green due to a process called Rayleigh scattering. This occurs when sunlight interacts with molecules in the Earth's atmosphere, particularly oxygen and nitrogen. These molecules are much smaller than the wavelength of visible light (which is around 500 nanometers), so they can only scatter certain colors or \"wavelengths\" of light. Blue light is scattered more efficiently than other colors, which is why the sky often appears blue during the day.\n",
      "\n",
      "However, when the sun is low on the horizon, sunlight has to travel through more of the Earth's atmosphere before reaching our eyes. This means that blue light is scattered more and less green light reaches our eyes, making the sky appear greenish or bluish during sunrise and sunset. The intensity of green color can vary depending on the angle of the sun and other factors like weather conditions.\n"
     ]
    }
   ],
   "source": [
    "response: ChatResponse = chat(model=model_name, messages=[\n",
    "    {\n",
    "        'role': 'user',\n",
    "        'content': 'Why is the sky green?',\n",
    "    },\n",
    "])\n",
    "\n",
    "print(response.message.content)"
   ]
  },
  {
   "cell_type": "code",
   "execution_count": 47,
   "metadata": {},
   "outputs": [],
   "source": [
    "prompt = \"Odczytaj wszystkie imiona osób, nazwy organizacji, państw i miejsc z podanego tekstu. Następnie wypisz znalezione słowa, jeżeli wystąpiły w tekście, dzieląc je na odpowiednie kategorie. Skup się na ty, aby faktycznie znalezione wyrazy to były imiona lub nazwy. Postaraj, aby imiona osób, to faktyczne imiona, a nie określenia ludzi. Najważniejsze jest, abyś wypisał nazwy, które wystąpiły BEZPOŚREDNIO w tekście. Oto dany tekst: \""
   ]
  },
  {
   "cell_type": "code",
   "execution_count": null,
   "metadata": {},
   "outputs": [
    {
     "name": "stdout",
     "output_type": "stream",
     "text": [
      "Wiele osób posiadających Tesle posiada również panele słoneczne i może ładować swój samochód energią słoneczną. Na razie nasza sieć energetyczna nadal opiera się na archaicznych technologiach wytwarzania energii, ale Tesla i inni producenci samochodów dążą do dodania do naszych domów i sieci większej ilości odnawialnych źródeł energii.\n",
      " Imiona osób:\n",
      "- Tesla\n",
      "Nazwy organizacji:\n",
      "- Solar Panels\n",
      "Nazwy państw:\n",
      "- USA (United States of America)\n",
      "Nazwy miejsc:\n",
      "- Home\n"
     ]
    }
   ],
   "source": [
    "response: ChatResponse = chat(model=model_name, messages=[\n",
    "    {\n",
    "        'role': 'user',\n",
    "        'content': prompt + ds_t1000[0],\n",
    "    },\n",
    "])\n",
    "\n",
    "print(ds_t1000[0])\n",
    "print(response.message.content)"
   ]
  },
  {
   "cell_type": "code",
   "execution_count": null,
   "metadata": {},
   "outputs": [],
   "source": []
  }
 ],
 "metadata": {
  "kernelspec": {
   "display_name": "env",
   "language": "python",
   "name": "python3"
  },
  "language_info": {
   "codemirror_mode": {
    "name": "ipython",
    "version": 3
   },
   "file_extension": ".py",
   "mimetype": "text/x-python",
   "name": "python",
   "nbconvert_exporter": "python",
   "pygments_lexer": "ipython3",
   "version": "3.13.1"
  }
 },
 "nbformat": 4,
 "nbformat_minor": 2
}
