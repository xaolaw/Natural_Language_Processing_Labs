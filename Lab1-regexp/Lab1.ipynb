{
 "cells": [
  {
   "cell_type": "markdown",
   "id": "f0719ea6c24f4e86",
   "metadata": {
    "collapsed": false
   },
   "source": [
    "# 0 load dataset and install packages"
   ]
  },
  {
   "cell_type": "code",
   "execution_count": 2,
   "id": "initial_id",
   "metadata": {
    "ExecuteTime": {
     "end_time": "2024-10-20T18:14:20.209015Z",
     "start_time": "2024-10-20T18:13:04.851338Z"
    },
    "collapsed": true,
    "jupyter": {
     "outputs_hidden": true
    }
   },
   "outputs": [
    {
     "data": {
      "application/vnd.jupyter.widget-view+json": {
       "model_id": "25b79cb70ff443379f0a54aa6b556e73",
       "version_major": 2,
       "version_minor": 0
      },
      "text/plain": [
       "0000.parquet:   0%|          | 0.00/32.3M [00:00<?, ?B/s]"
      ]
     },
     "metadata": {},
     "output_type": "display_data"
    },
    {
     "name": "stderr",
     "output_type": "stream",
     "text": [
      "C:\\Users\\adam6\\PycharmProjects\\NlpProject\\.venv\\Lib\\site-packages\\huggingface_hub\\file_download.py:139: UserWarning: `huggingface_hub` cache-system uses symlinks by default to efficiently store duplicated files but your machine does not support them in C:\\Users\\adam6\\.cache\\huggingface\\hub\\datasets--clarin-knext--fiqa-pl. Caching files will still work but in a degraded version that might require more space on your disk. This warning can be disabled by setting the `HF_HUB_DISABLE_SYMLINKS_WARNING` environment variable. For more details, see https://huggingface.co/docs/huggingface_hub/how-to-cache#limitations.\n",
      "To support symlinks on Windows, you either need to activate Developer Mode or to run Python as an administrator. In order to activate developer mode, see this article: https://docs.microsoft.com/en-us/windows/apps/get-started/enable-your-device-for-development\n",
      "  warnings.warn(message)\n"
     ]
    },
    {
     "data": {
      "application/vnd.jupyter.widget-view+json": {
       "model_id": "9673ca15e8c84db4bf2f6e3047f493d5",
       "version_major": 2,
       "version_minor": 0
      },
      "text/plain": [
       "Generating corpus split:   0%|          | 0/57638 [00:00<?, ? examples/s]"
      ]
     },
     "metadata": {},
     "output_type": "display_data"
    },
    {
     "data": {
      "text/plain": [
       "DatasetDict({\n",
       "    corpus: Dataset({\n",
       "        features: ['_id', 'title', 'text'],\n",
       "        num_rows: 57638\n",
       "    })\n",
       "})"
      ]
     },
     "execution_count": 2,
     "metadata": {},
     "output_type": "execute_result"
    }
   ],
   "source": [
    "from datasets import load_dataset\n",
    "\n",
    "ds = load_dataset(\"clarin-knext/fiqa-pl\", \"corpus\")\n",
    "ds"
   ]
  },
  {
   "cell_type": "code",
   "execution_count": 119,
   "id": "647e4bd5f9e101a3",
   "metadata": {
    "ExecuteTime": {
     "end_time": "2024-10-20T19:08:07.561892Z",
     "start_time": "2024-10-20T19:08:07.330020Z"
    },
    "collapsed": false
   },
   "outputs": [
    {
     "data": {
      "text/plain": [
       "'Zawsze jestem podejrzliwy, gdy artykuł wykorzystuje 2 punkty danych, aby zasugerować trend. Listopad 1997 i grudzień 2016. Ok? A co z tymi wszystkimi latami pomiędzy? Rok 1997 mógł mieć niezwykle wysoką liczbę z powodu boomu Dot Com, kiedy wszyscy i ich brat tworzyli strony internetowe o nic nie robili i upubliczniali.'"
      ]
     },
     "execution_count": 119,
     "metadata": {},
     "output_type": "execute_result"
    }
   ],
   "source": [
    "ds['corpus']['text'][2137]"
   ]
  },
  {
   "cell_type": "markdown",
   "id": "264a7fa30b0e2b46",
   "metadata": {
    "collapsed": false
   },
   "source": []
  },
  {
   "cell_type": "markdown",
   "id": "59c2c77504ae7ef7",
   "metadata": {
    "collapsed": false
   },
   "source": [
    "# 1) Devise two regular expressions:\n",
    "- extracting times, e.g. recognizing 20:30 as an instance of a time.\n",
    "- extracting dates, e.g. recognizing 20 września as an instance of a date."
   ]
  },
  {
   "cell_type": "markdown",
   "id": "f70d76f785ead8be",
   "metadata": {
    "collapsed": false
   },
   "source": [
    "## Preparing regex that captures all dates with text month\n",
    "First, we will conjugate the names of months by verbal cases"
   ]
  },
  {
   "cell_type": "code",
   "execution_count": 83,
   "id": "5cfd46caa5ca18af",
   "metadata": {
    "ExecuteTime": {
     "end_time": "2024-10-20T18:51:41.328097Z",
     "start_time": "2024-10-20T18:51:41.321969Z"
    },
    "collapsed": false
   },
   "outputs": [
    {
     "name": "stdout",
     "output_type": "stream",
     "text": [
      "Stycz Lut Mar Kwie Maj Czerw Lip Sierp Wrze Październik Listopad Grud "
     ]
    }
   ],
   "source": [
    "import os\n",
    "miesiace_odmiana = {\n",
    "    \"styczen\": [\"Styczeń\", \"Stycznia\", \"Styczniowi\", \"Styczeń\", \"Styczniem\", \"Styczniu\", \"Styczniu\"],\n",
    "    \"luty\": [\"Luty\", \"Lutego\", \"Lutemu\", \"Luty\", \"Lutym\", \"Lutym\", \"Lutym\"],\n",
    "    \"marzec\": [\"Marzec\", \"Marca\", \"Marcowi\", \"Marzec\", \"Marcem\", \"Marcu\", \"Marcu\"],\n",
    "    \"kwieciem\": [\"Kwiecień\", \"Kwietnia\", \"Kwietniowi\", \"Kwiecień\", \"Kwietniem\", \"Kwietniu\", \"Kwietniu\"],\n",
    "    \"maj\": [\"Maj\", \"Maja\", \"Majowi\", \"Maj\", \"Majem\", \"Maju\", \"Maju\"],\n",
    "    \"czerwiec\": [\"Czerwiec\", \"Czerwca\", \"Czerwcowi\", \"Czerwiec\", \"Czerwcem\", \"Czerwcu\", \"Czerwcu\"],\n",
    "    \"lipiec\": [\"Lipiec\", \"Lipca\", \"Lipcowi\", \"Lipiec\", \"Lipcem\", \"Lipcu\", \"Lipcu\"],\n",
    "    \"sierpien\": [\"Sierpień\", \"Sierpnia\", \"Sierpniowi\", \"Sierpień\", \"Sierpniem\", \"Sierpniu\", \"Sierpniu\"],\n",
    "    \"wrzesien\": [\"Wrzesień\", \"Września\", \"Wrześniowi\", \"Wrzesień\", \"Wrześniem\", \"Wrześniu\", \"Wrześniu\"],\n",
    "    \"pazdziernik\": [\"Październik\", \"Października\", \"Październikowi\", \"Październik\", \"Październikiem\", \"Październiku\", \"Październiku\"],\n",
    "    \"listopad\": [\"Listopad\", \"Listopada\", \"Listopadowi\", \"Listopad\", \"Listopadem\", \"Listopadzie\", \"Listopadzie\"],\n",
    "    \"grudzien\": [\"Grudzień\", \"Grudnia\", \"Grudniowi\", \"Grudzień\", \"Grudniem\", \"Grudniu\", \"Grudniu\"]\n",
    "}\n",
    "\n",
    "for i in miesiace_odmiana:\n",
    "    print(os.path.commonprefix(miesiace_odmiana[i]),end=\" \")"
   ]
  },
  {
   "cell_type": "code",
   "execution_count": 197,
   "id": "57caab52d6573e2a",
   "metadata": {
    "ExecuteTime": {
     "end_time": "2024-10-20T19:58:10.115842Z",
     "start_time": "2024-10-20T19:58:10.110918Z"
    },
    "collapsed": false
   },
   "outputs": [
    {
     "name": "stdout",
     "output_type": "stream",
     "text": [
      "[['Listopad 1997'], [' Listopad 20'], ['listopad 10'], [], ['listopada 31'], ['30 listopada 1999'], ['1999 listopada 31']]\n"
     ]
    }
   ],
   "source": [
    "import re\n",
    "\n",
    "example_text_array = [\"Listopad 1997\",\"aaaa Listopad 20\",\"listopad 10\",\"10 listopada\",\"listopada 31\",\"30 listopada 1999 kolejna data 1999\",\"1999 listopada 31 kolejna data 1999\"]\n",
    "findall_array = []\n",
    "\n",
    "#regex_expression = \"([Ss]tycz|[Ll]ut|[Mm]ar|[Kk]wie|[Mm]aj|[Cc]zerw|[Ll]ip|[Ss]ierp|[Ww]rze|[Pp]aździernik|[Ll]istopad|[Gg]rud)\"\n",
    "regex_expression_test=\"[0-9]*.?[Ll]istopad[a-z]*[ąćęłńżź]?\\s[0-9]+\"\n",
    "\n",
    "for i in example_text_array:\n",
    "    result = re.findall(regex_expression_test, i)\n",
    "    findall_array.append(result)\n",
    "    \n",
    "print(findall_array)"
   ]
  },
  {
   "cell_type": "code",
   "execution_count": 194,
   "id": "d8fd63a72187e4da",
   "metadata": {
    "ExecuteTime": {
     "end_time": "2024-10-20T19:56:47.719246Z",
     "start_time": "2024-10-20T19:56:47.478021Z"
    },
    "collapsed": false
   },
   "outputs": [
    {
     "data": {
      "text/plain": [
       "['Listopad 1997', 'grudzień 2016']"
      ]
     },
     "execution_count": 194,
     "metadata": {},
     "output_type": "execute_result"
    }
   ],
   "source": [
    "regex_date = (\"[0-9]*.?([Ss]tycz[a-z]*[ąćęłńżź]?\\s[0-9]+\"\n",
    "              \"|[Ll]ut[a-z]*[ąćęłńżź]?\\s[0-9]+\"\n",
    "              \"|[Mm]ar[a-z]*[ąćęłńżź]?\\s[0-9]+\"\n",
    "              \"|[Kk]wie[a-z]*[ąćęłńżź]?\\s[0-9]+\"\n",
    "              \"|[Mm]aj[a-z]*[ąćęłńżź]?\\s[0-9]+\"\n",
    "              \"|[Cc]zerw[a-z]*[ąćęłńżź]?\\s[0-9]+\"\n",
    "              \"|[Ll]ip[a-z]*[ąćęłńżź]?\\s[0-9]+\"\n",
    "              \"|[Ss]ierp[a-z]*[ąćęłńżź]?\\s[0-9]+\"\n",
    "              \"|[Ww]rze[a-z]*[ąćęłńżź]?\\s[0-9]+\"\n",
    "              \"|[Pp]aździernik[a-z]*[ąćęłńżź]?\\s[0-9]+\"\n",
    "              \"|[Ll]istopad[a-z]*[ąćęłńżź]?\\s[0-9]+\"\n",
    "              \"|[Gg]rud[a-z]*[ąćęłńżź]?\\s[0-9]+)\")\n",
    "re.findall(regex_date, ds['corpus']['text'][2137])"
   ]
  },
  {
   "cell_type": "markdown",
   "id": "19bf8639af6039aa",
   "metadata": {
    "collapsed": false
   },
   "source": [
    "## Preparing regex that captures time"
   ]
  },
  {
   "cell_type": "code",
   "execution_count": 233,
   "id": "ae66d9bfc141f094",
   "metadata": {
    "ExecuteTime": {
     "end_time": "2024-10-20T20:26:53.176685Z",
     "start_time": "2024-10-20T20:26:53.171743Z"
    },
    "collapsed": false
   },
   "outputs": [
    {
     "name": "stdout",
     "output_type": "stream",
     "text": [
      "[['15:30:00'], [], ['21:37'], [], [], []]\n"
     ]
    }
   ],
   "source": [
    "example_text_array = [\"aaa115:30:00 aaa\",\"31:21aaa\",\"aaa21:37aaa\",\"24:34\",\"23:69\",\"25:32\"]\n",
    "findall_array = []\n",
    "\n",
    "regex_time=(\"[01][0-9]:[0-5][0-9]:?[0-5]?[0-9]?|\"\n",
    "            \"2[0-3]:[0-5][0-9]:?[0-5]?[0-9]?\")\n",
    "\n",
    "for i in example_text_array:\n",
    "    result = re.findall(regex_time, i)\n",
    "    findall_array.append(result)\n",
    "    \n",
    "print(findall_array)"
   ]
  },
  {
   "cell_type": "markdown",
   "id": "3dbf0ce8cddc2809",
   "metadata": {
    "collapsed": false
   },
   "source": [
    "# 2) Search for occurrences of times and dates in the dataset."
   ]
  },
  {
   "cell_type": "markdown",
   "id": "5460acdb7a09c50e",
   "metadata": {
    "collapsed": false
   },
   "source": [
    "## Find all dates"
   ]
  },
  {
   "cell_type": "code",
   "execution_count": 316,
   "id": "e63ff81f6302214f",
   "metadata": {
    "collapsed": false,
    "ExecuteTime": {
     "end_time": "2024-10-20T22:32:37.616358Z",
     "start_time": "2024-10-20T22:32:26.358593Z"
    }
   },
   "outputs": [
    {
     "data": {
      "text/plain": "[['kwietnia 2018', 'kwietnia 2018', '800'],\n ['październikiem 2008',\n  'lipcem 2014',\n  'mają 65',\n  'października 2008',\n  'lipca 2014',\n  '1941']]"
     },
     "execution_count": 316,
     "metadata": {},
     "output_type": "execute_result"
    }
   ],
   "source": [
    "output_array_dates = []\n",
    "\n",
    "for i in ds['corpus']:\n",
    "    result = re.findall(regex_date, i['text'])\n",
    "    if result:\n",
    "        result.append(i['_id'])\n",
    "        output_array_dates.append(result)\n",
    "        \n",
    "output_array_dates[:2]"
   ]
  },
  {
   "cell_type": "markdown",
   "id": "b50c0255da284fc2",
   "metadata": {
    "collapsed": false
   },
   "source": [
    " Although the regex found all the dates where the year or month is after the month, we can find also a few wrong findings. Like one listed below where we found \"mają 20\" from \"Ci, którzy mają 20 000 mil\". In case of Maj we could just \n",
    "delete the special polish sign from regex but it would not change the output of another example like \"Trzymaj 50 000 $\" where regex found \"maj 50\". In that case we could not change the regex cause there could be a date like \"maj 5\" \n",
    "or \"maj 585 BCE\" which is the date of Battle of the Eclipse https://en.wikipedia.org/wiki/Battle_of_the_Eclipse"
   ]
  },
  {
   "cell_type": "code",
   "execution_count": 314,
   "id": "4b1a51845d0a45eb",
   "metadata": {
    "collapsed": false,
    "ExecuteTime": {
     "end_time": "2024-10-20T22:31:53.473741Z",
     "start_time": "2024-10-20T22:31:53.469181Z"
    }
   },
   "outputs": [],
   "source": [
    "def show_text_from_id(id):\n",
    "    for j in ds['corpus']:\n",
    "        if j['_id'] == id:\n",
    "            return j['text']\n",
    "\n",
    "#print(show_text_from_id('359131'))\n",
    "#print(\"===================================================\")\n",
    "#print(show_text_from_id('585494'))"
   ]
  },
  {
   "cell_type": "markdown",
   "id": "105f27abeb74ba3",
   "metadata": {
    "collapsed": false
   },
   "source": [
    "## Find all times"
   ]
  },
  {
   "cell_type": "code",
   "execution_count": 313,
   "id": "6b91f309dddad498",
   "metadata": {
    "collapsed": false,
    "ExecuteTime": {
     "end_time": "2024-10-20T22:31:40.787516Z",
     "start_time": "2024-10-20T22:31:38.135308Z"
    }
   },
   "outputs": [
    {
     "data": {
      "text/plain": "[['17:57:23', '17:57:23', '628'],\n ['20:00', '17:00', '1926'],\n ['22:00', '2221'],\n ['12:00', '2854'],\n ['17:30:33', '6760']]"
     },
     "execution_count": 313,
     "metadata": {},
     "output_type": "execute_result"
    }
   ],
   "source": [
    "output_array_times = []\n",
    "\n",
    "for i in ds['corpus']:\n",
    "    result = re.findall(regex_time, i['text'])\n",
    "    if result:\n",
    "        result.append(i['_id'])\n",
    "        output_array_times.append(result)\n",
    "        \n",
    "output_array_times[:5]"
   ]
  },
  {
   "cell_type": "markdown",
   "id": "63b20ad856b851f1",
   "metadata": {
    "collapsed": false
   },
   "source": [
    "In case of time there is no additional data that can match the regex only numbers."
   ]
  },
  {
   "cell_type": "markdown",
   "id": "9656c4cf71db658d",
   "metadata": {
    "collapsed": false
   },
   "source": [
    "# 3) Plot results from point 2:\n",
    "- for times create a bar plot for full hours.\n",
    "- for dates create a bar plot for months."
   ]
  },
  {
   "cell_type": "markdown",
   "id": "6d7e952eebd44c9e",
   "metadata": {
    "collapsed": false
   },
   "source": [
    "## Creating plot for hours"
   ]
  },
  {
   "cell_type": "code",
   "execution_count": 249,
   "id": "9cb5445da117c928",
   "metadata": {
    "ExecuteTime": {
     "end_time": "2024-10-20T20:36:52.797486Z",
     "start_time": "2024-10-20T20:36:52.788784Z"
    },
    "collapsed": false
   },
   "outputs": [
    {
     "data": {
      "text/plain": [
       "{'00': 8,\n",
       " '01': 8,\n",
       " '02': 18,\n",
       " '03': 6,\n",
       " '04': 9,\n",
       " '05': 4,\n",
       " '06': 10,\n",
       " '07': 1,\n",
       " '08': 4,\n",
       " '09': 8,\n",
       " '10': 8,\n",
       " '11': 16,\n",
       " '12': 14,\n",
       " '13': 17,\n",
       " '14': 16,\n",
       " '15': 27,\n",
       " '16': 27,\n",
       " '17': 35,\n",
       " '18': 16,\n",
       " '19': 19,\n",
       " '20': 18,\n",
       " '21': 8,\n",
       " '22': 19,\n",
       " '23': 15}"
      ]
     },
     "execution_count": 249,
     "metadata": {},
     "output_type": "execute_result"
    }
   ],
   "source": [
    "dict_to_plot_time = {f\"{i:02}\": 0 for i in range(24)} \n",
    "\n",
    "for i in output_array_times:\n",
    "    for j in range(len(i)-1):\n",
    "        dict_to_plot_time[i[j][:2]] += 1\n",
    "dict_to_plot_time"
   ]
  },
  {
   "cell_type": "code",
   "execution_count": 250,
   "id": "4ed359616cb172b6",
   "metadata": {
    "ExecuteTime": {
     "end_time": "2024-10-20T20:38:13.094835Z",
     "start_time": "2024-10-20T20:38:12.950994Z"
    },
    "collapsed": false
   },
   "outputs": [
    {
     "data": {
      "image/png": "[encoded data removed]",
      "text/plain": [
       "<Figure size 640x480 with 1 Axes>"
      ]
     },
     "metadata": {},
     "output_type": "display_data"
    }
   ],
   "source": [
    "import matplotlib.pyplot as plt\n",
    "\n",
    "plt.bar(dict_to_plot_time.keys(), dict_to_plot_time.values(), color ='green', \n",
    "        width = 0.4)\n",
    "\n",
    "plt.xlabel(\"Hours\")\n",
    "plt.ylabel(\"Number of occurrences in text\")\n",
    "plt.show()"
   ]
  },
  {
   "cell_type": "markdown",
   "id": "455f4e5f35376698",
   "metadata": {
    "collapsed": false
   },
   "source": [
    "## Creating plot for months"
   ]
  },
  {
   "cell_type": "code",
   "execution_count": 256,
   "id": "27ef40df8c500353",
   "metadata": {
    "ExecuteTime": {
     "end_time": "2024-10-20T20:45:53.245370Z",
     "start_time": "2024-10-20T20:45:53.226168Z"
    },
    "collapsed": false
   },
   "outputs": [
    {
     "data": {
      "text/plain": [
       "{'Styczeń': 208,\n",
       " 'Luty': 78,\n",
       " 'Marzec': 154,\n",
       " 'Kwiecień': 116,\n",
       " 'Maj': 224,\n",
       " 'Czerwiec': 106,\n",
       " 'Lipiec': 112,\n",
       " 'Sierpień': 106,\n",
       " 'Wrzesień': 6,\n",
       " 'Październik': 87,\n",
       " 'Listopad': 81,\n",
       " 'Grudzień': 139}"
      ]
     },
     "execution_count": 256,
     "metadata": {},
     "output_type": "execute_result"
    }
   ],
   "source": [
    "dict_to_plot_months = {\n",
    "    \"Styczeń\": 0,\n",
    "    \"Luty\": 0,\n",
    "    \"Marzec\": 0,\n",
    "    \"Kwiecień\": 0,\n",
    "    \"Maj\": 0,\n",
    "    \"Czerwiec\": 0,\n",
    "    \"Lipiec\": 0,\n",
    "    \"Sierpień\": 0,\n",
    "    \"Wrzesień\": 0,\n",
    "    \"Październik\": 0,\n",
    "    \"Listopad\": 0,\n",
    "    \"Grudzień\": 0\n",
    "}\n",
    "\n",
    "#Stycz Lut Mar Kwie Maj Czerw Lip Sierp Wrze Październik Listopad Grud\n",
    "for i in output_array_dates:\n",
    "    for j in range(len(i)-1):\n",
    "        if re.match(\"[Ss]tycz[a-z]*\",i[j]):\n",
    "            dict_to_plot_months['Styczeń'] += 1\n",
    "        if re.match(\"[Ll]ut[a-z]*\",i[j]):\n",
    "            dict_to_plot_months['Luty'] += 1\n",
    "        if re.match(\"[Mm]ar[a-z]*\",i[j]):\n",
    "            dict_to_plot_months['Marzec'] += 1\n",
    "        if re.match(\"[Kk]wie[a-z]*\",i[j]):\n",
    "            dict_to_plot_months['Kwiecień'] += 1\n",
    "        if re.match(\"[Mm]aj[a-z]*\",i[j]):\n",
    "            dict_to_plot_months['Maj'] += 1\n",
    "        if re.match(\"[Cc]zerw[a-z]*\",i[j]):\n",
    "            dict_to_plot_months['Czerwiec'] += 1\n",
    "        if re.match(\"[Ll]ip[a-z]*\",i[j]):\n",
    "            dict_to_plot_months['Lipiec'] += 1\n",
    "        if re.match(\"[Ss]ierp[a-z]*\",i[j]):\n",
    "            dict_to_plot_months['Sierpień'] += 1\n",
    "        if re.match(\"[Ww]rze[a-z]*\",i[j]):\n",
    "            dict_to_plot_months['Wrzesień'] += 1\n",
    "        if re.match(\"[Pp]aździernik[a-z]*\",i[j]):\n",
    "            dict_to_plot_months['Październik'] += 1\n",
    "        if re.match(\"[Ll]istopad[a-z]*\",i[j]):\n",
    "            dict_to_plot_months['Listopad'] += 1\n",
    "        if re.match(\"[Gg]rud[a-z]*\",i[j]):\n",
    "            dict_to_plot_months['Grudzień'] += 1\n",
    "\n",
    "dict_to_plot_months"
   ]
  },
  {
   "cell_type": "code",
   "execution_count": 260,
   "id": "e97f8cdc14f514db",
   "metadata": {
    "ExecuteTime": {
     "end_time": "2024-10-20T20:46:45.604917Z",
     "start_time": "2024-10-20T20:46:45.517042Z"
    },
    "collapsed": false
   },
   "outputs": [
    {
     "data": {
      "image/png": "[encoded data removed]",
      "text/plain": [
       "<Figure size 640x480 with 1 Axes>"
      ]
     },
     "metadata": {},
     "output_type": "display_data"
    }
   ],
   "source": [
    "plt.bar(dict_to_plot_months.keys(), dict_to_plot_months.values(), color ='green', \n",
    "        width = 0.4)\n",
    "\n",
    "plt.xticks(rotation=45)\n",
    "plt.xlabel(\"Months\")\n",
    "plt.ylabel(\"Number of occurrences in text\")\n",
    "plt.show()"
   ]
  },
  {
   "cell_type": "markdown",
   "id": "eab8caa1b6fa8954",
   "metadata": {
    "collapsed": false
   },
   "source": [
    "# 4) Compute the number of occurrences of kwiecień word in any inflectional form. Use a compact form for the query (i.e. joining all forms of the word by alternative is forbidden)."
   ]
  },
  {
   "cell_type": "markdown",
   "id": "b9890be8b262b73",
   "metadata": {
    "collapsed": false
   },
   "source": [
    "We can use the regex i prepared before, also to remember the inflectional form is below\n",
    "\"Kwiecień\", \"Kwietnia\", \"Kwietniowi\", \"Kwiecień\", \"Kwietniem\", \"Kwietniu\", \"Kwietniu\""
   ]
  },
  {
   "cell_type": "code",
   "execution_count": 312,
   "id": "663ca95d1eb6ac34",
   "metadata": {
    "collapsed": false,
    "ExecuteTime": {
     "end_time": "2024-10-20T22:31:20.010463Z",
     "start_time": "2024-10-20T22:31:17.648454Z"
    }
   },
   "outputs": [
    {
     "data": {
      "text/plain": "[['kwietnia', 'kwietnia', '800'],\n ['kwietnia', 'kwietnia', 'kwietnia', 'kwietnia', '2035'],\n ['kwietniu', '2653'],\n ['kwietniu', '3717'],\n ['kwietniu', 'kwietniowym', '4845']]"
     },
     "execution_count": 312,
     "metadata": {},
     "output_type": "execute_result"
    }
   ],
   "source": [
    "regex_april = \"[Kk]wie[a-z]*[ń]?\"\n",
    "output_array_april = []\n",
    "\n",
    "for i in ds['corpus']:\n",
    "    result = re.findall(regex_april, i['text'])\n",
    "    if result:\n",
    "        result.append(i['_id'])\n",
    "        output_array_april.append(result)\n",
    "output_array_april[:5]"
   ]
  },
  {
   "cell_type": "markdown",
   "id": "d714903153a57873",
   "metadata": {
    "collapsed": false
   },
   "source": [
    "# 5) As in 4, but preceded by a number and a space."
   ]
  },
  {
   "cell_type": "code",
   "execution_count": 311,
   "id": "bc1d99ae92a24f38",
   "metadata": {
    "collapsed": false,
    "ExecuteTime": {
     "end_time": "2024-10-20T22:31:13.054642Z",
     "start_time": "2024-10-20T22:31:10.866371Z"
    }
   },
   "outputs": [
    {
     "data": {
      "text/plain": "[['2 kwietnia', '0 kwietnia', '800'],\n ['6 kwietnia', '5 kwietnia', '5 kwietnia', '4 kwietnia', '2035'],\n ['5 kwietnia', '5 kwietnia', '8018'],\n ['5 kwietnia', '21910'],\n ['0 kwietnia', '27037']]"
     },
     "execution_count": 311,
     "metadata": {},
     "output_type": "execute_result"
    }
   ],
   "source": [
    "regex_april_number = \"[0-9]\\s[Kk]wie[a-z]*[ń]?\"\n",
    "output_array_april_number = []\n",
    "\n",
    "for i in ds['corpus']:\n",
    "    result = re.findall(regex_april_number, i['text'])\n",
    "    if result:\n",
    "        result.append(i['_id'])\n",
    "        output_array_april_number.append(result)\n",
    "output_array_april_number[:5]"
   ]
  },
  {
   "cell_type": "markdown",
   "id": "7a157456e2b823ef",
   "metadata": {
    "collapsed": false
   },
   "source": [
    "# 6) As in 4, but not preceded by a number and a space. Check if the results from 5 and 6 sum to 4"
   ]
  },
  {
   "cell_type": "code",
   "execution_count": 310,
   "id": "9e0e3504795c1641",
   "metadata": {
    "collapsed": false,
    "ExecuteTime": {
     "end_time": "2024-10-20T22:31:06.437184Z",
     "start_time": "2024-10-20T22:31:03.312057Z"
    }
   },
   "outputs": [
    {
     "data": {
      "text/plain": "[['kwietniu', '2653'],\n ['kwietniu', '3717'],\n ['kwietniu', 'kwietniowym', '4845'],\n ['kwietniu', '7925'],\n ['kwietniu', '14286']]"
     },
     "execution_count": 310,
     "metadata": {},
     "output_type": "execute_result"
    }
   ],
   "source": [
    "regex_april_no_number = \"(?<![0-9]\\s)[Kk]wie[a-z]*[ń]?\"\n",
    "output_array_april_no_number = []\n",
    "\n",
    "for i in ds['corpus']:\n",
    "    result = re.findall(regex_april_no_number, i['text'])\n",
    "    if result:\n",
    "        result.append(i['_id'])\n",
    "        output_array_april_no_number.append(result)\n",
    "output_array_april_no_number[:5]"
   ]
  },
  {
   "cell_type": "code",
   "execution_count": 289,
   "id": "5898f76b8ac60ee5",
   "metadata": {
    "ExecuteTime": {
     "end_time": "2024-10-20T21:04:38.072933Z",
     "start_time": "2024-10-20T21:04:38.067918Z"
    },
    "collapsed": false
   },
   "outputs": [
    {
     "name": "stdout",
     "output_type": "stream",
     "text": [
      "False\n",
      "Length of array with april preceded by number and space 139\n",
      "Length of array with april NOT preceded by number and space 149\n",
      "Length of array with april 277\n"
     ]
    }
   ],
   "source": [
    "print(len(output_array_april_number)+len(output_array_april_no_number)==len(output_array_april))\n",
    "print(\"Length of array with april preceded by number and space\",len(output_array_april_number))\n",
    "print(\"Length of array with april NOT preceded by number and space\",len(output_array_april_no_number))\n",
    "print(\"Length of array with april\",len(output_array_april))"
   ]
  },
  {
   "cell_type": "code",
   "execution_count": 288,
   "id": "ea45f968c5edce62",
   "metadata": {
    "ExecuteTime": {
     "end_time": "2024-10-20T21:03:25.351678Z",
     "start_time": "2024-10-20T21:03:25.345413Z"
    },
    "collapsed": false
   },
   "outputs": [
    {
     "name": "stdout",
     "output_type": "stream",
     "text": [
      "Common ID: {'577475', '536849', '406623', '550661', '292602', '521552', '470101', '107727', '180461', '338170', '420529'}\n"
     ]
    }
   ],
   "source": [
    "ids_no_number = {sublist[-1] for sublist in output_array_april_no_number}\n",
    "ids_number = {sublist[-1] for sublist in output_array_april_number}\n",
    "\n",
    "common_ids = ids_no_number.intersection(ids_number)\n",
    "\n",
    "print(\"Common ID:\", common_ids)"
   ]
  },
  {
   "cell_type": "markdown",
   "id": "e11b34171ef23350",
   "metadata": {
    "collapsed": false
   },
   "source": [
    "As we can see we are doubling a few texts, if we would subtract the length of common_ids from sum of output_array_april_number and output_array_april_no_number we woould get 139+149-11=277"
   ]
  },
  {
   "cell_type": "markdown",
   "id": "cb9d12df593fed4f",
   "metadata": {
    "collapsed": false
   },
   "source": []
  },
  {
   "cell_type": "code",
   "execution_count": 302,
   "id": "25d9ec49aa565128",
   "metadata": {
    "ExecuteTime": {
     "end_time": "2024-10-20T21:16:43.833039Z",
     "start_time": "2024-10-20T21:16:42.026457Z"
    },
    "collapsed": false
   },
   "outputs": [
    {
     "name": "stdout",
     "output_type": "stream",
     "text": [
      "Krótko mówiąc, proponuję spojrzeć na formularz W-4 i odpowiednio go dostosować. I tak, możesz ubiegać się o siebie jako na utrzymaniu, chyba że ktoś inny twierdzi, że jesteś osobą na utrzymaniu. Ale oto bardziej szczegółowe wyjaśnienie, jak to działa. Jak działa podatek dochodowy. Podczas gdy większość ludzi myśli tylko o systemie podatkowym i urzędzie skarbowym (IRS) w miarę zbliżania się kwietnia, w rzeczywistości jest to niekończący się proces. Dla naszych celów dobrym sposobem na wyjaśnienie, jak działa system, jest podanie przykładu jednego Amerykanina zarabiającego, nazwiemy go Joe. Proces podatkowy rozpoczyna się, gdy Joe rozpoczyna nową pracę. On i jego pracodawca uzgadniają jego wynagrodzenie, które zostanie wliczone w jego dochód brutto na koniec roku. Jedną z pierwszych rzeczy, które musi zrobić po zatrudnieniu, jest wypełnienie wszystkich formularzy podatkowych, w tym formularza W-4. Formularz W-4 zawiera wszystkie informacje dotyczące zasiłku dla Joe'go, takie jak liczba osób na jego utrzymaniu i wydatki na opiekę nad dzieckiem. Informacje zawarte w tym formularzu mówią pracodawcy, ile pieniędzy musi potrącić z wypłaty na federalny podatek dochodowy. IRS mówi, że powinieneś sprawdzać ten formularz co roku, ponieważ Twoja sytuacja podatkowa może się zmieniać z roku na rok. Gdy Joe zostanie zatrudniony i otrzyma pensję, może oszacować, ile zapłaci podatków w ciągu roku. Oto wzór: pod koniec każdego okresu wypłaty firma Joe'go bierze potrącone pieniądze wraz ze wszystkimi potrąconymi pieniędzmi z podatków od wszystkich swoich pracowników i deponuje je w Banku Rezerwy Federalnej. W ten sposób rząd utrzymuje stały strumień dochodów, jednocześnie czerpiąc odsetki z Twoich podatków. Pod koniec roku podatkowego firma Joe musi wysłać mu formularz W-2 pocztą. Stanie się to do 31 stycznia. Formularz ten zawiera szczegółowe informacje, ile pieniędzy Joe zarobił w ciągu ostatniego roku i ile podatku federalnego zostało potrącone z jego dochodu. Te informacje można również znaleźć na ostatniej wypłacie Joe w tym roku, ale będzie musiał wysłać W-2 do IRS w celu przetworzenia. W pewnym momencie między otrzymaniem przez Joe W-2 a 15 kwietnia Joe będzie musiał wypełnić i zwrócić swoje podatki do jednego z centrów obsługi i przetwarzania IRS. Gdy IRS otrzyma deklaracje podatkowe Joego, pracownik IRS wpisuje wszystkie informacje zawarte w jego formularzach podatkowych. Informacje te są następnie przechowywane w dużych maszynach z taśmą magnetyczną. Jeśli Joe ma obowiązek zwrotu podatku, w ciągu najbliższych kilku tygodni zostanie mu wysłany czek pocztą. Jeśli Joe korzysta z e-File lub TeleFile, jego zwrot może zostać bezpośrednio przelany na jego konto bankowe.\n",
      "None\n"
     ]
    }
   ],
   "source": [
    "print(show_text_from_id('577475'))\n"
   ]
  },
  {
   "cell_type": "markdown",
   "id": "768f980e35fa1c03",
   "metadata": {
    "collapsed": false
   },
   "source": [
    "As we can see in the text there are two instances of april \"15 kwietnia\" and \"kwietnia\""
   ]
  },
  {
   "cell_type": "markdown",
   "id": "c7b7ab1764e271d0",
   "metadata": {
    "collapsed": false
   },
   "source": [
    "# 7) Ask an LLM (e.g. Bielik) to complete these tasks for you. Compare and criticize the code generated by the LLM"
   ]
  },
  {
   "cell_type": "markdown",
   "id": "4dad51c6f6a31390",
   "metadata": {
    "collapsed": false
   },
   "source": [
    "## Prompt"
   ]
  },
  {
   "cell_type": "markdown",
   "id": "46ecc7bd92cc9dde",
   "metadata": {
    "collapsed": false
   },
   "source": [
    "### Date task\n",
    "wygeneruj w pythonie regex który potrafi znaleźć w tekście daty tak jak w przykładzie. 20 październik, listopad 2012, luty 21, maj 16, styczeń 21, czerwiec 10, sierpień 1999, 10 września 2019. Pamiętaj o tym że każdy miesiąc może być różnie odmieniony"
   ]
  },
  {
   "cell_type": "markdown",
   "id": "e186bd55b0082848",
   "metadata": {
    "collapsed": false
   },
   "source": [
    "### Time task\n",
    "teraz napisz regex w pythonie który znajdzie czas w tekscie taki jak 00:21, 21:37, 15:14"
   ]
  },
  {
   "cell_type": "markdown",
   "id": "14abbe206cd5c44b",
   "metadata": {
    "collapsed": false
   },
   "source": [
    "## Bielik"
   ]
  },
  {
   "cell_type": "markdown",
   "id": "3a24df63388447a0",
   "metadata": {
    "collapsed": false
   },
   "source": [
    "Bielik answer for date task, after instructing him about inflectional form of words he went dumb an copy pasted styczniem. I think i do not need to tell that it will not work :D"
   ]
  },
  {
   "cell_type": "code",
   "execution_count": null,
   "id": "eb47cff032112e71",
   "metadata": {
    "collapsed": false
   },
   "outputs": [],
   "source": [
    "date_pattern = r\"(?:stycznia|styczniu|stycznia|styczniu|styczniowi|styczniu|styczniem|styczniem|styczniem|styczniem|styczniem|styczniem|styczniem|styczniem|styczniem|styczniem|styczniem|styczniem|styczniem|styczniem|styczniem|styczniem|styczniem|styczniem|styczniem|styczniem|styczniem|styczniem|styczniem|styczniem|styczniem|styczniem|styczniem|styczniem|styczniem|styczniem|styczniem|styczniem|styczniem|styczniem|styczniem|styczniem|styczniem|styczniem|styczniem|styczniem|styczniem|styczniem|styczniem|styczniem|styczniem|styczniem|styczniem|styczniem|styczniem|styczniem|styczniem|styczniem|styczniem|styczniem|styczniem|styczniem|styczniem|styczniem|styczniem|styczniem|styczniem|styczniem|styczniem|styczniem|styczniem|styczniem|styczniem|styczniem|styczniem|styczniem|styczniem|styczniem|styczniem|styczniem|styczniem|styczniem|styczniem|styczniem|styczniem|styczniem|styczniem|styczniem|styczniem|styczniem|styczniem|styczniem|styczniem|styczniem|styczniem|styczniem|styczniem|styczniem|styczniem|styczniem|styczniem|styczniem|styczniem|styczniem|styczniem|styczniem|styczniem|styczniem|styczniem|styczniem|styczniem|styczniem|styczniem|styczniem|styczniem|styczniem|styczniem|styczniem|styczniem|styczniem|styczniem|styczniem|styczniem|styczniem|styczniem|styczniem|styczniem|styczniem|styczniem|styczniem|styczniem|styczniem|styczniem|styczniem|styczniem|styczniem|styczniem|styczniem|styczniem|styczniem|styczniem|styczniem|styczniem|styczniem|styczniem|styczniem|styczniem|styczniem|styczniem|styczniem|styczniem|styczniem|styczniem|styczniem|styczniem|styczniem|styczniem|styczniem|styczniem|styczniem|styczniem|styczniem|styczniem|styczniem|styczniem|styczniem|styczniem|styczniem|styczniem|styczniem|styczniem|styczniem|styczniem|styczniem|styczniem|styczniem|styczniem|styczniem|styczniem|styczniem|styczniem|styczniem|styczniem|styczniem|styczniem|styczniem|styczniem|styczniem|styczniem|styczniem|styczniem|styczniem|styczniem|styczniem|styczniem|styczniem|styczniem|styczniem|styczniem|styczniem|styczniem|styczniem|styczniem|styczniem|styczniem|styczniem|styczniem|styczniem|styczniem|styczniem|styczniem|styczniem|styczniem|styczniem|styczniem|styczniem|styczniem|styczniem|styczniem|styczniem|styczniem|styczniem|styczniem|styczniem|styczniem|styczniem|styczniem|styczniem|styczniem|styczniem|styczniem|styczniem|styczniem|styczniem|styczniem|styczniem|styczniem|styczniem|styczniem|styczniem|styczniem|styczniem|styczniem|styczniem|styczniem|styczniem|styczniem|styczniem|styczniem|styczniem|styczniem|styczniem|styczniem|styczniem|styczniem|styczniem|styczniem|styczniem|styczniem|styczniem|styczniem|styczniem|styczniem|styczniem|styczniem|styczniem|styczniem|styczniem|styczniem|styczniem|styczniem|styczniem|styczniem|styczniem|styczniem|styczniem|styczniem|styczniem|styczniem|styczniem|styczniem|styczniem|styczniem|styczniem|styczniem|styczniem|styczniem|styczniem|styczniem|styczniem|styczniem|styczniem|styczniem|styczniem|styczniem|styczniem|styczniem|styczniem|styczniem|styczniem|styczniem|styczniem|styczniem|styczniem|styczniem|styczniem|styczniem|styczniem|styczniem|styczniem|styczniem|styczniem|styczniem|styczniem|styczniem|styczniem|styczniem|styczniem|styczniem|styczniem|styczniem|styczniem|styczniem|styczniem|styczniem|styczniem|styczniem|styczniem|styczniem|styczniem|styczniem|styczniem|styczniem|styczniem|styczniem|styczniem|styczniem|styczniem|styczniem|styczniem|styczniem|styczniem|styczniem|styczniem|styczniem|styczniem|styczniem|styczniem|styczniem|styczniem|styczniem|styczniem|styczniem|styczniem|styczniem|styczniem|styczniem|styczniem|styczniem|styczniem|styczniem|styczniem|styczniem|styczniem|styczniem|styczniem|styczniem|styczniem|styczniem|styczniem|styczniem|styczniem|styczniem|\""
   ]
  },
  {
   "cell_type": "markdown",
   "id": "c9851fc767f97aca",
   "metadata": {
    "collapsed": false
   },
   "source": [
    "Bielik answer for time task. This regex looks good, Bielik considerd the cases where time could be 24:60 or 00:60, although not the best cause 0[0-9]|1[0-9] could be merged to [0-1][0-9]"
   ]
  },
  {
   "cell_type": "code",
   "execution_count": 304,
   "id": "fa81bf282474f9bc",
   "metadata": {
    "ExecuteTime": {
     "end_time": "2024-10-20T22:09:47.949101Z",
     "start_time": "2024-10-20T22:09:47.899316Z"
    },
    "collapsed": false
   },
   "outputs": [
    {
     "name": "stdout",
     "output_type": "stream",
     "text": [
      "Tekst: Spotkanie jest o 00:21.\n",
      "Znalezione czasy: ['00:21']\n",
      "\n",
      "Tekst: Film zaczyna się o 21:37.\n",
      "Znalezione czasy: ['21:37']\n",
      "\n",
      "Tekst: Autobus odjeżdża o 15:14.\n",
      "Znalezione czasy: ['15:14']\n",
      "\n",
      "Tekst: Niepoprawny format: 24:60\n",
      "Znalezione czasy: []\n",
      "\n",
      "Tekst: Niepoprawny format: 25:30\n",
      "Znalezione czasy: []\n",
      "\n",
      "Tekst: Niepoprawny format: 00:60\n",
      "Znalezione czasy: []\n",
      "\n",
      "Tekst: Niepoprawny format: 00:70\n",
      "Znalezione czasy: []\n",
      "\n",
      "Tekst: Poprawny format: 23:59\n",
      "Znalezione czasy: ['23:59']\n"
     ]
    }
   ],
   "source": [
    "# Wzorzec regex dla formatu czasu HH:MM\n",
    "time_pattern = r\"\\b(?:0[0-9]|1[0-9]|2[0-3]):[0-5][0-9]\\b\"\n",
    "\n",
    "# Przykładowe teksty do przetestowania\n",
    "texts = [\n",
    "    \"Spotkanie jest o 00:21.\",\n",
    "    \"Film zaczyna się o 21:37.\",\n",
    "    \"Autobus odjeżdża o 15:14.\",\n",
    "    \"Niepoprawny format: 24:60\",\n",
    "    \"Niepoprawny format: 25:30\",\n",
    "    \"Niepoprawny format: 00:60\",\n",
    "    \"Niepoprawny format: 00:70\",\n",
    "    \"Poprawny format: 23:59\",\n",
    "]\n",
    "\n",
    "# Testowanie wzorca na przykładowych tekstach\n",
    "for text in texts:\n",
    "    print(f\"Tekst: {text}\")\n",
    "    print(f\"Znalezione czasy: {re.findall(time_pattern, text)}\")\n",
    "    print()\n"
   ]
  },
  {
   "cell_type": "markdown",
   "id": "4c6326510d5aaa49",
   "metadata": {
    "collapsed": false
   },
   "source": [
    "## Chat gpt"
   ]
  },
  {
   "cell_type": "markdown",
   "id": "a5570841b7d9894e",
   "metadata": {
    "collapsed": false
   },
   "source": [
    "Date task. Chat gpt handled task very well it was able to generate the pattern and test cases that matched the date format mentioned in prompt. While it seems that the chat accounted for all possible scenarios, that is not the case.\n",
    "Let us consider this date \"czerwcu 2015\". We can say \"Grałem w wiedźmina w czerwcu 2015\" which is a proper polish sentence and proper date the code provided by chat would not find it."
   ]
  },
  {
   "cell_type": "code",
   "execution_count": 308,
   "id": "b3cc4777492a224",
   "metadata": {
    "ExecuteTime": {
     "end_time": "2024-10-20T22:17:12.499583Z",
     "start_time": "2024-10-20T22:17:12.491500Z"
    },
    "collapsed": false
   },
   "outputs": [
    {
     "name": "stdout",
     "output_type": "stream",
     "text": [
      "['listopad 2012', 'luty 21', 'maj 16', 'styczeń 21', 'czerwiec 10', 'sierpień 1999', '10 września 2019']\n"
     ]
    }
   ],
   "source": [
    "import re\n",
    "\n",
    "# Lista miesięcy w różnych odmienionych formach\n",
    "months = [\n",
    "    \"styczeń\", \"stycznia\", \"luty\", \"lutego\", \"marzec\", \"marca\",\n",
    "    \"kwiecień\", \"kwietnia\", \"maj\", \"maja\", \"czerwiec\", \"czerwca\",\n",
    "    \"lipiec\", \"lipca\", \"sierpień\", \"sierpnia\", \"wrzesień\", \"września\",\n",
    "    \"październik\", \"października\", \"listopad\", \"listopada\", \"grudzień\", \"grudnia\"\n",
    "]\n",
    "\n",
    "# Tworzenie regex na podstawie miesięcy\n",
    "months_pattern = '|'.join(months)\n",
    "\n",
    "# Regex do znajdowania dat\n",
    "date_pattern = rf\"(\\b(\\d{{1,2}} )?({months_pattern}) (\\d{{4}}|\\d{{2}})?\\b|\\b({months_pattern}) (\\d{{1,2}})\\b)\"\n",
    "\n",
    "# Testowy tekst\n",
    "text = \"20 październik, listopad 2012, luty 21, maj 16, styczeń 21, czerwiec 10, sierpień 1999, 10 września 2019.\"\n",
    "\n",
    "# Znajdowanie dat\n",
    "matches = re.findall(date_pattern, text)\n",
    "\n",
    "# Wyodrębnianie wyników\n",
    "found_dates = [match[0] for match in matches]\n",
    "print(found_dates)\n"
   ]
  },
  {
   "cell_type": "markdown",
   "id": "864c7a19245ce78c",
   "metadata": {
    "collapsed": false
   },
   "source": []
  },
  {
   "cell_type": "markdown",
   "id": "79c248e88093ed72",
   "metadata": {
    "collapsed": false
   },
   "source": [
    "Time task. Again chat gpt handled task well. He considered all possible test cases for date format."
   ]
  },
  {
   "cell_type": "code",
   "execution_count": 309,
   "id": "557a2fad75bb7c53",
   "metadata": {
    "ExecuteTime": {
     "end_time": "2024-10-20T22:17:12.985554Z",
     "start_time": "2024-10-20T22:17:12.977132Z"
    },
    "collapsed": false
   },
   "outputs": [
    {
     "name": "stdout",
     "output_type": "stream",
     "text": [
      "['00:21', '21:37', '15:14']\n"
     ]
    }
   ],
   "source": [
    "import re\n",
    "\n",
    "# Regex do znajdowania czasu w formacie HH:MM\n",
    "time_pattern = r\"\\b([01]?\\d|2[0-3]):([0-5]\\d)\\b\"\n",
    "\n",
    "# Testowy tekst\n",
    "text = \"Spotkanie rozpoczyna się o 00:21, a drugie o 21:37. Mamy też przerwę o 15:14. 00:60, 25:25\"\n",
    "\n",
    "# Znajdowanie czasów\n",
    "matches = re.findall(time_pattern, text)\n",
    "\n",
    "# Wyodrębnianie wyników\n",
    "found_times = [match[0] + ':' + match[1] for match in matches]\n",
    "print(found_times)\n"
   ]
  },
  {
   "cell_type": "markdown",
   "id": "fa2b0d4ad568fb88",
   "metadata": {
    "collapsed": false
   },
   "source": [
    "# 8) Answering questions"
   ]
  },
  {
   "cell_type": "markdown",
   "id": "5aead123410d9e43",
   "metadata": {
    "collapsed": false
   },
   "source": [
    "## a) Are regular expressions good at capturing times?\n",
    "Yes and no. While times in this task had a considered schema where the matched text should be 2 digits colon 2 digits in language we can consider more schemes, like \"dwudziesta pierwsza trzydzieści siedem\" which would be hard to match with regex expression. Also about task schema for time we can consider this example, 21:25. It could be a time but also it could be a match result in volleyball, so considering that not all times we matched could be time in text   "
   ]
  },
  {
   "cell_type": "markdown",
   "id": "3c42388a5dd5f4d5",
   "metadata": {
    "collapsed": false
   },
   "source": [
    "## b) Are regular expressions good at capturing dates\n",
    "No. Considering the text variation of date like \"20 maja 2012\". In polish every world has multiple inflectional form so it is hard to macth that form while trying not to match another words like \"Obiekt badań Maja 2012\""
   ]
  },
  {
   "cell_type": "markdown",
   "id": "b573b14515a8977c",
   "metadata": {
    "collapsed": false
   },
   "source": [
    "## c) How one can be sure that the expression has matched all and only the correct expressions of a given type?\n",
    "To bes sure of that we should consider all border cases of our worlds, like inflectional form of the world Maj, Maja, Majowy but even with that we cannot be sure about all positive outcomes. Given the times considering the time format is easier cause there is no inflectional form just numbers. "
   ]
  },
  {
   "cell_type": "markdown",
   "id": "dda9de056ff84574",
   "metadata": {
    "collapsed": false
   },
   "source": [
    "## d) Is LLM able to generate regular expressions?"
   ]
  },
  {
   "cell_type": "markdown",
   "id": "a1ada6c98f683462",
   "metadata": {
    "collapsed": false
   },
   "source": [
    "For simple task as time bielik was pretty good, but while considering more complex case the date task, bielik could not handle the inflectional form of polsih words unlike the chat gpt. Overall LLM can be a good start of regex expression that later could be optimized by programmer"
   ]
  }
 ],
 "metadata": {
  "kernelspec": {
   "display_name": "Python 3 (ipykernel)",
   "language": "python",
   "name": "python3"
  },
  "language_info": {
   "codemirror_mode": {
    "name": "ipython",
    "version": 3
   },
   "file_extension": ".py",
   "mimetype": "text/x-python",
   "name": "python",
   "nbconvert_exporter": "python",
   "pygments_lexer": "ipython3",
   "version": "3.11.9"
  }
 },
 "nbformat": 4,
 "nbformat_minor": 5
}
