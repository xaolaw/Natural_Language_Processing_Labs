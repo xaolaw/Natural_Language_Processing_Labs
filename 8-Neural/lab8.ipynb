{
 "cells": [
  {
   "cell_type": "markdown",
   "metadata": {},
   "source": [
    "## 1) Configure document store"
   ]
  },
  {
   "cell_type": "code",
   "execution_count": 2,
   "metadata": {},
   "outputs": [],
   "source": [
    "from haystack import Pipeline\n",
    "from haystack.document_stores import FAISSDocumentStore\n",
    "from haystack.nodes import EmbeddingRetriever\n",
    "\n",
    "CREATE_NEW_DOCUMENT_STORE = False\n",
    "\n",
    "index_path = \"db_backup/index.faiss\"\n",
    "config_path = \"db_backup/config.json\"\n",
    "\n",
    "doc_store = None\n",
    "\n",
    "if CREATE_NEW_DOCUMENT_STORE:\n",
    "    doc_store = FAISSDocumentStore()\n",
    "else:\n",
    "    doc_store = FAISSDocumentStore(faiss_index_path=index_path, faiss_config_path=config_path)\n",
    "\n",
    "retriever = EmbeddingRetriever(\n",
    "    embedding_model='ipipan/silver-retriever-base-v1', document_store=doc_store\n",
    ")\n",
    "\n",
    "query_pipeline = Pipeline()\n",
    "query_pipeline.add_node(component=retriever, name=\"Retriever\", inputs=[\"Query\"])\n"
   ]
  },
  {
   "cell_type": "code",
   "execution_count": 3,
   "metadata": {},
   "outputs": [],
   "source": [
    "from datasets import load_dataset\n",
    "\n",
    "ds = load_dataset(\"clarin-knext/fiqa-pl\", \"corpus\")\n",
    "ds2 = load_dataset(\"clarin-knext/fiqa-pl\", \"queries\")\n",
    "\n",
    "realations = load_dataset(\"clarin-knext/fiqa-pl-qrels\")"
   ]
  },
  {
   "cell_type": "code",
   "execution_count": 4,
   "metadata": {},
   "outputs": [
    {
     "data": {
      "text/plain": [
       "DatasetDict({\n",
       "    train: Dataset({\n",
       "        features: ['query-id', 'corpus-id', 'score'],\n",
       "        num_rows: 14166\n",
       "    })\n",
       "    validation: Dataset({\n",
       "        features: ['query-id', 'corpus-id', 'score'],\n",
       "        num_rows: 1238\n",
       "    })\n",
       "    test: Dataset({\n",
       "        features: ['query-id', 'corpus-id', 'score'],\n",
       "        num_rows: 1706\n",
       "    })\n",
       "})"
      ]
     },
     "execution_count": 4,
     "metadata": {},
     "output_type": "execute_result"
    }
   ],
   "source": [
    "realations"
   ]
  },
  {
   "cell_type": "code",
   "execution_count": 5,
   "metadata": {},
   "outputs": [
    {
     "data": {
      "text/plain": [
       "Dataset({\n",
       "    features: ['query-id', 'corpus-id', 'score'],\n",
       "    num_rows: 17110\n",
       "})"
      ]
     },
     "execution_count": 5,
     "metadata": {},
     "output_type": "execute_result"
    }
   ],
   "source": [
    "from datasets import concatenate_datasets\n",
    "\n",
    "combined = concatenate_datasets([realations['train'], realations['validation'], realations['test']])\n",
    "combined"
   ]
  },
  {
   "cell_type": "code",
   "execution_count": 6,
   "metadata": {},
   "outputs": [],
   "source": [
    "from haystack import Document\n",
    "\n",
    "\n",
    "\n",
    "\n",
    "doc_corpus = []\n",
    "\n",
    "for row in ds['corpus']:\n",
    "    doc_corpus.append(\n",
    "        Document(\n",
    "            meta={'name': row['title'], 'id': row['_id']},\n",
    "\t\t\tcontent=row['text']\n",
    "        )\n",
    "    )\n",
    "\n",
    "if CREATE_NEW_DOCUMENT_STORE:\n",
    "    doc_store.write_documents(doc_corpus)\n",
    "    doc_store.update_embeddings(retriever=retriever)\n",
    "    doc_store.save(index_path, config_path)\n"
   ]
  },
  {
   "cell_type": "code",
   "execution_count": 7,
   "metadata": {},
   "outputs": [
    {
     "data": {
      "text/plain": [
       "{'_id': '0',\n",
       " 'title': '',\n",
       " 'text': 'Co jest uważane za wydatek służbowy w podróży służbowej?'}"
      ]
     },
     "execution_count": 7,
     "metadata": {},
     "output_type": "execute_result"
    }
   ],
   "source": [
    "ds2['queries'][0]"
   ]
  },
  {
   "cell_type": "code",
   "execution_count": 8,
   "metadata": {},
   "outputs": [
    {
     "data": {
      "text/plain": [
       "[18850]"
      ]
     },
     "execution_count": 8,
     "metadata": {},
     "output_type": "execute_result"
    }
   ],
   "source": [
    "combined.filter(lambda e: e['query-id'] == 0)['corpus-id']"
   ]
  },
  {
   "cell_type": "code",
   "execution_count": 9,
   "metadata": {},
   "outputs": [],
   "source": [
    "combined_dict = {}\n",
    "\n",
    "for row in combined:\n",
    "    if int(row['query-id']) in combined_dict:\n",
    "        combined_dict[int(row['query-id'])].append((int(row['corpus-id']), int(row['score'])))\n",
    "    else:\n",
    "        combined_dict[int(row['query-id'])] = [(int(row['corpus-id']), int(row['score']))]"
   ]
  },
  {
   "cell_type": "code",
   "execution_count": null,
   "metadata": {},
   "outputs": [
    {
     "data": {
      "application/vnd.jupyter.widget-view+json": {
       "model_id": "3af36e318d0f422b97601c810c35147c",
       "version_major": 2,
       "version_minor": 0
      },
      "text/plain": [
       "Batches:   0%|          | 0/32 [00:00<?, ?it/s]"
      ]
     },
     "metadata": {},
     "output_type": "display_data"
    },
    {
     "name": "stdout",
     "output_type": "stream",
     "text": [
      "1.0\n"
     ]
    }
   ],
   "source": [
    "from sklearn.metrics import ndcg_score\n",
    "import numpy as np\n",
    "from more_itertools import chunked\n",
    "\n",
    "ndcg5_list = []\n",
    "batch_size = 1000\n",
    "\n",
    "for row_batch in chunked(ds2['queries'], batch_size):\n",
    "    ans_batch = query_pipeline.run_batch([row['text'] for row in row_batch])\n",
    "    for ans, row in zip(ans_batch['documents'], row_batch):\n",
    "        wyn = combined_dict[int(row['_id'])]\n",
    "        c_ids = [id for id, _ in wyn]\n",
    "        scores = [score for _, score in wyn]\n",
    "        values = []\n",
    "        relevance = []\n",
    "        for doc in ans:\n",
    "            q_id = int(doc.meta['id'])\n",
    "            if q_id in c_ids:\n",
    "                relevance.append(float(scores[c_ids.index(q_id)]))\n",
    "                values.append(1)\n",
    "            else:\n",
    "                relevance.append(0)\n",
    "                values.append(0)\n",
    "        ndcg5_list.append(ndcg_score(np.asarray([values]), np.asarray([relevance]), k=5))\n",
    "\n",
    "ndcg5_final = np.mean(ndcg5_list)\n",
    "print(ndcg5_final)"
   ]
  },
  {
   "cell_type": "markdown",
   "metadata": {},
   "source": [
    "## opcjonalne"
   ]
  },
  {
   "cell_type": "code",
   "execution_count": 10,
   "metadata": {},
   "outputs": [
    {
     "ename": "SyntaxError",
     "evalue": "invalid syntax (633119992.py, line 3)",
     "output_type": "error",
     "traceback": [
      "\u001b[1;36m  Cell \u001b[1;32mIn[10], line 3\u001b[1;36m\u001b[0m\n\u001b[1;33m    ee jakiś classifier xD\u001b[0m\n\u001b[1;37m       ^\u001b[0m\n\u001b[1;31mSyntaxError\u001b[0m\u001b[1;31m:\u001b[0m invalid syntax\n"
     ]
    }
   ],
   "source": [
    "from transformers import AutoModelForSequenceClassification\n",
    "\n",
    "ee jakiś classifier node xD\n",
    "\n",
    "model_path = \"../lab5-Classification/trained_model\"\n",
    "model = AutoModelForSequenceClassification.from_pretrained(\n",
    "    model_path\n",
    "    ).to(\"cuda\")\n",
    "\n",
    "combined_query_pipeline = Pipeline()\n",
    "combined_query_pipeline.add_node(component=retriever, name=\"Retriever\", inputs=[\"Query\"])\n",
    "combined_query_pipeline.add_node(component: )"
   ]
  },
  {
   "cell_type": "code",
   "execution_count": null,
   "metadata": {},
   "outputs": [],
   "source": []
  }
 ],
 "metadata": {
  "kernelspec": {
   "display_name": ".venv",
   "language": "python",
   "name": "python3"
  },
  "language_info": {
   "codemirror_mode": {
    "name": "ipython",
    "version": 3
   },
   "file_extension": ".py",
   "mimetype": "text/x-python",
   "name": "python",
   "nbconvert_exporter": "python",
   "pygments_lexer": "ipython3",
   "version": "3.10.11"
  }
 },
 "nbformat": 4,
 "nbformat_minor": 2
}
