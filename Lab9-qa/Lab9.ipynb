{
 "cells": [
  {
   "cell_type": "markdown",
   "metadata": {},
   "source": [
    "# Loading datasets"
   ]
  },
  {
   "cell_type": "code",
   "execution_count": 9,
   "metadata": {},
   "outputs": [
    {
     "data": {
      "text/html": [
       "<div>\n",
       "<style scoped>\n",
       "    .dataframe tbody tr th:only-of-type {\n",
       "        vertical-align: middle;\n",
       "    }\n",
       "\n",
       "    .dataframe tbody tr th {\n",
       "        vertical-align: top;\n",
       "    }\n",
       "\n",
       "    .dataframe thead th {\n",
       "        text-align: right;\n",
       "    }\n",
       "</style>\n",
       "<table border=\"1\" class=\"dataframe\">\n",
       "  <thead>\n",
       "    <tr style=\"text-align: right;\">\n",
       "      <th></th>\n",
       "      <th>_id</th>\n",
       "      <th>title</th>\n",
       "      <th>text</th>\n",
       "    </tr>\n",
       "  </thead>\n",
       "  <tbody>\n",
       "    <tr>\n",
       "      <th>0</th>\n",
       "      <td>2004_2387_1</td>\n",
       "      <td>Ustawa z dnia 27 sierpnia 2004 r. o ratyfikacj...</td>\n",
       "      <td>Art. 1. Wyraża się zgodę na dokonanie przez Pr...</td>\n",
       "    </tr>\n",
       "    <tr>\n",
       "      <th>1</th>\n",
       "      <td>2004_2387_2</td>\n",
       "      <td>Ustawa z dnia 27 sierpnia 2004 r. o ratyfikacj...</td>\n",
       "      <td>Art. 2. Ustawa wchodzi w życie po upływie 14 d...</td>\n",
       "    </tr>\n",
       "    <tr>\n",
       "      <th>2</th>\n",
       "      <td>2001_1209_1</td>\n",
       "      <td>Ustawa z dnia 26 lipca 2001 r. o nabywaniu prz...</td>\n",
       "      <td>Art. 1. 1. Osobom fizycznym będącym w dniu 26 ...</td>\n",
       "    </tr>\n",
       "    <tr>\n",
       "      <th>3</th>\n",
       "      <td>2001_1209_2</td>\n",
       "      <td>Ustawa z dnia 26 lipca 2001 r. o nabywaniu prz...</td>\n",
       "      <td>Art. 2. 1. Do osób, o których mowa w art. 1 us...</td>\n",
       "    </tr>\n",
       "    <tr>\n",
       "      <th>4</th>\n",
       "      <td>2001_1209_3</td>\n",
       "      <td>Ustawa z dnia 26 lipca 2001 r. o nabywaniu prz...</td>\n",
       "      <td>Art. 3. 1. Do osób, które skorzystały z uwłasz...</td>\n",
       "    </tr>\n",
       "  </tbody>\n",
       "</table>\n",
       "</div>"
      ],
      "text/plain": [
       "           _id                                              title  \\\n",
       "0  2004_2387_1  Ustawa z dnia 27 sierpnia 2004 r. o ratyfikacj...   \n",
       "1  2004_2387_2  Ustawa z dnia 27 sierpnia 2004 r. o ratyfikacj...   \n",
       "2  2001_1209_1  Ustawa z dnia 26 lipca 2001 r. o nabywaniu prz...   \n",
       "3  2001_1209_2  Ustawa z dnia 26 lipca 2001 r. o nabywaniu prz...   \n",
       "4  2001_1209_3  Ustawa z dnia 26 lipca 2001 r. o nabywaniu prz...   \n",
       "\n",
       "                                                text  \n",
       "0  Art. 1. Wyraża się zgodę na dokonanie przez Pr...  \n",
       "1  Art. 2. Ustawa wchodzi w życie po upływie 14 d...  \n",
       "2  Art. 1. 1. Osobom fizycznym będącym w dniu 26 ...  \n",
       "3  Art. 2. 1. Do osób, o których mowa w art. 1 us...  \n",
       "4  Art. 3. 1. Do osób, które skorzystały z uwłasz...  "
      ]
     },
     "execution_count": 9,
     "metadata": {},
     "output_type": "execute_result"
    }
   ],
   "source": [
    "import pandas as pd\n",
    "\n",
    "answers = pd.read_json(\"simple-legal-questions-pl-main/answers.jl\", lines=True)\n",
    "passages = pd.read_json(\"simple-legal-questions-pl-main/passages.jl\", lines=True)\n",
    "questions = pd.read_json(\"simple-legal-questions-pl-main/questions.jl\", lines=True)    \n",
    "\n",
    "passages.head()"
   ]
  },
  {
   "cell_type": "code",
   "execution_count": 5,
   "metadata": {},
   "outputs": [
    {
     "data": {
      "application/vnd.jupyter.widget-view+json": {
       "model_id": "19bec65fea7e439a995554f466389030",
       "version_major": 2,
       "version_minor": 0
      },
      "text/plain": [
       "README.md:   0%|          | 0.00/317 [00:00<?, ?B/s]"
      ]
     },
     "metadata": {},
     "output_type": "display_data"
    },
    {
     "name": "stderr",
     "output_type": "stream",
     "text": [
      "d:\\Studia\\NLP\\.venv\\Lib\\site-packages\\huggingface_hub\\file_download.py:140: UserWarning: `huggingface_hub` cache-system uses symlinks by default to efficiently store duplicated files but your machine does not support them in C:\\Users\\adam6\\.cache\\huggingface\\hub\\datasets--clarin-pl--poquad. Caching files will still work but in a degraded version that might require more space on your disk. This warning can be disabled by setting the `HF_HUB_DISABLE_SYMLINKS_WARNING` environment variable. For more details, see https://huggingface.co/docs/huggingface_hub/how-to-cache#limitations.\n",
      "To support symlinks on Windows, you either need to activate Developer Mode or to run Python as an administrator. In order to activate developer mode, see this article: https://docs.microsoft.com/en-us/windows/apps/get-started/enable-your-device-for-development\n",
      "  warnings.warn(message)\n"
     ]
    },
    {
     "data": {
      "application/vnd.jupyter.widget-view+json": {
       "model_id": "a62ba174100e45bb8f0c7cdd2a34fb07",
       "version_major": 2,
       "version_minor": 0
      },
      "text/plain": [
       "poquad.py:   0%|          | 0.00/5.35k [00:00<?, ?B/s]"
      ]
     },
     "metadata": {},
     "output_type": "display_data"
    },
    {
     "data": {
      "application/vnd.jupyter.widget-view+json": {
       "model_id": "613e1b8a8cd34bb2bf7f0bbe035ad350",
       "version_major": 2,
       "version_minor": 0
      },
      "text/plain": [
       "0000.parquet:   0%|          | 0.00/12.5M [00:00<?, ?B/s]"
      ]
     },
     "metadata": {},
     "output_type": "display_data"
    },
    {
     "data": {
      "application/vnd.jupyter.widget-view+json": {
       "model_id": "006ef3c03d8d443eb8026a16846e38f5",
       "version_major": 2,
       "version_minor": 0
      },
      "text/plain": [
       "0000.parquet:   0%|          | 0.00/1.61M [00:00<?, ?B/s]"
      ]
     },
     "metadata": {},
     "output_type": "display_data"
    },
    {
     "data": {
      "application/vnd.jupyter.widget-view+json": {
       "model_id": "69d150cdcf72423a95f3035ee294de77",
       "version_major": 2,
       "version_minor": 0
      },
      "text/plain": [
       "Generating train split:   0%|          | 0/46187 [00:00<?, ? examples/s]"
      ]
     },
     "metadata": {},
     "output_type": "display_data"
    },
    {
     "data": {
      "application/vnd.jupyter.widget-view+json": {
       "model_id": "a3fe000a52e64bfcbd1947f3f2cb0d42",
       "version_major": 2,
       "version_minor": 0
      },
      "text/plain": [
       "Generating validation split:   0%|          | 0/5764 [00:00<?, ? examples/s]"
      ]
     },
     "metadata": {},
     "output_type": "display_data"
    }
   ],
   "source": [
    "from datasets import load_dataset\n",
    "\n",
    "ds = load_dataset(\"clarin-pl/poquad\")\n",
    "ds_val = ds[\"validation\"]"
   ]
  },
  {
   "cell_type": "markdown",
   "metadata": {},
   "source": [
    "# Training model/ using pretrained model"
   ]
  },
  {
   "cell_type": "code",
   "execution_count": 11,
   "metadata": {},
   "outputs": [
    {
     "name": "stdout",
     "output_type": "stream",
     "text": [
      "True\n"
     ]
    }
   ],
   "source": [
    "import torch\n",
    "print(torch.cuda.is_available()) "
   ]
  },
  {
   "cell_type": "code",
   "execution_count": 17,
   "metadata": {},
   "outputs": [
    {
     "data": {
      "application/vnd.jupyter.widget-view+json": {
       "model_id": "1a993fab959e433a9f81bc6cd6ac50d5",
       "version_major": 2,
       "version_minor": 0
      },
      "text/plain": [
       "config.json:   0%|          | 0.00/826 [00:00<?, ?B/s]"
      ]
     },
     "metadata": {},
     "output_type": "display_data"
    },
    {
     "name": "stderr",
     "output_type": "stream",
     "text": [
      "d:\\Studia\\NLP\\.venv\\Lib\\site-packages\\huggingface_hub\\file_download.py:140: UserWarning: `huggingface_hub` cache-system uses symlinks by default to efficiently store duplicated files but your machine does not support them in C:\\Users\\adam6\\.cache\\huggingface\\hub\\models--apohllo--plt5-base-poquad. Caching files will still work but in a degraded version that might require more space on your disk. This warning can be disabled by setting the `HF_HUB_DISABLE_SYMLINKS_WARNING` environment variable. For more details, see https://huggingface.co/docs/huggingface_hub/how-to-cache#limitations.\n",
      "To support symlinks on Windows, you either need to activate Developer Mode or to run Python as an administrator. In order to activate developer mode, see this article: https://docs.microsoft.com/en-us/windows/apps/get-started/enable-your-device-for-development\n",
      "  warnings.warn(message)\n"
     ]
    },
    {
     "data": {
      "application/vnd.jupyter.widget-view+json": {
       "model_id": "a75d0397f776424daff74e929a815d35",
       "version_major": 2,
       "version_minor": 0
      },
      "text/plain": [
       "model.safetensors:   0%|          | 0.00/1.10G [00:00<?, ?B/s]"
      ]
     },
     "metadata": {},
     "output_type": "display_data"
    },
    {
     "data": {
      "application/vnd.jupyter.widget-view+json": {
       "model_id": "233d552a6c264b59a61805b2ec489ac5",
       "version_major": 2,
       "version_minor": 0
      },
      "text/plain": [
       "generation_config.json:   0%|          | 0.00/112 [00:00<?, ?B/s]"
      ]
     },
     "metadata": {},
     "output_type": "display_data"
    },
    {
     "data": {
      "application/vnd.jupyter.widget-view+json": {
       "model_id": "ec4debc82ec74fe7a6405448c35ccb9f",
       "version_major": 2,
       "version_minor": 0
      },
      "text/plain": [
       "tokenizer_config.json:   0%|          | 0.00/833 [00:00<?, ?B/s]"
      ]
     },
     "metadata": {},
     "output_type": "display_data"
    },
    {
     "data": {
      "application/vnd.jupyter.widget-view+json": {
       "model_id": "86faebe06f3c4f119238a95c9cb120ba",
       "version_major": 2,
       "version_minor": 0
      },
      "text/plain": [
       "spiece.model:   0%|          | 0.00/1.12M [00:00<?, ?B/s]"
      ]
     },
     "metadata": {},
     "output_type": "display_data"
    },
    {
     "data": {
      "application/vnd.jupyter.widget-view+json": {
       "model_id": "b65ef3cd12504036813a85b43cccdbf3",
       "version_major": 2,
       "version_minor": 0
      },
      "text/plain": [
       "tokenizer.json:   0%|          | 0.00/3.59M [00:00<?, ?B/s]"
      ]
     },
     "metadata": {},
     "output_type": "display_data"
    },
    {
     "data": {
      "application/vnd.jupyter.widget-view+json": {
       "model_id": "7a575a5b399d421e9ca86d1ad23c9bad",
       "version_major": 2,
       "version_minor": 0
      },
      "text/plain": [
       "special_tokens_map.json:   0%|          | 0.00/416 [00:00<?, ?B/s]"
      ]
     },
     "metadata": {},
     "output_type": "display_data"
    },
    {
     "name": "stderr",
     "output_type": "stream",
     "text": [
      "Device set to use cuda:0\n"
     ]
    }
   ],
   "source": [
    "# Use a pipeline as a high-level helper\n",
    "from transformers import pipeline\n",
    "\n",
    "pipe = pipeline(\"text2text-generation\", model=\"apohllo/plt5-base-poquad\")"
   ]
  },
  {
   "cell_type": "code",
   "execution_count": 18,
   "metadata": {},
   "outputs": [],
   "source": [
    "from transformers import AutoTokenizer\n",
    "\n",
    "tokenizer = AutoTokenizer.from_pretrained(\"apohllo/plt5-base-poquad\")"
   ]
  },
  {
   "cell_type": "markdown",
   "metadata": {},
   "source": [
    "# Scoring the model"
   ]
  },
  {
   "cell_type": "markdown",
   "metadata": {},
   "source": [
    "F1 - scoring for QA model implemented from https://qa.fastforwardlabs.com/no%20answer/null%20threshold/bert/distilbert/exact%20match/f1/robust%20predictions/2020/06/09/Evaluating_BERT_on_SQuAD.html"
   ]
  },
  {
   "cell_type": "code",
   "execution_count": 138,
   "metadata": {},
   "outputs": [],
   "source": [
    "# these functions are heavily influenced by the HF squad_metrics.py script\n",
    "def normalize_text(s):\n",
    "    \"\"\"Removing articles and punctuation, and standardizing whitespace are all typical text processing steps.\"\"\"\n",
    "    import string, re\n",
    "\n",
    "    def remove_articles(text):\n",
    "        regex = re.compile(r\"\\b(a|an|the)\\b\", re.UNICODE)\n",
    "        return re.sub(regex, \" \", text)\n",
    "\n",
    "    def white_space_fix(text):\n",
    "        return \" \".join(text.split())\n",
    "\n",
    "    def remove_punc(text):\n",
    "        exclude = set(string.punctuation)\n",
    "        return \"\".join(ch for ch in text if ch not in exclude)\n",
    "\n",
    "    def lower(text):\n",
    "        return text.lower()\n",
    "\n",
    "    return white_space_fix(remove_articles(remove_punc(lower(s))))\n",
    "\n",
    "def compute_exact_match(prediction, truth):\n",
    "    return int(normalize_text(prediction) == normalize_text(truth))\n",
    "\n",
    "def compute_f1(prediction, truth):\n",
    "    pred_tokens = normalize_text(prediction).split()\n",
    "    truth_tokens = normalize_text(truth).split()\n",
    "    \n",
    "    # if either the prediction or the truth is no-answer then f1 = 1 if they agree, 0 otherwise\n",
    "    if len(pred_tokens) == 0 or len(truth_tokens) == 0:\n",
    "        return int(pred_tokens == truth_tokens)\n",
    "    \n",
    "    common_tokens = set(pred_tokens) & set(truth_tokens)\n",
    "    \n",
    "    # if there are no common tokens then f1 = 0\n",
    "    if len(common_tokens) == 0:\n",
    "        return 0\n",
    "    \n",
    "    prec = len(common_tokens) / len(pred_tokens)\n",
    "    rec = len(common_tokens) / len(truth_tokens)\n",
    "    \n",
    "    return 2 * (prec * rec) / (prec + rec)\n",
    "\n",
    "def get_gold_answers(example):\n",
    "    \"\"\"helper function that retrieves all possible true answers from a squad2.0 example\"\"\"\n",
    "    \n",
    "    gold_answers = [answer[\"text\"] for answer in example.answers if answer[\"text\"]]\n",
    "\n",
    "    # if gold_answers doesn't exist it's because this is a negative example - \n",
    "    # the only correct answer is an empty string\n",
    "    if not gold_answers:\n",
    "        gold_answers = [\"\"]\n",
    "        \n",
    "    return gold_answers"
   ]
  },
  {
   "cell_type": "code",
   "execution_count": 139,
   "metadata": {},
   "outputs": [],
   "source": [
    "prediction = pipe(ds_val[0][\"question\"])\n",
    "answer = ds_val[0][\"answers\"][\"text\"][0]"
   ]
  },
  {
   "cell_type": "code",
   "execution_count": 140,
   "metadata": {},
   "outputs": [
    {
     "data": {
      "text/plain": [
       "0"
      ]
     },
     "execution_count": 140,
     "metadata": {},
     "output_type": "execute_result"
    }
   ],
   "source": [
    "compute_f1(prediction[0][\"generated_text\"], answer)"
   ]
  },
  {
   "cell_type": "markdown",
   "metadata": {},
   "source": [
    "Calculating F1-score for the whole dataset"
   ]
  },
  {
   "cell_type": "code",
   "execution_count": null,
   "metadata": {},
   "outputs": [],
   "source": [
    "predictions = []\n",
    "ds_answers = []\n",
    "for item in ds_val:\n",
    "    res = pipe(item[\"question\"])\n",
    "    prediction.append(res[0][\"generated_text\"])\n",
    "    ds_answers.append(item[\"answers\"][\"text\"][0])"
   ]
  },
  {
   "cell_type": "code",
   "execution_count": 42,
   "metadata": {},
   "outputs": [],
   "source": [
    "predictions = prediction[1:]"
   ]
  },
  {
   "cell_type": "code",
   "execution_count": 46,
   "metadata": {},
   "outputs": [
    {
     "name": "stdout",
     "output_type": "stream",
     "text": [
      "Kiedy Plater wraz z oddziałem dotarła do Dusiatów?\n",
      "Kiedy Plat z oddziałem dotarła do Dusiatów\n",
      "29 marca 1831\n"
     ]
    }
   ],
   "source": [
    "print(ds_val[5]['question'])\n",
    "print(predictions[5])\n",
    "print(ds_answers[5])"
   ]
  },
  {
   "cell_type": "code",
   "execution_count": 55,
   "metadata": {},
   "outputs": [],
   "source": [
    "from numpy import mean\n",
    "\n",
    "em_score = mean([(compute_exact_match(prediction_, answer)) for answer, prediction_ in zip(ds_answers,predictions)])\n",
    "f1_score = mean([(compute_f1(prediction_, answer)) for answer, prediction_ in zip(ds_answers,predictions)])"
   ]
  },
  {
   "cell_type": "code",
   "execution_count": 59,
   "metadata": {},
   "outputs": [
    {
     "name": "stdout",
     "output_type": "stream",
     "text": [
      "Exact match score based on whole set:  0.0017349063150589867\n",
      "F1-Score score based on whole set:  0.03289134652286021\n"
     ]
    }
   ],
   "source": [
    "print(\"Exact match score based on whole set: \", em_score)\n",
    "print(\"F1-Score score based on whole set: \", f1_score)"
   ]
  },
  {
   "cell_type": "code",
   "execution_count": 62,
   "metadata": {},
   "outputs": [
    {
     "data": {
      "text/html": [
       "<div>\n",
       "<style scoped>\n",
       "    .dataframe tbody tr th:only-of-type {\n",
       "        vertical-align: middle;\n",
       "    }\n",
       "\n",
       "    .dataframe tbody tr th {\n",
       "        vertical-align: top;\n",
       "    }\n",
       "\n",
       "    .dataframe thead th {\n",
       "        text-align: right;\n",
       "    }\n",
       "</style>\n",
       "<table border=\"1\" class=\"dataframe\">\n",
       "  <thead>\n",
       "    <tr style=\"text-align: right;\">\n",
       "      <th></th>\n",
       "      <th>id</th>\n",
       "      <th>title</th>\n",
       "      <th>context</th>\n",
       "      <th>question</th>\n",
       "      <th>answers</th>\n",
       "    </tr>\n",
       "  </thead>\n",
       "  <tbody>\n",
       "    <tr>\n",
       "      <th>0</th>\n",
       "      <td>1</td>\n",
       "      <td>Miszna</td>\n",
       "      <td>Pisma rabiniczne – w tym Miszna – stanowią kom...</td>\n",
       "      <td>Czym są pisma rabiniczne?</td>\n",
       "      <td>{'text': ['kompilację poglądów różnych rabinów...</td>\n",
       "    </tr>\n",
       "    <tr>\n",
       "      <th>1</th>\n",
       "      <td>2</td>\n",
       "      <td>Miszna</td>\n",
       "      <td>Pisma rabiniczne – w tym Miszna – stanowią kom...</td>\n",
       "      <td>Z ilu komponentów składała się Tora przekazana...</td>\n",
       "      <td>{'text': ['dwóch'], 'answer_start': [172]}</td>\n",
       "    </tr>\n",
       "    <tr>\n",
       "      <th>2</th>\n",
       "      <td>3</td>\n",
       "      <td>Miszna</td>\n",
       "      <td>Pisma rabiniczne – w tym Miszna – stanowią kom...</td>\n",
       "      <td>W jakich formach występowała Tora przekazana M...</td>\n",
       "      <td>{'text': ['pisanej, a drugą część w formie ust...</td>\n",
       "    </tr>\n",
       "    <tr>\n",
       "      <th>3</th>\n",
       "      <td>4</td>\n",
       "      <td>Miszna</td>\n",
       "      <td>Pisma rabiniczne – w tym Miszna – stanowią kom...</td>\n",
       "      <td>W jakiej formie przekazana została Miszna?</td>\n",
       "      <td>{'text': ['ustna'], 'answer_start': [269]}</td>\n",
       "    </tr>\n",
       "    <tr>\n",
       "      <th>4</th>\n",
       "      <td>5</td>\n",
       "      <td>Emilia Plater</td>\n",
       "      <td>Sformowany przez nią oddział partyzancki liczy...</td>\n",
       "      <td>Kto początkowo należał do oddziału stworzonego...</td>\n",
       "      <td>{'text': ['280 strzelców, kilkuset chłopów kos...</td>\n",
       "    </tr>\n",
       "  </tbody>\n",
       "</table>\n",
       "</div>"
      ],
      "text/plain": [
       "  id          title                                            context  \\\n",
       "0  1         Miszna  Pisma rabiniczne – w tym Miszna – stanowią kom...   \n",
       "1  2         Miszna  Pisma rabiniczne – w tym Miszna – stanowią kom...   \n",
       "2  3         Miszna  Pisma rabiniczne – w tym Miszna – stanowią kom...   \n",
       "3  4         Miszna  Pisma rabiniczne – w tym Miszna – stanowią kom...   \n",
       "4  5  Emilia Plater  Sformowany przez nią oddział partyzancki liczy...   \n",
       "\n",
       "                                            question  \\\n",
       "0                          Czym są pisma rabiniczne?   \n",
       "1  Z ilu komponentów składała się Tora przekazana...   \n",
       "2  W jakich formach występowała Tora przekazana M...   \n",
       "3         W jakiej formie przekazana została Miszna?   \n",
       "4  Kto początkowo należał do oddziału stworzonego...   \n",
       "\n",
       "                                             answers  \n",
       "0  {'text': ['kompilację poglądów różnych rabinów...  \n",
       "1         {'text': ['dwóch'], 'answer_start': [172]}  \n",
       "2  {'text': ['pisanej, a drugą część w formie ust...  \n",
       "3         {'text': ['ustna'], 'answer_start': [269]}  \n",
       "4  {'text': ['280 strzelców, kilkuset chłopów kos...  "
      ]
     },
     "execution_count": 62,
     "metadata": {},
     "output_type": "execute_result"
    }
   ],
   "source": [
    "df = ds_val.to_pandas()\n",
    "df.head()"
   ]
  },
  {
   "cell_type": "code",
   "execution_count": 63,
   "metadata": {},
   "outputs": [],
   "source": [
    "df[\"predictions\"] = predictions\n",
    "df[\"f1-scores\"] = [(compute_f1(prediction_, answer)) for answer, prediction_ in zip(ds_answers,predictions)]\n",
    "df[\"exact match\"] = [(compute_exact_match(prediction_, answer)) for answer, prediction_ in zip(ds_answers,predictions)]"
   ]
  },
  {
   "cell_type": "markdown",
   "metadata": {},
   "source": [
    "Showing the best answers that model provided"
   ]
  },
  {
   "cell_type": "code",
   "execution_count": 66,
   "metadata": {},
   "outputs": [
    {
     "data": {
      "text/html": [
       "<div>\n",
       "<style scoped>\n",
       "    .dataframe tbody tr th:only-of-type {\n",
       "        vertical-align: middle;\n",
       "    }\n",
       "\n",
       "    .dataframe tbody tr th {\n",
       "        vertical-align: top;\n",
       "    }\n",
       "\n",
       "    .dataframe thead th {\n",
       "        text-align: right;\n",
       "    }\n",
       "</style>\n",
       "<table border=\"1\" class=\"dataframe\">\n",
       "  <thead>\n",
       "    <tr style=\"text-align: right;\">\n",
       "      <th></th>\n",
       "      <th>id</th>\n",
       "      <th>title</th>\n",
       "      <th>context</th>\n",
       "      <th>question</th>\n",
       "      <th>answers</th>\n",
       "      <th>predictions</th>\n",
       "      <th>f1-scores</th>\n",
       "      <th>exact match</th>\n",
       "    </tr>\n",
       "  </thead>\n",
       "  <tbody>\n",
       "    <tr>\n",
       "      <th>1978</th>\n",
       "      <td>1979</td>\n",
       "      <td>Szpak zwyczajny</td>\n",
       "      <td>Podczas żerowania szpaki stosują trzy techniki...</td>\n",
       "      <td>Ile technik zdobywania pożywienia wykorzystują...</td>\n",
       "      <td>{'text': ['trzy'], 'answer_start': [33]}</td>\n",
       "      <td>trzy</td>\n",
       "      <td>1.0</td>\n",
       "      <td>1</td>\n",
       "    </tr>\n",
       "    <tr>\n",
       "      <th>39</th>\n",
       "      <td>40</td>\n",
       "      <td>Inwazja Rosji na Ukrainę (2022)</td>\n",
       "      <td>W 2014 roku Rosja, w odpowiedzi na obalenie pr...</td>\n",
       "      <td>W którym roku Rosja dokonała aneksji Krymu?</td>\n",
       "      <td>{'text': ['W 2014'], 'answer_start': [0]}</td>\n",
       "      <td>W 2014</td>\n",
       "      <td>1.0</td>\n",
       "      <td>1</td>\n",
       "    </tr>\n",
       "    <tr>\n",
       "      <th>757</th>\n",
       "      <td>758</td>\n",
       "      <td>HMS Furious (1916)</td>\n",
       "      <td>14 kwietnia „Furious”, eskortowany przez trzy ...</td>\n",
       "      <td>Ile okrętów eskortowało \"Furious\"?</td>\n",
       "      <td>{'text': ['trzy'], 'answer_start': [41]}</td>\n",
       "      <td>trzy</td>\n",
       "      <td>1.0</td>\n",
       "      <td>1</td>\n",
       "    </tr>\n",
       "    <tr>\n",
       "      <th>4604</th>\n",
       "      <td>4605</td>\n",
       "      <td>Barszcz Sosnowskiego</td>\n",
       "      <td>Z sekcji Pubescentia w Europie występują trzy ...</td>\n",
       "      <td>Ile gatunków Pubescentia istnieje w Europie?</td>\n",
       "      <td>{'text': ['trzy'], 'answer_start': [41]}</td>\n",
       "      <td>trzy</td>\n",
       "      <td>1.0</td>\n",
       "      <td>1</td>\n",
       "    </tr>\n",
       "    <tr>\n",
       "      <th>4417</th>\n",
       "      <td>4418</td>\n",
       "      <td>Konflikt w Górskim Karabachu (2020)</td>\n",
       "      <td>9 października rosyjski prezydent Władimir Put...</td>\n",
       "      <td>Gdzie miały się odbyć rozmowy pokojowe zapowie...</td>\n",
       "      <td>{'text': ['w Moskwie'], 'answer_start': [110]}</td>\n",
       "      <td>w Moskwie</td>\n",
       "      <td>1.0</td>\n",
       "      <td>1</td>\n",
       "    </tr>\n",
       "    <tr>\n",
       "      <th>5439</th>\n",
       "      <td>5440</td>\n",
       "      <td>Grzegorz Ciechowski</td>\n",
       "      <td>W 1990 powrócił do śpiewania z zespołem Republ...</td>\n",
       "      <td>Jaki krążek wydał Ciechowski z zespołem w 1991?</td>\n",
       "      <td>{'text': ['1991'], 'answer_start': [140]}</td>\n",
       "      <td>1991</td>\n",
       "      <td>1.0</td>\n",
       "      <td>1</td>\n",
       "    </tr>\n",
       "    <tr>\n",
       "      <th>2094</th>\n",
       "      <td>2095</td>\n",
       "      <td>Ziemia</td>\n",
       "      <td>Temperatura środka planety może wynosić 4000–7...</td>\n",
       "      <td>Izotop którego z pierwiastków ma najdłuższy cz...</td>\n",
       "      <td>{'text': ['toru'], 'answer_start': [328]}</td>\n",
       "      <td>toru</td>\n",
       "      <td>1.0</td>\n",
       "      <td>1</td>\n",
       "    </tr>\n",
       "    <tr>\n",
       "      <th>3371</th>\n",
       "      <td>3372</td>\n",
       "      <td>Incredible Hulk</td>\n",
       "      <td>Zak Penn, który pracował już nad scenariuszem ...</td>\n",
       "      <td>Ile wersji scenariusza stworzył Penn?</td>\n",
       "      <td>{'text': ['trzy'], 'answer_start': [220]}</td>\n",
       "      <td>trzy</td>\n",
       "      <td>1.0</td>\n",
       "      <td>1</td>\n",
       "    </tr>\n",
       "    <tr>\n",
       "      <th>655</th>\n",
       "      <td>656</td>\n",
       "      <td>Fenenna kujawska</td>\n",
       "      <td>W kwestii kolejności narodzin potomstwa Ziemom...</td>\n",
       "      <td>Ile córek miała książęca para?</td>\n",
       "      <td>{'text': ['trzy'], 'answer_start': [370]}</td>\n",
       "      <td>trzy</td>\n",
       "      <td>1.0</td>\n",
       "      <td>1</td>\n",
       "    </tr>\n",
       "    <tr>\n",
       "      <th>534</th>\n",
       "      <td>535</td>\n",
       "      <td>Podział administracyjny Rosji</td>\n",
       "      <td>De iure (w świetle prawa międzynarodowego) zaa...</td>\n",
       "      <td>Do jakiego kraju należą obszary Sewastopolu i ...</td>\n",
       "      <td>{'text': ['Ukrainy'], 'answer_start': [165]}</td>\n",
       "      <td>Ukrainy</td>\n",
       "      <td>1.0</td>\n",
       "      <td>1</td>\n",
       "    </tr>\n",
       "  </tbody>\n",
       "</table>\n",
       "</div>"
      ],
      "text/plain": [
       "        id                                title  \\\n",
       "1978  1979                      Szpak zwyczajny   \n",
       "39      40      Inwazja Rosji na Ukrainę (2022)   \n",
       "757    758                   HMS Furious (1916)   \n",
       "4604  4605                 Barszcz Sosnowskiego   \n",
       "4417  4418  Konflikt w Górskim Karabachu (2020)   \n",
       "5439  5440                  Grzegorz Ciechowski   \n",
       "2094  2095                               Ziemia   \n",
       "3371  3372                      Incredible Hulk   \n",
       "655    656                     Fenenna kujawska   \n",
       "534    535        Podział administracyjny Rosji   \n",
       "\n",
       "                                                context  \\\n",
       "1978  Podczas żerowania szpaki stosują trzy techniki...   \n",
       "39    W 2014 roku Rosja, w odpowiedzi na obalenie pr...   \n",
       "757   14 kwietnia „Furious”, eskortowany przez trzy ...   \n",
       "4604  Z sekcji Pubescentia w Europie występują trzy ...   \n",
       "4417  9 października rosyjski prezydent Władimir Put...   \n",
       "5439  W 1990 powrócił do śpiewania z zespołem Republ...   \n",
       "2094  Temperatura środka planety może wynosić 4000–7...   \n",
       "3371  Zak Penn, który pracował już nad scenariuszem ...   \n",
       "655   W kwestii kolejności narodzin potomstwa Ziemom...   \n",
       "534   De iure (w świetle prawa międzynarodowego) zaa...   \n",
       "\n",
       "                                               question  \\\n",
       "1978  Ile technik zdobywania pożywienia wykorzystują...   \n",
       "39          W którym roku Rosja dokonała aneksji Krymu?   \n",
       "757                  Ile okrętów eskortowało \"Furious\"?   \n",
       "4604       Ile gatunków Pubescentia istnieje w Europie?   \n",
       "4417  Gdzie miały się odbyć rozmowy pokojowe zapowie...   \n",
       "5439    Jaki krążek wydał Ciechowski z zespołem w 1991?   \n",
       "2094  Izotop którego z pierwiastków ma najdłuższy cz...   \n",
       "3371              Ile wersji scenariusza stworzył Penn?   \n",
       "655                      Ile córek miała książęca para?   \n",
       "534   Do jakiego kraju należą obszary Sewastopolu i ...   \n",
       "\n",
       "                                             answers predictions  f1-scores  \\\n",
       "1978        {'text': ['trzy'], 'answer_start': [33]}        trzy        1.0   \n",
       "39         {'text': ['W 2014'], 'answer_start': [0]}      W 2014        1.0   \n",
       "757         {'text': ['trzy'], 'answer_start': [41]}        trzy        1.0   \n",
       "4604        {'text': ['trzy'], 'answer_start': [41]}        trzy        1.0   \n",
       "4417  {'text': ['w Moskwie'], 'answer_start': [110]}   w Moskwie        1.0   \n",
       "5439       {'text': ['1991'], 'answer_start': [140]}        1991        1.0   \n",
       "2094       {'text': ['toru'], 'answer_start': [328]}        toru        1.0   \n",
       "3371       {'text': ['trzy'], 'answer_start': [220]}        trzy        1.0   \n",
       "655        {'text': ['trzy'], 'answer_start': [370]}        trzy        1.0   \n",
       "534     {'text': ['Ukrainy'], 'answer_start': [165]}     Ukrainy        1.0   \n",
       "\n",
       "      exact match  \n",
       "1978            1  \n",
       "39              1  \n",
       "757             1  \n",
       "4604            1  \n",
       "4417            1  \n",
       "5439            1  \n",
       "2094            1  \n",
       "3371            1  \n",
       "655             1  \n",
       "534             1  "
      ]
     },
     "execution_count": 66,
     "metadata": {},
     "output_type": "execute_result"
    }
   ],
   "source": [
    "df.sort_values(\"f1-scores\",ascending=False).head(10)"
   ]
  },
  {
   "cell_type": "markdown",
   "metadata": {},
   "source": [
    "Showing the worst answers that model provided"
   ]
  },
  {
   "cell_type": "code",
   "execution_count": 67,
   "metadata": {},
   "outputs": [
    {
     "data": {
      "text/html": [
       "<div>\n",
       "<style scoped>\n",
       "    .dataframe tbody tr th:only-of-type {\n",
       "        vertical-align: middle;\n",
       "    }\n",
       "\n",
       "    .dataframe tbody tr th {\n",
       "        vertical-align: top;\n",
       "    }\n",
       "\n",
       "    .dataframe thead th {\n",
       "        text-align: right;\n",
       "    }\n",
       "</style>\n",
       "<table border=\"1\" class=\"dataframe\">\n",
       "  <thead>\n",
       "    <tr style=\"text-align: right;\">\n",
       "      <th></th>\n",
       "      <th>id</th>\n",
       "      <th>title</th>\n",
       "      <th>context</th>\n",
       "      <th>question</th>\n",
       "      <th>answers</th>\n",
       "      <th>predictions</th>\n",
       "      <th>f1-scores</th>\n",
       "      <th>exact match</th>\n",
       "    </tr>\n",
       "  </thead>\n",
       "  <tbody>\n",
       "    <tr>\n",
       "      <th>0</th>\n",
       "      <td>1</td>\n",
       "      <td>Miszna</td>\n",
       "      <td>Pisma rabiniczne – w tym Miszna – stanowią kom...</td>\n",
       "      <td>Czym są pisma rabiniczne?</td>\n",
       "      <td>{'text': ['kompilację poglądów różnych rabinów...</td>\n",
       "      <td>Pismom rabinicznym</td>\n",
       "      <td>0.0</td>\n",
       "      <td>0</td>\n",
       "    </tr>\n",
       "    <tr>\n",
       "      <th>3699</th>\n",
       "      <td>3700</td>\n",
       "      <td>Kodeks Synajski</td>\n",
       "      <td>Bibliście pozwolono przewozić kodeks partiami ...</td>\n",
       "      <td>Dlaczego po przekazaniu kodeksu carowi, Tische...</td>\n",
       "      <td>{'text': ['ponieważ rząd turecki stwarzał pewn...</td>\n",
       "      <td>tak</td>\n",
       "      <td>0.0</td>\n",
       "      <td>0</td>\n",
       "    </tr>\n",
       "    <tr>\n",
       "      <th>3698</th>\n",
       "      <td>3699</td>\n",
       "      <td>Kodeks Synajski</td>\n",
       "      <td>Bibliście pozwolono przewozić kodeks partiami ...</td>\n",
       "      <td>Co Tischendorf proponował Cyrylowi w zamian za...</td>\n",
       "      <td>{'text': ['poparcie rosyjskiego cara'], 'answe...</td>\n",
       "      <td>tak</td>\n",
       "      <td>0.0</td>\n",
       "      <td>0</td>\n",
       "    </tr>\n",
       "    <tr>\n",
       "      <th>3696</th>\n",
       "      <td>3697</td>\n",
       "      <td>Daglezja zielona</td>\n",
       "      <td>Daglezja zielona jest w warunkach naturalnych ...</td>\n",
       "      <td>Ile wynosi spadek wzrostu drzewa zakażonego A....</td>\n",
       "      <td>{'text': ['do 75%'], 'answer_start': [941]}</td>\n",
       "      <td>1%</td>\n",
       "      <td>0.0</td>\n",
       "      <td>0</td>\n",
       "    </tr>\n",
       "    <tr>\n",
       "      <th>3694</th>\n",
       "      <td>3695</td>\n",
       "      <td>Daglezja zielona</td>\n",
       "      <td>Daglezja zielona jest w warunkach naturalnych ...</td>\n",
       "      <td>Jakie są skutki infekcji A. douglasii?</td>\n",
       "      <td>{'text': ['wywiera wpływ na tempo wzrostu drze...</td>\n",
       "      <td>douglasii</td>\n",
       "      <td>0.0</td>\n",
       "      <td>0</td>\n",
       "    </tr>\n",
       "    <tr>\n",
       "      <th>3692</th>\n",
       "      <td>3693</td>\n",
       "      <td>Hobbit (trylogia filmowa)</td>\n",
       "      <td>Zdjęcia rozpoczęły się 21 marca 2011. Film był...</td>\n",
       "      <td>Jakie kamery wykorzystano przy tej produkcji?</td>\n",
       "      <td>{'text': ['cyfrowymi RED EPIC'], 'answer_start...</td>\n",
       "      <td>kamerę</td>\n",
       "      <td>0.0</td>\n",
       "      <td>0</td>\n",
       "    </tr>\n",
       "    <tr>\n",
       "      <th>3691</th>\n",
       "      <td>3692</td>\n",
       "      <td>Hobbit (trylogia filmowa)</td>\n",
       "      <td>Zdjęcia rozpoczęły się 21 marca 2011. Film był...</td>\n",
       "      <td>Czy zastosowana przez reżysera nietypowa metod...</td>\n",
       "      <td>{'text': ['Po pierwszych pokazach roboczej wer...</td>\n",
       "      <td>nie</td>\n",
       "      <td>0.0</td>\n",
       "      <td>0</td>\n",
       "    </tr>\n",
       "    <tr>\n",
       "      <th>3690</th>\n",
       "      <td>3691</td>\n",
       "      <td>Hobbit (trylogia filmowa)</td>\n",
       "      <td>Zdjęcia rozpoczęły się 21 marca 2011. Film był...</td>\n",
       "      <td>W ilu klatkach na sekundę kręci się zazwyczaj ...</td>\n",
       "      <td>{'text': ['24'], 'answer_start': [254]}</td>\n",
       "      <td>w milionach</td>\n",
       "      <td>0.0</td>\n",
       "      <td>0</td>\n",
       "    </tr>\n",
       "    <tr>\n",
       "      <th>3700</th>\n",
       "      <td>3701</td>\n",
       "      <td>Kodeks Synajski</td>\n",
       "      <td>Bibliście pozwolono przewozić kodeks partiami ...</td>\n",
       "      <td>Kto był sceptycznie nastawiony do kandydatury ...</td>\n",
       "      <td>{'text': ['patriarcha Jerozolimy'], 'answer_st...</td>\n",
       "      <td>Krzysztof</td>\n",
       "      <td>0.0</td>\n",
       "      <td>0</td>\n",
       "    </tr>\n",
       "    <tr>\n",
       "      <th>3689</th>\n",
       "      <td>3690</td>\n",
       "      <td>Hobbit (trylogia filmowa)</td>\n",
       "      <td>Zdjęcia rozpoczęły się 21 marca 2011. Film był...</td>\n",
       "      <td>Jaki nietypowy klatkaż zdecydował się zastosow...</td>\n",
       "      <td>{'text': ['48 klatek na sekundę'], 'answer_sta...</td>\n",
       "      <td>wyrzuty</td>\n",
       "      <td>0.0</td>\n",
       "      <td>0</td>\n",
       "    </tr>\n",
       "  </tbody>\n",
       "</table>\n",
       "</div>"
      ],
      "text/plain": [
       "        id                      title  \\\n",
       "0        1                     Miszna   \n",
       "3699  3700            Kodeks Synajski   \n",
       "3698  3699            Kodeks Synajski   \n",
       "3696  3697           Daglezja zielona   \n",
       "3694  3695           Daglezja zielona   \n",
       "3692  3693  Hobbit (trylogia filmowa)   \n",
       "3691  3692  Hobbit (trylogia filmowa)   \n",
       "3690  3691  Hobbit (trylogia filmowa)   \n",
       "3700  3701            Kodeks Synajski   \n",
       "3689  3690  Hobbit (trylogia filmowa)   \n",
       "\n",
       "                                                context  \\\n",
       "0     Pisma rabiniczne – w tym Miszna – stanowią kom...   \n",
       "3699  Bibliście pozwolono przewozić kodeks partiami ...   \n",
       "3698  Bibliście pozwolono przewozić kodeks partiami ...   \n",
       "3696  Daglezja zielona jest w warunkach naturalnych ...   \n",
       "3694  Daglezja zielona jest w warunkach naturalnych ...   \n",
       "3692  Zdjęcia rozpoczęły się 21 marca 2011. Film był...   \n",
       "3691  Zdjęcia rozpoczęły się 21 marca 2011. Film był...   \n",
       "3690  Zdjęcia rozpoczęły się 21 marca 2011. Film był...   \n",
       "3700  Bibliście pozwolono przewozić kodeks partiami ...   \n",
       "3689  Zdjęcia rozpoczęły się 21 marca 2011. Film był...   \n",
       "\n",
       "                                               question  \\\n",
       "0                             Czym są pisma rabiniczne?   \n",
       "3699  Dlaczego po przekazaniu kodeksu carowi, Tische...   \n",
       "3698  Co Tischendorf proponował Cyrylowi w zamian za...   \n",
       "3696  Ile wynosi spadek wzrostu drzewa zakażonego A....   \n",
       "3694             Jakie są skutki infekcji A. douglasii?   \n",
       "3692      Jakie kamery wykorzystano przy tej produkcji?   \n",
       "3691  Czy zastosowana przez reżysera nietypowa metod...   \n",
       "3690  W ilu klatkach na sekundę kręci się zazwyczaj ...   \n",
       "3700  Kto był sceptycznie nastawiony do kandydatury ...   \n",
       "3689  Jaki nietypowy klatkaż zdecydował się zastosow...   \n",
       "\n",
       "                                                answers         predictions  \\\n",
       "0     {'text': ['kompilację poglądów różnych rabinów...  Pismom rabinicznym   \n",
       "3699  {'text': ['ponieważ rząd turecki stwarzał pewn...                 tak   \n",
       "3698  {'text': ['poparcie rosyjskiego cara'], 'answe...                 tak   \n",
       "3696        {'text': ['do 75%'], 'answer_start': [941]}                  1%   \n",
       "3694  {'text': ['wywiera wpływ na tempo wzrostu drze...           douglasii   \n",
       "3692  {'text': ['cyfrowymi RED EPIC'], 'answer_start...              kamerę   \n",
       "3691  {'text': ['Po pierwszych pokazach roboczej wer...                 nie   \n",
       "3690            {'text': ['24'], 'answer_start': [254]}         w milionach   \n",
       "3700  {'text': ['patriarcha Jerozolimy'], 'answer_st...           Krzysztof   \n",
       "3689  {'text': ['48 klatek na sekundę'], 'answer_sta...             wyrzuty   \n",
       "\n",
       "      f1-scores  exact match  \n",
       "0           0.0            0  \n",
       "3699        0.0            0  \n",
       "3698        0.0            0  \n",
       "3696        0.0            0  \n",
       "3694        0.0            0  \n",
       "3692        0.0            0  \n",
       "3691        0.0            0  \n",
       "3690        0.0            0  \n",
       "3700        0.0            0  \n",
       "3689        0.0            0  "
      ]
     },
     "execution_count": 67,
     "metadata": {},
     "output_type": "execute_result"
    }
   ],
   "source": [
    "df.sort_values(\"f1-scores\",ascending=True).head(10)"
   ]
  },
  {
   "cell_type": "markdown",
   "metadata": {},
   "source": [
    "Running the test on Legal questions"
   ]
  },
  {
   "cell_type": "code",
   "execution_count": 68,
   "metadata": {},
   "outputs": [
    {
     "data": {
      "text/html": [
       "<div>\n",
       "<style scoped>\n",
       "    .dataframe tbody tr th:only-of-type {\n",
       "        vertical-align: middle;\n",
       "    }\n",
       "\n",
       "    .dataframe tbody tr th {\n",
       "        vertical-align: top;\n",
       "    }\n",
       "\n",
       "    .dataframe thead th {\n",
       "        text-align: right;\n",
       "    }\n",
       "</style>\n",
       "<table border=\"1\" class=\"dataframe\">\n",
       "  <thead>\n",
       "    <tr style=\"text-align: right;\">\n",
       "      <th></th>\n",
       "      <th>_id</th>\n",
       "      <th>text</th>\n",
       "    </tr>\n",
       "  </thead>\n",
       "  <tbody>\n",
       "    <tr>\n",
       "      <th>0</th>\n",
       "      <td>1</td>\n",
       "      <td>Czy żołnierz, który dopuszcza się czynnej napa...</td>\n",
       "    </tr>\n",
       "    <tr>\n",
       "      <th>1</th>\n",
       "      <td>2</td>\n",
       "      <td>Z ilu osób składa się komisja przetargowa?</td>\n",
       "    </tr>\n",
       "    <tr>\n",
       "      <th>2</th>\n",
       "      <td>3</td>\n",
       "      <td>Do jakiej wysokości za zobowiązania spółki odp...</td>\n",
       "    </tr>\n",
       "    <tr>\n",
       "      <th>3</th>\n",
       "      <td>4</td>\n",
       "      <td>Kiedy ustala się wartość majątku obrotowego, k...</td>\n",
       "    </tr>\n",
       "    <tr>\n",
       "      <th>4</th>\n",
       "      <td>5</td>\n",
       "      <td>Jakiej karze podlega armator, który wykonuje r...</td>\n",
       "    </tr>\n",
       "  </tbody>\n",
       "</table>\n",
       "</div>"
      ],
      "text/plain": [
       "   _id                                               text\n",
       "0    1  Czy żołnierz, który dopuszcza się czynnej napa...\n",
       "1    2         Z ilu osób składa się komisja przetargowa?\n",
       "2    3  Do jakiej wysokości za zobowiązania spółki odp...\n",
       "3    4  Kiedy ustala się wartość majątku obrotowego, k...\n",
       "4    5  Jakiej karze podlega armator, który wykonuje r..."
      ]
     },
     "execution_count": 68,
     "metadata": {},
     "output_type": "execute_result"
    }
   ],
   "source": [
    "questions.head()"
   ]
  },
  {
   "cell_type": "code",
   "execution_count": 69,
   "metadata": {},
   "outputs": [
    {
     "data": {
      "text/html": [
       "<div>\n",
       "<style scoped>\n",
       "    .dataframe tbody tr th:only-of-type {\n",
       "        vertical-align: middle;\n",
       "    }\n",
       "\n",
       "    .dataframe tbody tr th {\n",
       "        vertical-align: top;\n",
       "    }\n",
       "\n",
       "    .dataframe thead th {\n",
       "        text-align: right;\n",
       "    }\n",
       "</style>\n",
       "<table border=\"1\" class=\"dataframe\">\n",
       "  <thead>\n",
       "    <tr style=\"text-align: right;\">\n",
       "      <th></th>\n",
       "      <th>score</th>\n",
       "      <th>question-id</th>\n",
       "      <th>answer</th>\n",
       "    </tr>\n",
       "  </thead>\n",
       "  <tbody>\n",
       "    <tr>\n",
       "      <th>0</th>\n",
       "      <td>1.0</td>\n",
       "      <td>1</td>\n",
       "      <td>Tak, podlega karze aresztu wojskowego albo poz...</td>\n",
       "    </tr>\n",
       "    <tr>\n",
       "      <th>1</th>\n",
       "      <td>1.0</td>\n",
       "      <td>2</td>\n",
       "      <td>Komisja przetargowa składa się z co najmniej t...</td>\n",
       "    </tr>\n",
       "    <tr>\n",
       "      <th>2</th>\n",
       "      <td>1.0</td>\n",
       "      <td>3</td>\n",
       "      <td>Komandytariusz odpowiada za zobowiązania spółk...</td>\n",
       "    </tr>\n",
       "    <tr>\n",
       "      <th>3</th>\n",
       "      <td>1.0</td>\n",
       "      <td>4</td>\n",
       "      <td>Wartość rzeczowych składników majątku obrotowe...</td>\n",
       "    </tr>\n",
       "    <tr>\n",
       "      <th>4</th>\n",
       "      <td>1.0</td>\n",
       "      <td>5</td>\n",
       "      <td>Podlega karze pieniężnej do wysokości 1 000 00...</td>\n",
       "    </tr>\n",
       "  </tbody>\n",
       "</table>\n",
       "</div>"
      ],
      "text/plain": [
       "   score  question-id                                             answer\n",
       "0    1.0            1  Tak, podlega karze aresztu wojskowego albo poz...\n",
       "1    1.0            2  Komisja przetargowa składa się z co najmniej t...\n",
       "2    1.0            3  Komandytariusz odpowiada za zobowiązania spółk...\n",
       "3    1.0            4  Wartość rzeczowych składników majątku obrotowe...\n",
       "4    1.0            5  Podlega karze pieniężnej do wysokości 1 000 00..."
      ]
     },
     "execution_count": 69,
     "metadata": {},
     "output_type": "execute_result"
    }
   ],
   "source": [
    "answers.head()"
   ]
  },
  {
   "cell_type": "code",
   "execution_count": 130,
   "metadata": {},
   "outputs": [],
   "source": [
    "legal_questions = []\n",
    "legal_true_answers = []\n",
    "legal_generated_answers = []"
   ]
  },
  {
   "cell_type": "code",
   "execution_count": 123,
   "metadata": {},
   "outputs": [
    {
     "data": {
      "text/plain": [
       "143"
      ]
     },
     "execution_count": 123,
     "metadata": {},
     "output_type": "execute_result"
    }
   ],
   "source": [
    "threashold = int(len(questions)/10)\n",
    "threashold"
   ]
  },
  {
   "cell_type": "code",
   "execution_count": null,
   "metadata": {},
   "outputs": [
    {
     "name": "stdout",
     "output_type": "stream",
     "text": [
      "Done 0 %\n",
      "Done 10 %\n",
      "Done 20 %\n",
      "Done 30 %\n",
      "Done 40 %\n",
      "Done 50 %\n",
      "Done 60 %\n",
      "Done 70 %\n",
      "Done 80 %\n",
      "Done 90 %\n",
      "Done 100 %\n"
     ]
    }
   ],
   "source": [
    "import math\n",
    "\n",
    "for idx, row in questions.iterrows():\n",
    "  if idx % threashold == 0:\n",
    "    print(f\"Done {math.ceil(idx/len(questions) * 100)} %\")\n",
    "    \n",
    "  legal_questions.append(row['text'])\n",
    "  matching_answers = answers[answers['question-id'] == row[\"_id\"]]['answer'].values.tolist()\n",
    "  legal_true_answers.append(matching_answers[0] if matching_answers else \"brak\")\n",
    "  res = pipe(row[\"text\"])\n",
    "  legal_generated_answers.append(res[0]['generated_text'])"
   ]
  },
  {
   "cell_type": "code",
   "execution_count": 132,
   "metadata": {},
   "outputs": [],
   "source": [
    "df_legal= pd.DataFrame()"
   ]
  },
  {
   "cell_type": "code",
   "execution_count": 133,
   "metadata": {},
   "outputs": [],
   "source": [
    "df_legal['question'] = legal_questions\n",
    "df_legal['true answer'] = legal_true_answers\n",
    "df_legal[\"predictions\"] = legal_generated_answers\n",
    "df_legal[\"f1-scores\"] = [(compute_f1(prediction_, answer)) for answer, prediction_ in zip(legal_true_answers,legal_generated_answers)]\n",
    "df_legal[\"exact match\"] = [(compute_exact_match(prediction_, answer)) for answer, prediction_ in zip(legal_true_answers,legal_generated_answers)]"
   ]
  },
  {
   "cell_type": "code",
   "execution_count": 134,
   "metadata": {},
   "outputs": [
    {
     "data": {
      "text/html": [
       "<div>\n",
       "<style scoped>\n",
       "    .dataframe tbody tr th:only-of-type {\n",
       "        vertical-align: middle;\n",
       "    }\n",
       "\n",
       "    .dataframe tbody tr th {\n",
       "        vertical-align: top;\n",
       "    }\n",
       "\n",
       "    .dataframe thead th {\n",
       "        text-align: right;\n",
       "    }\n",
       "</style>\n",
       "<table border=\"1\" class=\"dataframe\">\n",
       "  <thead>\n",
       "    <tr style=\"text-align: right;\">\n",
       "      <th></th>\n",
       "      <th>question</th>\n",
       "      <th>true answer</th>\n",
       "      <th>predictions</th>\n",
       "      <th>f1-scores</th>\n",
       "      <th>exact match</th>\n",
       "    </tr>\n",
       "  </thead>\n",
       "  <tbody>\n",
       "    <tr>\n",
       "      <th>0</th>\n",
       "      <td>Czy żołnierz, który dopuszcza się czynnej napa...</td>\n",
       "      <td>Tak, podlega karze aresztu wojskowego albo poz...</td>\n",
       "      <td>nie</td>\n",
       "      <td>0.000000</td>\n",
       "      <td>0</td>\n",
       "    </tr>\n",
       "    <tr>\n",
       "      <th>1</th>\n",
       "      <td>Z ilu osób składa się komisja przetargowa?</td>\n",
       "      <td>Komisja przetargowa składa się z co najmniej t...</td>\n",
       "      <td>Z tylu</td>\n",
       "      <td>0.181818</td>\n",
       "      <td>0</td>\n",
       "    </tr>\n",
       "    <tr>\n",
       "      <th>2</th>\n",
       "      <td>Do jakiej wysokości za zobowiązania spółki odp...</td>\n",
       "      <td>Komandytariusz odpowiada za zobowiązania spółk...</td>\n",
       "      <td>do jakiej wysokości</td>\n",
       "      <td>0.250000</td>\n",
       "      <td>0</td>\n",
       "    </tr>\n",
       "    <tr>\n",
       "      <th>3</th>\n",
       "      <td>Kiedy ustala się wartość majątku obrotowego, k...</td>\n",
       "      <td>Wartość rzeczowych składników majątku obrotowe...</td>\n",
       "      <td>Kiedy ustala się wartość majątku obrotowego</td>\n",
       "      <td>0.303030</td>\n",
       "      <td>0</td>\n",
       "    </tr>\n",
       "    <tr>\n",
       "      <th>4</th>\n",
       "      <td>Jakiej karze podlega armator, który wykonuje r...</td>\n",
       "      <td>Podlega karze pieniężnej do wysokości 1 000 00...</td>\n",
       "      <td>podlega karze pozbawienia wolności</td>\n",
       "      <td>0.307692</td>\n",
       "      <td>0</td>\n",
       "    </tr>\n",
       "  </tbody>\n",
       "</table>\n",
       "</div>"
      ],
      "text/plain": [
       "                                            question  \\\n",
       "0  Czy żołnierz, który dopuszcza się czynnej napa...   \n",
       "1         Z ilu osób składa się komisja przetargowa?   \n",
       "2  Do jakiej wysokości za zobowiązania spółki odp...   \n",
       "3  Kiedy ustala się wartość majątku obrotowego, k...   \n",
       "4  Jakiej karze podlega armator, który wykonuje r...   \n",
       "\n",
       "                                         true answer  \\\n",
       "0  Tak, podlega karze aresztu wojskowego albo poz...   \n",
       "1  Komisja przetargowa składa się z co najmniej t...   \n",
       "2  Komandytariusz odpowiada za zobowiązania spółk...   \n",
       "3  Wartość rzeczowych składników majątku obrotowe...   \n",
       "4  Podlega karze pieniężnej do wysokości 1 000 00...   \n",
       "\n",
       "                                   predictions  f1-scores  exact match  \n",
       "0                                          nie   0.000000            0  \n",
       "1                                       Z tylu   0.181818            0  \n",
       "2                          do jakiej wysokości   0.250000            0  \n",
       "3  Kiedy ustala się wartość majątku obrotowego   0.303030            0  \n",
       "4           podlega karze pozbawienia wolności   0.307692            0  "
      ]
     },
     "execution_count": 134,
     "metadata": {},
     "output_type": "execute_result"
    }
   ],
   "source": [
    "df_legal.head(5)"
   ]
  },
  {
   "cell_type": "code",
   "execution_count": 137,
   "metadata": {},
   "outputs": [
    {
     "name": "stdout",
     "output_type": "stream",
     "text": [
      "Exact match score based on whole set:  0.034122562674094706\n",
      "F1-Score score based on whole set:  0.07144071652797317\n"
     ]
    }
   ],
   "source": [
    "print(\"Exact match score based on whole set: \", df_legal['exact match'].mean())\n",
    "print(\"F1-Score score based on whole set: \", df_legal['f1-scores'].mean())"
   ]
  },
  {
   "cell_type": "markdown",
   "metadata": {},
   "source": [
    "Showing best answers"
   ]
  },
  {
   "cell_type": "code",
   "execution_count": 144,
   "metadata": {},
   "outputs": [
    {
     "data": {
      "text/html": [
       "<div>\n",
       "<style scoped>\n",
       "    .dataframe tbody tr th:only-of-type {\n",
       "        vertical-align: middle;\n",
       "    }\n",
       "\n",
       "    .dataframe tbody tr th {\n",
       "        vertical-align: top;\n",
       "    }\n",
       "\n",
       "    .dataframe thead th {\n",
       "        text-align: right;\n",
       "    }\n",
       "</style>\n",
       "<table border=\"1\" class=\"dataframe\">\n",
       "  <thead>\n",
       "    <tr style=\"text-align: right;\">\n",
       "      <th></th>\n",
       "      <th>question</th>\n",
       "      <th>true answer</th>\n",
       "      <th>predictions</th>\n",
       "      <th>f1-scores</th>\n",
       "      <th>exact match</th>\n",
       "    </tr>\n",
       "  </thead>\n",
       "  <tbody>\n",
       "    <tr>\n",
       "      <th>705</th>\n",
       "      <td>Czy dyrektorem żłobka może być osoba posiadają...</td>\n",
       "      <td>Nie</td>\n",
       "      <td>nie</td>\n",
       "      <td>1.0</td>\n",
       "      <td>1</td>\n",
       "    </tr>\n",
       "    <tr>\n",
       "      <th>1157</th>\n",
       "      <td>Czy za użytkowanie wieczyste gruntów przez zak...</td>\n",
       "      <td>Nie.</td>\n",
       "      <td>nie</td>\n",
       "      <td>1.0</td>\n",
       "      <td>1</td>\n",
       "    </tr>\n",
       "    <tr>\n",
       "      <th>700</th>\n",
       "      <td>Czy zażalenie wstrzymuje wykonanie zaskarżoneg...</td>\n",
       "      <td>Nie</td>\n",
       "      <td>nie</td>\n",
       "      <td>1.0</td>\n",
       "      <td>1</td>\n",
       "    </tr>\n",
       "    <tr>\n",
       "      <th>1425</th>\n",
       "      <td>Czy producentowi dopiero rozpoczynającemu prod...</td>\n",
       "      <td>nie</td>\n",
       "      <td>nie</td>\n",
       "      <td>1.0</td>\n",
       "      <td>1</td>\n",
       "    </tr>\n",
       "    <tr>\n",
       "      <th>1121</th>\n",
       "      <td>Czy dyrektor regionalnej dyrekcji Lasów Państw...</td>\n",
       "      <td>Nie</td>\n",
       "      <td>nie</td>\n",
       "      <td>1.0</td>\n",
       "      <td>1</td>\n",
       "    </tr>\n",
       "    <tr>\n",
       "      <th>697</th>\n",
       "      <td>Czy specjalne zezwolenie połowowe zawiera wyks...</td>\n",
       "      <td>Nie</td>\n",
       "      <td>nie</td>\n",
       "      <td>1.0</td>\n",
       "      <td>1</td>\n",
       "    </tr>\n",
       "    <tr>\n",
       "      <th>1116</th>\n",
       "      <td>Czy skazani nie mogą kierować skarg do organów...</td>\n",
       "      <td>Nie</td>\n",
       "      <td>nie</td>\n",
       "      <td>1.0</td>\n",
       "      <td>1</td>\n",
       "    </tr>\n",
       "    <tr>\n",
       "      <th>1370</th>\n",
       "      <td>Czy na rozprawie mogą być obecne osoby w stani...</td>\n",
       "      <td>nie</td>\n",
       "      <td>nie</td>\n",
       "      <td>1.0</td>\n",
       "      <td>1</td>\n",
       "    </tr>\n",
       "    <tr>\n",
       "      <th>1371</th>\n",
       "      <td>Czy urzędnik służby cywilnej ponosi opłaty z t...</td>\n",
       "      <td>nie</td>\n",
       "      <td>nie</td>\n",
       "      <td>1.0</td>\n",
       "      <td>1</td>\n",
       "    </tr>\n",
       "    <tr>\n",
       "      <th>696</th>\n",
       "      <td>Czy specjalne zezwolenie połowowe zawiera wyks...</td>\n",
       "      <td>Nie</td>\n",
       "      <td>nie</td>\n",
       "      <td>1.0</td>\n",
       "      <td>1</td>\n",
       "    </tr>\n",
       "  </tbody>\n",
       "</table>\n",
       "</div>"
      ],
      "text/plain": [
       "                                               question true answer  \\\n",
       "705   Czy dyrektorem żłobka może być osoba posiadają...         Nie   \n",
       "1157  Czy za użytkowanie wieczyste gruntów przez zak...        Nie.   \n",
       "700   Czy zażalenie wstrzymuje wykonanie zaskarżoneg...         Nie   \n",
       "1425  Czy producentowi dopiero rozpoczynającemu prod...         nie   \n",
       "1121  Czy dyrektor regionalnej dyrekcji Lasów Państw...         Nie   \n",
       "697   Czy specjalne zezwolenie połowowe zawiera wyks...         Nie   \n",
       "1116  Czy skazani nie mogą kierować skarg do organów...         Nie   \n",
       "1370  Czy na rozprawie mogą być obecne osoby w stani...         nie   \n",
       "1371  Czy urzędnik służby cywilnej ponosi opłaty z t...         nie   \n",
       "696   Czy specjalne zezwolenie połowowe zawiera wyks...         Nie   \n",
       "\n",
       "     predictions  f1-scores  exact match  \n",
       "705          nie        1.0            1  \n",
       "1157         nie        1.0            1  \n",
       "700          nie        1.0            1  \n",
       "1425         nie        1.0            1  \n",
       "1121         nie        1.0            1  \n",
       "697          nie        1.0            1  \n",
       "1116         nie        1.0            1  \n",
       "1370         nie        1.0            1  \n",
       "1371         nie        1.0            1  \n",
       "696          nie        1.0            1  "
      ]
     },
     "execution_count": 144,
     "metadata": {},
     "output_type": "execute_result"
    }
   ],
   "source": [
    "df_legal.sort_values('f1-scores',ascending=False).head(10)"
   ]
  },
  {
   "cell_type": "markdown",
   "metadata": {},
   "source": [
    "Showing worst answers"
   ]
  },
  {
   "cell_type": "code",
   "execution_count": 147,
   "metadata": {},
   "outputs": [
    {
     "data": {
      "text/html": [
       "<div>\n",
       "<style scoped>\n",
       "    .dataframe tbody tr th:only-of-type {\n",
       "        vertical-align: middle;\n",
       "    }\n",
       "\n",
       "    .dataframe tbody tr th {\n",
       "        vertical-align: top;\n",
       "    }\n",
       "\n",
       "    .dataframe thead th {\n",
       "        text-align: right;\n",
       "    }\n",
       "</style>\n",
       "<table border=\"1\" class=\"dataframe\">\n",
       "  <thead>\n",
       "    <tr style=\"text-align: right;\">\n",
       "      <th></th>\n",
       "      <th>question</th>\n",
       "      <th>true answer</th>\n",
       "      <th>predictions</th>\n",
       "      <th>f1-scores</th>\n",
       "      <th>exact match</th>\n",
       "    </tr>\n",
       "  </thead>\n",
       "  <tbody>\n",
       "    <tr>\n",
       "      <th>0</th>\n",
       "      <td>Czy żołnierz, który dopuszcza się czynnej napa...</td>\n",
       "      <td>Tak, podlega karze aresztu wojskowego albo poz...</td>\n",
       "      <td>nie</td>\n",
       "      <td>0.0</td>\n",
       "      <td>0</td>\n",
       "    </tr>\n",
       "    <tr>\n",
       "      <th>1042</th>\n",
       "      <td>Kto wyznacza termin usunięcia braków wynikłych...</td>\n",
       "      <td></td>\n",
       "      <td>spółka</td>\n",
       "      <td>0.0</td>\n",
       "      <td>0</td>\n",
       "    </tr>\n",
       "    <tr>\n",
       "      <th>1043</th>\n",
       "      <td>Kto wyznacza termin usunięcia braków wynikłych...</td>\n",
       "      <td>sąd rejestrowy</td>\n",
       "      <td>spółka</td>\n",
       "      <td>0.0</td>\n",
       "      <td>0</td>\n",
       "    </tr>\n",
       "    <tr>\n",
       "      <th>1044</th>\n",
       "      <td>Kto wyznacza termin usunięcia braków wynikłych...</td>\n",
       "      <td>sąd rejestrowy</td>\n",
       "      <td>spółka</td>\n",
       "      <td>0.0</td>\n",
       "      <td>0</td>\n",
       "    </tr>\n",
       "    <tr>\n",
       "      <th>1045</th>\n",
       "      <td>Który spośród kilku ratujących ma prawo do wyn...</td>\n",
       "      <td></td>\n",
       "      <td>jeden</td>\n",
       "      <td>0.0</td>\n",
       "      <td>0</td>\n",
       "    </tr>\n",
       "    <tr>\n",
       "      <th>1046</th>\n",
       "      <td>Który spośród kilku ratujących ma prawo do wyn...</td>\n",
       "      <td>każdy z ratujących</td>\n",
       "      <td>jeden</td>\n",
       "      <td>0.0</td>\n",
       "      <td>0</td>\n",
       "    </tr>\n",
       "    <tr>\n",
       "      <th>1047</th>\n",
       "      <td>Który spośród kilku ratujących ma prawo do wyn...</td>\n",
       "      <td></td>\n",
       "      <td>jeden</td>\n",
       "      <td>0.0</td>\n",
       "      <td>0</td>\n",
       "    </tr>\n",
       "    <tr>\n",
       "      <th>1048</th>\n",
       "      <td>Który spośród kilku ratujących ma prawo do wyn...</td>\n",
       "      <td>Każdy ratujący, chyba że z własnej winy przycz...</td>\n",
       "      <td>jeden</td>\n",
       "      <td>0.0</td>\n",
       "      <td>0</td>\n",
       "    </tr>\n",
       "    <tr>\n",
       "      <th>1041</th>\n",
       "      <td>Kto wyznacza termin usunięcia braków wynikłych...</td>\n",
       "      <td></td>\n",
       "      <td>spółka</td>\n",
       "      <td>0.0</td>\n",
       "      <td>0</td>\n",
       "    </tr>\n",
       "    <tr>\n",
       "      <th>1049</th>\n",
       "      <td>Którzy pracownicy Najwyższej Izby Kontroli nie...</td>\n",
       "      <td></td>\n",
       "      <td>pracownicy Najwyższej Izby Kontroli</td>\n",
       "      <td>0.0</td>\n",
       "      <td>0</td>\n",
       "    </tr>\n",
       "  </tbody>\n",
       "</table>\n",
       "</div>"
      ],
      "text/plain": [
       "                                               question  \\\n",
       "0     Czy żołnierz, który dopuszcza się czynnej napa...   \n",
       "1042  Kto wyznacza termin usunięcia braków wynikłych...   \n",
       "1043  Kto wyznacza termin usunięcia braków wynikłych...   \n",
       "1044  Kto wyznacza termin usunięcia braków wynikłych...   \n",
       "1045  Który spośród kilku ratujących ma prawo do wyn...   \n",
       "1046  Który spośród kilku ratujących ma prawo do wyn...   \n",
       "1047  Który spośród kilku ratujących ma prawo do wyn...   \n",
       "1048  Który spośród kilku ratujących ma prawo do wyn...   \n",
       "1041  Kto wyznacza termin usunięcia braków wynikłych...   \n",
       "1049  Którzy pracownicy Najwyższej Izby Kontroli nie...   \n",
       "\n",
       "                                            true answer  \\\n",
       "0     Tak, podlega karze aresztu wojskowego albo poz...   \n",
       "1042                                                      \n",
       "1043                                     sąd rejestrowy   \n",
       "1044                                     sąd rejestrowy   \n",
       "1045                                                      \n",
       "1046                                 każdy z ratujących   \n",
       "1047                                                      \n",
       "1048  Każdy ratujący, chyba że z własnej winy przycz...   \n",
       "1041                                                      \n",
       "1049                                                      \n",
       "\n",
       "                              predictions  f1-scores  exact match  \n",
       "0                                     nie        0.0            0  \n",
       "1042                               spółka        0.0            0  \n",
       "1043                               spółka        0.0            0  \n",
       "1044                               spółka        0.0            0  \n",
       "1045                                jeden        0.0            0  \n",
       "1046                                jeden        0.0            0  \n",
       "1047                                jeden        0.0            0  \n",
       "1048                                jeden        0.0            0  \n",
       "1041                               spółka        0.0            0  \n",
       "1049  pracownicy Najwyższej Izby Kontroli        0.0            0  "
      ]
     },
     "execution_count": 147,
     "metadata": {},
     "output_type": "execute_result"
    }
   ],
   "source": [
    "filtered_df = df_legal[df_legal['true answer'] != 'brak']\n",
    "filtered_df.sort_values('f1-scores',ascending=True).head(10)"
   ]
  },
  {
   "cell_type": "markdown",
   "metadata": {},
   "source": [
    "# Answers to the questions"
   ]
  },
  {
   "cell_type": "markdown",
   "metadata": {},
   "source": [
    "#### Does the performance on the validation dataset reflects the performance on your test set?"
   ]
  },
  {
   "cell_type": "markdown",
   "metadata": {},
   "source": [
    "No, the performance on the validation set was significantly worse than those on legal question set. This is probably because the answers on the validation set are more extensive than legal questions. As we can see on the top chart of the legal questions all answers are single words 'nie'"
   ]
  },
  {
   "cell_type": "markdown",
   "metadata": {},
   "source": [
    "#### What are the outcomes of the model on your test questions? Are they satisfying? If not, what might be the reason for that?"
   ]
  },
  {
   "cell_type": "markdown",
   "metadata": {},
   "source": [
    "About the legal questions we can see that model predicts correctly for one word answer let's see what other answers got f1-score 1 in legal dataset"
   ]
  },
  {
   "cell_type": "code",
   "execution_count": null,
   "metadata": {},
   "outputs": [
    {
     "data": {
      "text/plain": [
       "array(['nie', 'tak', 'jeden'], dtype=object)"
      ]
     },
     "execution_count": 150,
     "metadata": {},
     "output_type": "execute_result"
    }
   ],
   "source": [
    "df_legal[df_legal['f1-scores'] == 1]['predictions'].unique()"
   ]
  },
  {
   "cell_type": "markdown",
   "metadata": {},
   "source": [
    "As we can see the perfect scores get only answers consiting one word now let's see the answrs where f1-score is higher than 0.5"
   ]
  },
  {
   "cell_type": "code",
   "execution_count": 152,
   "metadata": {},
   "outputs": [
    {
     "data": {
      "text/plain": [
       "array(['Rada Krajowego Związku Kas', 'Kodeks morski',\n",
       "       'podlega karze pozbawienia wolności', 'na wniosek prezesa',\n",
       "       'Ministerstwo Obrony Narodowej',\n",
       "       'Przy pomocy której szef Służby Cywilnej wykonuje zadania wynikające z ustawy',\n",
       "       'Na jaki okres Kierownik urzędu powołuje rzecznika dyscyplinarnego urzędu'],\n",
       "      dtype=object)"
      ]
     },
     "execution_count": 152,
     "metadata": {},
     "output_type": "execute_result"
    }
   ],
   "source": [
    "df_legal[(df_legal['f1-scores'] > 0.5) & (df_legal['f1-scores'] < 1.0)]['predictions'].unique()"
   ]
  },
  {
   "cell_type": "markdown",
   "metadata": {},
   "source": [
    "The answers for f1-score higher than 0.5 consits of more complex answer that could be considered satisfying."
   ]
  },
  {
   "cell_type": "markdown",
   "metadata": {},
   "source": [
    "#### Why extractive question answering is not well suited for inflectional languages?"
   ]
  },
  {
   "cell_type": "markdown",
   "metadata": {},
   "source": [
    "EQA is not well suited for inflectional languages because of word conjugation. In Polish language we can have multiple word conjugation for plural form of a word. Example: kodeksy, kodeksów etc. Also EQA relies on exact comparison of text variables because its goal is to find the exact answer within the text that best matches the query, so the word conjucagtion is a significant disadvantage there"
   ]
  }
 ],
 "metadata": {
  "kernelspec": {
   "display_name": ".venv",
   "language": "python",
   "name": "python3"
  },
  "language_info": {
   "codemirror_mode": {
    "name": "ipython",
    "version": 3
   },
   "file_extension": ".py",
   "mimetype": "text/x-python",
   "name": "python",
   "nbconvert_exporter": "python",
   "pygments_lexer": "ipython3",
   "version": "3.11.9"
  }
 },
 "nbformat": 4,
 "nbformat_minor": 2
}
