{
 "cells": [
  {
   "cell_type": "code",
   "execution_count": 1,
   "metadata": {},
   "outputs": [],
   "source": [
    "link = 'http://localhost:9200/'"
   ]
  },
  {
   "cell_type": "code",
   "execution_count": 3,
   "metadata": {},
   "outputs": [],
   "source": [
    "from elasticsearch import Elasticsearch, helpers\n",
    "import pandas as pd\n",
    "from sklearn.metrics import ndcg_score\n",
    "\n",
    "es = Elasticsearch(link)"
   ]
  },
  {
   "cell_type": "code",
   "execution_count": 4,
   "metadata": {},
   "outputs": [
    {
     "data": {
      "text/plain": [
       "<Elasticsearch(['http://localhost:9200'])>"
      ]
     },
     "execution_count": 4,
     "metadata": {},
     "output_type": "execute_result"
    }
   ],
   "source": [
    "es"
   ]
  },
  {
   "cell_type": "code",
   "execution_count": 5,
   "metadata": {},
   "outputs": [
    {
     "data": {
      "text/plain": [
       "ObjectApiResponse({'acknowledged': True, 'shards_acknowledged': True, 'index': 'fiqa_pl'})"
      ]
     },
     "execution_count": 5,
     "metadata": {},
     "output_type": "execute_result"
    }
   ],
   "source": [
    "index_config = {\n",
    "    \"settings\": {\n",
    "        \"analysis\": {\n",
    "            \"analyzer\": {\n",
    "                \"polish_with_synonyms\": {\n",
    "                    \"tokenizer\": \"standard\",\n",
    "                    \"filter\": [\n",
    "                        \"lowercase\",\n",
    "                        \"synonym_filter\",\n",
    "                        \"morfologik_stem\",\n",
    "                        \"lowercase\"\n",
    "                    ]\n",
    "                },\n",
    "                \"polish_without_synonyms\": {\n",
    "                    \"tokenizer\": \"standard\",\n",
    "                    \"filter\": [\n",
    "                        \"lowercase\",\n",
    "                        \"morfologik_stem\",\n",
    "                        \"lowercase\"\n",
    "                    ]\n",
    "                }\n",
    "            },\n",
    "            \"filter\": {\n",
    "                \"synonym_filter\": {\n",
    "                    \"type\": \"synonym\",\n",
    "                    \"synonyms\": [\"kwiecień, kwi, IV\"]\n",
    "                }\n",
    "            }\n",
    "        }\n",
    "    },\n",
    "    \"mappings\": {\n",
    "        \"properties\": {\n",
    "            \"content_with_synonyms\": {\"type\": \"text\", \"analyzer\": \"polish_with_synonyms\"},\n",
    "            \"content_without_synonyms\": {\"type\": \"text\", \"analyzer\": \"polish_without_synonyms\"}\n",
    "        }\n",
    "    }\n",
    "}\n",
    "\n",
    "# Create the index\n",
    "es.indices.create(index=\"fiqa_pl\", body=index_config)"
   ]
  },
  {
   "cell_type": "code",
   "execution_count": 6,
   "metadata": {},
   "outputs": [
    {
     "data": {
      "text/plain": [
       "DatasetDict({\n",
       "    corpus: Dataset({\n",
       "        features: ['_id', 'title', 'text'],\n",
       "        num_rows: 57638\n",
       "    })\n",
       "})"
      ]
     },
     "execution_count": 6,
     "metadata": {},
     "output_type": "execute_result"
    }
   ],
   "source": [
    "from datasets import load_dataset\n",
    "\n",
    "ds = load_dataset(\"clarin-knext/fiqa-pl\", \"corpus\")\n",
    "ds"
   ]
  },
  {
   "cell_type": "code",
   "execution_count": 11,
   "metadata": {},
   "outputs": [
    {
     "data": {
      "text/plain": [
       "'Zawsze jestem podejrzliwy, gdy artykuł wykorzystuje 2 punkty danych, aby zasugerować trend. Listopad 1997 i grudzień 2016. Ok? A co z tymi wszystkimi latami pomiędzy? Rok 1997 mógł mieć niezwykle wysoką liczbę z powodu boomu Dot Com, kiedy wszyscy i ich brat tworzyli strony internetowe o nic nie robili i upubliczniali.'"
      ]
     },
     "execution_count": 11,
     "metadata": {},
     "output_type": "execute_result"
    }
   ],
   "source": [
    "text = ds['corpus'][2137]['text']\n",
    "text"
   ]
  },
  {
   "cell_type": "code",
   "execution_count": 12,
   "metadata": {},
   "outputs": [
    {
     "data": {
      "text/plain": [
       "ObjectApiResponse({'_index': 'fiqa_pl', '_id': '1', '_version': 1, 'result': 'created', '_shards': {'total': 2, 'successful': 1, 'failed': 0}, '_seq_no': 0, '_primary_term': 1})"
      ]
     },
     "execution_count": 12,
     "metadata": {},
     "output_type": "execute_result"
    }
   ],
   "source": [
    "es.index(index=\"fiqa_pl\", id=1, document={\n",
    "    \"content_with_synonyms\": text,\n",
    "    \"content_without_synonyms\": text\n",
    "})"
   ]
  },
  {
   "cell_type": "code",
   "execution_count": 25,
   "metadata": {},
   "outputs": [
    {
     "name": "stdout",
     "output_type": "stream",
     "text": [
      "Documents with synonyms: 1\n",
      "Documents without synonyms: 1\n"
     ]
    }
   ],
   "source": [
    "# Query with synonyms\n",
    "query_with_synonyms = {\n",
    "    \"query\": {\n",
    "        \"match\": {\"content_with_synonyms\": \"powodowi\"}\n",
    "    }\n",
    "}\n",
    "\n",
    "# Query without synonyms\n",
    "query_without_synonyms = {\n",
    "    \"query\": {\n",
    "        \"match\": {\"content_without_synonyms\": \"powodowi\"}\n",
    "    }\n",
    "}\n",
    "\n",
    "# Perform queries\n",
    "res_with_synonyms = es.search(index=\"fiqa_pl\", body=query_with_synonyms)\n",
    "res_without_synonyms = es.search(index=\"fiqa_pl\", body=query_without_synonyms)\n",
    "\n",
    "# Get results\n",
    "num_docs_with_synonyms = res_with_synonyms['hits']['total']['value']\n",
    "num_docs_without_synonyms = res_without_synonyms['hits']['total']['value']\n",
    "\n",
    "print(f\"Documents with synonyms: {num_docs_with_synonyms}\")\n",
    "print(f\"Documents without synonyms: {num_docs_without_synonyms}\")\n"
   ]
  }
 ],
 "metadata": {
  "kernelspec": {
   "display_name": ".venv",
   "language": "python",
   "name": "python3"
  },
  "language_info": {
   "codemirror_mode": {
    "name": "ipython",
    "version": 3
   },
   "file_extension": ".py",
   "mimetype": "text/x-python",
   "name": "python",
   "nbconvert_exporter": "python",
   "pygments_lexer": "ipython3",
   "version": "3.11.9"
  }
 },
 "nbformat": 4,
 "nbformat_minor": 2
}
