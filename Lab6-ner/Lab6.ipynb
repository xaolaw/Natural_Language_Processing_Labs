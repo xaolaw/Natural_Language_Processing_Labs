{
 "cells": [
  {
   "cell_type": "markdown",
   "metadata": {},
   "source": [
    "# 1) Loading corpus"
   ]
  },
  {
   "cell_type": "code",
   "execution_count": 1,
   "metadata": {},
   "outputs": [],
   "source": [
    "from datasets import load_dataset\n",
    "\n",
    "ds = load_dataset(\"clarin-knext/fiqa-pl\", \"corpus\")"
   ]
  },
  {
   "cell_type": "code",
   "execution_count": 2,
   "metadata": {},
   "outputs": [
    {
     "data": {
      "text/plain": [
       "['Nie jestem również adwokatem ani doradcą podatkowym. Tak, czynsz, który płacisz swojemu przyjacielowi, jest dochodem podlegającym opodatkowaniu, ale nagle wszelkiego rodzaju wydatki związane z domem – w tym ułamek odsetek zapłaconych od kredytu hipotecznego – stają się odliczane od podatku. Załóżmy na przykład, że kredyt hipoteczny wynosi 1000 zł miesięcznie, a płacisz znajomemu 500 zł miesięcznie. Jeśli mieszkasz w 50% domu, może on odliczyć 50% (plus lub minus) wydatków związanych z posiadaniem domu, w tym: Wszystkie te rzeczy (w każdym razie 50% z nich) podlegają odliczeniu od podatku. Byłoby całkiem możliwe, że poniósłby stratę na przedsięwzięciu i faktycznie co roku obniżał podatki. Dopóki nie nadejdzie czas na sprzedaż; sprzedaż nieruchomości, która była używana jako najem, jest bardziej opodatkowana niż sprzedaż nieruchomości, która była miejscem zamieszkania.',\n",
       " '„Jeden scenariusz opisany w pierwotnym pytaniu – niewtajemniczony, który handluje po nieformalnych rozmowach ze znajomymi, w których żadne osoby z wewnątrz nie korzystają bezpośrednio z takiego ujawnienia – może nie być nielegalny. (IANAL – to tylko moja osobista interpretacja artykułów w wiadomościach ostatnio.) http://www.bloomberg.com/news/articles/2015-10-05/insider-trading-cases-imperiled-as-top-u-s-court-spurns-appeal sąd apelacyjny powiedział prokuratorom musiał wykazać, że osoba ujawniająca informacje odniosła wyraźną korzyść – coś więcej niż pielęgnowanie przyjaźni… W sprawie z 1980 r. Sąd Najwyższy odrzucił ideę „ogólnego obowiązku pomiędzy wszystkimi uczestnikami transakcji rynkowych zaniechania działań na podstawie istotnych, niepublicznych informacji.\"\"\"',\n",
       " 'Narzędzie przesiewowe na FinViz.com pozwoli Ci sprawdzić akcje na najniższym poziomie od 52 tygodni.']"
      ]
     },
     "execution_count": 2,
     "metadata": {},
     "output_type": "execute_result"
    }
   ],
   "source": [
    "import random\n",
    "\n",
    "random.seed(2137)\n",
    "ds_t1000 = []\n",
    "\n",
    "for obj in random.sample(list(ds['corpus']),1000):\n",
    "  ds_t1000.append(obj['text'])\n",
    "\n",
    "ds_t1000[:3]\n"
   ]
  },
  {
   "cell_type": "markdown",
   "metadata": {},
   "source": [
    "# 2) Using lemmatization and sentence splitting "
   ]
  },
  {
   "cell_type": "markdown",
   "metadata": {},
   "source": [
    "to identify the expressions that consist of consecutive words starting with a capital letter (you will have to look at the inflected form of the word to check its capitalization) that do not occupy the first position in a sentence. E.g. the sentence:\n"
   ]
  },
  {
   "cell_type": "code",
   "execution_count": 3,
   "metadata": {},
   "outputs": [
    {
     "name": "stdout",
     "output_type": "stream",
     "text": [
      "\u001b[38;5;2m✔ Download and installation successful\u001b[0m\n",
      "You can now load the package via spacy.load('pl_core_news_sm')\n",
      "\u001b[38;5;3m⚠ Restart to reload dependencies\u001b[0m\n",
      "If you are in a Jupyter or Colab notebook, you may need to restart Python in\n",
      "order to load all the package's dependencies. You can do this by selecting the\n",
      "'Restart kernel' or 'Restart runtime' option.\n"
     ]
    }
   ],
   "source": [
    "import spacy\n",
    "spacy.cli.download(\"pl_core_news_sm\");"
   ]
  },
  {
   "cell_type": "code",
   "execution_count": 4,
   "metadata": {},
   "outputs": [],
   "source": [
    "nlp = spacy.load('pl_core_news_sm') "
   ]
  },
  {
   "cell_type": "code",
   "execution_count": 5,
   "metadata": {},
   "outputs": [
    {
     "data": {
      "text/plain": [
       "Nie jestem również adwokatem ani doradcą podatkowym. Tak, czynsz, który płacisz swojemu przyjacielowi, jest dochodem podlegającym opodatkowaniu, ale nagle wszelkiego rodzaju wydatki związane z domem – w tym ułamek odsetek zapłaconych od kredytu hipotecznego – stają się odliczane od podatku. Załóżmy na przykład, że kredyt hipoteczny wynosi 1000 zł miesięcznie, a płacisz znajomemu 500 zł miesięcznie. Jeśli mieszkasz w 50% domu, może on odliczyć 50% (plus lub minus) wydatków związanych z posiadaniem domu, w tym: Wszystkie te rzeczy (w każdym razie 50% z nich) podlegają odliczeniu od podatku. Byłoby całkiem możliwe, że poniósłby stratę na przedsięwzięciu i faktycznie co roku obniżał podatki. Dopóki nie nadejdzie czas na sprzedaż; sprzedaż nieruchomości, która była używana jako najem, jest bardziej opodatkowana niż sprzedaż nieruchomości, która była miejscem zamieszkania."
      ]
     },
     "execution_count": 5,
     "metadata": {},
     "output_type": "execute_result"
    }
   ],
   "source": [
    "docs = list(nlp.pipe(ds_t1000))\n",
    "docs[0]"
   ]
  },
  {
   "cell_type": "code",
   "execution_count": 6,
   "metadata": {},
   "outputs": [],
   "source": [
    "#lemmatizer = nlp.add_pipe(\"lemmatizer\")\n",
    "sentencizer = nlp.add_pipe(\"sentencizer\")"
   ]
  },
  {
   "cell_type": "code",
   "execution_count": 7,
   "metadata": {},
   "outputs": [],
   "source": [
    "from collections import Counter\n",
    "\n",
    "counter = Counter()\n",
    "\n",
    "for doc in docs:\n",
    "  for sent in doc.sents:\n",
    "      tokens = list(sent)\n",
    "      for token in tokens:\n",
    "         #check if the token is punctuation and chec if first letter is uppper case and check if token is the begining of the sentence\n",
    "         if not token.is_punct and token.lemma_[0].isupper() and token != tokens[0]:\n",
    "            counter[token.lemma_] += 1\n",
    "  "
   ]
  },
  {
   "cell_type": "code",
   "execution_count": 8,
   "metadata": {},
   "outputs": [
    {
     "name": "stdout",
     "output_type": "stream",
     "text": [
      "USA: 84\n",
      "IRA: 75\n",
      "Twój: 53\n",
      "Ciebie: 42\n",
      "Zjednoczone: 39\n",
      "Stany: 38\n",
      "ETF: 36\n",
      "USD: 36\n",
      "Roth: 27\n",
      "K: 26\n"
     ]
    }
   ],
   "source": [
    "for word, count in counter.most_common(10):\n",
    "    print(f\"{word}: {count}\")"
   ]
  },
  {
   "cell_type": "markdown",
   "metadata": {},
   "source": [
    "# 3) Using ner"
   ]
  },
  {
   "cell_type": "code",
   "execution_count": 9,
   "metadata": {},
   "outputs": [
    {
     "data": {
      "text/plain": [
       "['tok2vec',\n",
       " 'morphologizer',\n",
       " 'parser',\n",
       " 'lemmatizer',\n",
       " 'tagger',\n",
       " 'attribute_ruler',\n",
       " 'ner',\n",
       " 'sentencizer']"
      ]
     },
     "execution_count": 9,
     "metadata": {},
     "output_type": "execute_result"
    }
   ],
   "source": [
    "nlp.pipe_names"
   ]
  },
  {
   "cell_type": "code",
   "execution_count": 10,
   "metadata": {},
   "outputs": [
    {
     "data": {
      "text/plain": [
       "['date', 'geogName', 'orgName', 'persName', 'placeName', 'time']"
      ]
     },
     "execution_count": 10,
     "metadata": {},
     "output_type": "execute_result"
    }
   ],
   "source": [
    "nlp.pipe_labels['ner']"
   ]
  },
  {
   "cell_type": "code",
   "execution_count": 11,
   "metadata": {},
   "outputs": [],
   "source": [
    "from collections import Counter\n",
    "\n",
    "counter_entities  = Counter()\n",
    "\n",
    "for doc in docs:\n",
    "  for sent in doc.ents:\n",
    "      counter_entities[sent.label_] += 1"
   ]
  },
  {
   "cell_type": "code",
   "execution_count": 12,
   "metadata": {},
   "outputs": [
    {
     "name": "stdout",
     "output_type": "stream",
     "text": [
      "orgName: 886\n",
      "persName: 662\n",
      "placeName: 564\n",
      "date: 224\n",
      "geogName: 91\n",
      "time: 7\n"
     ]
    }
   ],
   "source": [
    "for label, count in counter_entities.most_common():\n",
    "    print(f\"{label}: {count}\")"
   ]
  },
  {
   "cell_type": "code",
   "execution_count": 13,
   "metadata": {},
   "outputs": [
    {
     "data": {
      "image/png": "[encoded data removed]",
      "text/plain": [
       "<Figure size 1000x600 with 1 Axes>"
      ]
     },
     "metadata": {},
     "output_type": "display_data"
    }
   ],
   "source": [
    "import matplotlib.pyplot as plt\n",
    "\n",
    "plt.figure(figsize=(10, 6))\n",
    "plt.bar(counter_entities.keys(), counter_entities.values())\n",
    "plt.xlabel('Entity Type')\n",
    "plt.ylabel('Frequency')\n",
    "plt.title('Frequency of Named Entity Types')\n",
    "plt.xticks(rotation=45)\n",
    "plt.show()"
   ]
  },
  {
   "cell_type": "code",
   "execution_count": 37,
   "metadata": {},
   "outputs": [
    {
     "name": "stdout",
     "output_type": "stream",
     "text": [
      "Top 10 date entities:\n",
      "2017 rok.: 8\n",
      "2014 rok.: 8\n",
      "2010 rok.: 6\n",
      "1040: 6\n",
      "1065: 4\n",
      "rok 90.: 4\n",
      "maj: 4\n",
      "2011 rok: 4\n",
      "1099: 3\n",
      "2017: 3\n",
      "\n",
      "\n",
      "Top 10 orgName entities:\n",
      "IRA: 59\n",
      "ETF: 31\n",
      "Roth IRA: 16\n",
      "SIPC: 14\n",
      "Apple: 12\n",
      "MBS: 11\n",
      "Google: 11\n",
      "IRS: 11\n",
      "LLC: 10\n",
      "IPO: 9\n",
      "\n",
      "\n",
      "Top 10 persName entities:\n",
      "sald: 13\n",
      "Uber: 12\n",
      "gdyby być: 7\n",
      "amazon: 7\n",
      "Amazon: 7\n",
      "Walmart: 6\n",
      "Trump: 6\n",
      "Grahama: 6\n",
      "Reddit: 5\n",
      "Vanguard: 5\n",
      "\n",
      "\n",
      "Top 10 placeName entities:\n",
      "USA: 83\n",
      "amerykański: 50\n",
      "Stany Zjednoczone: 33\n",
      "Indie: 19\n",
      "Kanada: 14\n",
      "kanadyjski: 14\n",
      "Wielki Brytania: 13\n",
      "indyjski: 11\n",
      "Facebook: 9\n",
      "Ameryka: 7\n",
      "\n",
      "\n",
      "Top 10 geogName entities:\n",
      "Europa: 13\n",
      "Afryka: 4\n",
      "azjatycki: 4\n",
      "McDonald's: 4\n",
      "Yelp: 4\n",
      "europejski: 3\n",
      "Ameryka: 3\n",
      "biały dom: 3\n",
      "Shrewsbura: 2\n",
      "Indeksie: 2\n",
      "\n",
      "\n",
      "Top 10 time entities:\n",
      "godzina.: 2\n",
      "północ: 1\n",
      "11: 1\n",
      "87: 1\n",
      "0.: 1\n",
      "15: 1\n",
      "\n",
      "\n"
     ]
    }
   ],
   "source": [
    "entities_by_type = {}\n",
    "\n",
    "for doc in docs:\n",
    "    for ent in doc.ents:\n",
    "        if ent.label_ not in entities_by_type:\n",
    "            entities_by_type[ent.label_] = Counter()\n",
    "        entities_by_type[ent.label_][ent.lemma_] += 1\n",
    "\n",
    "for label, counter in entities_by_type.items():\n",
    "    print(f\"Top 10 {label} entities:\")\n",
    "    for entity, count in counter.most_common(10):\n",
    "        print(f\"{entity}: {count}\")\n",
    "    print(\"\\n\")\n"
   ]
  },
  {
   "cell_type": "code",
   "execution_count": 15,
   "metadata": {},
   "outputs": [
    {
     "name": "stdout",
     "output_type": "stream",
     "text": [
      "USA (placeName): 83\n",
      "IRA (orgName): 59\n",
      "ETF (orgName): 31\n",
      "Stanach Zjednoczonych (placeName): 16\n",
      "Roth IRA (orgName): 16\n",
      "amerykańskie (placeName): 15\n",
      "SIPC (orgName): 14\n",
      "Amazon (persName): 14\n",
      "MBS (orgName): 13\n",
      "Wielkiej Brytanii (placeName): 13\n"
     ]
    }
   ],
   "source": [
    "all_entities = []\n",
    "\n",
    "for doc in docs:\n",
    "    for ent in doc.ents:\n",
    "        all_entities.append((ent.text, ent.label_))\n",
    "\n",
    "entity_count = Counter(all_entities)\n",
    "\n",
    "for entity, count in entity_count.most_common(10):\n",
    "    print(f\"{entity[0]} ({entity[1]}): {count}\")\n"
   ]
  },
  {
   "cell_type": "code",
   "execution_count": 17,
   "metadata": {},
   "outputs": [
    {
     "name": "stdout",
     "output_type": "stream",
     "text": [
      "Sentence: W sprawie z 1980 r. Sąd Najwyższy odrzucił ideę „ogólnego obowiązku pomiędzy wszystkimi uczestnikami transakcji rynkowych zaniechania działań na podstawie istotnych, niepublicznych informacji.\n"
     ]
    },
    {
     "data": {
      "text/html": [
       "<span class=\"tex2jax_ignore\"><!DOCTYPE html>\n",
       "<html lang=\"pl\">\n",
       "    <head>\n",
       "        <title>displaCy</title>\n",
       "    </head>\n",
       "\n",
       "    <body style=\"font-size: 16px; font-family: -apple-system, BlinkMacSystemFont, 'Segoe UI', Helvetica, Arial, sans-serif, 'Apple Color Emoji', 'Segoe UI Emoji', 'Segoe UI Symbol'; padding: 4rem 2rem; direction: ltr\">\n",
       "<figure style=\"margin-bottom: 6rem\">\n",
       "<div class=\"entities\" style=\"line-height: 2.5; direction: ltr\">W sprawie z \n",
       "<mark class=\"entity\" style=\"background: #bfe1d9; padding: 0.45em 0.6em; margin: 0 0.25em; line-height: 1; border-radius: 0.35em;\">\n",
       "    1980 r.\n",
       "    <span style=\"font-size: 0.8em; font-weight: bold; line-height: 1; border-radius: 0.35em; vertical-align: middle; margin-left: 0.5rem\">date</span>\n",
       "</mark>\n",
       " \n",
       "<mark class=\"entity\" style=\"background: #ddd; padding: 0.45em 0.6em; margin: 0 0.25em; line-height: 1; border-radius: 0.35em;\">\n",
       "    Sąd Najwyższy\n",
       "    <span style=\"font-size: 0.8em; font-weight: bold; line-height: 1; border-radius: 0.35em; vertical-align: middle; margin-left: 0.5rem\">orgName</span>\n",
       "</mark>\n",
       " odrzucił ideę „ogólnego obowiązku pomiędzy wszystkimi uczestnikami transakcji rynkowych zaniechania działań na podstawie istotnych, niepublicznych informacji.</div>\n",
       "</figure>\n",
       "</body>\n",
       "</html></span>"
      ],
      "text/plain": [
       "<IPython.core.display.HTML object>"
      ]
     },
     "metadata": {},
     "output_type": "display_data"
    },
    {
     "name": "stdout",
     "output_type": "stream",
     "text": [
      "Sentence: Powiedz mi, co Citibank ma coś wspólnego z JP Morganem.\n"
     ]
    },
    {
     "data": {
      "text/html": [
       "<span class=\"tex2jax_ignore\"><!DOCTYPE html>\n",
       "<html lang=\"pl\">\n",
       "    <head>\n",
       "        <title>displaCy</title>\n",
       "    </head>\n",
       "\n",
       "    <body style=\"font-size: 16px; font-family: -apple-system, BlinkMacSystemFont, 'Segoe UI', Helvetica, Arial, sans-serif, 'Apple Color Emoji', 'Segoe UI Emoji', 'Segoe UI Symbol'; padding: 4rem 2rem; direction: ltr\">\n",
       "<figure style=\"margin-bottom: 6rem\">\n",
       "<div class=\"entities\" style=\"line-height: 2.5; direction: ltr\">Powiedz mi, co \n",
       "<mark class=\"entity\" style=\"background: #ddd; padding: 0.45em 0.6em; margin: 0 0.25em; line-height: 1; border-radius: 0.35em;\">\n",
       "    Citibank\n",
       "    <span style=\"font-size: 0.8em; font-weight: bold; line-height: 1; border-radius: 0.35em; vertical-align: middle; margin-left: 0.5rem\">persName</span>\n",
       "</mark>\n",
       " ma coś wspólnego z \n",
       "<mark class=\"entity\" style=\"background: #ddd; padding: 0.45em 0.6em; margin: 0 0.25em; line-height: 1; border-radius: 0.35em;\">\n",
       "    JP Morganem\n",
       "    <span style=\"font-size: 0.8em; font-weight: bold; line-height: 1; border-radius: 0.35em; vertical-align: middle; margin-left: 0.5rem\">orgName</span>\n",
       "</mark>\n",
       ". </div>\n",
       "</figure>\n",
       "</body>\n",
       "</html></span>"
      ],
      "text/plain": [
       "<IPython.core.display.HTML object>"
      ]
     },
     "metadata": {},
     "output_type": "display_data"
    },
    {
     "name": "stdout",
     "output_type": "stream",
     "text": [
      "Sentence: Powiedz mi jeszcze raz, w jaki sposób JP Morgan jest odpowiedzialny za CDO i MBS.\n"
     ]
    },
    {
     "data": {
      "text/html": [
       "<span class=\"tex2jax_ignore\"><!DOCTYPE html>\n",
       "<html lang=\"pl\">\n",
       "    <head>\n",
       "        <title>displaCy</title>\n",
       "    </head>\n",
       "\n",
       "    <body style=\"font-size: 16px; font-family: -apple-system, BlinkMacSystemFont, 'Segoe UI', Helvetica, Arial, sans-serif, 'Apple Color Emoji', 'Segoe UI Emoji', 'Segoe UI Symbol'; padding: 4rem 2rem; direction: ltr\">\n",
       "<figure style=\"margin-bottom: 6rem\">\n",
       "<div class=\"entities\" style=\"line-height: 2.5; direction: ltr\">Powiedz mi jeszcze raz, w jaki sposób \n",
       "<mark class=\"entity\" style=\"background: #ddd; padding: 0.45em 0.6em; margin: 0 0.25em; line-height: 1; border-radius: 0.35em;\">\n",
       "    JP Morgan\n",
       "    <span style=\"font-size: 0.8em; font-weight: bold; line-height: 1; border-radius: 0.35em; vertical-align: middle; margin-left: 0.5rem\">persName</span>\n",
       "</mark>\n",
       " jest odpowiedzialny za \n",
       "<mark class=\"entity\" style=\"background: #ddd; padding: 0.45em 0.6em; margin: 0 0.25em; line-height: 1; border-radius: 0.35em;\">\n",
       "    CDO\n",
       "    <span style=\"font-size: 0.8em; font-weight: bold; line-height: 1; border-radius: 0.35em; vertical-align: middle; margin-left: 0.5rem\">orgName</span>\n",
       "</mark>\n",
       " i \n",
       "<mark class=\"entity\" style=\"background: #ddd; padding: 0.45em 0.6em; margin: 0 0.25em; line-height: 1; border-radius: 0.35em;\">\n",
       "    MBS\n",
       "    <span style=\"font-size: 0.8em; font-weight: bold; line-height: 1; border-radius: 0.35em; vertical-align: middle; margin-left: 0.5rem\">orgName</span>\n",
       "</mark>\n",
       ". </div>\n",
       "</figure>\n",
       "</body>\n",
       "</html></span>"
      ],
      "text/plain": [
       "<IPython.core.display.HTML object>"
      ]
     },
     "metadata": {},
     "output_type": "display_data"
    },
    {
     "name": "stdout",
     "output_type": "stream",
     "text": [
      "Sentence: „**Kryzys naftowy 1973** Kryzys naftowy 1973 rozpoczął się w październiku 1973, kiedy członkowie Organizacji Arabskich Krajów Eksportujących Ropę Naftową ogłosili embargo naftowe.\n"
     ]
    },
    {
     "data": {
      "text/html": [
       "<span class=\"tex2jax_ignore\"><!DOCTYPE html>\n",
       "<html lang=\"pl\">\n",
       "    <head>\n",
       "        <title>displaCy</title>\n",
       "    </head>\n",
       "\n",
       "    <body style=\"font-size: 16px; font-family: -apple-system, BlinkMacSystemFont, 'Segoe UI', Helvetica, Arial, sans-serif, 'Apple Color Emoji', 'Segoe UI Emoji', 'Segoe UI Symbol'; padding: 4rem 2rem; direction: ltr\">\n",
       "<figure style=\"margin-bottom: 6rem\">\n",
       "<div class=\"entities\" style=\"line-height: 2.5; direction: ltr\">„**Kryzys naftowy 1973** Kryzys naftowy \n",
       "<mark class=\"entity\" style=\"background: #bfe1d9; padding: 0.45em 0.6em; margin: 0 0.25em; line-height: 1; border-radius: 0.35em;\">\n",
       "    1973\n",
       "    <span style=\"font-size: 0.8em; font-weight: bold; line-height: 1; border-radius: 0.35em; vertical-align: middle; margin-left: 0.5rem\">date</span>\n",
       "</mark>\n",
       " rozpoczął się w \n",
       "<mark class=\"entity\" style=\"background: #bfe1d9; padding: 0.45em 0.6em; margin: 0 0.25em; line-height: 1; border-radius: 0.35em;\">\n",
       "    październiku 1973\n",
       "    <span style=\"font-size: 0.8em; font-weight: bold; line-height: 1; border-radius: 0.35em; vertical-align: middle; margin-left: 0.5rem\">date</span>\n",
       "</mark>\n",
       ", kiedy członkowie \n",
       "<mark class=\"entity\" style=\"background: #ddd; padding: 0.45em 0.6em; margin: 0 0.25em; line-height: 1; border-radius: 0.35em;\">\n",
       "    Organizacji Arabskich Krajów Eksportujących Ropę Naftową\n",
       "    <span style=\"font-size: 0.8em; font-weight: bold; line-height: 1; border-radius: 0.35em; vertical-align: middle; margin-left: 0.5rem\">orgName</span>\n",
       "</mark>\n",
       " ogłosili embargo naftowe. </div>\n",
       "</figure>\n",
       "</body>\n",
       "</html></span>"
      ],
      "text/plain": [
       "<IPython.core.display.HTML object>"
      ]
     },
     "metadata": {},
     "output_type": "display_data"
    },
    {
     "name": "stdout",
     "output_type": "stream",
     "text": [
      "Sentence: Embargo nastąpiło w odpowiedzi na poparcie Stanów Zjednoczonych dla Izraela podczas wojny Jom Kippur.\n"
     ]
    },
    {
     "data": {
      "text/html": [
       "<span class=\"tex2jax_ignore\"><!DOCTYPE html>\n",
       "<html lang=\"pl\">\n",
       "    <head>\n",
       "        <title>displaCy</title>\n",
       "    </head>\n",
       "\n",
       "    <body style=\"font-size: 16px; font-family: -apple-system, BlinkMacSystemFont, 'Segoe UI', Helvetica, Arial, sans-serif, 'Apple Color Emoji', 'Segoe UI Emoji', 'Segoe UI Symbol'; padding: 4rem 2rem; direction: ltr\">\n",
       "<figure style=\"margin-bottom: 6rem\">\n",
       "<div class=\"entities\" style=\"line-height: 2.5; direction: ltr\">Embargo nastąpiło w odpowiedzi na poparcie \n",
       "<mark class=\"entity\" style=\"background: #ddd; padding: 0.45em 0.6em; margin: 0 0.25em; line-height: 1; border-radius: 0.35em;\">\n",
       "    Stanów Zjednoczonych\n",
       "    <span style=\"font-size: 0.8em; font-weight: bold; line-height: 1; border-radius: 0.35em; vertical-align: middle; margin-left: 0.5rem\">placeName</span>\n",
       "</mark>\n",
       " dla \n",
       "<mark class=\"entity\" style=\"background: #ddd; padding: 0.45em 0.6em; margin: 0 0.25em; line-height: 1; border-radius: 0.35em;\">\n",
       "    Izraela\n",
       "    <span style=\"font-size: 0.8em; font-weight: bold; line-height: 1; border-radius: 0.35em; vertical-align: middle; margin-left: 0.5rem\">placeName</span>\n",
       "</mark>\n",
       " podczas wojny \n",
       "<mark class=\"entity\" style=\"background: #ddd; padding: 0.45em 0.6em; margin: 0 0.25em; line-height: 1; border-radius: 0.35em;\">\n",
       "    Jom Kippur\n",
       "    <span style=\"font-size: 0.8em; font-weight: bold; line-height: 1; border-radius: 0.35em; vertical-align: middle; margin-left: 0.5rem\">persName</span>\n",
       "</mark>\n",
       ". </div>\n",
       "</figure>\n",
       "</body>\n",
       "</html></span>"
      ],
      "text/plain": [
       "<IPython.core.display.HTML object>"
      ]
     },
     "metadata": {},
     "output_type": "display_data"
    }
   ],
   "source": [
    "from spacy import displacy\n",
    "\n",
    "counter_int = 1\n",
    "\n",
    "for doc in docs:\n",
    "    for sent in doc.sents:\n",
    "        ents_in_sentence = [ent for ent in sent.ents]\n",
    "        if len(ents_in_sentence) >= 2:\n",
    "            print(f\"Sentence: {sent.text}\")\n",
    "            displacy.render(sent, style='ent', page=True)\n",
    "            counter_int += 1 \n",
    "\n",
    "        if counter_int>5:\n",
    "            break\n",
    "\n",
    "    if counter_int>5:\n",
    "            break"
   ]
  },
  {
   "cell_type": "markdown",
   "metadata": {},
   "source": [
    "# Answering the following questions:"
   ]
  },
  {
   "cell_type": "markdown",
   "metadata": {},
   "source": [
    "#### Which of the method (counting expressions with capital letters vs. NER) worked better for the task concerned with identification of the proper names?"
   ]
  },
  {
   "cell_type": "markdown",
   "metadata": {},
   "source": [
    "The ner works better. First of all it could find a companyName/product that starts with non capital letter like iPhone. It also considers the first word of each sentence so there is no issue with capital letter at the begining of the sentence. \n",
    "The only issue that ner could have is some uncommon proper names which it could not recognize unlike the method with capital letters."
   ]
  },
  {
   "cell_type": "markdown",
   "metadata": {},
   "source": [
    "#### What are the drawbacks of the method based on capital letters?"
   ]
  },
  {
   "cell_type": "markdown",
   "metadata": {},
   "source": [
    "- Method based on the capital letters from the begining ditched the first word in a sentence. \n",
    "- The two words country names like `Stany Zjednoczone` will be split to `Stany` and `Zjednoczone`\n",
    "- Let's consider the following sentence `ODDAJ MI MOJE PIENIĄDZE.`. While the capital letter method would consider `MI`,`MOJE`,`PIENIĄDZE` as proper names (becasue all those words start with capital letter) the `NER` method would not label them so."
   ]
  },
  {
   "cell_type": "markdown",
   "metadata": {},
   "source": [
    "#### What are the drawbacks of the method based on NER?"
   ]
  },
  {
   "cell_type": "markdown",
   "metadata": {},
   "source": [
    "- The labels has to be defined beforehand of extracting. So when we want to find all words with captial letters we need to have them labeled like `OrgName`, `PersName`\n",
    "- `NER` depends on the model we are using and most models are not multilingual so when in our polsih sentence the English word would appear we wont be able to identify it"
   ]
  },
  {
   "cell_type": "markdown",
   "metadata": {},
   "source": [
    "#### Which of the coarse-grained NER groups has the best and which has the worst results? Try to justify this observation."
   ]
  },
  {
   "cell_type": "markdown",
   "metadata": {},
   "source": [
    "- The best result definitely has a `date` label. It perfectly captures dates with both the year and month.\n",
    "- The worst result has a `time` label. Although most of the entities are correct, one of them is 87 or 0, which, in the context of time, is completely absurd.\n",
    "- It is also important to mention `placeName` or `persName`. The first one performed well, while the second identified text that is definitely not a person, such as `Reddit`. This is understandable, as names of people are often difficult to identify and are usually formed from various word combinations, such as Róża."
   ]
  },
  {
   "cell_type": "markdown",
   "metadata": {},
   "source": [
    "#### Do you think NER is sufficient for identifying different occurrences of the same entity (i.e. consider \"USA\" and \"Stany Zjednoczone\" and \"Stany Zjednoczone Ameryki Północnej\")? If not, can you suggest an algorithm or a tool that would be able to group such names together?"
   ]
  },
  {
   "cell_type": "markdown",
   "metadata": {},
   "source": [
    "No. Considering the exercises i just did, the ner distingiush the `USA` and `Stany Zjednoczone`. To help ner connect thos entities we can use `EntityLinker` (https://spacy.io/api/entitylinker ) and `SourceInMemoryLookupKB` (https://spacy.io/api/inmemorylookupkb#_title).\n",
    "Thanks to the `SourceInMemoryLookupKB` we can put an alias for `USA` and link it to coresposnding entity `Stany Zjednoczone` using the add_alias and setting probability to 1. (Image below)\n"
   ]
  },
  {
   "cell_type": "markdown",
   "metadata": {},
   "source": [
    "![image](../images/lab6/add_alias.png)"
   ]
  },
  {
   "cell_type": "markdown",
   "metadata": {},
   "source": [
    "#### Can you think of a real world problem that would benefit the most from application of Named Entity Recognition algorithm?"
   ]
  },
  {
   "cell_type": "markdown",
   "metadata": {},
   "source": [
    "- The google search, when a user is typing a single word like a Tesla, the NER can categorize the subject of user intention for `Company` or `Person`\n",
    "- Recomendation system. Let's consider the website with articles, based on tags that are in artcicle which can be extracted via ner. For example user read article about Tesla which in most cases coudl be a car or tech-company but this user read about scientist. So thanks to ner (which extracted from sentence that it is about a man) we can recommend user a new historical scientist.\n",
    "- Mail aggregation. We can write a bot that will read all mails we got from the mailbox. Based on most popular entities we can aggreate mails to categories. Let's consider the following example. We are a big hiring company and we need 3 new people one cook, one computer scientist and one driver. We can aggregate all mails from a resume mail and segrate all resumes for HR deparment.\n",
    "- User feedback. Let's consider that we are a small financial company with a report box. We can categorize all user requets by ner, like one about our bank account issues or one about website issues."
   ]
  }
 ],
 "metadata": {
  "kernelspec": {
   "display_name": "Python 3 (ipykernel)",
   "language": "python",
   "name": "python3"
  },
  "language_info": {
   "codemirror_mode": {
    "name": "ipython",
    "version": 3
   },
   "file_extension": ".py",
   "mimetype": "text/x-python",
   "name": "python",
   "nbconvert_exporter": "python",
   "pygments_lexer": "ipython3",
   "version": "3.11.9"
  }
 },
 "nbformat": 4,
 "nbformat_minor": 2
}
