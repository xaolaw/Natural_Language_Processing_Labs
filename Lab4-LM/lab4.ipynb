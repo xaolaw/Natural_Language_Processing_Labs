{
 "cells": [
  {
   "cell_type": "markdown",
   "metadata": {},
   "source": [
    "# 1) Loading models"
   ]
  },
  {
   "cell_type": "code",
   "execution_count": 1,
   "metadata": {},
   "outputs": [],
   "source": [
    "from transformers import pipeline"
   ]
  },
  {
   "cell_type": "code",
   "execution_count": 136,
   "metadata": {},
   "outputs": [
    {
     "data": {
      "text/plain": [
       "-1"
      ]
     },
     "execution_count": 136,
     "metadata": {},
     "output_type": "execute_result"
    }
   ],
   "source": [
    "import torch\n",
    "device = 0 if torch.cuda.is_available() else -1\n",
    "device"
   ]
  },
  {
   "cell_type": "code",
   "execution_count": 133,
   "metadata": {},
   "outputs": [],
   "source": [
    "models = {\n",
    "    \"HerBERT\": \"allegro/herbert-base-cased\",\n",
    "    \"Facebook\": \"FacebookAI/xlm-roberta-base\",\n",
    "    \"Papuga\": \"flax-community/papuGaPT2\"\n",
    "}"
   ]
  },
  {
   "cell_type": "code",
   "execution_count": 137,
   "metadata": {},
   "outputs": [
    {
     "name": "stderr",
     "output_type": "stream",
     "text": [
      "Device set to use cpu\n",
      "Some weights of the model checkpoint at FacebookAI/xlm-roberta-base were not used when initializing XLMRobertaForMaskedLM: ['roberta.pooler.dense.bias', 'roberta.pooler.dense.weight']\n",
      "- This IS expected if you are initializing XLMRobertaForMaskedLM from the checkpoint of a model trained on another task or with another architecture (e.g. initializing a BertForSequenceClassification model from a BertForPreTraining model).\n",
      "- This IS NOT expected if you are initializing XLMRobertaForMaskedLM from the checkpoint of a model that you expect to be exactly identical (initializing a BertForSequenceClassification model from a BertForSequenceClassification model).\n",
      "Device set to use cpu\n",
      "Device set to use cpu\n"
     ]
    }
   ],
   "source": [
    "pipelines = {}\n",
    "\n",
    "for model_name, model_path in models.items():\n",
    "  if model_name == \"Papuga\":\n",
    "    pipelines[model_name] = pipeline(task=\"text-generation\", model=model_path)\n",
    "  else:\n",
    "    pipelines[model_name] = pipeline(task=\"fill-mask\", model=model_path)"
   ]
  },
  {
   "cell_type": "code",
   "execution_count": 140,
   "metadata": {},
   "outputs": [
    {
     "name": "stdout",
     "output_type": "stream",
     "text": [
      "[{'score': 0.08581207692623138, 'token': 4541, 'token_str': 'pierwszym', 'sequence': 'Geralt z Rivii jest pierwszym wiedźminem ze szkoły wilka .'}]\n"
     ]
    },
    {
     "name": "stderr",
     "output_type": "stream",
     "text": [
      "Setting `pad_token_id` to `eos_token_id`:50256 for open-end generation.\n"
     ]
    },
    {
     "name": "stdout",
     "output_type": "stream",
     "text": [
      "[{'score': 0.10300716012716293, 'token': 96446, 'token_str': 'pierwszym', 'sequence': 'Geralt z Rivii jest pierwszym wiedźminem ze szkoły wilka.'}]\n",
      "[{'generated_text': 'Geralt z Rivii jest wiedźminem ze szkoły wilka. I jest on owiany tajemnicą.\\nW świecie, w którym magia jest wszechobecna, a magia jest wszechobecna, a magia jest wszechobecna, a magia jest wszechobec'}]\n"
     ]
    }
   ],
   "source": [
    "text = \"Geralt z Rivii jest <mask> wiedźminem ze szkoły wilka.\"\n",
    "preds = pipelines['HerBERT'](text, top_k=1)\n",
    "print(preds)\n",
    "preds = pipelines['Facebook'](text, top_k=1)\n",
    "print(preds)\n",
    "text = \"Geralt z Rivii jest wiedźminem ze szkoły wilka. I jest on \"\n",
    "preds = pipelines['Papuga'](text, top_k=1)\n",
    "print(preds)"
   ]
  },
  {
   "cell_type": "markdown",
   "metadata": {},
   "source": [
    "# 2) Nominativus"
   ]
  },
  {
   "cell_type": "code",
   "execution_count": 157,
   "metadata": {},
   "outputs": [],
   "source": [
    "test_cases_nominativus = {\n",
    "  \"Mianownik\": [\n",
    "    \"Kraków to moje miasto <mask>, w którym się urodziłem.\",\n",
    "    \"Wieliczka to <mask> na skale soli.\"\n",
    "  ],\n",
    "  \"Dopełniacz\": [\n",
    "    \"Widziałem <mask> cień, latającego po niebie.\",\n",
    "    \"W Japoni widziałem super szybki <mask>.\"\n",
    "  ],\n",
    "  \"Celownik\": [\n",
    "    \"Przyglądam się temu <mask> na Antarktydzie.\",\n",
    "    \"Nauczyciel daje uwagi swoim <mask>\"\n",
    "  ],\n",
    "  \"Biernik\": [\n",
    "    \"Wczoraj oglądałem <mask> o imieniu Krzysztof w telewizji.\",\n",
    "    \"Ukradli cenny <mask> z muzeum.\"\n",
    "  ],\n",
    "  \"Narzędznik\": [\n",
    "    \"Jadę nowym wodorowym <mask> do kościoła.\",\n",
    "    \"Idę do teatru w swojej nowej <mask>\"\n",
    "  ],\n",
    "  \"Miejscownik\": [\n",
    "    \"Paież często mówił o <mask> z Wadowic.\",\n",
    "    \"Przeglądając zdjęcia z <mask> wracają wspomnienia.\"\n",
    "  ],\n",
    "  \"Wołacz\": [\n",
    "    \"<mask> ,chodź tutaj!\",\n",
    "    \"<mask> Ty mały kundlu!\"\n",
    "  ]\n",
    "}"
   ]
  },
  {
   "cell_type": "code",
   "execution_count": 158,
   "metadata": {},
   "outputs": [],
   "source": [
    "test_cases_nominativus_papuga = {\n",
    "    \"Mianownik\": [\n",
    "        \"Kraków to moje miasto, w którym się urodziłem. To miasto jest \",\n",
    "        \"Wieliczka to miasto zbudowane obok kopalni  \"\n",
    "    ],\n",
    "    \"Dopełniacz\": [\n",
    "        \"Widziałem cień czegoś niezwykłego na niebie. Był to \",\n",
    "        \"W Japonii widziałem bardzo szybki  \"\n",
    "    ],\n",
    "    \"Celownik\": [\n",
    "        \"Przyglądam się temu na Antarktydzie. To jest \",\n",
    "        \"Nauczyciel daje uwagi swoim uczniom, ale także \"\n",
    "    ],\n",
    "    \"Biernik\": [\n",
    "        \"Wczoraj oglądałem w telewizji program o nazwie \",\n",
    "        \"Ukradli cenny obraz z muzeum. Ten obraz przedstawiał \"\n",
    "    ],\n",
    "    \"Narzędznik\": [\n",
    "        \"Jadę nowym samochodem wodorowym, a ten samochód jest naprawdę \",\n",
    "        \"Idę do teatru w swojej nowej sukni, która wygląda \"\n",
    "    ],\n",
    "    \"Miejscownik\": [\n",
    "        \"Papież często mówił o swoim rodzinnym mieście. To było \",\n",
    "        \"Przeglądając zdjęcia z wakacji, wspomnienia wracają o miejscach takich jak \"\n",
    "    ],\n",
    "    \"Wołacz\": [\n",
    "        \"Hej, mój przyjacielu! Czy możesz przyjść tutaj, \",\n",
    "        \"Ty, mały kundlu, przestań szczekać i słuchaj, \"\n",
    "    ]\n",
    "}\n"
   ]
  },
  {
   "cell_type": "code",
   "execution_count": 163,
   "metadata": {},
   "outputs": [
    {
     "data": {
      "text/plain": [
       "{'HerBERT': {'Mianownik': [],\n",
       "  'Dopełniacz': [],\n",
       "  'Celownik': [],\n",
       "  'Biernik': [],\n",
       "  'Narzędznik': [],\n",
       "  'Miejscownik': [],\n",
       "  'Wołacz': []},\n",
       " 'Facebook': {'Mianownik': [],\n",
       "  'Dopełniacz': [],\n",
       "  'Celownik': [],\n",
       "  'Biernik': [],\n",
       "  'Narzędznik': [],\n",
       "  'Miejscownik': [],\n",
       "  'Wołacz': []},\n",
       " 'Papuga': {'Mianownik': [],\n",
       "  'Dopełniacz': [],\n",
       "  'Celownik': [],\n",
       "  'Biernik': [],\n",
       "  'Narzędznik': [],\n",
       "  'Miejscownik': [],\n",
       "  'Wołacz': []}}"
      ]
     },
     "execution_count": 163,
     "metadata": {},
     "output_type": "execute_result"
    }
   ],
   "source": [
    "case_results_nominativus = {}\n",
    "\n",
    "for model_name, model in pipelines.items():\n",
    "  case_results_nominativus[model_name] = {\n",
    "    \"Mianownik\": [],\n",
    "    \"Dopełniacz\": [],\n",
    "    \"Celownik\": [],\n",
    "    \"Biernik\": [],\n",
    "    \"Narzędznik\": [],\n",
    "    \"Miejscownik\": [],\n",
    "    \"Wołacz\": []\n",
    "  }\n",
    "case_results_nominativus"
   ]
  },
  {
   "cell_type": "code",
   "execution_count": 164,
   "metadata": {},
   "outputs": [],
   "source": [
    "for model_name, model in pipelines.items():\n",
    "  if model_name == \"Papuga\":\n",
    "    break\n",
    "  for case, sents in test_cases_nominativus.items():\n",
    "    case_result = []\n",
    "    for sent in sents:\n",
    "      preds = model(sent, top_k=1)\n",
    "      case_result.append((preds[0]['score'],preds[0]['token_str'],preds[0]['sequence']))\n",
    "    case_results_nominativus[model_name][case] = case_result"
   ]
  },
  {
   "cell_type": "code",
   "execution_count": 173,
   "metadata": {},
   "outputs": [
    {
     "name": "stderr",
     "output_type": "stream",
     "text": [
      "Setting `pad_token_id` to `eos_token_id`:50256 for open-end generation.\n",
      "Setting `pad_token_id` to `eos_token_id`:50256 for open-end generation.\n",
      "Setting `pad_token_id` to `eos_token_id`:50256 for open-end generation.\n",
      "Setting `pad_token_id` to `eos_token_id`:50256 for open-end generation.\n",
      "Setting `pad_token_id` to `eos_token_id`:50256 for open-end generation.\n",
      "Setting `pad_token_id` to `eos_token_id`:50256 for open-end generation.\n",
      "Setting `pad_token_id` to `eos_token_id`:50256 for open-end generation.\n",
      "Setting `pad_token_id` to `eos_token_id`:50256 for open-end generation.\n",
      "Setting `pad_token_id` to `eos_token_id`:50256 for open-end generation.\n",
      "Setting `pad_token_id` to `eos_token_id`:50256 for open-end generation.\n",
      "Setting `pad_token_id` to `eos_token_id`:50256 for open-end generation.\n",
      "Setting `pad_token_id` to `eos_token_id`:50256 for open-end generation.\n",
      "Setting `pad_token_id` to `eos_token_id`:50256 for open-end generation.\n",
      "Setting `pad_token_id` to `eos_token_id`:50256 for open-end generation.\n"
     ]
    }
   ],
   "source": [
    "model_name = pipelines['Papuga']\n",
    "for case, sents in test_cases_nominativus_papuga.items():\n",
    "  case_result = []\n",
    "  for sent in sents:\n",
    "    preds = model(sent, top_k=1)\n",
    "    case_result.append((sent,preds[0]['generated_text']))\n",
    "  case_results_nominativus['Papuga'][case] = case_result"
   ]
  },
  {
   "cell_type": "code",
   "execution_count": 174,
   "metadata": {},
   "outputs": [],
   "source": [
    "YELLOW = '\\033[93m'\n",
    "GREEN = '\\033[92m'\n",
    "RED = '\\033[91m'\n",
    "RESET = '\\033[0m'"
   ]
  },
  {
   "cell_type": "code",
   "execution_count": 176,
   "metadata": {},
   "outputs": [
    {
     "name": "stdout",
     "output_type": "stream",
     "text": [
      "Results for model: \u001b[92mHerBERT\u001b[0m\n",
      "Results for nominativus: \u001b[91mMianownik\u001b[0m\n",
      "Score 0.78911954164505, filled word \u001b[93mrodzinne\u001b[0m full sentence \u001b[93mKraków to moje miasto rodzinne , w którym się urodziłem .\u001b[0m\n",
      "Score 0.23422826826572418, filled word \u001b[93mmiasto\u001b[0m full sentence \u001b[93mWieliczka to miasto na skale soli .\u001b[0m\n",
      "----------------\n",
      "Results for nominativus: \u001b[91mDopełniacz\u001b[0m\n",
      "Score 0.7132082581520081, filled word \u001b[93mjego\u001b[0m full sentence \u001b[93mWidziałem jego cień , latającego po niebie .\u001b[0m\n",
      "Score 0.1343093365430832, filled word \u001b[93msamolot\u001b[0m full sentence \u001b[93mW Japoni widziałem super szybki samolot .\u001b[0m\n",
      "----------------\n",
      "Results for nominativus: \u001b[91mCelownik\u001b[0m\n",
      "Score 0.1086496114730835, filled word \u001b[93mmiejscu\u001b[0m full sentence \u001b[93mPrzyglądam się temu miejscu na Antarktydzie .\u001b[0m\n",
      "Score 0.716489851474762, filled word \u001b[93muczniom\u001b[0m full sentence \u001b[93mNauczyciel daje uwagi swoim uczniom\u001b[0m\n",
      "----------------\n",
      "Results for nominativus: \u001b[91mBiernik\u001b[0m\n",
      "Score 0.29405054450035095, filled word \u001b[93mczłowieka\u001b[0m full sentence \u001b[93mWczoraj oglądałem człowieka o imieniu Krzysztof w telewizji .\u001b[0m\n",
      "Score 0.4107305109500885, filled word \u001b[93mzabytek\u001b[0m full sentence \u001b[93mUkradli cenny zabytek z muzeum .\u001b[0m\n",
      "----------------\n",
      "Results for nominativus: \u001b[91mNarzędznik\u001b[0m\n",
      "Score 0.63040691614151, filled word \u001b[93msamochodem\u001b[0m full sentence \u001b[93mJadę nowym wodorowym samochodem do kościoła .\u001b[0m\n",
      "Score 0.21733030676841736, filled word \u001b[93mroli\u001b[0m full sentence \u001b[93mIdę do teatru w swojej nowej roli\u001b[0m\n",
      "----------------\n",
      "Results for nominativus: \u001b[91mMiejscownik\u001b[0m\n",
      "Score 0.12415194511413574, filled word \u001b[93mludziach\u001b[0m full sentence \u001b[93mPaież często mówił o ludziach z Wadowic .\u001b[0m\n",
      "Score 0.21181371808052063, filled word \u001b[93mdzieciństwa\u001b[0m full sentence \u001b[93mPrzeglądając zdjęcia z dzieciństwa wracają wspomnienia .\u001b[0m\n",
      "----------------\n",
      "Results for nominativus: \u001b[91mWołacz\u001b[0m\n",
      "Score 0.1734626293182373, filled word \u001b[93mHej\u001b[0m full sentence \u001b[93mHej , chodź tutaj !\u001b[0m\n",
      "Score 0.32828328013420105, filled word \u001b[93mO\u001b[0m full sentence \u001b[93mO Ty mały kundlu !\u001b[0m\n",
      "----------------\n",
      "Results for model: \u001b[92mFacebook\u001b[0m\n",
      "Results for nominativus: \u001b[91mMianownik\u001b[0m\n",
      "Score 0.8416991829872131, filled word \u001b[93mrodzinne\u001b[0m full sentence \u001b[93mKraków to moje miasto rodzinne , w którym się urodziłem.\u001b[0m\n",
      "Score 0.2657090425491333, filled word \u001b[93mfu\u001b[0m full sentence \u001b[93mWieliczka tofu na skale soli.\u001b[0m\n",
      "----------------\n",
      "Results for nominativus: \u001b[91mDopełniacz\u001b[0m\n",
      "Score 0.15391825139522552, filled word \u001b[93mten\u001b[0m full sentence \u001b[93mWidziałem ten cień, latającego po niebie.\u001b[0m\n",
      "Score 0.22260847687721252, filled word \u001b[93mautobus\u001b[0m full sentence \u001b[93mW Japoni widziałem super szybki autobus .\u001b[0m\n",
      "----------------\n",
      "Results for nominativus: \u001b[91mCelownik\u001b[0m\n",
      "Score 0.0869314894080162, filled word \u001b[93mmiejscu\u001b[0m full sentence \u001b[93mPrzyglądam się temu miejscu na Antarktydzie.\u001b[0m\n",
      "Score 0.40315788984298706, filled word \u001b[93mklientom\u001b[0m full sentence \u001b[93mNauczyciel daje uwagi swoim klientom\u001b[0m\n",
      "----------------\n",
      "Results for nominativus: \u001b[91mBiernik\u001b[0m\n",
      "Score 0.4381641149520874, filled word \u001b[93mserial\u001b[0m full sentence \u001b[93mWczoraj oglądałem serial o imieniu Krzysztof w telewizji.\u001b[0m\n",
      "Score 0.16192762553691864, filled word \u001b[93mobraz\u001b[0m full sentence \u001b[93mUkradli cenny obraz z muzeum.\u001b[0m\n",
      "----------------\n",
      "Results for nominativus: \u001b[91mNarzędznik\u001b[0m\n",
      "Score 0.19754211604595184, filled word \u001b[93msamochodem\u001b[0m full sentence \u001b[93mJadę nowym wodorowym samochodem do kościoła.\u001b[0m\n",
      "Score 0.3532501459121704, filled word \u001b[93mwersji\u001b[0m full sentence \u001b[93mIdę do teatru w swojej nowej wersji\u001b[0m\n",
      "----------------\n",
      "Results for nominativus: \u001b[91mMiejscownik\u001b[0m\n",
      "Score 0.307912141084671, filled word \u001b[93msobie\u001b[0m full sentence \u001b[93mPaież często mówił o sobie z Wadowic.\u001b[0m\n",
      "Score 0.44565799832344055, filled word \u001b[93mpodróży\u001b[0m full sentence \u001b[93mPrzeglądając zdjęcia z podróży wracają wspomnienia.\u001b[0m\n",
      "----------------\n",
      "Results for nominativus: \u001b[91mWołacz\u001b[0m\n",
      "Score 0.12744955718517303, filled word \u001b[93mHola\u001b[0m full sentence \u001b[93mHola ,chodź tutaj!\u001b[0m\n",
      "Score 0.24061276018619537, filled word \u001b[93mO\u001b[0m full sentence \u001b[93mO Ty mały kundlu!\u001b[0m\n",
      "----------------\n",
      "Results for model: \u001b[92mPapuga\u001b[0m\n",
      "Results for nominativus: \u001b[91mMianownik\u001b[0m\n",
      "To fill sentence \u001b[93mKraków to moje miasto, w którym się urodziłem. To miasto jest \u001b[0m full sentence \u001b[93mKraków to moje miasto, w którym się urodziłem. To miasto jest owiane legendą, a ja jestem jej częścią. To miasto jest moim domem, w którym się wychowałem. To miasto jest moim domem, w którym się wychowałem.\u001b[0m\n",
      "To fill sentence \u001b[93mWieliczka to miasto zbudowane obok kopalni  \u001b[0m full sentence \u001b[93mWieliczka to miasto zbudowane obok kopalni  . W mieście znajduje się wiele zabytków, które warto zobaczyć. Jednym z nich jest kościół św. Jakuba Apostoła.\n",
      "W Wieliczce znajduje się wiele ciekawych miejsc, które warto zobaczyć. Jednym z nich jest\u001b[0m\n",
      "----------------\n",
      "Results for nominativus: \u001b[91mDopełniacz\u001b[0m\n",
      "To fill sentence \u001b[93mWidziałem cień czegoś niezwykłego na niebie. Był to \u001b[0m full sentence \u001b[93mWidziałem cień czegoś niezwykłego na niebie. Był to rój pszczół. W pewnym momencie zauważyłem, że pszczoły są bardzo blisko siebie. W pewnym momencie zauważyłem, że pszczoły są bardzo blisko siebie. W pewnym momencie zauważyłem, że pszczoły są bardzo blisko siebie.\u001b[0m\n",
      "To fill sentence \u001b[93mW Japonii widziałem bardzo szybki  \u001b[0m full sentence \u001b[93mW Japonii widziałem bardzo szybki   na 1,5 km, ale to było w połowie drogi do domu.\n",
      "W Japonii jest bardzo dużo miejsc, gdzie można się zatrzymać, ale nie ma tam zbyt wielu miejsc do siedzenia.\n",
      "W Japonii jest bardzo dużo\u001b[0m\n",
      "----------------\n",
      "Results for nominativus: \u001b[91mCelownik\u001b[0m\n",
      "To fill sentence \u001b[93mPrzyglądam się temu na Antarktydzie. To jest \u001b[0m full sentence \u001b[93mPrzyglądam się temu na Antarktydzie. To jest rój, który się rozsiewa. To jest to, co się dzieje na Antarktydzie. To jest to, co się dzieje na Antarktydzie. To jest to\u001b[0m\n",
      "To fill sentence \u001b[93mNauczyciel daje uwagi swoim uczniom, ale także \u001b[0m full sentence \u001b[93mNauczyciel daje uwagi swoim uczniom, ale także ­udziela wskazówek, jak należy się zachowywać w szkole.\n",
      "Nauczyciel jest odpowiedzialny za to, by uczniowie byli w stanie zrozumieć, że są częścią społeczności szkolnej.\n",
      "Nauczyciel jest odpowiedzialny za to\u001b[0m\n",
      "----------------\n",
      "Results for nominativus: \u001b[91mBiernik\u001b[0m\n",
      "To fill sentence \u001b[93mWczoraj oglądałem w telewizji program o nazwie \u001b[0m full sentence \u001b[93mWczoraj oglądałem w telewizji program o nazwie ˝Out of the World˝, w którym pokazano, że w Polsce nie ma już żadnego rządu, a jedynie rząd PiS.\n",
      "W programie tym pokazano, że w Polsce nie ma już żadnego rządu, a\u001b[0m\n",
      "To fill sentence \u001b[93mUkradli cenny obraz z muzeum. Ten obraz przedstawiał \u001b[0m full sentence \u001b[93mUkradli cenny obraz z muzeum. Ten obraz przedstawiał rój pszczół, które w czasie deszczu zbierały miód.\n",
      "W niedzielę, 13 lipca, w kościele pw. św. Stanisława Kostki w Warszawie odbył się koncert „Muzyka w sercu Polski\u001b[0m\n",
      "----------------\n",
      "Results for nominativus: \u001b[91mNarzędznik\u001b[0m\n",
      "To fill sentence \u001b[93mJadę nowym samochodem wodorowym, a ten samochód jest naprawdę \u001b[0m full sentence \u001b[93mJadę nowym samochodem wodorowym, a ten samochód jest naprawdę owiany tajemnicą. Nie wiem, czy to jest możliwe, ale w każdym razie, nie mogę się doczekać, kiedy będę mógł go zobaczyć.\n",
      "W tym roku, po raz pierwszy\u001b[0m\n",
      "To fill sentence \u001b[93mIdę do teatru w swojej nowej sukni, która wygląda \u001b[0m full sentence \u001b[93mIdę do teatru w swojej nowej sukni, która wygląda owiana tajemnicą.\n",
      "- Nie, nie, nie. Nie, nie. Nie, nie. Nie, nie. Nie, nie. Nie, nie. Nie, nie. Nie,\u001b[0m\n",
      "----------------\n",
      "Results for nominativus: \u001b[91mMiejscownik\u001b[0m\n",
      "To fill sentence \u001b[93mPapież często mówił o swoim rodzinnym mieście. To było \u001b[0m full sentence \u001b[93mPapież często mówił o swoim rodzinnym mieście. To było owiane tajemnicą. Ale nie tylko. W latach 80. i 90. XX wieku, kiedy to miasto było stolicą Polski, w wielu miejscach na świecie, w tym w Warszawie, w wielu\u001b[0m\n",
      "To fill sentence \u001b[93mPrzeglądając zdjęcia z wakacji, wspomnienia wracają o miejscach takich jak \u001b[0m full sentence \u001b[93mPrzeglądając zdjęcia z wakacji, wspomnienia wracają o miejscach takich jak owiana złą sławą wyspa, czy też wyspa na której nie ma nic.\n",
      "W tym roku, w związku z tym, że nie udało mi się znaleźć żadnego miejsca na wakacje,\u001b[0m\n",
      "----------------\n",
      "Results for nominativus: \u001b[91mWołacz\u001b[0m\n",
      "To fill sentence \u001b[93mHej, mój przyjacielu! Czy możesz przyjść tutaj, \u001b[0m full sentence \u001b[93mHej, mój przyjacielu! Czy możesz przyjść tutaj, owiany tajemnicą, aby zobaczyć, jak wygląda życie w tym mieście? Czy możesz powiedzieć, że jesteś tutaj, aby zobaczyć, jak wygląda życie w tym mieście? Czy możesz powiedzieć, że jesteś\u001b[0m\n",
      "To fill sentence \u001b[93mTy, mały kundlu, przestań szczekać i słuchaj, \u001b[0m full sentence \u001b[93mTy, mały kundlu, przestań szczekać i słuchaj, łkaj, bo nie ma już nic do stracenia.\n",
      "- Nie, nie, nie, nie, nie, nie, nie, nie, nie, nie,\u001b[0m\n",
      "----------------\n"
     ]
    }
   ],
   "source": [
    "for model_name, data in case_results_nominativus.items():\n",
    "  print(f\"Results for model: {GREEN}{model_name}{RESET}\")\n",
    "  for case, list_ in data.items():\n",
    "    print(f\"Results for nominativus: {RED}{case}{RESET}\")\n",
    "    for item_ in list_:\n",
    "      if model_name == 'Papuga':\n",
    "        print(f\"To fill sentence {YELLOW}{item_[0]}{RESET} full sentence {YELLOW}{item_[1]}{RESET}\")\n",
    "      else:\n",
    "        print(f\"Score {item_[0]}, filled word {YELLOW}{item_[1]}{RESET} full sentence {YELLOW}{item_[2]}{RESET}\")\n",
    "    print(\"----------------\")"
   ]
  },
  {
   "cell_type": "markdown",
   "metadata": {},
   "source": [
    "# 3) Long range relationship"
   ]
  },
  {
   "cell_type": "code",
   "execution_count": 184,
   "metadata": {},
   "outputs": [],
   "source": [
    "def test_model(test_cases, test_cases_papuga):\n",
    "  case_results = {}\n",
    "\n",
    "  for model_name, model in pipelines.items():\n",
    "    case_results[model_name] = []\n",
    "  case_results\n",
    "\n",
    "  for model_name, model in pipelines.items():\n",
    "    case_result = []\n",
    "    if model_name == 'Papuga': break\n",
    "    for sent in test_cases:\n",
    "      preds = model(sent, top_k=1)\n",
    "      case_result.append((preds[0]['score'],preds[0]['token_str'],preds[0]['sequence']))\n",
    "    case_results[model_name] = case_result\n",
    "\n",
    "  model = pipelines['Papuga']\n",
    "  for sent in test_cases_papuga:\n",
    "    preds = model(sent, top_k=1)\n",
    "    case_result.append((sent,preds[0]['generated_text']))\n",
    "  case_results['Papuga'] = case_result\n",
    "\n",
    "  for model_name, data in case_results.items():\n",
    "    print(f\"Results for model: {RED}{model_name}{RESET}\")\n",
    "    for item_ in data:\n",
    "      if model_name == 'Papuga':\n",
    "        print(f\"To fill sentence {YELLOW}{item_[0]}{RESET}\")\n",
    "        print(f\"full sentence {YELLOW}{item_[1]}{RESET}\")\n",
    "      else:\n",
    "        print(f\"Score {item_[0]}, filled word {YELLOW}{item_[1]}{RESET} full sentence {YELLOW}{item_[2]}{RESET}\")\n",
    "    print(\"----------------\")"
   ]
  },
  {
   "cell_type": "code",
   "execution_count": 185,
   "metadata": {},
   "outputs": [],
   "source": [
    "test_case_long_relationship = [\n",
    "  \"Bartek często chodzi na basen, to <mask> ulubione miejsce w mieście\",\n",
    "  \"Gojo Satoru to mistrz sztuk jujutsu, to właśnie <mask> jest najpotężniejszym zaklinaczem w Japonii.\",\n",
    "  \"On jest nienormalny zjada już kolejnego kebababa, ten <mask> to wariat!\",\n",
    "  \"Królowa Jadwiga to pierwsza kobieta która została żeńskim <mask>\",\n",
    "  \"Jan Paweł drugi to najepszy papież jaki był, bez <mask> Polska nie odzyskała by niepodległości\"\n",
    "]\n",
    "\n",
    "test_case_long_relationship_papuga = [\n",
    "  \"Bartek często chodzi na basen, to miejsce jest jego\",\n",
    "  \"Gojo Satoru to mistrz sztuk jujutsu. Zatem najpoteżniejszym zaklinaczem jujutsu jest \",\n",
    "  \"On jest nienormalny zjada już kolejnego kebababa, ten\",\n",
    "  \"Królowa Jadwiga to pierwsza kobieta która została żeńskim\",\n",
    "  \"Jan Paweł drugi to najepszy papież jaki był, Polska by nieodzyskała niepodległości gdyby nie\"\n",
    "]"
   ]
  },
  {
   "cell_type": "code",
   "execution_count": 186,
   "metadata": {},
   "outputs": [
    {
     "name": "stderr",
     "output_type": "stream",
     "text": [
      "Setting `pad_token_id` to `eos_token_id`:50256 for open-end generation.\n",
      "Setting `pad_token_id` to `eos_token_id`:50256 for open-end generation.\n",
      "Setting `pad_token_id` to `eos_token_id`:50256 for open-end generation.\n",
      "Setting `pad_token_id` to `eos_token_id`:50256 for open-end generation.\n",
      "Setting `pad_token_id` to `eos_token_id`:50256 for open-end generation.\n"
     ]
    },
    {
     "name": "stdout",
     "output_type": "stream",
     "text": [
      "Results for model: \u001b[91mHerBERT\u001b[0m\n",
      "Score 0.9546632766723633, filled word \u001b[93mjego\u001b[0m full sentence \u001b[93mBartek często chodzi na basen , to jego ulubione miejsce w mieście\u001b[0m\n",
      "Score 0.9092267751693726, filled word \u001b[93mon\u001b[0m full sentence \u001b[93mGojo Satoru to mistrz sztuk jujutsu , to właśnie on jest najpotężniejszym zaklinaczem w Japonii .\u001b[0m\n",
      "Score 0.27523764967918396, filled word \u001b[93mfacet\u001b[0m full sentence \u001b[93mOn jest nienormalny zjada już kolejnego kebababa , ten facet to wariat !\u001b[0m\n",
      "Score 0.27282944321632385, filled word \u001b[93mkrólem\u001b[0m full sentence \u001b[93mKrólowa Jadwiga to pierwsza kobieta która została żeńskim królem\u001b[0m\n",
      "Score 0.8865628242492676, filled word \u001b[93mniego\u001b[0m full sentence \u001b[93mJan Paweł drugi to najepszy papież jaki był , bez niego Polska nie odzyskała by niepodległości\u001b[0m\n",
      "----------------\n",
      "Results for model: \u001b[91mFacebook\u001b[0m\n",
      "Score 0.8309106230735779, filled word \u001b[93mjego\u001b[0m full sentence \u001b[93mBartek często chodzi na basen, to jego ulubione miejsce w mieście\u001b[0m\n",
      "Score 0.8941888213157654, filled word \u001b[93mon\u001b[0m full sentence \u001b[93mGojo Satoru to mistrz sztuk jujutsu, to właśnie on jest najpotężniejszym zaklinaczem w Japonii.\u001b[0m\n",
      "Score 0.32436394691467285, filled word \u001b[93mjest\u001b[0m full sentence \u001b[93mOn jest nienormalny zjada już kolejnego kebababa, ten jest to wariat!\u001b[0m\n",
      "Score 0.20924554765224457, filled word \u001b[93mdzieckiem\u001b[0m full sentence \u001b[93mKrólowa Jadwiga to pierwsza kobieta która została żeńskim dzieckiem\u001b[0m\n",
      "Score 0.6853389143943787, filled word \u001b[93mktórego\u001b[0m full sentence \u001b[93mJan Paweł drugi to najepszy papież jaki był, bez którego Polska nie odzyskała by niepodległości\u001b[0m\n",
      "----------------\n",
      "Results for model: \u001b[91mPapuga\u001b[0m\n",
      "To fill sentence \u001b[93mBartek często chodzi na basen, to miejsce jest jego\u001b[0m\n",
      "full sentence \u001b[93mBartek często chodzi na basen, to miejsce jest jego ulubionym. Jest tam basen, ale nie ma basenu. Jest tam basen, ale nie ma basenu. Jest tam basen, ale nie ma basenu. Jest tam basen, ale nie ma basenu. Jest\u001b[0m\n",
      "To fill sentence \u001b[93mGojo Satoru to mistrz sztuk jujutsu. Zatem najpoteżniejszym zaklinaczem jujutsu jest \u001b[0m\n",
      "full sentence \u001b[93mGojo Satoru to mistrz sztuk jujutsu. Zatem najpoteżniejszym zaklinaczem jujutsu jest 茶察士.\n",
      "W Japonii jest to bardzo popularne, ponieważ jest to technika, która polega na\u001b[0m\n",
      "To fill sentence \u001b[93mOn jest nienormalny zjada już kolejnego kebababa, ten\u001b[0m\n",
      "full sentence \u001b[93mOn jest nienormalny zjada już kolejnego kebababa, ten z kolei jest nienormalny.\n",
      "A ja mam pytanie do tych co nie mają dzieci. Czy ktoś z was ma dzieci z zespołem Downa? Czy to jest normalne?\n",
      "\u001b[0m\n",
      "To fill sentence \u001b[93mKrólowa Jadwiga to pierwsza kobieta która została żeńskim\u001b[0m\n",
      "full sentence \u001b[93mKrólowa Jadwiga to pierwsza kobieta która została żeńskim władcą Polski. W roku 1241 została koronowana na królową Polski. W roku 1248 została koronowana na królową Polski. W roku 1250 została koronowana na królową Polski. W roku 12\u001b[0m\n",
      "To fill sentence \u001b[93mJan Paweł drugi to najepszy papież jaki był, Polska by nieodzyskała niepodległości gdyby nie\u001b[0m\n",
      "full sentence \u001b[93mJan Paweł drugi to najepszy papież jaki był, Polska by nieodzyskała niepodległości gdyby nie jego pontyfikat.\n",
      "W tym roku mija 10 lat od śmierci Jana Pawła II. W tym roku mija też 10 lat od śmierci Jana Pawła II\u001b[0m\n",
      "----------------\n"
     ]
    }
   ],
   "source": [
    "test_model(test_case_long_relationship,test_case_long_relationship_papuga)"
   ]
  },
  {
   "cell_type": "markdown",
   "metadata": {},
   "source": [
    "# 4) World knowladge"
   ]
  },
  {
   "cell_type": "code",
   "execution_count": 187,
   "metadata": {},
   "outputs": [],
   "source": [
    "test_case_word_knowladge = [\n",
    "  \"Na wiosnę <mask> mają bardzo dużo pąków, natomiast jesiennią znacząco jest ich mniej.\",\n",
    "  \"Ramen to danie pochodzące z <mask>\",\n",
    "  \"Wilki, polując w <mask>, potrafią pokonać większe zwierzę, takie jak żubr\",\n",
    "  \"Luty to <mask> miesiąc w roku\",\n",
    "  \"Wawel to zamek, który możemy zobaczyć w <mask>\"\n",
    "]\n",
    "\n",
    "test_case_word_knowladge_papuga = [\n",
    "  \"Na wiosne mają bardzo dużo pąków, natomiast jesiennią znacząco jest ich mniej. Chodzi mi o \",\n",
    "  \"Ramen to danie pochodzące z\",\n",
    "  \"Wilki, polując potrafią pokonać większe zwierzę, takie jak żubr. Wszystko dlatego że polują w\",\n",
    "  \"Luty to miesiąc w roku, który jest\",\n",
    "  \"Wawel to zamek, który możemy zobaczyć w\"\n",
    "]"
   ]
  },
  {
   "cell_type": "code",
   "execution_count": 188,
   "metadata": {},
   "outputs": [
    {
     "name": "stderr",
     "output_type": "stream",
     "text": [
      "Setting `pad_token_id` to `eos_token_id`:50256 for open-end generation.\n",
      "Setting `pad_token_id` to `eos_token_id`:50256 for open-end generation.\n",
      "Setting `pad_token_id` to `eos_token_id`:50256 for open-end generation.\n",
      "Setting `pad_token_id` to `eos_token_id`:50256 for open-end generation.\n",
      "Setting `pad_token_id` to `eos_token_id`:50256 for open-end generation.\n"
     ]
    },
    {
     "name": "stdout",
     "output_type": "stream",
     "text": [
      "Results for model: \u001b[91mHerBERT\u001b[0m\n",
      "Score 0.34332987666130066, filled word \u001b[93mkwiaty\u001b[0m full sentence \u001b[93mNa wiosnę kwiaty mają bardzo dużo pąków , natomiast jesiennią znacząco jest ich mniej .\u001b[0m\n",
      "Score 0.6201823949813843, filled word \u001b[93m…\u001b[0m full sentence \u001b[93mRamen to danie pochodzące z …\u001b[0m\n",
      "Score 0.4919811487197876, filled word \u001b[93mlesie\u001b[0m full sentence \u001b[93mWilki , polując w lesie , potrafią pokonać większe zwierzę , takie jak żubr\u001b[0m\n",
      "Score 0.16590219736099243, filled word \u001b[93mostatni\u001b[0m full sentence \u001b[93mLuty to ostatni miesiąc w roku\u001b[0m\n",
      "Score 0.15379521250724792, filled word \u001b[93m…\u001b[0m full sentence \u001b[93mWawel to zamek , który możemy zobaczyć w …\u001b[0m\n",
      "----------------\n",
      "Results for model: \u001b[91mFacebook\u001b[0m\n",
      "Score 0.25584104657173157, filled word \u001b[93mkwiaty\u001b[0m full sentence \u001b[93mNa wiosnę kwiaty mają bardzo dużo pąków, natomiast jesiennią znacząco jest ich mniej.\u001b[0m\n",
      "Score 0.2061801254749298, filled word \u001b[93m:\u001b[0m full sentence \u001b[93mRamen to danie pochodzące z:\u001b[0m\n",
      "Score 0.06258589774370193, filled word \u001b[93mczłowieka\u001b[0m full sentence \u001b[93mWilki, polując w człowieka , potrafią pokonać większe zwierzę, takie jak żubr\u001b[0m\n",
      "Score 0.3562292754650116, filled word \u001b[93mnajlepszy\u001b[0m full sentence \u001b[93mLuty to najlepszy miesiąc w roku\u001b[0m\n",
      "Score 0.2429211288690567, filled word \u001b[93mPolsce\u001b[0m full sentence \u001b[93mWawel to zamek, który możemy zobaczyć w Polsce\u001b[0m\n",
      "----------------\n",
      "Results for model: \u001b[91mPapuga\u001b[0m\n",
      "To fill sentence \u001b[93mNa wiosne mają bardzo dużo pąków, natomiast jesiennią znacząco jest ich mniej. Chodzi mi o \u001b[0m\n",
      "full sentence \u001b[93mNa wiosne mają bardzo dużo pąków, natomiast jesiennią znacząco jest ich mniej. Chodzi mi o rójkę, która jest w stanie przetrwać w chłodzie i deszczu.\n",
      "W tym roku nie udało mi się jeszcze sfotografować rójki\u001b[0m\n",
      "To fill sentence \u001b[93mRamen to danie pochodzące z\u001b[0m\n",
      "full sentence \u001b[93mRamen to danie pochodzące z Japonii, które jest bardzo popularne w Japonii. Jest to danie, które jest bardzo popularne w Japonii. Jest to danie, które jest bardzo popularne w Japonii. Jest to danie, które jest bardzo popularne w Japonii. Jest to\u001b[0m\n",
      "To fill sentence \u001b[93mWilki, polując potrafią pokonać większe zwierzę, takie jak żubr. Wszystko dlatego że polują w\u001b[0m\n",
      "full sentence \u001b[93mWilki, polując potrafią pokonać większe zwierzę, takie jak żubr. Wszystko dlatego że polują w nocy, a w dzień polują na inne zwierzęta.\n",
      "W Polsce jest wiele gatunków zwierząt, które można spotkać w lesie. Są to m.\u001b[0m\n",
      "To fill sentence \u001b[93mLuty to miesiąc w roku, który jest\u001b[0m\n",
      "full sentence \u001b[93mLuty to miesiąc w roku, który jest dla nas szczególnie ważny. W tym miesiącu obchodzimy bowiem Dzień Babci i Dzień Dziadka.\n",
      "W tym roku Dzień Babci i Dzień Dziadka przypadają na dzień 16 stycznia. W tym dniu dzieci z naszej szkoły\u001b[0m\n",
      "To fill sentence \u001b[93mWawel to zamek, który możemy zobaczyć w\u001b[0m\n",
      "full sentence \u001b[93mWawel to zamek, który możemy zobaczyć w Krakowie. Jest to jeden z największych zamków w Polsce. Jest to zamek, który możemy zobaczyć w Krakowie. Jest to jeden z największych zamków w Polsce. Jest to zamek, który możemy zobaczyć w Krakowie. Jest\u001b[0m\n",
      "----------------\n"
     ]
    }
   ],
   "source": [
    "test_model(test_case_word_knowladge, test_case_word_knowladge_papuga)"
   ]
  },
  {
   "cell_type": "markdown",
   "metadata": {},
   "source": [
    "# 5) zero-shot learning"
   ]
  },
  {
   "cell_type": "code",
   "execution_count": 189,
   "metadata": {},
   "outputs": [],
   "source": [
    "test_case_zero_shot = [\n",
    "  \"'Ten film to był kiler. Nie mogłem się oderwać od ekranu.' Wypowiedź ta ma jest zdecydowanie <mask>\",\n",
    "  \"'Ta manga wymiata. Nie mogę przestać jej czytać!' Wypowiedź ta jest zdecydowanie <mask>\",\n",
    "  \"'Ta manga wymiata. Nie mogę przestać jej czytać!' To zdanie jest nacechowane <mask>\",\n",
    "  \"'Arnold Schwarzenegger to najlepszy aktor filmów akcji, a terminator judgment day to jego najepszy film.' Wypowiedź ta jest zdecydowanie <mask>\",\n",
    "  \"'Arnold Schwarzenegger to najlepszy aktor filmów akcji, a terminator judgment day to jego najepszy film.' To zdanie jest nacechowane <mask>\",\n",
    "  \"'Przepełnione autobusy to nieprzyjemne doświadczenie. Jazda w nich to istna męczarnia.' Wypowiedź ta jest zdecydowanie <mask>\",\n",
    "  \"'Przepełnione autobusy to nieprzyjemne doświadczenie. Jazda w nich to istna męczarnia.' To zdanie jest nacechowane <mask>\",\n",
    "  \"'Kremówki są takie słodkie! Ta słodycz sprawia mi wiele radości!' Wypowiedź ta jest zdecydowanie <mask>\",\n",
    "  \"'Kremówki są takie słodkie! Ta słodycz sprawia mi wiele radości!' To zdanie jest nacechowane <mask>\",\n",
    "  \"'W Starbucksie wypiłem najgorsza kawę w życiu. To był istny ściek.' Wypowiedź ta jest zdecydowanie <mask>\",\n",
    "  \"'W Starbucksie wypiłem najgorsza kawę w życiu. To był istny ściek.' To zdanie jest nacechowane <mask>\"\n",
    "]"
   ]
  },
  {
   "cell_type": "code",
   "execution_count": 190,
   "metadata": {},
   "outputs": [],
   "source": [
    "test_case_zero_shot_papuga = [\n",
    "  \"'Ten film to był kiler. Nie mogłem się oderwać od ekranu.' Wypowiedź ta ma jest zdecydowanie\",\n",
    "  \"'Ta manga wymiata. Nie mogę przestać jej czytać!' Wypowiedź ta jest zdecydowanie\",\n",
    "  \"'Ta manga wymiata. Nie mogę przestać jej czytać!' To zdanie jest nacechowane\",\n",
    "  \"'Arnold Schwarzenegger to najlepszy aktor filmów akcji, a terminator judgment day to jego najepszy film.' Wypowiedź ta jest zdecydowanie\",\n",
    "  \"'Arnold Schwarzenegger to najlepszy aktor filmów akcji, a terminator judgment day to jego najepszy film.' To zdanie jest nacechowane\",\n",
    "  \"'Przepełnione autobusy to nieprzyjemne doświadczenie. Jazda w nich to istna męczarnia.' Wypowiedź ta jest zdecydowanie\",\n",
    "  \"'Przepełnione autobusy to nieprzyjemne doświadczenie. Jazda w nich to istna męczarnia.' To zdanie jest nacechowane\",\n",
    "  \"'Kremówki są takie słodkie! Ta słodycz sprawia mi wiele radości!' Wypowiedź ta jest zdecydowanie\",\n",
    "  \"'Kremówki są takie słodkie! Ta słodycz sprawia mi wiele radości!' To zdanie jest nacechowane\",\n",
    "  \"'W Starbucksie wypiłem najgorsza kawę w życiu. To był istny ściek.' Wypowiedź ta jest zdecydowanie\",\n",
    "  \"'W Starbucksie wypiłem najgorsza kawę w życiu. To był istny ściek.' To zdanie jest nacechowane\"\n",
    "]"
   ]
  },
  {
   "cell_type": "code",
   "execution_count": 191,
   "metadata": {},
   "outputs": [
    {
     "name": "stderr",
     "output_type": "stream",
     "text": [
      "Setting `pad_token_id` to `eos_token_id`:50256 for open-end generation.\n",
      "Setting `pad_token_id` to `eos_token_id`:50256 for open-end generation.\n",
      "Setting `pad_token_id` to `eos_token_id`:50256 for open-end generation.\n",
      "Setting `pad_token_id` to `eos_token_id`:50256 for open-end generation.\n",
      "Setting `pad_token_id` to `eos_token_id`:50256 for open-end generation.\n",
      "Setting `pad_token_id` to `eos_token_id`:50256 for open-end generation.\n",
      "Setting `pad_token_id` to `eos_token_id`:50256 for open-end generation.\n",
      "Setting `pad_token_id` to `eos_token_id`:50256 for open-end generation.\n",
      "Setting `pad_token_id` to `eos_token_id`:50256 for open-end generation.\n",
      "Setting `pad_token_id` to `eos_token_id`:50256 for open-end generation.\n",
      "Setting `pad_token_id` to `eos_token_id`:50256 for open-end generation.\n"
     ]
    },
    {
     "name": "stdout",
     "output_type": "stream",
     "text": [
      "Results for model: \u001b[91mHerBERT\u001b[0m\n",
      "Score 0.13610470294952393, filled word \u001b[93m.\u001b[0m full sentence \u001b[93m' Ten film to był kiler . Nie mogłem się oderwać od ekranu . ' Wypowiedź ta ma jest zdecydowanie .\u001b[0m\n",
      "Score 0.12250640988349915, filled word \u001b[93m.\u001b[0m full sentence \u001b[93m' Ta manga wymiata . Nie mogę przestać jej czytać ! ' Wypowiedź ta jest zdecydowanie .\u001b[0m\n",
      "Score 0.5622760653495789, filled word \u001b[93m.\u001b[0m full sentence \u001b[93m' Ta manga wymiata . Nie mogę przestać jej czytać ! ' To zdanie jest nacechowane .\u001b[0m\n",
      "Score 0.19238553941249847, filled word \u001b[93mlepsza\u001b[0m full sentence \u001b[93m' Arnold Schwarzenegger to najlepszy aktor filmów akcji , a terminator judgment day to jego najepszy film . ' Wypowiedź ta jest zdecydowanie lepsza\u001b[0m\n",
      "Score 0.4942215383052826, filled word \u001b[93m:\u001b[0m full sentence \u001b[93m' Arnold Schwarzenegger to najlepszy aktor filmów akcji , a terminator judgment day to jego najepszy film . ' To zdanie jest nacechowane :\u001b[0m\n",
      "Score 0.16401365399360657, filled word \u001b[93mprawdziwa\u001b[0m full sentence \u001b[93m' Przepełnione autobusy to nieprzyjemne doświadczenie . Jazda w nich to istna męczarnia . ' Wypowiedź ta jest zdecydowanie prawdziwa\u001b[0m\n",
      "Score 0.5078889727592468, filled word \u001b[93m:\u001b[0m full sentence \u001b[93m' Przepełnione autobusy to nieprzyjemne doświadczenie . Jazda w nich to istna męczarnia . ' To zdanie jest nacechowane :\u001b[0m\n",
      "Score 0.16533049941062927, filled word \u001b[93mlepsza\u001b[0m full sentence \u001b[93m' Kremówki są takie słodkie ! Ta słodycz sprawia mi wiele radości ! ' Wypowiedź ta jest zdecydowanie lepsza\u001b[0m\n",
      "Score 0.33977338671684265, filled word \u001b[93m:\u001b[0m full sentence \u001b[93m' Kremówki są takie słodkie ! Ta słodycz sprawia mi wiele radości ! ' To zdanie jest nacechowane :\u001b[0m\n",
      "Score 0.16174724698066711, filled word \u001b[93mprawdziwa\u001b[0m full sentence \u001b[93m' W Starbucksie wypiłem najgorsza kawę w życiu . To był istny ściek . ' Wypowiedź ta jest zdecydowanie prawdziwa\u001b[0m\n",
      "Score 0.37825146317481995, filled word \u001b[93m.\u001b[0m full sentence \u001b[93m' W Starbucksie wypiłem najgorsza kawę w życiu . To był istny ściek . ' To zdanie jest nacechowane .\u001b[0m\n",
      "----------------\n",
      "Results for model: \u001b[91mFacebook\u001b[0m\n",
      "Score 0.4311833679676056, filled word \u001b[93m.\u001b[0m full sentence \u001b[93m'Ten film to był kiler. Nie mogłem się oderwać od ekranu.' Wypowiedź ta ma jest zdecydowanie.\u001b[0m\n",
      "Score 0.4339401125907898, filled word \u001b[93m...\u001b[0m full sentence \u001b[93m'Ta manga wymiata. Nie mogę przestać jej czytać!' Wypowiedź ta jest zdecydowanie...\u001b[0m\n",
      "Score 0.8586019277572632, filled word \u001b[93m.\u001b[0m full sentence \u001b[93m'Ta manga wymiata. Nie mogę przestać jej czytać!' To zdanie jest nacechowane.\u001b[0m\n",
      "Score 0.3848220705986023, filled word \u001b[93m...\u001b[0m full sentence \u001b[93m'Arnold Schwarzenegger to najlepszy aktor filmów akcji, a terminator judgment day to jego najepszy film.' Wypowiedź ta jest zdecydowanie...\u001b[0m\n",
      "Score 0.9099805951118469, filled word \u001b[93m.\u001b[0m full sentence \u001b[93m'Arnold Schwarzenegger to najlepszy aktor filmów akcji, a terminator judgment day to jego najepszy film.' To zdanie jest nacechowane.\u001b[0m\n",
      "Score 0.38879260420799255, filled word \u001b[93m...\u001b[0m full sentence \u001b[93m'Przepełnione autobusy to nieprzyjemne doświadczenie. Jazda w nich to istna męczarnia.' Wypowiedź ta jest zdecydowanie...\u001b[0m\n",
      "Score 0.9565343260765076, filled word \u001b[93m.\u001b[0m full sentence \u001b[93m'Przepełnione autobusy to nieprzyjemne doświadczenie. Jazda w nich to istna męczarnia.' To zdanie jest nacechowane.\u001b[0m\n",
      "Score 0.5614796876907349, filled word \u001b[93m...\u001b[0m full sentence \u001b[93m'Kremówki są takie słodkie! Ta słodycz sprawia mi wiele radości!' Wypowiedź ta jest zdecydowanie...\u001b[0m\n",
      "Score 0.5634796023368835, filled word \u001b[93m.\u001b[0m full sentence \u001b[93m'Kremówki są takie słodkie! Ta słodycz sprawia mi wiele radości!' To zdanie jest nacechowane.\u001b[0m\n",
      "Score 0.4049503207206726, filled word \u001b[93m...\u001b[0m full sentence \u001b[93m'W Starbucksie wypiłem najgorsza kawę w życiu. To był istny ściek.' Wypowiedź ta jest zdecydowanie...\u001b[0m\n",
      "Score 0.9162688255310059, filled word \u001b[93m.\u001b[0m full sentence \u001b[93m'W Starbucksie wypiłem najgorsza kawę w życiu. To był istny ściek.' To zdanie jest nacechowane.\u001b[0m\n",
      "----------------\n",
      "Results for model: \u001b[91mPapuga\u001b[0m\n",
      "To fill sentence \u001b[93m'Ten film to był kiler. Nie mogłem się oderwać od ekranu.' Wypowiedź ta ma jest zdecydowanie\u001b[0m\n",
      "full sentence \u001b[93m'Ten film to był kiler. Nie mogłem się oderwać od ekranu.' Wypowiedź ta ma jest zdecydowanie na wyrost.\n",
      "' Nie wiem, czy to jest film dla mnie, czy nie. Nie wiem, czy to jest film dla mnie\u001b[0m\n",
      "To fill sentence \u001b[93m'Ta manga wymiata. Nie mogę przestać jej czytać!' Wypowiedź ta jest zdecydowanie\u001b[0m\n",
      "full sentence \u001b[93m'Ta manga wymiata. Nie mogę przestać jej czytać!' Wypowiedź ta jest zdecydowanie dla mnie.\n",
      "'Nie mogę przestać jej czytać!' Wypowiedź ta jest zdecydowanie dla mnie. 'Nie mogę przestać jej czytać!' Wypowiedź ta\u001b[0m\n",
      "To fill sentence \u001b[93m'Ta manga wymiata. Nie mogę przestać jej czytać!' To zdanie jest nacechowane\u001b[0m\n",
      "full sentence \u001b[93m'Ta manga wymiata. Nie mogę przestać jej czytać!' To zdanie jest nacechowane bardzo emocjonalnie, ale nie jest to nic, co mogłoby mnie zniechęcić do czytania.\n",
      "\"Ta manga wymiata\" to książka, która\u001b[0m\n",
      "To fill sentence \u001b[93m'Arnold Schwarzenegger to najlepszy aktor filmów akcji, a terminator judgment day to jego najepszy film.' Wypowiedź ta jest zdecydowanie\u001b[0m\n",
      "full sentence \u001b[93m'Arnold Schwarzenegger to najlepszy aktor filmów akcji, a terminator judgment day to jego najepszy film.' Wypowiedź ta jest zdecydowanie bardziej prawdziwa niż się spodziewałem.\n",
      "'Nie wiem, czy to jest\u001b[0m\n",
      "To fill sentence \u001b[93m'Arnold Schwarzenegger to najlepszy aktor filmów akcji, a terminator judgment day to jego najepszy film.' To zdanie jest nacechowane\u001b[0m\n",
      "full sentence \u001b[93m'Arnold Schwarzenegger to najlepszy aktor filmów akcji, a terminator judgment day to jego najepszy film.' To zdanie jest nacechowane bardzo emocjonalnie, ale nie jest to też film, który można\u001b[0m\n",
      "To fill sentence \u001b[93m'Przepełnione autobusy to nieprzyjemne doświadczenie. Jazda w nich to istna męczarnia.' Wypowiedź ta jest zdecydowanie\u001b[0m\n",
      "full sentence \u001b[93m'Przepełnione autobusy to nieprzyjemne doświadczenie. Jazda w nich to istna męczarnia.' Wypowiedź ta jest zdecydowanie nie na miejscu.\n",
      "'W tym przypadku nie chodzi o to, że nie można się do nich dostać, ale o\u001b[0m\n",
      "To fill sentence \u001b[93m'Przepełnione autobusy to nieprzyjemne doświadczenie. Jazda w nich to istna męczarnia.' To zdanie jest nacechowane\u001b[0m\n",
      "full sentence \u001b[93m'Przepełnione autobusy to nieprzyjemne doświadczenie. Jazda w nich to istna męczarnia.' To zdanie jest nacechowane bardzo emocjonalnie.\n",
      "'Nie wiem, czy to jest dobre, ale nie mogę się powstrzymać.' - powiedział\u001b[0m\n",
      "To fill sentence \u001b[93m'Kremówki są takie słodkie! Ta słodycz sprawia mi wiele radości!' Wypowiedź ta jest zdecydowanie\u001b[0m\n",
      "full sentence \u001b[93m'Kremówki są takie słodkie! Ta słodycz sprawia mi wiele radości!' Wypowiedź ta jest zdecydowanie dla mnie, ponieważ nie lubię, gdy ktoś mówi o mnie, że jestem gruba.\n",
      "'Nie wiem, czy to jest dobre, ale nie\u001b[0m\n",
      "To fill sentence \u001b[93m'Kremówki są takie słodkie! Ta słodycz sprawia mi wiele radości!' To zdanie jest nacechowane\u001b[0m\n",
      "full sentence \u001b[93m'Kremówki są takie słodkie! Ta słodycz sprawia mi wiele radości!' To zdanie jest nacechowane bardzo emocjonalnie, ale nie jest to też dosłowne.\n",
      "'Nie, nie, nie, nie, nie, nie, nie,\u001b[0m\n",
      "To fill sentence \u001b[93m'W Starbucksie wypiłem najgorsza kawę w życiu. To był istny ściek.' Wypowiedź ta jest zdecydowanie\u001b[0m\n",
      "full sentence \u001b[93m'W Starbucksie wypiłem najgorsza kawę w życiu. To był istny ściek.' Wypowiedź ta jest zdecydowanie nie na miejscu.\n",
      "- Nie, nie, nie. Nie, nie. Nie, nie. Nie, nie\u001b[0m\n",
      "To fill sentence \u001b[93m'W Starbucksie wypiłem najgorsza kawę w życiu. To był istny ściek.' To zdanie jest nacechowane\u001b[0m\n",
      "full sentence \u001b[93m'W Starbucksie wypiłem najgorsza kawę w życiu. To był istny ściek.' To zdanie jest nacechowane negatywnie.\n",
      "- Nie, nie, nie. Nie, nie. Nie, nie. Nie, nie\u001b[0m\n",
      "----------------\n"
     ]
    }
   ],
   "source": [
    "test_model(test_case_zero_shot,test_case_zero_shot_papuga)"
   ]
  },
  {
   "cell_type": "markdown",
   "metadata": {},
   "source": [
    "# Answering questions"
   ]
  },
  {
   "cell_type": "markdown",
   "metadata": {},
   "source": [
    "#### Which of the models produced the best results?"
   ]
  },
  {
   "cell_type": "markdown",
   "metadata": {},
   "source": [
    "The herbert model produced overall the best results. The only field where this model were worse than one of others to be exact Papuga is a World Knowladge case. Herbert was not albel to recognize Feburary as the shortest month and in cases where the last word should be last he produced `...`"
   ]
  },
  {
   "cell_type": "markdown",
   "metadata": {},
   "source": [
    "#### Was any of the models able to capture Polish grammar?"
   ]
  },
  {
   "cell_type": "markdown",
   "metadata": {},
   "source": [
    "More or less, papuga produced a lot of additional sentences that does not make any sense for example `To fill sentence Ty, mały kundlu, przestań szczekać i słuchaj,  full sentence Ty, mały kundlu, przestań szczekać i słuchaj, łkaj, bo nie ma już nic do stracenia.\n",
    " Nie, nie, nie, nie, nie, nie, nie, nie, nie, nie,` where papuga added a lot of `nie`. Looking at Facebook berta model it had a few hickups (listed in last question) but overall he did not bad."
   ]
  },
  {
   "cell_type": "markdown",
   "metadata": {},
   "source": [
    "#### Was any of the models able to capture long-distant relationships between the words?"
   ]
  },
  {
   "cell_type": "markdown",
   "metadata": {},
   "source": [
    "Yes indeed HerBERT was excelent there, produced all words that filled the long sentences which referes to people or things from before. It is important to acknowladge papuga model here. Papuga in sentence `On jest nienormalny zjada już kolejnego kebababa, ten z kolei jest nienormalny.\n",
    "A ja mam pytanie do tych co nie mają dzieci. Czy ktoś z was ma dzieci z zespołem Downa? Czy to jest normalne?` Papuga added `A ja mam pytanie do tych co nie mają dzieci. Czy ktoś z was ma dzieci z zespołem Downa? Czy to jest normalne?` which is suprising i mean where is the connection beetwen ill children and kebab?\n",
    "<br>\n",
    "In the other case with `Jadwiga` sentence `Królowa Jadwiga to pierwsza kobieta która została żeńskim` papuga and herbert were able to capture the complicated words `żeński król`"
   ]
  },
  {
   "cell_type": "markdown",
   "metadata": {},
   "source": [
    "#### Was any of the models able to capture world knowledge?"
   ]
  },
  {
   "cell_type": "markdown",
   "metadata": {},
   "source": [
    "Only one did pretty good papuga it is. HerBERT filled only first sentence correctly while Facebook did three well. In the second sentence `Ramen to danie pochodzące z` both fill-mask model were not able to fill the sentence while papuga was able to correctly identify that Ramen comes from Japan although some say that it first originated from China."
   ]
  },
  {
   "cell_type": "markdown",
   "metadata": {},
   "source": [
    "#### Was any of the models good at doing zero-shot classification?"
   ]
  },
  {
   "cell_type": "markdown",
   "metadata": {},
   "source": [
    "None of the ones with filled mask, they always added only fullstop. On the other hand papuga did pretty well where the esntence to fill wa `To zdanie nacechowane jest` he did mention `bardzo emocjonalnie` or `negatywnie` but again it added also a lot of bullcrap."
   ]
  },
  {
   "cell_type": "markdown",
   "metadata": {},
   "source": [
    "#### What are the most striking errors made by the models?"
   ]
  },
  {
   "cell_type": "markdown",
   "metadata": {},
   "source": [
    "Words or sentences add by model are listed below\n",
    "\n",
    "1) Herbert\n",
    " - Luty to `ostatni` miesiąc w roku\n",
    "\n",
    "2) Facebook berta\n",
    " - Wieliczka to`fu` na skale soli.\n",
    " - Idę do teatru w swojej nowej `wersji`\n",
    " - Królowa Jadwiga to pierwsza kobieta która została żeńskim `dzieckiem`\n",
    " - On jest nienormalny zjada już kolejnego kebababa, ten `jest` to wariat!\n",
    " - Wilki, polując w `człowieka` , potrafią pokonać większe zwierzę, takie jak żubr\n",
    "\n",
    "3) Papuga\n",
    " - Idę do teatru w swojej nowej sukni, która wygląda `owiana tajemnicą. Nie, nie, nie. Nie, nie. Nie, nie. Nie, nie. Nie, nie. Nie, nie. Nie, nie. Nie`,\n",
    " - W Japonii widziałem bardzo szybki   `na 1,5 km, ale to było w połowie drogi do domu. W Japonii jest bardzo dużo miejsc, gdzie można się zatrzymać, ale nie ma ta zbyt wielu miejsc do siedzenia. W Japonii jest bardzo dużo`\n",
    "\n"
   ]
  }
 ],
 "metadata": {
  "kernelspec": {
   "display_name": "Python 3 (ipykernel)",
   "language": "python",
   "name": "python3"
  },
  "language_info": {
   "codemirror_mode": {
    "name": "ipython",
    "version": 3
   },
   "file_extension": ".py",
   "mimetype": "text/x-python",
   "name": "python",
   "nbconvert_exporter": "python",
   "pygments_lexer": "ipython3",
   "version": "3.11.9"
  }
 },
 "nbformat": 4,
 "nbformat_minor": 4
}
