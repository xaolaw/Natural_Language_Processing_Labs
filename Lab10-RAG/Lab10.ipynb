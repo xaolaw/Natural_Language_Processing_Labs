{
 "cells": [
  {
   "cell_type": "markdown",
   "metadata": {},
   "source": [
    "# 1) Setting up a QA eviornment"
   ]
  },
  {
   "cell_type": "markdown",
   "metadata": {},
   "source": [
    "1) Installing Ollama and chosen model"
   ]
  },
  {
   "cell_type": "code",
   "execution_count": 6,
   "metadata": {},
   "outputs": [
    {
     "name": "stdout",
     "output_type": "stream",
     "text": [
      "NAME             ID              SIZE      MODIFIED    \n",
      "gemma2:latest    ff02c3702f32    5.4 GB    4 weeks ago    \n",
      "phi3:3.8b        4f2222927938    2.2 GB    4 weeks ago    \n"
     ]
    }
   ],
   "source": [
    "!ollama list"
   ]
  },
  {
   "cell_type": "markdown",
   "metadata": {},
   "source": [
    "2) Installing python packages"
   ]
  },
  {
   "cell_type": "code",
   "execution_count": null,
   "metadata": {},
   "outputs": [],
   "source": [
    "#!pip install -r ../requiremnets.txt"
   ]
  },
  {
   "cell_type": "markdown",
   "metadata": {},
   "source": [
    "3) Setting up vector database"
   ]
  },
  {
   "cell_type": "code",
   "execution_count": 4,
   "metadata": {},
   "outputs": [
    {
     "name": "stderr",
     "output_type": "stream",
     "text": [
      " qdrant Pulling \n",
      " af302e5c37e9 Pulling fs layer \n",
      " 49ec7c178868 Pulling fs layer \n",
      " 4f4fb700ef54 Pulling fs layer \n",
      " dc94c0068506 Pulling fs layer \n",
      " c6d6a02827da Pulling fs layer \n",
      " 92c18d6dd71d Pulling fs layer \n",
      " 6f1cdc75b8c8 Pulling fs layer \n",
      " e028ccffbf50 Pulling fs layer \n",
      " c6d6a02827da Waiting \n",
      " dc94c0068506 Waiting \n",
      " e028ccffbf50 Waiting \n",
      " 92c18d6dd71d Waiting \n",
      " 6f1cdc75b8c8 Waiting \n",
      " 4f4fb700ef54 Downloading [==================================================>]      32B/32B\n",
      " 4f4fb700ef54 Verifying Checksum \n",
      " 4f4fb700ef54 Download complete \n",
      " 49ec7c178868 Downloading [>                                                  ]  152.2kB/15.16MB\n",
      " af302e5c37e9 Downloading [>                                                  ]  293.1kB/28.21MB\n",
      " 49ec7c178868 Downloading [==>                                                ]  802.8kB/15.16MB\n",
      " af302e5c37e9 Downloading [=>                                                 ]  870.7kB/28.21MB\n",
      " 49ec7c178868 Downloading [====>                                              ]  1.458MB/15.16MB\n",
      " af302e5c37e9 Downloading [==>                                                ]   1.46MB/28.21MB\n",
      " af302e5c37e9 Downloading [===>                                               ]  2.026MB/28.21MB\n",
      " 49ec7c178868 Downloading [======>                                            ]  2.116MB/15.16MB\n",
      " dc94c0068506 Downloading [>                                                  ]  36.13kB/3.575MB\n",
      " af302e5c37e9 Downloading [====>                                              ]  2.616MB/28.21MB\n",
      " 49ec7c178868 Downloading [=========>                                         ]  2.771MB/15.16MB\n",
      " dc94c0068506 Downloading [=======>                                           ]  518.4kB/3.575MB\n",
      " 49ec7c178868 Downloading [==========>                                        ]  3.255MB/15.16MB\n",
      " dc94c0068506 Downloading [==============>                                    ]   1.01MB/3.575MB\n",
      " af302e5c37e9 Downloading [=====>                                             ]  3.205MB/28.21MB\n",
      " 49ec7c178868 Downloading [============>                                      ]  3.742MB/15.16MB\n",
      " dc94c0068506 Downloading [====================>                              ]  1.497MB/3.575MB\n",
      " af302e5c37e9 Downloading [======>                                            ]  3.795MB/28.21MB\n",
      " dc94c0068506 Downloading [===========================>                       ]   1.94MB/3.575MB\n",
      " 49ec7c178868 Downloading [=============>                                     ]  4.233MB/15.16MB\n",
      " af302e5c37e9 Downloading [=======>                                           ]  4.377MB/28.21MB\n",
      " dc94c0068506 Downloading [================================>                  ]  2.333MB/3.575MB\n",
      " 49ec7c178868 Downloading [===============>                                   ]  4.725MB/15.16MB\n",
      " af302e5c37e9 Downloading [========>                                          ]  4.963MB/28.21MB\n",
      " dc94c0068506 Downloading [=======================================>           ]  2.824MB/3.575MB\n",
      " 49ec7c178868 Downloading [=================>                                 ]  5.221MB/15.16MB\n",
      " dc94c0068506 Downloading [==============================================>    ]  3.316MB/3.575MB\n",
      " af302e5c37e9 Downloading [=========>                                         ]  5.552MB/28.21MB\n",
      " 49ec7c178868 Downloading [==================>                                ]  5.708MB/15.16MB\n",
      " dc94c0068506 Download complete \n",
      " 49ec7c178868 Downloading [====================>                              ]    6.2MB/15.16MB\n",
      " af302e5c37e9 Downloading [==========>                                        ]  6.142MB/28.21MB\n",
      " 49ec7c178868 Downloading [======================>                            ]  6.687MB/15.16MB\n",
      " af302e5c37e9 Downloading [===========>                                       ]  6.728MB/28.21MB\n",
      " 49ec7c178868 Downloading [========================>                          ]  7.342MB/15.16MB\n",
      " af302e5c37e9 Downloading [============>                                      ]  7.318MB/28.21MB\n",
      " af302e5c37e9 Downloading [=============>                                     ]  7.891MB/28.21MB\n",
      " 49ec7c178868 Downloading [==========================>                        ]  7.998MB/15.16MB\n",
      " c6d6a02827da Downloading [>                                                  ]  294.2kB/27.96MB\n",
      " 49ec7c178868 Downloading [===========================>                       ]  8.489MB/15.16MB\n",
      " af302e5c37e9 Downloading [===============>                                   ]  8.481MB/28.21MB\n",
      " 49ec7c178868 Downloading [=============================>                     ]  8.973MB/15.16MB\n",
      " c6d6a02827da Downloading [=>                                                 ]  879.9kB/27.96MB\n",
      " af302e5c37e9 Downloading [================>                                  ]  9.071MB/28.21MB\n",
      " 49ec7c178868 Downloading [===============================>                   ]  9.464MB/15.16MB\n",
      " c6d6a02827da Downloading [==>                                                ]  1.466MB/27.96MB\n",
      " af302e5c37e9 Downloading [=================>                                 ]  9.661MB/28.21MB\n",
      " 49ec7c178868 Downloading [================================>                  ]  9.956MB/15.16MB\n",
      " c6d6a02827da Downloading [===>                                               ]   2.05MB/27.96MB\n",
      " af302e5c37e9 Downloading [==================>                                ]  10.25MB/28.21MB\n",
      " 49ec7c178868 Downloading [==================================>                ]  10.45MB/15.16MB\n",
      " c6d6a02827da Downloading [====>                                              ]   2.64MB/27.96MB\n",
      " af302e5c37e9 Downloading [===================>                               ]  10.84MB/28.21MB\n",
      " 49ec7c178868 Downloading [====================================>              ]  10.94MB/15.16MB\n",
      " c6d6a02827da Downloading [=====>                                             ]   3.23MB/27.96MB\n",
      " 49ec7c178868 Downloading [=====================================>             ]  11.43MB/15.16MB\n",
      " af302e5c37e9 Downloading [====================>                              ]  11.43MB/28.21MB\n",
      " 49ec7c178868 Downloading [=======================================>           ]  11.93MB/15.16MB\n",
      " c6d6a02827da Downloading [======>                                            ]   3.82MB/27.96MB\n",
      " af302e5c37e9 Downloading [=====================>                             ]  12.01MB/28.21MB\n",
      " 49ec7c178868 Downloading [========================================>          ]  12.42MB/15.16MB\n",
      " c6d6a02827da Downloading [=======>                                           ]   4.41MB/27.96MB\n",
      " af302e5c37e9 Downloading [======================>                            ]   12.6MB/28.21MB\n",
      " 49ec7c178868 Downloading [==========================================>        ]  12.91MB/15.16MB\n",
      " c6d6a02827da Downloading [========>                                          ]  4.987MB/27.96MB\n",
      " af302e5c37e9 Downloading [=======================>                           ]  13.19MB/28.21MB\n",
      " 49ec7c178868 Downloading [============================================>      ]   13.4MB/15.16MB\n",
      " c6d6a02827da Downloading [=========>                                         ]  5.577MB/27.96MB\n",
      " af302e5c37e9 Downloading [========================>                          ]  13.78MB/28.21MB\n",
      " 49ec7c178868 Downloading [=============================================>     ]  13.89MB/15.16MB\n",
      " c6d6a02827da Downloading [===========>                                       ]  6.159MB/27.96MB\n",
      " 49ec7c178868 Downloading [===============================================>   ]  14.38MB/15.16MB\n",
      " af302e5c37e9 Downloading [=========================>                         ]  14.37MB/28.21MB\n",
      " c6d6a02827da Downloading [============>                                      ]  6.736MB/27.96MB\n",
      " 49ec7c178868 Downloading [=================================================> ]  14.87MB/15.16MB\n",
      " af302e5c37e9 Downloading [==========================>                        ]  14.96MB/28.21MB\n",
      " 49ec7c178868 Download complete \n",
      " c6d6a02827da Downloading [=============>                                     ]  7.318MB/27.96MB\n",
      " af302e5c37e9 Downloading [===========================>                       ]  15.55MB/28.21MB\n",
      " c6d6a02827da Downloading [==============>                                    ]  7.908MB/27.96MB\n",
      " af302e5c37e9 Downloading [============================>                      ]  16.14MB/28.21MB\n",
      " c6d6a02827da Downloading [===============>                                   ]  8.497MB/27.96MB\n",
      " af302e5c37e9 Downloading [=============================>                     ]  16.73MB/28.21MB\n",
      " c6d6a02827da Downloading [================>                                  ]  9.075MB/27.96MB\n",
      " af302e5c37e9 Downloading [==============================>                    ]  17.31MB/28.21MB\n",
      " 92c18d6dd71d Downloading [=======>                                           ]     721B/5.081kB\n",
      " 92c18d6dd71d Downloading [==================================================>]  5.081kB/5.081kB\n",
      " 92c18d6dd71d Verifying Checksum \n",
      " 92c18d6dd71d Download complete \n",
      " c6d6a02827da Downloading [=================>                                 ]  9.665MB/27.96MB\n",
      " af302e5c37e9 Downloading [===============================>                   ]   17.9MB/28.21MB\n",
      " c6d6a02827da Downloading [==================>                                ]  10.25MB/27.96MB\n",
      " af302e5c37e9 Downloading [================================>                  ]  18.48MB/28.21MB\n",
      " c6d6a02827da Downloading [===================>                               ]  10.84MB/27.96MB\n",
      " af302e5c37e9 Downloading [=================================>                 ]  19.07MB/28.21MB\n",
      " c6d6a02827da Downloading [====================>                              ]  11.43MB/27.96MB\n",
      " af302e5c37e9 Downloading [==================================>                ]  19.66MB/28.21MB\n",
      " 6f1cdc75b8c8 Downloading [=======================================>           ]     722B/908B\n",
      " 6f1cdc75b8c8 Downloading [==================================================>]     908B/908B\n",
      " 6f1cdc75b8c8 Verifying Checksum \n",
      " 6f1cdc75b8c8 Download complete \n",
      " c6d6a02827da Downloading [=====================>                             ]  12.02MB/27.96MB\n",
      " af302e5c37e9 Downloading [===================================>               ]  20.24MB/28.21MB\n",
      " c6d6a02827da Downloading [======================>                            ]  12.61MB/27.96MB\n",
      " af302e5c37e9 Downloading [====================================>              ]  20.82MB/28.21MB\n",
      " c6d6a02827da Downloading [=======================>                           ]   13.2MB/27.96MB\n",
      " af302e5c37e9 Downloading [=====================================>             ]  21.41MB/28.21MB\n",
      " c6d6a02827da Downloading [========================>                          ]  13.78MB/27.96MB\n",
      " e028ccffbf50 Downloading [>                                                  ]  21.24kB/2.088MB\n",
      " af302e5c37e9 Downloading [======================================>            ]  21.99MB/28.21MB\n",
      " c6d6a02827da Downloading [=========================>                         ]  14.37MB/27.96MB\n",
      " e028ccffbf50 Downloading [============>                                      ]  519.4kB/2.088MB\n",
      " af302e5c37e9 Downloading [========================================>          ]  22.58MB/28.21MB\n",
      " e028ccffbf50 Downloading [=======================>                           ]  978.2kB/2.088MB\n",
      " c6d6a02827da Downloading [==========================>                        ]  14.96MB/27.96MB\n",
      " af302e5c37e9 Downloading [=========================================>         ]  23.17MB/28.21MB\n",
      " e028ccffbf50 Downloading [================================>                  ]  1.375MB/2.088MB\n",
      " c6d6a02827da Downloading [===========================>                       ]  15.55MB/27.96MB\n",
      " e028ccffbf50 Downloading [=========================================>         ]  1.714MB/2.088MB\n",
      " af302e5c37e9 Downloading [==========================================>        ]  23.76MB/28.21MB\n",
      " e028ccffbf50 Downloading [=================================================> ]  2.067MB/2.088MB\n",
      " e028ccffbf50 Verifying Checksum \n",
      " e028ccffbf50 Download complete \n",
      " c6d6a02827da Downloading [============================>                      ]  16.14MB/27.96MB\n",
      " af302e5c37e9 Downloading [===========================================>       ]  24.35MB/28.21MB\n",
      " c6d6a02827da Downloading [=============================>                     ]  16.73MB/27.96MB\n",
      " af302e5c37e9 Downloading [============================================>      ]  24.94MB/28.21MB\n",
      " c6d6a02827da Downloading [==============================>                    ]  17.31MB/27.96MB\n",
      " af302e5c37e9 Downloading [=============================================>     ]  25.52MB/28.21MB\n",
      " c6d6a02827da Downloading [================================>                  ]   17.9MB/27.96MB\n",
      " af302e5c37e9 Downloading [==============================================>    ]  26.11MB/28.21MB\n",
      " c6d6a02827da Downloading [=================================>                 ]  18.49MB/27.96MB\n",
      " af302e5c37e9 Downloading [===============================================>   ]   26.7MB/28.21MB\n",
      " c6d6a02827da Downloading [==================================>                ]  19.08MB/27.96MB\n",
      " af302e5c37e9 Downloading [================================================>  ]  27.29MB/28.21MB\n",
      " c6d6a02827da Downloading [===================================>               ]  19.67MB/27.96MB\n",
      " af302e5c37e9 Downloading [=================================================> ]  27.87MB/28.21MB\n",
      " c6d6a02827da Downloading [====================================>              ]  20.26MB/27.96MB\n",
      " af302e5c37e9 Verifying Checksum \n",
      " af302e5c37e9 Download complete \n",
      " af302e5c37e9 Extracting [>                                                  ]  294.9kB/28.21MB\n",
      " c6d6a02827da Downloading [=====================================>             ]  20.85MB/27.96MB\n",
      " af302e5c37e9 Extracting [===>                                               ]  2.064MB/28.21MB\n",
      " c6d6a02827da Downloading [======================================>            ]  21.44MB/27.96MB\n",
      " af302e5c37e9 Extracting [=======>                                           ]  4.129MB/28.21MB\n",
      " c6d6a02827da Downloading [=======================================>           ]   22.3MB/27.96MB\n",
      " af302e5c37e9 Extracting [===========>                                       ]  6.488MB/28.21MB\n",
      " c6d6a02827da Downloading [========================================>          ]  22.89MB/27.96MB\n",
      " af302e5c37e9 Extracting [==============>                                    ]  8.258MB/28.21MB\n",
      " c6d6a02827da Downloading [=========================================>         ]  23.48MB/27.96MB\n",
      " af302e5c37e9 Extracting [================>                                  ]  9.142MB/28.21MB\n",
      " c6d6a02827da Downloading [===========================================>       ]  24.07MB/27.96MB\n",
      " af302e5c37e9 Extracting [==================>                                ]  10.32MB/28.21MB\n",
      " c6d6a02827da Downloading [============================================>      ]  24.65MB/27.96MB\n",
      " af302e5c37e9 Extracting [====================>                              ]   11.5MB/28.21MB\n",
      " c6d6a02827da Downloading [=============================================>     ]  25.24MB/27.96MB\n",
      " af302e5c37e9 Extracting [=========================>                         ]  14.45MB/28.21MB\n",
      " c6d6a02827da Downloading [==============================================>    ]  25.82MB/27.96MB\n",
      " c6d6a02827da Downloading [===============================================>   ]  26.41MB/27.96MB\n",
      " af302e5c37e9 Extracting [==============================>                    ]   17.4MB/28.21MB\n",
      " c6d6a02827da Downloading [================================================>  ]     27MB/27.96MB\n",
      " af302e5c37e9 Extracting [===================================>               ]  20.05MB/28.21MB\n",
      " c6d6a02827da Downloading [=================================================> ]  27.58MB/27.96MB\n",
      " af302e5c37e9 Extracting [=======================================>           ]  22.12MB/28.21MB\n",
      " c6d6a02827da Verifying Checksum \n",
      " c6d6a02827da Download complete \n",
      " af302e5c37e9 Extracting [=========================================>         ]  23.59MB/28.21MB\n",
      " af302e5c37e9 Extracting [==========================================>        ]  23.89MB/28.21MB\n",
      " af302e5c37e9 Extracting [============================================>      ]  25.07MB/28.21MB\n",
      " af302e5c37e9 Extracting [===============================================>   ]  26.84MB/28.21MB\n",
      " af302e5c37e9 Extracting [================================================>  ]  27.13MB/28.21MB\n",
      " af302e5c37e9 Extracting [================================================>  ]  27.43MB/28.21MB\n",
      " af302e5c37e9 Extracting [=================================================> ]  28.02MB/28.21MB\n",
      " af302e5c37e9 Extracting [==================================================>]  28.21MB/28.21MB\n",
      " af302e5c37e9 Pull complete \n",
      " 49ec7c178868 Extracting [>                                                  ]  163.8kB/15.16MB\n",
      " 49ec7c178868 Extracting [===========>                                       ]  3.441MB/15.16MB\n",
      " 49ec7c178868 Extracting [======================>                            ]  6.881MB/15.16MB\n",
      " 49ec7c178868 Extracting [==================================>                ]  10.32MB/15.16MB\n",
      " 49ec7c178868 Extracting [===============================================>   ]  14.25MB/15.16MB\n",
      " 49ec7c178868 Extracting [==================================================>]  15.16MB/15.16MB\n",
      " 49ec7c178868 Pull complete \n",
      " 4f4fb700ef54 Extracting [==================================================>]      32B/32B\n",
      " 4f4fb700ef54 Extracting [==================================================>]      32B/32B\n",
      " 4f4fb700ef54 Pull complete \n",
      " dc94c0068506 Extracting [>                                                  ]  65.54kB/3.575MB\n",
      " dc94c0068506 Extracting [=======>                                           ]  524.3kB/3.575MB\n",
      " dc94c0068506 Extracting [====================================>              ]  2.621MB/3.575MB\n",
      " dc94c0068506 Extracting [=============================================>     ]  3.277MB/3.575MB\n",
      " dc94c0068506 Extracting [==================================================>]  3.575MB/3.575MB\n",
      " dc94c0068506 Extracting [==================================================>]  3.575MB/3.575MB\n",
      " dc94c0068506 Pull complete \n",
      " c6d6a02827da Extracting [>                                                  ]  294.9kB/27.96MB\n",
      " c6d6a02827da Extracting [==>                                                ]  1.475MB/27.96MB\n",
      " c6d6a02827da Extracting [========>                                          ]  4.719MB/27.96MB\n",
      " c6d6a02827da Extracting [============>                                      ]  7.078MB/27.96MB\n",
      " c6d6a02827da Extracting [================>                                  ]  9.142MB/27.96MB\n",
      " c6d6a02827da Extracting [=====================>                             ]  12.09MB/27.96MB\n",
      " c6d6a02827da Extracting [===========================>                       ]  15.34MB/27.96MB\n",
      " c6d6a02827da Extracting [===============================>                   ]  17.69MB/27.96MB\n",
      " c6d6a02827da Extracting [==================================>                ]  19.17MB/27.96MB\n",
      " c6d6a02827da Extracting [=====================================>             ]  21.23MB/27.96MB\n",
      " c6d6a02827da Extracting [==========================================>        ]  23.59MB/27.96MB\n",
      " c6d6a02827da Extracting [==============================================>    ]  26.25MB/27.96MB\n",
      " c6d6a02827da Extracting [================================================>  ]  27.13MB/27.96MB\n",
      " c6d6a02827da Extracting [==================================================>]  27.96MB/27.96MB\n",
      " c6d6a02827da Pull complete \n",
      " 92c18d6dd71d Extracting [==================================================>]  5.081kB/5.081kB\n",
      " 92c18d6dd71d Extracting [==================================================>]  5.081kB/5.081kB\n",
      " 92c18d6dd71d Pull complete \n",
      " 6f1cdc75b8c8 Extracting [==================================================>]     908B/908B\n",
      " 6f1cdc75b8c8 Extracting [==================================================>]     908B/908B\n",
      " 6f1cdc75b8c8 Pull complete \n",
      " e028ccffbf50 Extracting [>                                                  ]  32.77kB/2.088MB\n",
      " e028ccffbf50 Extracting [=========================>                         ]  1.081MB/2.088MB\n",
      " e028ccffbf50 Extracting [==================================================>]  2.088MB/2.088MB\n",
      " e028ccffbf50 Extracting [==================================================>]  2.088MB/2.088MB\n",
      " e028ccffbf50 Pull complete \n",
      " qdrant Pulled \n",
      " Network lab10-rag_qdrant_network  Creating\n",
      " Network lab10-rag_qdrant_network  Created\n",
      " Container qdrant  Creating\n",
      " Container qdrant  Created\n",
      " Container qdrant  Starting\n",
      " Container qdrant  Started\n"
     ]
    }
   ],
   "source": [
    "!docker-compose up -d"
   ]
  },
  {
   "cell_type": "markdown",
   "metadata": {},
   "source": [
    "# 2) Showing pdf file of choice"
   ]
  },
  {
   "cell_type": "markdown",
   "metadata": {},
   "source": [
    "I have found a first book of the Witcher as pdf, we will use it as a RAG database and see if LLM answers the specific questions about the book later"
   ]
  },
  {
   "cell_type": "markdown",
   "metadata": {},
   "source": [
    "# 3) Loading and stroing pdf file in vector database"
   ]
  },
  {
   "cell_type": "code",
   "execution_count": 15,
   "metadata": {},
   "outputs": [
    {
     "data": {
      "text/plain": [
       "<qdrant_client.qdrant_client.QdrantClient at 0x1de6edb69d0>"
      ]
     },
     "execution_count": 15,
     "metadata": {},
     "output_type": "execute_result"
    }
   ],
   "source": [
    "from qdrant_client import QdrantClient\n",
    "\n",
    "client = QdrantClient(url=\"http://localhost:6333\")\n",
    "client"
   ]
  },
  {
   "cell_type": "markdown",
   "metadata": {},
   "source": [
    "Qdrant is now accessible:\n",
    "\n",
    "- REST API: [localhost:6333](http://localhost:6333)\n",
    "- Web UI: [localhost:6333/dashboard](http://localhost:6333/dashboard)\n",
    "- GRPC API: [localhost:6334](http://localhost:6334)"
   ]
  },
  {
   "cell_type": "code",
   "execution_count": 4,
   "metadata": {},
   "outputs": [],
   "source": [
    "from langchain_community.document_loaders import PyPDFLoader\n",
    "\n",
    "loader = PyPDFLoader(\"(Witcher 1)The Last Wish.pdf\")\n",
    "documents = loader.load()"
   ]
  },
  {
   "cell_type": "code",
   "execution_count": null,
   "metadata": {},
   "outputs": [],
   "source": [
    "#!docker-compose down"
   ]
  }
 ],
 "metadata": {
  "kernelspec": {
   "display_name": ".venv",
   "language": "python",
   "name": "python3"
  },
  "language_info": {
   "codemirror_mode": {
    "name": "ipython",
    "version": 3
   },
   "file_extension": ".py",
   "mimetype": "text/x-python",
   "name": "python",
   "nbconvert_exporter": "python",
   "pygments_lexer": "ipython3",
   "version": "3.11.9"
  }
 },
 "nbformat": 4,
 "nbformat_minor": 2
}
