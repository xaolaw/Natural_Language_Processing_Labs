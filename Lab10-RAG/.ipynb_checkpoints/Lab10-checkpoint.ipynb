{
 "cells": [
  {
   "cell_type": "markdown",
   "metadata": {},
   "source": [
    "# 1) Setting up a QA eviornment"
   ]
  },
  {
   "cell_type": "markdown",
   "metadata": {},
   "source": [
    "1) Installing Ollama and chosen model"
   ]
  },
  {
   "cell_type": "code",
   "execution_count": 2,
   "metadata": {},
   "outputs": [
    {
     "name": "stdout",
     "output_type": "stream",
     "text": [
      "NAME             ID              SIZE      MODIFIED    \n",
      "gemma2:latest    ff02c3702f32    5.4 GB    5 weeks ago    \n",
      "phi3:3.8b        4f2222927938    2.2 GB    5 weeks ago    \n"
     ]
    }
   ],
   "source": [
    "!ollama list"
   ]
  },
  {
   "cell_type": "markdown",
   "metadata": {},
   "source": [
    "2) Installing python packages"
   ]
  },
  {
   "cell_type": "code",
   "execution_count": 2,
   "metadata": {},
   "outputs": [],
   "source": [
    "#!pip install -r ../requiremnets.txt"
   ]
  },
  {
   "cell_type": "markdown",
   "metadata": {},
   "source": [
    "3) Setting up vector database"
   ]
  },
  {
   "cell_type": "code",
   "execution_count": 3,
   "metadata": {},
   "outputs": [
    {
     "name": "stderr",
     "output_type": "stream",
     "text": [
      " Network lab10-rag_qdrant_network  Creating\n",
      " Network lab10-rag_qdrant_network  Created\n",
      " Container qdrant  Creating\n",
      " Container qdrant  Created\n",
      " Container qdrant  Starting\n",
      " Container qdrant  Started\n"
     ]
    }
   ],
   "source": [
    "!docker-compose up -d"
   ]
  },
  {
   "cell_type": "markdown",
   "metadata": {},
   "source": [
    "# 2) Showing pdf file of choice"
   ]
  },
  {
   "cell_type": "markdown",
   "metadata": {},
   "source": [
    "I have found a guide for Witcher rpg game as pdf, we will use it as a RAG database and see if LLM answers the specific questions about the paper later"
   ]
  },
  {
   "cell_type": "markdown",
   "metadata": {},
   "source": [
    "# 3) Loading and stroing pdf file in vector database"
   ]
  },
  {
   "cell_type": "markdown",
   "metadata": {},
   "source": [
    "Testing qdrant connection"
   ]
  },
  {
   "cell_type": "code",
   "execution_count": 4,
   "metadata": {},
   "outputs": [
    {
     "data": {
      "text/plain": [
       "<qdrant_client.qdrant_client.QdrantClient at 0x217e7460110>"
      ]
     },
     "execution_count": 4,
     "metadata": {},
     "output_type": "execute_result"
    }
   ],
   "source": [
    "from qdrant_client import QdrantClient\n",
    "\n",
    "client = QdrantClient(url=\"http://localhost:6333\")\n",
    "client"
   ]
  },
  {
   "cell_type": "markdown",
   "metadata": {},
   "source": [
    "Qdrant is now accessible:\n",
    "\n",
    "- REST API: [localhost:6333](http://localhost:6333)\n",
    "- Web UI: [localhost:6333/dashboard](http://localhost:6333/dashboard)\n",
    "- GRPC API: [localhost:6334](http://localhost:6334)"
   ]
  },
  {
   "cell_type": "markdown",
   "metadata": {},
   "source": [
    "Loafing pdf file via `PyPDFLoader`"
   ]
  },
  {
   "cell_type": "code",
   "execution_count": 5,
   "metadata": {},
   "outputs": [],
   "source": [
    "from langchain_community.document_loaders import PyPDFLoader\n",
    "\n",
    "loader = PyPDFLoader(\"wiedzmin_rpg.pdf\")\n",
    "documents = loader.load()"
   ]
  },
  {
   "cell_type": "markdown",
   "metadata": {},
   "source": [
    "Spliting text with `RecursiveCharacterTextSplitter`"
   ]
  },
  {
   "cell_type": "code",
   "execution_count": 96,
   "metadata": {},
   "outputs": [],
   "source": [
    "from langchain_text_splitters import RecursiveCharacterTextSplitter\n",
    "\n",
    "text_splitter = RecursiveCharacterTextSplitter(\n",
    "    chunk_size=1000,\n",
    "    chunk_overlap=200,\n",
    "    add_start_index=True\n",
    ")"
   ]
  },
  {
   "cell_type": "markdown",
   "metadata": {},
   "source": [
    "We skip the first page because it is the table of contents"
   ]
  },
  {
   "cell_type": "code",
   "execution_count": 97,
   "metadata": {},
   "outputs": [],
   "source": [
    "documents_ = documents\n",
    "\n",
    "for i in documents_:\n",
    "  if i.metadata['page'] == 1:\n",
    "    documents.remove(i)"
   ]
  },
  {
   "cell_type": "code",
   "execution_count": 98,
   "metadata": {},
   "outputs": [
    {
     "data": {
      "text/plain": [
       "[Document(metadata={'source': 'wiedzmin_rpg.pdf', 'page': 0, 'start_index': 0}, page_content='1\\nPOLSKA EDYCJA\\n— gra fabularna —\\nSTARTER\\nCOPERNICUS \\nCORPORATION'),\n",
       " Document(metadata={'source': 'wiedzmin_rpg.pdf', 'page': 2, 'start_index': 0}, page_content='3\\nWprowadzenie\\nO czym jest ta gra?\\nW tej grze wcielicie się w postaci zamieszkujące świat \\nwiedźmiński: bardów, najemników, czarodziejów, kupców, czy \\nw końcu łowców potworów. Będą to ludzie oderwani od swoich \\nkorzeni, szukający nowego miejsca w niebezpiecznych czasach. \\nBohaterowie, którzy już niejedno przeżyli i stracili. Pozostała \\nim tylko nadzieja.\\nKontynent w ostatnich latach rozrywany jest przez konflikty. \\nKolejne wojny z Nilfgaardem spustoszyły wiele krain. Spiski \\ni zdrady pośród czarodziejów rozbiły zarówno społeczność \\nmagów jak i przetrzebiły elity Północy. Niesnaski między \\nrasami przerodziły się lokalnie w otwartą wojnę. Religijny \\nfanatyzm rozbudził w ludzkich sercach najniższe instynkty. \\nZ ciemności i dzikich ostępów powróciły zaś potwory, dawniej \\nniemal wytępione przez wiedźminów.\\nStary świat kończy się w ogniu i krwi. Co przyjdzie po \\nnim, nie wiadomo. Bohaterowie Waszych opowieści będą \\nmusieli odnaleźć się pośród tych zmian, przewrotów, ruin'),\n",
       " Document(metadata={'source': 'wiedzmin_rpg.pdf', 'page': 2, 'start_index': 813}, page_content='Stary świat kończy się w ogniu i krwi. Co przyjdzie po \\nnim, nie wiadomo. Bohaterowie Waszych opowieści będą \\nmusieli odnaleźć się pośród tych zmian, przewrotów, ruin \\ni zgliszczy. Wbrew ludzkiej małostkowości oraz niegodziwości, \\nokrucieństwom magii, klątw czy potworów, znaleźć i zbudować \\nsobie nowy dom. Będą walczyć, ale też tworzyć. Rozbijać \\nstare układy i budować nowe przyjaźnie. Na przekór siłom \\nPrzeznaczenia wykuwać własny los.\\nCzego potrzebujecie do gry\\nThe Witcher RPG PL jest grą towarzyską zaprojektowaną dla \\ngrupy od 2 do 6 osób. Najlepiej będziecie bawić się w 4 osoby \\n(jednego MG i trójkę Graczy).\\nW pierwszej kolejności potrzebujecie pomocy dostarczonych \\nwraz z tym starterem, przede wszystkim kart postaci. Więcej \\ntakich materiałów, w tym przygody, znajdziecie na stronie \\nCopernicus Corporation www.copcorp.pl.\\nPo drugie przyda się kilka kartek papieru ołówki i gumka, by \\nnotować rozmaite zmiany na kartach czy szkicować mapki.'),\n",
       " Document(metadata={'source': 'wiedzmin_rpg.pdf', 'page': 2, 'start_index': 1612}, page_content='Copernicus Corporation www.copcorp.pl.\\nPo drugie przyda się kilka kartek papieru ołówki i gumka, by \\nnotować rozmaite zmiany na kartach czy szkicować mapki. \\nMożecie też skorzystać z mazaków i mat ścieralnych dostępnych \\nw sklepach RPG.\\nPo trzecie potrzebujecie kostek. Do gry wystarczy Wam jedna \\nkostka dziesięciościenna (1k10) oraz jedna klasyczna sześcienna \\n(1k6), ale najlepiej mieć po jednej na każdego uczestnika \\nrozgrywki. Kostki możecie kupić w każdym sklepie z RPG. \\nMożecie też skorzystać z jednej z wielu dostępnych w sieci \\naplikacji i stron typu „dice roller”.\\nJak wygląda rozgrywka?\\nMacie w ręku klasyczną grę RPG (zwaną też grą fabularną, grą \\nwyobraźni czy stołowym RPG). Głównym założeniem tego typu \\nrozrywki jest wspólne opowiadanie ciekawych historii. Jedna \\nosoba wciela się w narratora (nazywanego tu Mistrzem Gry), \\na pozostałe w głównych bohaterów opowieści (to Gracze). \\nMistrz Gry opisuje scenerię, ciekawe sytuacje oraz działania \\npostaci drugoplanowych.'),\n",
       " Document(metadata={'source': 'wiedzmin_rpg.pdf', 'page': 2, 'start_index': 2454}, page_content='a pozostałe w głównych bohaterów opowieści (to Gracze). \\nMistrz Gry opisuje scenerię, ciekawe sytuacje oraz działania \\npostaci drugoplanowych.\\nGracze opisują, jak reagują na to prowadzeni przez nich głowni \\nbohaterowie historii, po czym rzucają kostką by sprawdzić, czy \\nich zamierzenia się powiodły.\\nSprzeczne plany drużyny bohaterów oraz innych postaci napędzają \\nfabułę. Powodzenia i porażki w podejmowanych działaniach \\nprowadzą historię do przodu, tworząc rozmaite zwroty akcji.\\nNa koniec spotkania (zwanego sesją) Mistrz Gry rozdziela \\nmiędzy postaci Graczy punkty Wprawy, nagradzając osiągnięcia \\nale i starania bohaterów. To oddaje nauki, jakie wyciągają \\nfikcyjne awatary uczestników rozgrywki z wydarzeń. Pozwalają \\nim one lepiej się przygotować na kolejne przygody.\\nTypowa rozgrywka w The Witcher RPG PL trwa od 3 do \\n5 godzin. Zwykle dwie albo trzy takie sesje układają się \\nw przygodę, a kilka do kilkunastu przygód – w kampanię.')]"
      ]
     },
     "execution_count": 98,
     "metadata": {},
     "output_type": "execute_result"
    }
   ],
   "source": [
    "texts = text_splitter.split_documents(documents=documents)\n",
    "texts[:5]"
   ]
  },
  {
   "cell_type": "markdown",
   "metadata": {},
   "source": [
    "Embeding the documents"
   ]
  },
  {
   "cell_type": "code",
   "execution_count": 99,
   "metadata": {},
   "outputs": [
    {
     "data": {
      "text/plain": [
       "FastEmbedEmbeddings(model_name='BAAI/bge-small-en-v1.5', max_length=512, cache_dir=None, threads=None, doc_embed_type='default', batch_size=256, parallel=None, model=<fastembed.text.text_embedding.TextEmbedding object at 0x00000217EA977950>)"
      ]
     },
     "execution_count": 99,
     "metadata": {},
     "output_type": "execute_result"
    }
   ],
   "source": [
    "from langchain_community.embeddings.fastembed import FastEmbedEmbeddings\n",
    "\n",
    "fastembed_ = FastEmbedEmbeddings(model='intfloat/multilingual-e5-large')\n",
    "fastembed_"
   ]
  },
  {
   "cell_type": "code",
   "execution_count": 100,
   "metadata": {},
   "outputs": [],
   "source": [
    "text_to_embed = [doc.page_content for doc in texts]"
   ]
  },
  {
   "cell_type": "code",
   "execution_count": 101,
   "metadata": {},
   "outputs": [
    {
     "data": {
      "text/plain": [
       "['1\\nPOLSKA EDYCJA\\n— gra fabularna —\\nSTARTER\\nCOPERNICUS \\nCORPORATION',\n",
       " '3\\nWprowadzenie\\nO czym jest ta gra?\\nW tej grze wcielicie się w postaci zamieszkujące świat \\nwiedźmiński: bardów, najemników, czarodziejów, kupców, czy \\nw końcu łowców potworów. Będą to ludzie oderwani od swoich \\nkorzeni, szukający nowego miejsca w niebezpiecznych czasach. \\nBohaterowie, którzy już niejedno przeżyli i stracili. Pozostała \\nim tylko nadzieja.\\nKontynent w ostatnich latach rozrywany jest przez konflikty. \\nKolejne wojny z Nilfgaardem spustoszyły wiele krain. Spiski \\ni zdrady pośród czarodziejów rozbiły zarówno społeczność \\nmagów jak i przetrzebiły elity Północy. Niesnaski między \\nrasami przerodziły się lokalnie w otwartą wojnę. Religijny \\nfanatyzm rozbudził w ludzkich sercach najniższe instynkty. \\nZ ciemności i dzikich ostępów powróciły zaś potwory, dawniej \\nniemal wytępione przez wiedźminów.\\nStary świat kończy się w ogniu i krwi. Co przyjdzie po \\nnim, nie wiadomo. Bohaterowie Waszych opowieści będą \\nmusieli odnaleźć się pośród tych zmian, przewrotów, ruin',\n",
       " 'Stary świat kończy się w ogniu i krwi. Co przyjdzie po \\nnim, nie wiadomo. Bohaterowie Waszych opowieści będą \\nmusieli odnaleźć się pośród tych zmian, przewrotów, ruin \\ni zgliszczy. Wbrew ludzkiej małostkowości oraz niegodziwości, \\nokrucieństwom magii, klątw czy potworów, znaleźć i zbudować \\nsobie nowy dom. Będą walczyć, ale też tworzyć. Rozbijać \\nstare układy i budować nowe przyjaźnie. Na przekór siłom \\nPrzeznaczenia wykuwać własny los.\\nCzego potrzebujecie do gry\\nThe Witcher RPG PL jest grą towarzyską zaprojektowaną dla \\ngrupy od 2 do 6 osób. Najlepiej będziecie bawić się w 4 osoby \\n(jednego MG i trójkę Graczy).\\nW pierwszej kolejności potrzebujecie pomocy dostarczonych \\nwraz z tym starterem, przede wszystkim kart postaci. Więcej \\ntakich materiałów, w tym przygody, znajdziecie na stronie \\nCopernicus Corporation www.copcorp.pl.\\nPo drugie przyda się kilka kartek papieru ołówki i gumka, by \\nnotować rozmaite zmiany na kartach czy szkicować mapki.',\n",
       " 'Copernicus Corporation www.copcorp.pl.\\nPo drugie przyda się kilka kartek papieru ołówki i gumka, by \\nnotować rozmaite zmiany na kartach czy szkicować mapki. \\nMożecie też skorzystać z mazaków i mat ścieralnych dostępnych \\nw sklepach RPG.\\nPo trzecie potrzebujecie kostek. Do gry wystarczy Wam jedna \\nkostka dziesięciościenna (1k10) oraz jedna klasyczna sześcienna \\n(1k6), ale najlepiej mieć po jednej na każdego uczestnika \\nrozgrywki. Kostki możecie kupić w każdym sklepie z RPG. \\nMożecie też skorzystać z jednej z wielu dostępnych w sieci \\naplikacji i stron typu „dice roller”.\\nJak wygląda rozgrywka?\\nMacie w ręku klasyczną grę RPG (zwaną też grą fabularną, grą \\nwyobraźni czy stołowym RPG). Głównym założeniem tego typu \\nrozrywki jest wspólne opowiadanie ciekawych historii. Jedna \\nosoba wciela się w narratora (nazywanego tu Mistrzem Gry), \\na pozostałe w głównych bohaterów opowieści (to Gracze). \\nMistrz Gry opisuje scenerię, ciekawe sytuacje oraz działania \\npostaci drugoplanowych.',\n",
       " 'a pozostałe w głównych bohaterów opowieści (to Gracze). \\nMistrz Gry opisuje scenerię, ciekawe sytuacje oraz działania \\npostaci drugoplanowych.\\nGracze opisują, jak reagują na to prowadzeni przez nich głowni \\nbohaterowie historii, po czym rzucają kostką by sprawdzić, czy \\nich zamierzenia się powiodły.\\nSprzeczne plany drużyny bohaterów oraz innych postaci napędzają \\nfabułę. Powodzenia i porażki w podejmowanych działaniach \\nprowadzą historię do przodu, tworząc rozmaite zwroty akcji.\\nNa koniec spotkania (zwanego sesją) Mistrz Gry rozdziela \\nmiędzy postaci Graczy punkty Wprawy, nagradzając osiągnięcia \\nale i starania bohaterów. To oddaje nauki, jakie wyciągają \\nfikcyjne awatary uczestników rozgrywki z wydarzeń. Pozwalają \\nim one lepiej się przygotować na kolejne przygody.\\nTypowa rozgrywka w The Witcher RPG PL trwa od 3 do \\n5 godzin. Zwykle dwie albo trzy takie sesje układają się \\nw przygodę, a kilka do kilkunastu przygód – w kampanię.']"
      ]
     },
     "execution_count": 101,
     "metadata": {},
     "output_type": "execute_result"
    }
   ],
   "source": [
    "text_to_embed[:5]"
   ]
  },
  {
   "cell_type": "code",
   "execution_count": 102,
   "metadata": {},
   "outputs": [],
   "source": [
    "embeddings = fastembed_.embed_documents(text_to_embed)"
   ]
  },
  {
   "cell_type": "code",
   "execution_count": 103,
   "metadata": {},
   "outputs": [
    {
     "ename": "ResponseHandlingException",
     "evalue": "timed out",
     "output_type": "error",
     "traceback": [
      "\u001b[1;31m---------------------------------------------------------------------------\u001b[0m",
      "\u001b[1;31mReadTimeout\u001b[0m                               Traceback (most recent call last)",
      "File \u001b[1;32md:\\Studia\\NLP\\.venv\\Lib\\site-packages\\httpx\\_transports\\default.py:101\u001b[0m, in \u001b[0;36mmap_httpcore_exceptions\u001b[1;34m()\u001b[0m\n\u001b[0;32m    100\u001b[0m \u001b[38;5;28;01mtry\u001b[39;00m:\n\u001b[1;32m--> 101\u001b[0m     \u001b[38;5;28;01myield\u001b[39;00m\n\u001b[0;32m    102\u001b[0m \u001b[38;5;28;01mexcept\u001b[39;00m \u001b[38;5;167;01mException\u001b[39;00m \u001b[38;5;28;01mas\u001b[39;00m exc:\n",
      "File \u001b[1;32md:\\Studia\\NLP\\.venv\\Lib\\site-packages\\httpx\\_transports\\default.py:250\u001b[0m, in \u001b[0;36mHTTPTransport.handle_request\u001b[1;34m(self, request)\u001b[0m\n\u001b[0;32m    249\u001b[0m \u001b[38;5;28;01mwith\u001b[39;00m map_httpcore_exceptions():\n\u001b[1;32m--> 250\u001b[0m     resp \u001b[38;5;241m=\u001b[39m \u001b[38;5;28;43mself\u001b[39;49m\u001b[38;5;241;43m.\u001b[39;49m\u001b[43m_pool\u001b[49m\u001b[38;5;241;43m.\u001b[39;49m\u001b[43mhandle_request\u001b[49m\u001b[43m(\u001b[49m\u001b[43mreq\u001b[49m\u001b[43m)\u001b[49m\n\u001b[0;32m    252\u001b[0m \u001b[38;5;28;01massert\u001b[39;00m \u001b[38;5;28misinstance\u001b[39m(resp\u001b[38;5;241m.\u001b[39mstream, typing\u001b[38;5;241m.\u001b[39mIterable)\n",
      "File \u001b[1;32md:\\Studia\\NLP\\.venv\\Lib\\site-packages\\httpcore\\_sync\\connection_pool.py:256\u001b[0m, in \u001b[0;36mConnectionPool.handle_request\u001b[1;34m(self, request)\u001b[0m\n\u001b[0;32m    255\u001b[0m     \u001b[38;5;28mself\u001b[39m\u001b[38;5;241m.\u001b[39m_close_connections(closing)\n\u001b[1;32m--> 256\u001b[0m     \u001b[38;5;28;01mraise\u001b[39;00m exc \u001b[38;5;28;01mfrom\u001b[39;00m\u001b[38;5;250m \u001b[39m\u001b[38;5;28;01mNone\u001b[39;00m\n\u001b[0;32m    258\u001b[0m \u001b[38;5;66;03m# Return the response. Note that in this case we still have to manage\u001b[39;00m\n\u001b[0;32m    259\u001b[0m \u001b[38;5;66;03m# the point at which the response is closed.\u001b[39;00m\n",
      "File \u001b[1;32md:\\Studia\\NLP\\.venv\\Lib\\site-packages\\httpcore\\_sync\\connection_pool.py:236\u001b[0m, in \u001b[0;36mConnectionPool.handle_request\u001b[1;34m(self, request)\u001b[0m\n\u001b[0;32m    234\u001b[0m \u001b[38;5;28;01mtry\u001b[39;00m:\n\u001b[0;32m    235\u001b[0m     \u001b[38;5;66;03m# Send the request on the assigned connection.\u001b[39;00m\n\u001b[1;32m--> 236\u001b[0m     response \u001b[38;5;241m=\u001b[39m \u001b[43mconnection\u001b[49m\u001b[38;5;241;43m.\u001b[39;49m\u001b[43mhandle_request\u001b[49m\u001b[43m(\u001b[49m\n\u001b[0;32m    237\u001b[0m \u001b[43m        \u001b[49m\u001b[43mpool_request\u001b[49m\u001b[38;5;241;43m.\u001b[39;49m\u001b[43mrequest\u001b[49m\n\u001b[0;32m    238\u001b[0m \u001b[43m    \u001b[49m\u001b[43m)\u001b[49m\n\u001b[0;32m    239\u001b[0m \u001b[38;5;28;01mexcept\u001b[39;00m ConnectionNotAvailable:\n\u001b[0;32m    240\u001b[0m     \u001b[38;5;66;03m# In some cases a connection may initially be available to\u001b[39;00m\n\u001b[0;32m    241\u001b[0m     \u001b[38;5;66;03m# handle a request, but then become unavailable.\u001b[39;00m\n\u001b[0;32m    242\u001b[0m     \u001b[38;5;66;03m#\u001b[39;00m\n\u001b[0;32m    243\u001b[0m     \u001b[38;5;66;03m# In this case we clear the connection and try again.\u001b[39;00m\n",
      "File \u001b[1;32md:\\Studia\\NLP\\.venv\\Lib\\site-packages\\httpcore\\_sync\\connection.py:103\u001b[0m, in \u001b[0;36mHTTPConnection.handle_request\u001b[1;34m(self, request)\u001b[0m\n\u001b[0;32m    101\u001b[0m     \u001b[38;5;28;01mraise\u001b[39;00m exc\n\u001b[1;32m--> 103\u001b[0m \u001b[38;5;28;01mreturn\u001b[39;00m \u001b[38;5;28;43mself\u001b[39;49m\u001b[38;5;241;43m.\u001b[39;49m\u001b[43m_connection\u001b[49m\u001b[38;5;241;43m.\u001b[39;49m\u001b[43mhandle_request\u001b[49m\u001b[43m(\u001b[49m\u001b[43mrequest\u001b[49m\u001b[43m)\u001b[49m\n",
      "File \u001b[1;32md:\\Studia\\NLP\\.venv\\Lib\\site-packages\\httpcore\\_sync\\http11.py:136\u001b[0m, in \u001b[0;36mHTTP11Connection.handle_request\u001b[1;34m(self, request)\u001b[0m\n\u001b[0;32m    135\u001b[0m         \u001b[38;5;28mself\u001b[39m\u001b[38;5;241m.\u001b[39m_response_closed()\n\u001b[1;32m--> 136\u001b[0m \u001b[38;5;28;01mraise\u001b[39;00m exc\n",
      "File \u001b[1;32md:\\Studia\\NLP\\.venv\\Lib\\site-packages\\httpcore\\_sync\\http11.py:106\u001b[0m, in \u001b[0;36mHTTP11Connection.handle_request\u001b[1;34m(self, request)\u001b[0m\n\u001b[0;32m     97\u001b[0m \u001b[38;5;28;01mwith\u001b[39;00m Trace(\n\u001b[0;32m     98\u001b[0m     \u001b[38;5;124m\"\u001b[39m\u001b[38;5;124mreceive_response_headers\u001b[39m\u001b[38;5;124m\"\u001b[39m, logger, request, kwargs\n\u001b[0;32m     99\u001b[0m ) \u001b[38;5;28;01mas\u001b[39;00m trace:\n\u001b[0;32m    100\u001b[0m     (\n\u001b[0;32m    101\u001b[0m         http_version,\n\u001b[0;32m    102\u001b[0m         status,\n\u001b[0;32m    103\u001b[0m         reason_phrase,\n\u001b[0;32m    104\u001b[0m         headers,\n\u001b[0;32m    105\u001b[0m         trailing_data,\n\u001b[1;32m--> 106\u001b[0m     ) \u001b[38;5;241m=\u001b[39m \u001b[38;5;28;43mself\u001b[39;49m\u001b[38;5;241;43m.\u001b[39;49m\u001b[43m_receive_response_headers\u001b[49m\u001b[43m(\u001b[49m\u001b[38;5;241;43m*\u001b[39;49m\u001b[38;5;241;43m*\u001b[39;49m\u001b[43mkwargs\u001b[49m\u001b[43m)\u001b[49m\n\u001b[0;32m    107\u001b[0m     trace\u001b[38;5;241m.\u001b[39mreturn_value \u001b[38;5;241m=\u001b[39m (\n\u001b[0;32m    108\u001b[0m         http_version,\n\u001b[0;32m    109\u001b[0m         status,\n\u001b[0;32m    110\u001b[0m         reason_phrase,\n\u001b[0;32m    111\u001b[0m         headers,\n\u001b[0;32m    112\u001b[0m     )\n",
      "File \u001b[1;32md:\\Studia\\NLP\\.venv\\Lib\\site-packages\\httpcore\\_sync\\http11.py:177\u001b[0m, in \u001b[0;36mHTTP11Connection._receive_response_headers\u001b[1;34m(self, request)\u001b[0m\n\u001b[0;32m    176\u001b[0m \u001b[38;5;28;01mwhile\u001b[39;00m \u001b[38;5;28;01mTrue\u001b[39;00m:\n\u001b[1;32m--> 177\u001b[0m     event \u001b[38;5;241m=\u001b[39m \u001b[38;5;28;43mself\u001b[39;49m\u001b[38;5;241;43m.\u001b[39;49m\u001b[43m_receive_event\u001b[49m\u001b[43m(\u001b[49m\u001b[43mtimeout\u001b[49m\u001b[38;5;241;43m=\u001b[39;49m\u001b[43mtimeout\u001b[49m\u001b[43m)\u001b[49m\n\u001b[0;32m    178\u001b[0m     \u001b[38;5;28;01mif\u001b[39;00m \u001b[38;5;28misinstance\u001b[39m(event, h11\u001b[38;5;241m.\u001b[39mResponse):\n",
      "File \u001b[1;32md:\\Studia\\NLP\\.venv\\Lib\\site-packages\\httpcore\\_sync\\http11.py:217\u001b[0m, in \u001b[0;36mHTTP11Connection._receive_event\u001b[1;34m(self, timeout)\u001b[0m\n\u001b[0;32m    216\u001b[0m \u001b[38;5;28;01mif\u001b[39;00m event \u001b[38;5;129;01mis\u001b[39;00m h11\u001b[38;5;241m.\u001b[39mNEED_DATA:\n\u001b[1;32m--> 217\u001b[0m     data \u001b[38;5;241m=\u001b[39m \u001b[38;5;28;43mself\u001b[39;49m\u001b[38;5;241;43m.\u001b[39;49m\u001b[43m_network_stream\u001b[49m\u001b[38;5;241;43m.\u001b[39;49m\u001b[43mread\u001b[49m\u001b[43m(\u001b[49m\n\u001b[0;32m    218\u001b[0m \u001b[43m        \u001b[49m\u001b[38;5;28;43mself\u001b[39;49m\u001b[38;5;241;43m.\u001b[39;49m\u001b[43mREAD_NUM_BYTES\u001b[49m\u001b[43m,\u001b[49m\u001b[43m \u001b[49m\u001b[43mtimeout\u001b[49m\u001b[38;5;241;43m=\u001b[39;49m\u001b[43mtimeout\u001b[49m\n\u001b[0;32m    219\u001b[0m \u001b[43m    \u001b[49m\u001b[43m)\u001b[49m\n\u001b[0;32m    221\u001b[0m     \u001b[38;5;66;03m# If we feed this case through h11 we'll raise an exception like:\u001b[39;00m\n\u001b[0;32m    222\u001b[0m     \u001b[38;5;66;03m#\u001b[39;00m\n\u001b[0;32m    223\u001b[0m     \u001b[38;5;66;03m#     httpcore.RemoteProtocolError: can't handle event type\u001b[39;00m\n\u001b[1;32m   (...)\u001b[0m\n\u001b[0;32m    227\u001b[0m     \u001b[38;5;66;03m# perspective. Instead we handle this case distinctly and treat\u001b[39;00m\n\u001b[0;32m    228\u001b[0m     \u001b[38;5;66;03m# it as a ConnectError.\u001b[39;00m\n",
      "File \u001b[1;32md:\\Studia\\NLP\\.venv\\Lib\\site-packages\\httpcore\\_backends\\sync.py:126\u001b[0m, in \u001b[0;36mSyncStream.read\u001b[1;34m(self, max_bytes, timeout)\u001b[0m\n\u001b[0;32m    125\u001b[0m exc_map: ExceptionMapping \u001b[38;5;241m=\u001b[39m {socket\u001b[38;5;241m.\u001b[39mtimeout: ReadTimeout, \u001b[38;5;167;01mOSError\u001b[39;00m: ReadError}\n\u001b[1;32m--> 126\u001b[0m \u001b[43m\u001b[49m\u001b[38;5;28;43;01mwith\u001b[39;49;00m\u001b[43m \u001b[49m\u001b[43mmap_exceptions\u001b[49m\u001b[43m(\u001b[49m\u001b[43mexc_map\u001b[49m\u001b[43m)\u001b[49m\u001b[43m:\u001b[49m\n\u001b[0;32m    127\u001b[0m \u001b[43m    \u001b[49m\u001b[38;5;28;43mself\u001b[39;49m\u001b[38;5;241;43m.\u001b[39;49m\u001b[43m_sock\u001b[49m\u001b[38;5;241;43m.\u001b[39;49m\u001b[43msettimeout\u001b[49m\u001b[43m(\u001b[49m\u001b[43mtimeout\u001b[49m\u001b[43m)\u001b[49m\n",
      "File \u001b[1;32mC:\\Program Files\\WindowsApps\\PythonSoftwareFoundation.Python.3.11_3.11.2544.0_x64__qbz5n2kfra8p0\\Lib\\contextlib.py:158\u001b[0m, in \u001b[0;36m_GeneratorContextManager.__exit__\u001b[1;34m(self, typ, value, traceback)\u001b[0m\n\u001b[0;32m    157\u001b[0m \u001b[38;5;28;01mtry\u001b[39;00m:\n\u001b[1;32m--> 158\u001b[0m     \u001b[38;5;28mself\u001b[39m\u001b[38;5;241m.\u001b[39mgen\u001b[38;5;241m.\u001b[39mthrow(typ, value, traceback)\n\u001b[0;32m    159\u001b[0m \u001b[38;5;28;01mexcept\u001b[39;00m \u001b[38;5;167;01mStopIteration\u001b[39;00m \u001b[38;5;28;01mas\u001b[39;00m exc:\n\u001b[0;32m    160\u001b[0m     \u001b[38;5;66;03m# Suppress StopIteration *unless* it's the same exception that\u001b[39;00m\n\u001b[0;32m    161\u001b[0m     \u001b[38;5;66;03m# was passed to throw().  This prevents a StopIteration\u001b[39;00m\n\u001b[0;32m    162\u001b[0m     \u001b[38;5;66;03m# raised inside the \"with\" statement from being suppressed.\u001b[39;00m\n",
      "File \u001b[1;32md:\\Studia\\NLP\\.venv\\Lib\\site-packages\\httpcore\\_exceptions.py:14\u001b[0m, in \u001b[0;36mmap_exceptions\u001b[1;34m(map)\u001b[0m\n\u001b[0;32m     13\u001b[0m     \u001b[38;5;28;01mif\u001b[39;00m \u001b[38;5;28misinstance\u001b[39m(exc, from_exc):\n\u001b[1;32m---> 14\u001b[0m         \u001b[38;5;28;01mraise\u001b[39;00m to_exc(exc) \u001b[38;5;28;01mfrom\u001b[39;00m\u001b[38;5;250m \u001b[39m\u001b[38;5;21;01mexc\u001b[39;00m\n\u001b[0;32m     15\u001b[0m \u001b[38;5;28;01mraise\u001b[39;00m\n",
      "\u001b[1;31mReadTimeout\u001b[0m: timed out",
      "\nThe above exception was the direct cause of the following exception:\n",
      "\u001b[1;31mReadTimeout\u001b[0m                               Traceback (most recent call last)",
      "File \u001b[1;32md:\\Studia\\NLP\\.venv\\Lib\\site-packages\\qdrant_client\\http\\api_client.py:106\u001b[0m, in \u001b[0;36mApiClient.send_inner\u001b[1;34m(self, request)\u001b[0m\n\u001b[0;32m    105\u001b[0m \u001b[38;5;28;01mtry\u001b[39;00m:\n\u001b[1;32m--> 106\u001b[0m     response \u001b[38;5;241m=\u001b[39m \u001b[38;5;28;43mself\u001b[39;49m\u001b[38;5;241;43m.\u001b[39;49m\u001b[43m_client\u001b[49m\u001b[38;5;241;43m.\u001b[39;49m\u001b[43msend\u001b[49m\u001b[43m(\u001b[49m\u001b[43mrequest\u001b[49m\u001b[43m)\u001b[49m\n\u001b[0;32m    107\u001b[0m \u001b[38;5;28;01mexcept\u001b[39;00m \u001b[38;5;167;01mException\u001b[39;00m \u001b[38;5;28;01mas\u001b[39;00m e:\n",
      "File \u001b[1;32md:\\Studia\\NLP\\.venv\\Lib\\site-packages\\httpx\\_client.py:914\u001b[0m, in \u001b[0;36mClient.send\u001b[1;34m(self, request, stream, auth, follow_redirects)\u001b[0m\n\u001b[0;32m    912\u001b[0m auth \u001b[38;5;241m=\u001b[39m \u001b[38;5;28mself\u001b[39m\u001b[38;5;241m.\u001b[39m_build_request_auth(request, auth)\n\u001b[1;32m--> 914\u001b[0m response \u001b[38;5;241m=\u001b[39m \u001b[38;5;28;43mself\u001b[39;49m\u001b[38;5;241;43m.\u001b[39;49m\u001b[43m_send_handling_auth\u001b[49m\u001b[43m(\u001b[49m\n\u001b[0;32m    915\u001b[0m \u001b[43m    \u001b[49m\u001b[43mrequest\u001b[49m\u001b[43m,\u001b[49m\n\u001b[0;32m    916\u001b[0m \u001b[43m    \u001b[49m\u001b[43mauth\u001b[49m\u001b[38;5;241;43m=\u001b[39;49m\u001b[43mauth\u001b[49m\u001b[43m,\u001b[49m\n\u001b[0;32m    917\u001b[0m \u001b[43m    \u001b[49m\u001b[43mfollow_redirects\u001b[49m\u001b[38;5;241;43m=\u001b[39;49m\u001b[43mfollow_redirects\u001b[49m\u001b[43m,\u001b[49m\n\u001b[0;32m    918\u001b[0m \u001b[43m    \u001b[49m\u001b[43mhistory\u001b[49m\u001b[38;5;241;43m=\u001b[39;49m\u001b[43m[\u001b[49m\u001b[43m]\u001b[49m\u001b[43m,\u001b[49m\n\u001b[0;32m    919\u001b[0m \u001b[43m\u001b[49m\u001b[43m)\u001b[49m\n\u001b[0;32m    920\u001b[0m \u001b[38;5;28;01mtry\u001b[39;00m:\n",
      "File \u001b[1;32md:\\Studia\\NLP\\.venv\\Lib\\site-packages\\httpx\\_client.py:942\u001b[0m, in \u001b[0;36mClient._send_handling_auth\u001b[1;34m(self, request, auth, follow_redirects, history)\u001b[0m\n\u001b[0;32m    941\u001b[0m \u001b[38;5;28;01mwhile\u001b[39;00m \u001b[38;5;28;01mTrue\u001b[39;00m:\n\u001b[1;32m--> 942\u001b[0m     response \u001b[38;5;241m=\u001b[39m \u001b[38;5;28;43mself\u001b[39;49m\u001b[38;5;241;43m.\u001b[39;49m\u001b[43m_send_handling_redirects\u001b[49m\u001b[43m(\u001b[49m\n\u001b[0;32m    943\u001b[0m \u001b[43m        \u001b[49m\u001b[43mrequest\u001b[49m\u001b[43m,\u001b[49m\n\u001b[0;32m    944\u001b[0m \u001b[43m        \u001b[49m\u001b[43mfollow_redirects\u001b[49m\u001b[38;5;241;43m=\u001b[39;49m\u001b[43mfollow_redirects\u001b[49m\u001b[43m,\u001b[49m\n\u001b[0;32m    945\u001b[0m \u001b[43m        \u001b[49m\u001b[43mhistory\u001b[49m\u001b[38;5;241;43m=\u001b[39;49m\u001b[43mhistory\u001b[49m\u001b[43m,\u001b[49m\n\u001b[0;32m    946\u001b[0m \u001b[43m    \u001b[49m\u001b[43m)\u001b[49m\n\u001b[0;32m    947\u001b[0m     \u001b[38;5;28;01mtry\u001b[39;00m:\n",
      "File \u001b[1;32md:\\Studia\\NLP\\.venv\\Lib\\site-packages\\httpx\\_client.py:979\u001b[0m, in \u001b[0;36mClient._send_handling_redirects\u001b[1;34m(self, request, follow_redirects, history)\u001b[0m\n\u001b[0;32m    977\u001b[0m     hook(request)\n\u001b[1;32m--> 979\u001b[0m response \u001b[38;5;241m=\u001b[39m \u001b[38;5;28;43mself\u001b[39;49m\u001b[38;5;241;43m.\u001b[39;49m\u001b[43m_send_single_request\u001b[49m\u001b[43m(\u001b[49m\u001b[43mrequest\u001b[49m\u001b[43m)\u001b[49m\n\u001b[0;32m    980\u001b[0m \u001b[38;5;28;01mtry\u001b[39;00m:\n",
      "File \u001b[1;32md:\\Studia\\NLP\\.venv\\Lib\\site-packages\\httpx\\_client.py:1014\u001b[0m, in \u001b[0;36mClient._send_single_request\u001b[1;34m(self, request)\u001b[0m\n\u001b[0;32m   1013\u001b[0m \u001b[38;5;28;01mwith\u001b[39;00m request_context(request\u001b[38;5;241m=\u001b[39mrequest):\n\u001b[1;32m-> 1014\u001b[0m     response \u001b[38;5;241m=\u001b[39m \u001b[43mtransport\u001b[49m\u001b[38;5;241;43m.\u001b[39;49m\u001b[43mhandle_request\u001b[49m\u001b[43m(\u001b[49m\u001b[43mrequest\u001b[49m\u001b[43m)\u001b[49m\n\u001b[0;32m   1016\u001b[0m \u001b[38;5;28;01massert\u001b[39;00m \u001b[38;5;28misinstance\u001b[39m(response\u001b[38;5;241m.\u001b[39mstream, SyncByteStream)\n",
      "File \u001b[1;32md:\\Studia\\NLP\\.venv\\Lib\\site-packages\\httpx\\_transports\\default.py:249\u001b[0m, in \u001b[0;36mHTTPTransport.handle_request\u001b[1;34m(self, request)\u001b[0m\n\u001b[0;32m    237\u001b[0m req \u001b[38;5;241m=\u001b[39m httpcore\u001b[38;5;241m.\u001b[39mRequest(\n\u001b[0;32m    238\u001b[0m     method\u001b[38;5;241m=\u001b[39mrequest\u001b[38;5;241m.\u001b[39mmethod,\n\u001b[0;32m    239\u001b[0m     url\u001b[38;5;241m=\u001b[39mhttpcore\u001b[38;5;241m.\u001b[39mURL(\n\u001b[1;32m   (...)\u001b[0m\n\u001b[0;32m    247\u001b[0m     extensions\u001b[38;5;241m=\u001b[39mrequest\u001b[38;5;241m.\u001b[39mextensions,\n\u001b[0;32m    248\u001b[0m )\n\u001b[1;32m--> 249\u001b[0m \u001b[43m\u001b[49m\u001b[38;5;28;43;01mwith\u001b[39;49;00m\u001b[43m \u001b[49m\u001b[43mmap_httpcore_exceptions\u001b[49m\u001b[43m(\u001b[49m\u001b[43m)\u001b[49m\u001b[43m:\u001b[49m\n\u001b[0;32m    250\u001b[0m \u001b[43m    \u001b[49m\u001b[43mresp\u001b[49m\u001b[43m \u001b[49m\u001b[38;5;241;43m=\u001b[39;49m\u001b[43m \u001b[49m\u001b[38;5;28;43mself\u001b[39;49m\u001b[38;5;241;43m.\u001b[39;49m\u001b[43m_pool\u001b[49m\u001b[38;5;241;43m.\u001b[39;49m\u001b[43mhandle_request\u001b[49m\u001b[43m(\u001b[49m\u001b[43mreq\u001b[49m\u001b[43m)\u001b[49m\n",
      "File \u001b[1;32mC:\\Program Files\\WindowsApps\\PythonSoftwareFoundation.Python.3.11_3.11.2544.0_x64__qbz5n2kfra8p0\\Lib\\contextlib.py:158\u001b[0m, in \u001b[0;36m_GeneratorContextManager.__exit__\u001b[1;34m(self, typ, value, traceback)\u001b[0m\n\u001b[0;32m    157\u001b[0m \u001b[38;5;28;01mtry\u001b[39;00m:\n\u001b[1;32m--> 158\u001b[0m     \u001b[38;5;28mself\u001b[39m\u001b[38;5;241m.\u001b[39mgen\u001b[38;5;241m.\u001b[39mthrow(typ, value, traceback)\n\u001b[0;32m    159\u001b[0m \u001b[38;5;28;01mexcept\u001b[39;00m \u001b[38;5;167;01mStopIteration\u001b[39;00m \u001b[38;5;28;01mas\u001b[39;00m exc:\n\u001b[0;32m    160\u001b[0m     \u001b[38;5;66;03m# Suppress StopIteration *unless* it's the same exception that\u001b[39;00m\n\u001b[0;32m    161\u001b[0m     \u001b[38;5;66;03m# was passed to throw().  This prevents a StopIteration\u001b[39;00m\n\u001b[0;32m    162\u001b[0m     \u001b[38;5;66;03m# raised inside the \"with\" statement from being suppressed.\u001b[39;00m\n",
      "File \u001b[1;32md:\\Studia\\NLP\\.venv\\Lib\\site-packages\\httpx\\_transports\\default.py:118\u001b[0m, in \u001b[0;36mmap_httpcore_exceptions\u001b[1;34m()\u001b[0m\n\u001b[0;32m    117\u001b[0m message \u001b[38;5;241m=\u001b[39m \u001b[38;5;28mstr\u001b[39m(exc)\n\u001b[1;32m--> 118\u001b[0m \u001b[38;5;28;01mraise\u001b[39;00m mapped_exc(message) \u001b[38;5;28;01mfrom\u001b[39;00m\u001b[38;5;250m \u001b[39m\u001b[38;5;21;01mexc\u001b[39;00m\n",
      "\u001b[1;31mReadTimeout\u001b[0m: timed out",
      "\nDuring handling of the above exception, another exception occurred:\n",
      "\u001b[1;31mResponseHandlingException\u001b[0m                 Traceback (most recent call last)",
      "Cell \u001b[1;32mIn[103], line 5\u001b[0m\n\u001b[0;32m      1\u001b[0m \u001b[38;5;28;01mfrom\u001b[39;00m\u001b[38;5;250m \u001b[39m\u001b[38;5;21;01mqdrant_client\u001b[39;00m\u001b[38;5;21;01m.\u001b[39;00m\u001b[38;5;21;01mhttp\u001b[39;00m\u001b[38;5;21;01m.\u001b[39;00m\u001b[38;5;21;01mmodels\u001b[39;00m\u001b[38;5;250m \u001b[39m\u001b[38;5;28;01mimport\u001b[39;00m VectorParams\n\u001b[0;32m      3\u001b[0m client\u001b[38;5;241m.\u001b[39mdelete_collection(collection_name\u001b[38;5;241m=\u001b[39m\u001b[38;5;124m\"\u001b[39m\u001b[38;5;124mwiedzmin\u001b[39m\u001b[38;5;124m\"\u001b[39m)\n\u001b[1;32m----> 5\u001b[0m \u001b[43mclient\u001b[49m\u001b[38;5;241;43m.\u001b[39;49m\u001b[43mcreate_collection\u001b[49m\u001b[43m(\u001b[49m\n\u001b[0;32m      6\u001b[0m \u001b[43m    \u001b[49m\u001b[43mcollection_name\u001b[49m\u001b[38;5;241;43m=\u001b[39;49m\u001b[38;5;124;43m\"\u001b[39;49m\u001b[38;5;124;43mwiedzmin\u001b[39;49m\u001b[38;5;124;43m\"\u001b[39;49m\u001b[43m,\u001b[49m\n\u001b[0;32m      7\u001b[0m \u001b[43m    \u001b[49m\u001b[43mvectors_config\u001b[49m\u001b[38;5;241;43m=\u001b[39;49m\u001b[43mVectorParams\u001b[49m\u001b[43m(\u001b[49m\u001b[43msize\u001b[49m\u001b[38;5;241;43m=\u001b[39;49m\u001b[38;5;28;43mlen\u001b[39;49m\u001b[43m(\u001b[49m\u001b[43membeddings\u001b[49m\u001b[43m[\u001b[49m\u001b[38;5;241;43m0\u001b[39;49m\u001b[43m]\u001b[49m\u001b[43m)\u001b[49m\u001b[43m,\u001b[49m\u001b[43m \u001b[49m\u001b[43mdistance\u001b[49m\u001b[38;5;241;43m=\u001b[39;49m\u001b[38;5;124;43m\"\u001b[39;49m\u001b[38;5;124;43mCosine\u001b[39;49m\u001b[38;5;124;43m\"\u001b[39;49m\u001b[43m)\u001b[49m\n\u001b[0;32m      8\u001b[0m \u001b[43m)\u001b[49m\n",
      "File \u001b[1;32md:\\Studia\\NLP\\.venv\\Lib\\site-packages\\qdrant_client\\qdrant_client.py:2236\u001b[0m, in \u001b[0;36mQdrantClient.create_collection\u001b[1;34m(self, collection_name, vectors_config, sparse_vectors_config, shard_number, sharding_method, replication_factor, write_consistency_factor, on_disk_payload, hnsw_config, optimizers_config, wal_config, quantization_config, init_from, timeout, **kwargs)\u001b[0m\n\u001b[0;32m   2187\u001b[0m \u001b[38;5;250m\u001b[39m\u001b[38;5;124;03m\"\"\"Create empty collection with given parameters\u001b[39;00m\n\u001b[0;32m   2188\u001b[0m \n\u001b[0;32m   2189\u001b[0m \u001b[38;5;124;03mArgs:\u001b[39;00m\n\u001b[1;32m   (...)\u001b[0m\n\u001b[0;32m   2232\u001b[0m \u001b[38;5;124;03m    Operation result\u001b[39;00m\n\u001b[0;32m   2233\u001b[0m \u001b[38;5;124;03m\"\"\"\u001b[39;00m\n\u001b[0;32m   2234\u001b[0m \u001b[38;5;28;01massert\u001b[39;00m \u001b[38;5;28mlen\u001b[39m(kwargs) \u001b[38;5;241m==\u001b[39m \u001b[38;5;241m0\u001b[39m, \u001b[38;5;124mf\u001b[39m\u001b[38;5;124m\"\u001b[39m\u001b[38;5;124mUnknown arguments: \u001b[39m\u001b[38;5;132;01m{\u001b[39;00m\u001b[38;5;28mlist\u001b[39m(kwargs\u001b[38;5;241m.\u001b[39mkeys())\u001b[38;5;132;01m}\u001b[39;00m\u001b[38;5;124m\"\u001b[39m\n\u001b[1;32m-> 2236\u001b[0m \u001b[38;5;28;01mreturn\u001b[39;00m \u001b[38;5;28;43mself\u001b[39;49m\u001b[38;5;241;43m.\u001b[39;49m\u001b[43m_client\u001b[49m\u001b[38;5;241;43m.\u001b[39;49m\u001b[43mcreate_collection\u001b[49m\u001b[43m(\u001b[49m\n\u001b[0;32m   2237\u001b[0m \u001b[43m    \u001b[49m\u001b[43mcollection_name\u001b[49m\u001b[38;5;241;43m=\u001b[39;49m\u001b[43mcollection_name\u001b[49m\u001b[43m,\u001b[49m\n\u001b[0;32m   2238\u001b[0m \u001b[43m    \u001b[49m\u001b[43mvectors_config\u001b[49m\u001b[38;5;241;43m=\u001b[39;49m\u001b[43mvectors_config\u001b[49m\u001b[43m,\u001b[49m\n\u001b[0;32m   2239\u001b[0m \u001b[43m    \u001b[49m\u001b[43mshard_number\u001b[49m\u001b[38;5;241;43m=\u001b[39;49m\u001b[43mshard_number\u001b[49m\u001b[43m,\u001b[49m\n\u001b[0;32m   2240\u001b[0m \u001b[43m    \u001b[49m\u001b[43msharding_method\u001b[49m\u001b[38;5;241;43m=\u001b[39;49m\u001b[43msharding_method\u001b[49m\u001b[43m,\u001b[49m\n\u001b[0;32m   2241\u001b[0m \u001b[43m    \u001b[49m\u001b[43mreplication_factor\u001b[49m\u001b[38;5;241;43m=\u001b[39;49m\u001b[43mreplication_factor\u001b[49m\u001b[43m,\u001b[49m\n\u001b[0;32m   2242\u001b[0m \u001b[43m    \u001b[49m\u001b[43mwrite_consistency_factor\u001b[49m\u001b[38;5;241;43m=\u001b[39;49m\u001b[43mwrite_consistency_factor\u001b[49m\u001b[43m,\u001b[49m\n\u001b[0;32m   2243\u001b[0m \u001b[43m    \u001b[49m\u001b[43mon_disk_payload\u001b[49m\u001b[38;5;241;43m=\u001b[39;49m\u001b[43mon_disk_payload\u001b[49m\u001b[43m,\u001b[49m\n\u001b[0;32m   2244\u001b[0m \u001b[43m    \u001b[49m\u001b[43mhnsw_config\u001b[49m\u001b[38;5;241;43m=\u001b[39;49m\u001b[43mhnsw_config\u001b[49m\u001b[43m,\u001b[49m\n\u001b[0;32m   2245\u001b[0m \u001b[43m    \u001b[49m\u001b[43moptimizers_config\u001b[49m\u001b[38;5;241;43m=\u001b[39;49m\u001b[43moptimizers_config\u001b[49m\u001b[43m,\u001b[49m\n\u001b[0;32m   2246\u001b[0m \u001b[43m    \u001b[49m\u001b[43mwal_config\u001b[49m\u001b[38;5;241;43m=\u001b[39;49m\u001b[43mwal_config\u001b[49m\u001b[43m,\u001b[49m\n\u001b[0;32m   2247\u001b[0m \u001b[43m    \u001b[49m\u001b[43mquantization_config\u001b[49m\u001b[38;5;241;43m=\u001b[39;49m\u001b[43mquantization_config\u001b[49m\u001b[43m,\u001b[49m\n\u001b[0;32m   2248\u001b[0m \u001b[43m    \u001b[49m\u001b[43minit_from\u001b[49m\u001b[38;5;241;43m=\u001b[39;49m\u001b[43minit_from\u001b[49m\u001b[43m,\u001b[49m\n\u001b[0;32m   2249\u001b[0m \u001b[43m    \u001b[49m\u001b[43mtimeout\u001b[49m\u001b[38;5;241;43m=\u001b[39;49m\u001b[43mtimeout\u001b[49m\u001b[43m,\u001b[49m\n\u001b[0;32m   2250\u001b[0m \u001b[43m    \u001b[49m\u001b[43msparse_vectors_config\u001b[49m\u001b[38;5;241;43m=\u001b[39;49m\u001b[43msparse_vectors_config\u001b[49m\u001b[43m,\u001b[49m\n\u001b[0;32m   2251\u001b[0m \u001b[43m    \u001b[49m\u001b[38;5;241;43m*\u001b[39;49m\u001b[38;5;241;43m*\u001b[39;49m\u001b[43mkwargs\u001b[49m\u001b[43m,\u001b[49m\n\u001b[0;32m   2252\u001b[0m \u001b[43m\u001b[49m\u001b[43m)\u001b[49m\n",
      "File \u001b[1;32md:\\Studia\\NLP\\.venv\\Lib\\site-packages\\qdrant_client\\qdrant_remote.py:2821\u001b[0m, in \u001b[0;36mQdrantRemote.create_collection\u001b[1;34m(self, collection_name, vectors_config, shard_number, replication_factor, write_consistency_factor, on_disk_payload, hnsw_config, optimizers_config, wal_config, quantization_config, init_from, timeout, sparse_vectors_config, sharding_method, **kwargs)\u001b[0m\n\u001b[0;32m   2804\u001b[0m     init_from \u001b[38;5;241m=\u001b[39m GrpcToRest\u001b[38;5;241m.\u001b[39mconvert_init_from(init_from)\n\u001b[0;32m   2806\u001b[0m create_collection_request \u001b[38;5;241m=\u001b[39m models\u001b[38;5;241m.\u001b[39mCreateCollection(\n\u001b[0;32m   2807\u001b[0m     vectors\u001b[38;5;241m=\u001b[39mvectors_config,\n\u001b[0;32m   2808\u001b[0m     shard_number\u001b[38;5;241m=\u001b[39mshard_number,\n\u001b[1;32m   (...)\u001b[0m\n\u001b[0;32m   2818\u001b[0m     sharding_method\u001b[38;5;241m=\u001b[39msharding_method,\n\u001b[0;32m   2819\u001b[0m )\n\u001b[1;32m-> 2821\u001b[0m result: Optional[\u001b[38;5;28mbool\u001b[39m] \u001b[38;5;241m=\u001b[39m \u001b[38;5;28;43mself\u001b[39;49m\u001b[38;5;241;43m.\u001b[39;49m\u001b[43mhttp\u001b[49m\u001b[38;5;241;43m.\u001b[39;49m\u001b[43mcollections_api\u001b[49m\u001b[38;5;241;43m.\u001b[39;49m\u001b[43mcreate_collection\u001b[49m\u001b[43m(\u001b[49m\n\u001b[0;32m   2822\u001b[0m \u001b[43m    \u001b[49m\u001b[43mcollection_name\u001b[49m\u001b[38;5;241;43m=\u001b[39;49m\u001b[43mcollection_name\u001b[49m\u001b[43m,\u001b[49m\n\u001b[0;32m   2823\u001b[0m \u001b[43m    \u001b[49m\u001b[43mcreate_collection\u001b[49m\u001b[38;5;241;43m=\u001b[39;49m\u001b[43mcreate_collection_request\u001b[49m\u001b[43m,\u001b[49m\n\u001b[0;32m   2824\u001b[0m \u001b[43m    \u001b[49m\u001b[43mtimeout\u001b[49m\u001b[38;5;241;43m=\u001b[39;49m\u001b[43mtimeout\u001b[49m\u001b[43m,\u001b[49m\n\u001b[0;32m   2825\u001b[0m \u001b[43m\u001b[49m\u001b[43m)\u001b[49m\u001b[38;5;241m.\u001b[39mresult\n\u001b[0;32m   2827\u001b[0m \u001b[38;5;28;01massert\u001b[39;00m result \u001b[38;5;129;01mis\u001b[39;00m \u001b[38;5;129;01mnot\u001b[39;00m \u001b[38;5;28;01mNone\u001b[39;00m, \u001b[38;5;124m\"\u001b[39m\u001b[38;5;124mCreate collection returned None\u001b[39m\u001b[38;5;124m\"\u001b[39m\n\u001b[0;32m   2828\u001b[0m \u001b[38;5;28;01mreturn\u001b[39;00m result\n",
      "File \u001b[1;32md:\\Studia\\NLP\\.venv\\Lib\\site-packages\\qdrant_client\\http\\api\\collections_api.py:1170\u001b[0m, in \u001b[0;36mSyncCollectionsApi.create_collection\u001b[1;34m(self, collection_name, timeout, create_collection)\u001b[0m\n\u001b[0;32m   1161\u001b[0m \u001b[38;5;28;01mdef\u001b[39;00m\u001b[38;5;250m \u001b[39m\u001b[38;5;21mcreate_collection\u001b[39m(\n\u001b[0;32m   1162\u001b[0m     \u001b[38;5;28mself\u001b[39m,\n\u001b[0;32m   1163\u001b[0m     collection_name: \u001b[38;5;28mstr\u001b[39m,\n\u001b[0;32m   1164\u001b[0m     timeout: \u001b[38;5;28mint\u001b[39m \u001b[38;5;241m=\u001b[39m \u001b[38;5;28;01mNone\u001b[39;00m,\n\u001b[0;32m   1165\u001b[0m     create_collection: m\u001b[38;5;241m.\u001b[39mCreateCollection \u001b[38;5;241m=\u001b[39m \u001b[38;5;28;01mNone\u001b[39;00m,\n\u001b[0;32m   1166\u001b[0m ) \u001b[38;5;241m-\u001b[39m\u001b[38;5;241m>\u001b[39m m\u001b[38;5;241m.\u001b[39mInlineResponse200:\n\u001b[0;32m   1167\u001b[0m \u001b[38;5;250m    \u001b[39m\u001b[38;5;124;03m\"\"\"\u001b[39;00m\n\u001b[0;32m   1168\u001b[0m \u001b[38;5;124;03m    Create new collection with given parameters\u001b[39;00m\n\u001b[0;32m   1169\u001b[0m \u001b[38;5;124;03m    \"\"\"\u001b[39;00m\n\u001b[1;32m-> 1170\u001b[0m     \u001b[38;5;28;01mreturn\u001b[39;00m \u001b[38;5;28;43mself\u001b[39;49m\u001b[38;5;241;43m.\u001b[39;49m\u001b[43m_build_for_create_collection\u001b[49m\u001b[43m(\u001b[49m\n\u001b[0;32m   1171\u001b[0m \u001b[43m        \u001b[49m\u001b[43mcollection_name\u001b[49m\u001b[38;5;241;43m=\u001b[39;49m\u001b[43mcollection_name\u001b[49m\u001b[43m,\u001b[49m\n\u001b[0;32m   1172\u001b[0m \u001b[43m        \u001b[49m\u001b[43mtimeout\u001b[49m\u001b[38;5;241;43m=\u001b[39;49m\u001b[43mtimeout\u001b[49m\u001b[43m,\u001b[49m\n\u001b[0;32m   1173\u001b[0m \u001b[43m        \u001b[49m\u001b[43mcreate_collection\u001b[49m\u001b[38;5;241;43m=\u001b[39;49m\u001b[43mcreate_collection\u001b[49m\u001b[43m,\u001b[49m\n\u001b[0;32m   1174\u001b[0m \u001b[43m    \u001b[49m\u001b[43m)\u001b[49m\n",
      "File \u001b[1;32md:\\Studia\\NLP\\.venv\\Lib\\site-packages\\qdrant_client\\http\\api\\collections_api.py:116\u001b[0m, in \u001b[0;36m_CollectionsApi._build_for_create_collection\u001b[1;34m(self, collection_name, timeout, create_collection)\u001b[0m\n\u001b[0;32m    114\u001b[0m \u001b[38;5;28;01mif\u001b[39;00m \u001b[38;5;124m\"\u001b[39m\u001b[38;5;124mContent-Type\u001b[39m\u001b[38;5;124m\"\u001b[39m \u001b[38;5;129;01mnot\u001b[39;00m \u001b[38;5;129;01min\u001b[39;00m headers:\n\u001b[0;32m    115\u001b[0m     headers[\u001b[38;5;124m\"\u001b[39m\u001b[38;5;124mContent-Type\u001b[39m\u001b[38;5;124m\"\u001b[39m] \u001b[38;5;241m=\u001b[39m \u001b[38;5;124m\"\u001b[39m\u001b[38;5;124mapplication/json\u001b[39m\u001b[38;5;124m\"\u001b[39m\n\u001b[1;32m--> 116\u001b[0m \u001b[38;5;28;01mreturn\u001b[39;00m \u001b[38;5;28;43mself\u001b[39;49m\u001b[38;5;241;43m.\u001b[39;49m\u001b[43mapi_client\u001b[49m\u001b[38;5;241;43m.\u001b[39;49m\u001b[43mrequest\u001b[49m\u001b[43m(\u001b[49m\n\u001b[0;32m    117\u001b[0m \u001b[43m    \u001b[49m\u001b[43mtype_\u001b[49m\u001b[38;5;241;43m=\u001b[39;49m\u001b[43mm\u001b[49m\u001b[38;5;241;43m.\u001b[39;49m\u001b[43mInlineResponse200\u001b[49m\u001b[43m,\u001b[49m\n\u001b[0;32m    118\u001b[0m \u001b[43m    \u001b[49m\u001b[43mmethod\u001b[49m\u001b[38;5;241;43m=\u001b[39;49m\u001b[38;5;124;43m\"\u001b[39;49m\u001b[38;5;124;43mPUT\u001b[39;49m\u001b[38;5;124;43m\"\u001b[39;49m\u001b[43m,\u001b[49m\n\u001b[0;32m    119\u001b[0m \u001b[43m    \u001b[49m\u001b[43murl\u001b[49m\u001b[38;5;241;43m=\u001b[39;49m\u001b[38;5;124;43m\"\u001b[39;49m\u001b[38;5;124;43m/collections/\u001b[39;49m\u001b[38;5;132;43;01m{collection_name}\u001b[39;49;00m\u001b[38;5;124;43m\"\u001b[39;49m\u001b[43m,\u001b[49m\n\u001b[0;32m    120\u001b[0m \u001b[43m    \u001b[49m\u001b[43mheaders\u001b[49m\u001b[38;5;241;43m=\u001b[39;49m\u001b[43mheaders\u001b[49m\u001b[43m \u001b[49m\u001b[38;5;28;43;01mif\u001b[39;49;00m\u001b[43m \u001b[49m\u001b[43mheaders\u001b[49m\u001b[43m \u001b[49m\u001b[38;5;28;43;01melse\u001b[39;49;00m\u001b[43m \u001b[49m\u001b[38;5;28;43;01mNone\u001b[39;49;00m\u001b[43m,\u001b[49m\n\u001b[0;32m    121\u001b[0m \u001b[43m    \u001b[49m\u001b[43mpath_params\u001b[49m\u001b[38;5;241;43m=\u001b[39;49m\u001b[43mpath_params\u001b[49m\u001b[43m,\u001b[49m\n\u001b[0;32m    122\u001b[0m \u001b[43m    \u001b[49m\u001b[43mparams\u001b[49m\u001b[38;5;241;43m=\u001b[39;49m\u001b[43mquery_params\u001b[49m\u001b[43m,\u001b[49m\n\u001b[0;32m    123\u001b[0m \u001b[43m    \u001b[49m\u001b[43mcontent\u001b[49m\u001b[38;5;241;43m=\u001b[39;49m\u001b[43mbody\u001b[49m\u001b[43m,\u001b[49m\n\u001b[0;32m    124\u001b[0m \u001b[43m\u001b[49m\u001b[43m)\u001b[49m\n",
      "File \u001b[1;32md:\\Studia\\NLP\\.venv\\Lib\\site-packages\\qdrant_client\\http\\api_client.py:79\u001b[0m, in \u001b[0;36mApiClient.request\u001b[1;34m(self, type_, method, url, path_params, **kwargs)\u001b[0m\n\u001b[0;32m     77\u001b[0m     kwargs[\u001b[38;5;124m\"\u001b[39m\u001b[38;5;124mtimeout\u001b[39m\u001b[38;5;124m\"\u001b[39m] \u001b[38;5;241m=\u001b[39m \u001b[38;5;28mint\u001b[39m(kwargs[\u001b[38;5;124m\"\u001b[39m\u001b[38;5;124mparams\u001b[39m\u001b[38;5;124m\"\u001b[39m][\u001b[38;5;124m\"\u001b[39m\u001b[38;5;124mtimeout\u001b[39m\u001b[38;5;124m\"\u001b[39m])\n\u001b[0;32m     78\u001b[0m request \u001b[38;5;241m=\u001b[39m \u001b[38;5;28mself\u001b[39m\u001b[38;5;241m.\u001b[39m_client\u001b[38;5;241m.\u001b[39mbuild_request(method, url, \u001b[38;5;241m*\u001b[39m\u001b[38;5;241m*\u001b[39mkwargs)\n\u001b[1;32m---> 79\u001b[0m \u001b[38;5;28;01mreturn\u001b[39;00m \u001b[38;5;28;43mself\u001b[39;49m\u001b[38;5;241;43m.\u001b[39;49m\u001b[43msend\u001b[49m\u001b[43m(\u001b[49m\u001b[43mrequest\u001b[49m\u001b[43m,\u001b[49m\u001b[43m \u001b[49m\u001b[43mtype_\u001b[49m\u001b[43m)\u001b[49m\n",
      "File \u001b[1;32md:\\Studia\\NLP\\.venv\\Lib\\site-packages\\qdrant_client\\http\\api_client.py:96\u001b[0m, in \u001b[0;36mApiClient.send\u001b[1;34m(self, request, type_)\u001b[0m\n\u001b[0;32m     95\u001b[0m \u001b[38;5;28;01mdef\u001b[39;00m\u001b[38;5;250m \u001b[39m\u001b[38;5;21msend\u001b[39m(\u001b[38;5;28mself\u001b[39m, request: Request, type_: Type[T]) \u001b[38;5;241m-\u001b[39m\u001b[38;5;241m>\u001b[39m T:\n\u001b[1;32m---> 96\u001b[0m     response \u001b[38;5;241m=\u001b[39m \u001b[38;5;28;43mself\u001b[39;49m\u001b[38;5;241;43m.\u001b[39;49m\u001b[43mmiddleware\u001b[49m\u001b[43m(\u001b[49m\u001b[43mrequest\u001b[49m\u001b[43m,\u001b[49m\u001b[43m \u001b[49m\u001b[38;5;28;43mself\u001b[39;49m\u001b[38;5;241;43m.\u001b[39;49m\u001b[43msend_inner\u001b[49m\u001b[43m)\u001b[49m\n\u001b[0;32m     97\u001b[0m     \u001b[38;5;28;01mif\u001b[39;00m response\u001b[38;5;241m.\u001b[39mstatus_code \u001b[38;5;129;01min\u001b[39;00m [\u001b[38;5;241m200\u001b[39m, \u001b[38;5;241m201\u001b[39m, \u001b[38;5;241m202\u001b[39m]:\n\u001b[0;32m     98\u001b[0m         \u001b[38;5;28;01mtry\u001b[39;00m:\n",
      "File \u001b[1;32md:\\Studia\\NLP\\.venv\\Lib\\site-packages\\qdrant_client\\http\\api_client.py:205\u001b[0m, in \u001b[0;36mBaseMiddleware.__call__\u001b[1;34m(self, request, call_next)\u001b[0m\n\u001b[0;32m    204\u001b[0m \u001b[38;5;28;01mdef\u001b[39;00m\u001b[38;5;250m \u001b[39m\u001b[38;5;21m__call__\u001b[39m(\u001b[38;5;28mself\u001b[39m, request: Request, call_next: Send) \u001b[38;5;241m-\u001b[39m\u001b[38;5;241m>\u001b[39m Response:\n\u001b[1;32m--> 205\u001b[0m     \u001b[38;5;28;01mreturn\u001b[39;00m \u001b[43mcall_next\u001b[49m\u001b[43m(\u001b[49m\u001b[43mrequest\u001b[49m\u001b[43m)\u001b[49m\n",
      "File \u001b[1;32md:\\Studia\\NLP\\.venv\\Lib\\site-packages\\qdrant_client\\http\\api_client.py:108\u001b[0m, in \u001b[0;36mApiClient.send_inner\u001b[1;34m(self, request)\u001b[0m\n\u001b[0;32m    106\u001b[0m     response \u001b[38;5;241m=\u001b[39m \u001b[38;5;28mself\u001b[39m\u001b[38;5;241m.\u001b[39m_client\u001b[38;5;241m.\u001b[39msend(request)\n\u001b[0;32m    107\u001b[0m \u001b[38;5;28;01mexcept\u001b[39;00m \u001b[38;5;167;01mException\u001b[39;00m \u001b[38;5;28;01mas\u001b[39;00m e:\n\u001b[1;32m--> 108\u001b[0m     \u001b[38;5;28;01mraise\u001b[39;00m ResponseHandlingException(e)\n\u001b[0;32m    109\u001b[0m \u001b[38;5;28;01mreturn\u001b[39;00m response\n",
      "\u001b[1;31mResponseHandlingException\u001b[0m: timed out"
     ]
    }
   ],
   "source": [
    "from qdrant_client.http.models import VectorParams\n",
    "\n",
    "client.delete_collection(collection_name=\"wiedzmin\")\n",
    "\n",
    "client.create_collection(\n",
    "    collection_name=\"wiedzmin\",\n",
    "    vectors_config=VectorParams(size=len(embeddings[0]), distance=\"Cosine\")\n",
    ")"
   ]
  },
  {
   "cell_type": "code",
   "execution_count": 104,
   "metadata": {},
   "outputs": [
    {
     "name": "stdout",
     "output_type": "stream",
     "text": [
      "status=<CollectionStatus.GREEN: 'green'> optimizer_status=<OptimizersStatusOneOf.OK: 'ok'> vectors_count=None indexed_vectors_count=0 points_count=0 segments_count=8 config=CollectionConfig(params=CollectionParams(vectors=VectorParams(size=384, distance=<Distance.COSINE: 'Cosine'>, hnsw_config=None, quantization_config=None, on_disk=None, datatype=None, multivector_config=None), shard_number=1, sharding_method=None, replication_factor=1, write_consistency_factor=1, read_fan_out_factor=None, on_disk_payload=True, sparse_vectors=None), hnsw_config=HnswConfig(m=16, ef_construct=100, full_scan_threshold=10000, max_indexing_threads=0, on_disk=False, payload_m=None), optimizer_config=OptimizersConfig(deleted_threshold=0.2, vacuum_min_vector_number=1000, default_segment_number=0, max_segment_size=None, memmap_threshold=None, indexing_threshold=20000, flush_interval_sec=5, max_optimization_threads=None), wal_config=WalConfig(wal_capacity_mb=32, wal_segments_ahead=0), quantization_config=None) payload_schema={}\n"
     ]
    }
   ],
   "source": [
    "collection_name = \"wiedzmin\"\n",
    "collection_info = client.get_collection(collection_name=collection_name)\n",
    "print(collection_info)"
   ]
  },
  {
   "cell_type": "code",
   "execution_count": 105,
   "metadata": {},
   "outputs": [],
   "source": [
    "from qdrant_client.http.models import PointStruct\n",
    "\n",
    "for i, chunk in enumerate(texts):\n",
    "    try:\n",
    "        point = PointStruct(\n",
    "            id=i,\n",
    "            vector=embeddings[i], \n",
    "            payload={\"content\": chunk.page_content}\n",
    "        )\n",
    "    except:\n",
    "        print(i)\n",
    "\n",
    "    client.upsert(\n",
    "        collection_name=\"wiedzmin\",\n",
    "        points=[point]\n",
    "    )\n",
    "    "
   ]
  },
  {
   "cell_type": "markdown",
   "metadata": {},
   "source": [
    "# 4) Implementing RAG pipeline "
   ]
  },
  {
   "cell_type": "markdown",
   "metadata": {},
   "source": [
    "Create query embedding generation"
   ]
  },
  {
   "cell_type": "code",
   "execution_count": 147,
   "metadata": {},
   "outputs": [],
   "source": [
    "queries = [\n",
    "  'O czym jest ta gra?',\n",
    "  'Co daje cecha fach?',\n",
    "  'Co należy zrobić aby Czarodziej mógł wykonać test Wykształcenia magicznego?',\n",
    "  'Jakie są typy akcji w walce?',\n",
    "  'Wymień dostępne rasy w grze',\n",
    "  'Obudził się w Tobie duch poety opowiedz fraszkę',\n",
    "  'W jakiej szkole szkolił się wiedzmin, który wyrzucił 9-10?'\n",
    "]\n",
    "\n",
    "answers = [\n",
    "  'W tej grze wcielicie się w postaci zamieszkujące świat wiedźmiński: bardów, najemników, czarodziejów, kupców, czy w końcu łowców potworów. Będą to ludzie oderwani od swoich korzeni, szukający nowego miejsca w niebezpiecznych czasach. Bohaterowie, którzy już niejedno przeżyli i stracili. Pozostała im tylko nadzieja.',\n",
    "  'Jak postać jest dobra we właściwych dla codziennej pracy czynnościach precyzyjnych,. Testujesz tak przy mieszaniu ziół, zakładaniu opatrunków jak i rozstawianiu czy rozbrajaniu pułapek',\n",
    "  'Czarodziej może wykonać też test Wykształcenia magicznego, kiedy spotyka się ze zjawiskiem nadprzyrodzonym, nieznanym zaklęciem czy rozważa magiczne teorie. PT wyznacza Mistrz Gry, a sukces pozwala zdobyć pełną wiedzę na temat tego problemu.',\n",
    "  'Atak, Konflikt Społeczny, Magia, Bieg, Użycie Zdolności, Dobycie/Podniesienie ...',\n",
    "  'Człowiek, Elf, Krasnolud, Wiedźmin',\n",
    "  '-Lambert, Lambert Ty ...\\n -Całkiem, całkiem',\n",
    "  'Niedzwiedzia'\n",
    "]"
   ]
  },
  {
   "cell_type": "code",
   "execution_count": 107,
   "metadata": {},
   "outputs": [],
   "source": [
    "queries_embeded = [\n",
    "  fastembed_.embed_query(query) for query in queries\n",
    "]"
   ]
  },
  {
   "cell_type": "markdown",
   "metadata": {},
   "source": [
    "Implement semantic search in Qdrant"
   ]
  },
  {
   "cell_type": "code",
   "execution_count": 125,
   "metadata": {},
   "outputs": [
    {
     "name": "stdout",
     "output_type": "stream",
     "text": [
      "0.7110579 {'content': 'ROZUM 9 Skok 3 Celność +1 Korpus (2-4) x1 0\\nEMOCJE 9 PP 50 Obrażenia 4k6+2 Ramię P (5) x1/2 0\\nWOLA 6 PZ 25 Trwałość 5 Ramię L (6) x1/2 8\\nGRACJA 6 PW 25 Ręczność 2 Noga P (7-8) x1/2 0\\nREAKCJE 5 Zdr 5 Zasięg 100 Noga L (9-10) x1/2 0\\nTEMPO 5 Próg C.R. 5 Dyskrecja - Wzmocnienia\\nOdpornościFACH 5 Udźwig 50 Waga 3\\nFART 10 Determinacja 35 Efekty\\nRany KrytycznePUNKTY Pięść +0 Wolne przeładowanie\\nKop k6 +4 (1 Akcja)'}\n",
      "0.70512843 {'content': '3\\nWprowadzenie\\nO czym jest ta gra?\\nW tej grze wcielicie się w postaci zamieszkujące świat \\nwiedźmiński: bardów, najemników, czarodziejów, kupców, czy \\nw końcu łowców potworów. Będą to ludzie oderwani od swoich \\nkorzeni, szukający nowego miejsca w niebezpiecznych czasach. \\nBohaterowie, którzy już niejedno przeżyli i stracili. Pozostała \\nim tylko nadzieja.\\nKontynent w ostatnich latach rozrywany jest przez konflikty. \\nKolejne wojny z Nilfgaardem spustoszyły wiele krain. Spiski \\ni zdrady pośród czarodziejów rozbiły zarówno społeczność \\nmagów jak i przetrzebiły elity Północy. Niesnaski między \\nrasami przerodziły się lokalnie w otwartą wojnę. Religijny \\nfanatyzm rozbudził w ludzkich sercach najniższe instynkty. \\nZ ciemności i dzikich ostępów powróciły zaś potwory, dawniej \\nniemal wytępione przez wiedźminów.\\nStary świat kończy się w ogniu i krwi. Co przyjdzie po \\nnim, nie wiadomo. Bohaterowie Waszych opowieści będą \\nmusieli odnaleźć się pośród tych zmian, przewrotów, ruin'}\n",
      "0.6962495 {'content': 'WOLA 8 PZ 30 Trwałość 5 Ramię L (6) x1/2 0\\nGRACJA 8 PW 30 Ręczność 1 Noga P (7-8) x1/2 0\\nREAKCJE 6 Zdr 6 Zasięg 12 Noga L (9-10) x1/2 0\\nTEMPO 5 Próg C.R. 6 Dyskrecja W Wzmocnienia\\nOdpornościFACH 8 Udźwig 50 Waga 0.5\\nFART 4 Determinacja 40 Efekty\\nRany KrytycznePUNKTY Pięść +0 Ukryty\\nKop k6 +4 (+2 o ukrywania)'}\n",
      "0.6886487 {'content': 'Wigor 0 GŁÓWNA BROŃ PANCERZ Wyparowania\\nCIAŁO 6 Bieg 18 Długi łuk wojskowy Głowa (1) x3 14\\nROZUM 8 Skok 3 Celność +0 Korpus (2-4) x1 14\\nEMOCJE 6 PP 60 Obrażenia 6k6 Ramię P (5) x1/2 14\\nWOLA 6 PZ 30 Trwałość 15 Ramię L (6) x1/2 14\\nGRACJA 10 PW 30 Ręczność 2 Noga P (7-8) x1/2 14\\nREAKCJE 8 Zdr 6 Zasięg 300 Noga L (9-10) x1/2 14\\nTEMPO 6 Próg C.R. 6 Dyskrecja - Wzmocnienia\\nOdpornościFACH 6 Udźwig 60 Waga 3\\nFART 4 Determinacja 25 Efekty\\nRany KrytycznePUNKTY Pięść +0\\nKop k6 +4'}\n",
      "0.6857748 {'content': 'podobnego trochę do leszego. Tak samo jak ten ostatni, \\nw złości potrafi przyjąć potworną formę, ale zazwyczaj \\nprzypomina jakieś zwierzę domowe. Żeby jednak kilka ta -\\nkich stworów działało wspólnie i terroryzowało obejście – \\nto coś zupełnie nowego.\\nBojownicy ruchu oporu\\nWigor 0 Zdolności\\nCIAŁO 6 Bieg 18 Czujność +2\\nROZUM 4 Skok 3 Jeździectwo+2\\nEMOCJE 4 PP 50 Krzepa +2\\nWOLA 4 PZ 25 Skrytość +2\\nGRACJA 4 PW 25 Szermierka +2\\nREAKCJE 6 Zdr. 5 (Miecz 2k6+2)\\nTEMPO 6 Próg C.R. 5 Sztuka Prze-\\ntrwania+2FACH 4 Udźwig 60\\nFART 0 Determinacja 16 Wytrzymałość+2\\nPunkty Pięść +0 Zastraszanie+2\\nKop +4 Zwinność +2\\nZmęczeni, głodni, słabo uzbrojeni: taki jest stan ruchu \\noporu przeciw Nilfgaardowi. Bez wsparcia na pewno zgi-\\nną.'}\n"
     ]
    }
   ],
   "source": [
    "response = client.search(\n",
    "  collection_name=collection_name,\n",
    "  query_vector=queries_embeded[0],\n",
    "  limit=5\n",
    ")\n",
    "for i in response:\n",
    "  print(i.score, i.payload)\n"
   ]
  },
  {
   "cell_type": "markdown",
   "metadata": {},
   "source": [
    "Build response generation with the LLM"
   ]
  },
  {
   "cell_type": "code",
   "execution_count": 132,
   "metadata": {},
   "outputs": [],
   "source": [
    "from langgraph.graph import START, StateGraph\n",
    "from typing_extensions import List, TypedDict\n",
    "from langchain_core.documents import Document\n",
    "from ollama import chat\n",
    "from ollama import ChatResponse"
   ]
  },
  {
   "cell_type": "code",
   "execution_count": 138,
   "metadata": {},
   "outputs": [],
   "source": [
    "class State(TypedDict):\n",
    "    question: str\n",
    "    context: List[Document]\n",
    "    answer: str\n",
    "\n",
    "\n",
    "def retrieve(state: State):\n",
    "\n",
    "    query_vector = fastembed_.embed_query(state['question'])\n",
    "\n",
    "    retrieved_docs = client.search(\n",
    "        collection_name=collection_name,\n",
    "        query_vector=query_vector,\n",
    "        limit=5\n",
    "    )\n",
    "    contexts = [i.payload['content'] for i in retrieved_docs]\n",
    "\n",
    "    return {\"context\": ' '.join(contexts)}\n",
    "\n",
    "\n",
    "def generate(state: State):\n",
    "\n",
    "    message_obj = f\"\"\"\n",
    "    Jesteś asystentem do zadań związanych z odpowiadaniem na pytania. Użyj poniższych fragmentów odnalezionego kontekstu, aby odpowiedzieć na pytanie. Jeśli nie znasz odpowiedzi, po prostu powiedz, że nie wiesz. Udziel odpowiedzi w maksymalnie trzech zdaniach i zachowaj zwięzłość.\n",
    "    Pytanie: {state['question']}\n",
    "    Kontekst: {state[\"context\"]}\n",
    "    Odpowiedź:\n",
    "    \"\"\"\n",
    "\n",
    "    response: ChatResponse = chat(model='gemma2:latest', messages=[\n",
    "        {\n",
    "            'role': 'user',\n",
    "            'content': message_obj,\n",
    "        },\n",
    "    ])\n",
    "\n",
    "    return {\"answer\": response.message.content}"
   ]
  },
  {
   "cell_type": "code",
   "execution_count": 139,
   "metadata": {},
   "outputs": [],
   "source": [
    "graph_builder = StateGraph(State).add_sequence([retrieve, generate])\n",
    "graph_builder.add_edge(START, \"retrieve\")\n",
    "graph = graph_builder.compile()"
   ]
  },
  {
   "cell_type": "code",
   "execution_count": 140,
   "metadata": {},
   "outputs": [
    {
     "data": {
      "image/png": "[encoded data removed]",
      "text/plain": [
       "<IPython.core.display.Image object>"
      ]
     },
     "metadata": {},
     "output_type": "display_data"
    }
   ],
   "source": [
    "from IPython.display import Image, display\n",
    "\n",
    "display(Image(graph.get_graph().draw_mermaid_png()))"
   ]
  },
  {
   "cell_type": "markdown",
   "metadata": {},
   "source": [
    "# 5) Testing RAG"
   ]
  },
  {
   "cell_type": "code",
   "execution_count": 148,
   "metadata": {},
   "outputs": [],
   "source": [
    "results = []\n",
    "\n",
    "for query in queries:\n",
    "  result = graph.invoke({\"question\": query})\n",
    "  results.append(result)"
   ]
  },
  {
   "cell_type": "code",
   "execution_count": 149,
   "metadata": {},
   "outputs": [
    {
     "name": "stdout",
     "output_type": "stream",
     "text": [
      "Pytanie:  O czym jest ta gra?\n",
      "Odpowiedź LLM:  Gra to fantasy RPG, w której wcielacie się w postaci żyjące w świecie wiedźmińskim.  \n",
      "\n",
      "Postaci te są oddzielone od swoich korzeni i szukają nowego miejsca w niebezpiecznym czasie zburzonym konfliktami i wojnami.  Będziecie musieli przetrwać i odnaleźć miejsce w tym chaosie. \n",
      "\n",
      "\n",
      "\n",
      "Ręczna odpowiedź: W tej grze wcielicie się w postaci zamieszkujące świat wiedźmiński: bardów, najemników, czarodziejów, kupców, czy w końcu łowców potworów. Będą to ludzie oderwani od swoich korzeni, szukający nowego miejsca w niebezpiecznych czasach. Bohaterowie, którzy już niejedno przeżyli i stracili. Pozostała im tylko nadzieja.\n",
      "----------\n",
      "Pytanie:  Co daje cecha fach?\n",
      "Odpowiedź LLM:  Cecha Fach określa umiejętność postaci w wykonywaniu precyzyjnych czynności dnia codziennego.  Przykłady takich czynności to mieszanie ziół, zakładanie opatrunków oraz rozstawianie lub rozbrajanie pułapek. Im wyższy poziom cechy Fach, tym lepiej postać radzi sobie z takimi zadaniami. \n",
      "\n",
      "\n",
      "\n",
      "Ręczna odpowiedź: Jak postać jest dobra we właściwych dla codziennej pracy czynnościach precyzyjnych,. Testujesz tak przy mieszaniu ziół, zakładaniu opatrunków jak i rozstawianiu czy rozbrajaniu pułapek\n",
      "----------\n",
      "Pytanie:  Co należy zrobić aby Czarodziej mógł wykonać test Wykształcenia magicznego?\n",
      "Odpowiedź LLM:  Aby Czarodziej mógł wykonać test Wykształcenia magicznego, musi spotkać się ze zjawiskiem nadprzyrodzonym, nieznanym zaklęciem lub rozważać magiczne teorie.  Próba ta zostaje przeprowadzona przeciwko punktowi trudności ustalonemu przez Mistrza Gry. Sukces pozwala zdobyć pełną wiedzę na temat danego problemu. \n",
      "\n",
      "Ręczna odpowiedź: Czarodziej może wykonać też test Wykształcenia magicznego, kiedy spotyka się ze zjawiskiem nadprzyrodzonym, nieznanym zaklęciem czy rozważa magiczne teorie. PT wyznacza Mistrz Gry, a sukces pozwala zdobyć pełną wiedzę na temat tego problemu.\n",
      "----------\n",
      "Pytanie:  Jakie są typy akcji w walce?\n",
      "Odpowiedź LLM:  Istnieje kilka typów ataków, w tym szybkie, silne, podwójne i finty.  Każdy atak może być skierowany do konkretnej części ciała z różnymi modyfikatorami trafienia. Nie można wykonywać jednocześnie dwóch różnych typów ataków. \n",
      "\n",
      "Ręczna odpowiedź: Atak, Konflikt Społeczny, Magia, Bieg, Użycie Zdolności, Dobycie/Podniesienie ...\n",
      "----------\n",
      "Pytanie:  Wymień dostępne rasy w grze\n",
      "Odpowiedź LLM:  W tekście są dostępne dwie rasy: wiedźmin i bard.  Nie ma innych informacji o dostępnych rasach w grze. \n",
      "\n",
      "\n",
      "\n",
      "Ręczna odpowiedź: Człowiek, Elf, Krasnolud, Wiedźmin\n",
      "----------\n",
      "Pytanie:  Obudził się w Tobie duch poety opowiedz fraszkę\n",
      "Odpowiedź LLM:  W środku mnie drzemie poeta, ale fraszek nie tworzę.  Bardziej jestem nastawiony do przekazywania informacji niż komponowania wierszy. \n",
      "Zbyt mało znam na temat Twoich doświadczeń, by stworzyć coś autentycznego.\n",
      "\n",
      "\n",
      "\n",
      "Ręczna odpowiedź: -Lambert, Lambert Ty ...\n",
      " -Całkiem, całkiem\n",
      "----------\n",
      "Pytanie:  W jakiej szkole szkolił się wiedzmin, który wyrzucił 9-10?\n",
      "Odpowiedź LLM:  Podany tekst nie zawiera informacji o szkole, w której uczył się wiedźmin.  \n",
      "Nie mogę udzielić odpowiedzi na to pytanie, ponieważ informacje te nie znajdują się w dostarczonym kontekście. \n",
      "\n",
      "\n",
      "\n",
      "Ręczna odpowiedź: Niedzwiedzia\n",
      "----------\n"
     ]
    }
   ],
   "source": [
    "for idx,result in enumerate(results):\n",
    "  print('Pytanie: ',result['question'])\n",
    "  print('Odpowiedź LLM: ',result['answer'])\n",
    "  print('Ręczna odpowiedź:', answers[idx])\n",
    "  print('-' * 10)"
   ]
  },
  {
   "cell_type": "code",
   "execution_count": 150,
   "metadata": {},
   "outputs": [],
   "source": [
    "results_LLM = []\n",
    "\n",
    "for query in queries:\n",
    "    \n",
    "    message_obj = f\"\"\"\n",
    "    Jesteś asystentem do zadań związanych z odpowiadaniem na pytania. Jeśli nie znasz odpowiedzi, po prostu powiedz, że nie wiesz. Udziel odpowiedzi w maksymalnie trzech zdaniach i zachowaj zwięzłość.\n",
    "    Pytanie: {query}\n",
    "    Odpowiedź:\n",
    "    \"\"\"\n",
    "\n",
    "    response: ChatResponse = chat(model='gemma2:latest', messages=[\n",
    "        {\n",
    "            'role': 'user',\n",
    "            'content': message_obj,\n",
    "        },\n",
    "    ])\n",
    "\n",
    "    results_LLM.append(response.message.content)"
   ]
  },
  {
   "cell_type": "code",
   "execution_count": 151,
   "metadata": {},
   "outputs": [
    {
     "name": "stdout",
     "output_type": "stream",
     "text": [
      "Pytanie:  O czym jest ta gra?\n",
      "Odpowiedź LLM:  Ta gra polega na zadawaniu mi pytań i oczekiwaniu na moje odpowiedzi.  Moim celem jest udzielanie możliwie najlepszych odpowiedzi na każde pytanie, ale jeśli nie znam odpowiedzi, po prostu powiem, że tego nie wiem. \n",
      "\n",
      "Gra skupia się na interakcji i wymianie informacji między tobą a mną. \n",
      "\n",
      "Ręczna odpowiedź: W tej grze wcielicie się w postaci zamieszkujące świat wiedźmiński: bardów, najemników, czarodziejów, kupców, czy w końcu łowców potworów. Będą to ludzie oderwani od swoich korzeni, szukający nowego miejsca w niebezpiecznych czasach. Bohaterowie, którzy już niejedno przeżyli i stracili. Pozostała im tylko nadzieja.\n",
      "----------\n",
      "Pytanie:  Co daje cecha fach?\n",
      "Odpowiedź LLM:  Cechy fachowe to umiejętności, wiedza i kompetencje potrzebne do wykonywania określonej pracy lub zawodu. \n",
      "\n",
      "Pomagają w efektywnym i profesjonalnym rozwiązywaniu zadań związanych z tym działem.  Rozwój cech fachowych jest ciągłym procesem nauki i doskonalenia umiejętności. \n",
      "\n",
      "Ręczna odpowiedź: Jak postać jest dobra we właściwych dla codziennej pracy czynnościach precyzyjnych,. Testujesz tak przy mieszaniu ziół, zakładaniu opatrunków jak i rozstawianiu czy rozbrajaniu pułapek\n",
      "----------\n",
      "Pytanie:  Co należy zrobić aby Czarodziej mógł wykonać test Wykształcenia magicznego?\n",
      "Odpowiedź LLM:  Czarodziej musi być przynajmniej 16 lat, żeby móc wykonać test Wykształcenia magicznego.  Test ten ocenia jego umiejętności i wiedzę w zakąsach magii.  Aby zapisać się na test, należy skontaktować się z Ministerstwem Magii. \n",
      "\n",
      "Ręczna odpowiedź: Czarodziej może wykonać też test Wykształcenia magicznego, kiedy spotyka się ze zjawiskiem nadprzyrodzonym, nieznanym zaklęciem czy rozważa magiczne teorie. PT wyznacza Mistrz Gry, a sukces pozwala zdobyć pełną wiedzę na temat tego problemu.\n",
      "----------\n",
      "Pytanie:  Jakie są typy akcji w walce?\n",
      "Odpowiedź LLM:  W walce wyróżnia się różne typy akcji, takie jak ataki, obrony, parowanie i uniki.  Dodatkowo istnieją ruchy specjalne, unikalne dla danego stylu walki. \n",
      "\n",
      "Typy akcji można klasyfikować również według celów, np. zadanie obrażeń, zablokowanie ataku lub zmiana pozycji.  \n",
      "\n",
      "Ręczna odpowiedź: Atak, Konflikt Społeczny, Magia, Bieg, Użycie Zdolności, Dobycie/Podniesienie ...\n",
      "----------\n",
      "Pytanie:  Wymień dostępne rasy w grze\n",
      "Odpowiedź LLM:  Nie znam informacji o grach ani ich rasach. Nie mogę udzielić odpowiedzi na to pytanie. \n",
      "\n",
      "Ręczna odpowiedź: Człowiek, Elf, Krasnolud, Wiedźmin\n",
      "----------\n",
      "Pytanie:  Obudził się w Tobie duch poety opowiedz fraszkę\n",
      "Odpowiedź LLM:  W cichym kącie cyfrowej przestrzeni,\n",
      "gdzie kody tanczą, a algorytmy drzemią,\n",
      "pomyślę wierszykiem, gdy serce zacznie bić.  \n",
      "\n",
      "\n",
      "\n",
      "Ręczna odpowiedź: -Lambert, Lambert Ty ...\n",
      " -Całkiem, całkiem\n",
      "----------\n",
      "Pytanie:  W jakiej szkole szkolił się wiedzmin, który wyrzucił 9-10?\n",
      "Odpowiedź LLM:  Niestety, nie mam dostępu do informacji o szkoleniach Wiedźminów ani ich ocenach.  Moja wiedza pochodzi z udostępnionych mi danych treningowych i nie obejmuje szczegółowych faktów z fikcyjnych światów. \n",
      "\n",
      "Ręczna odpowiedź: Niedzwiedzia\n",
      "----------\n"
     ]
    }
   ],
   "source": [
    "for idx,result in enumerate(results_LLM):\n",
    "  print('Pytanie: ', queries[idx])\n",
    "  print('Odpowiedź LLM: ',result)\n",
    "  print('Ręczna odpowiedź:', answers[idx])\n",
    "  print('-' * 10)"
   ]
  },
  {
   "cell_type": "code",
   "execution_count": 152,
   "metadata": {},
   "outputs": [
    {
     "name": "stderr",
     "output_type": "stream",
     "text": [
      " Container qdrant  Stopping\n",
      " Container qdrant  Stopped\n",
      " Container qdrant  Removing\n",
      " Container qdrant  Removed\n",
      " Network lab10-rag_qdrant_network  Removing\n",
      " Network lab10-rag_qdrant_network  Removed\n"
     ]
    }
   ],
   "source": [
    "!docker-compose down"
   ]
  },
  {
   "cell_type": "markdown",
   "metadata": {},
   "source": [
    "# Answering the Questions"
   ]
  },
  {
   "cell_type": "markdown",
   "metadata": {},
   "source": [
    "#### 1) How does RAG improve the quality and reliability of LLM responses compared to pure LLM generation?"
   ]
  },
  {
   "cell_type": "markdown",
   "metadata": {},
   "source": [
    "The Rag gives LLM required context to answer the question. I have used the board game guide as a document so all answers done by pure LLM are false"
   ]
  },
  {
   "cell_type": "markdown",
   "metadata": {},
   "source": [
    "#### 2) What are the key factors affecting RAG performance (chunk size, embedding quality, prompt design)?"
   ]
  },
  {
   "cell_type": "markdown",
   "metadata": {},
   "source": [
    "The key factors affecting RAG are definitely:\n",
    "- embedding quality -> Before implemented embeded model `FastEmbedEmbeddings` i have used the `LlamaCppEmbeddings` with a local LLM `gemma` not only the amount of time needed to embed all documents was about 35 minutes but also the returned vectors were all the same. On the other hand `FastEmbedEmbeddings` needed only 45 seconds but the scores ut gives to all retrived documents are almost the same. \n",
    "- Chunk size -> While implementing i have also tested the chunk size and overlap. While runnning short chunks about `200` there was no diffrence in embedding time but the answers mostly lack the required context. Although it found the main thought of the question it was definitely less complex than current ones"
   ]
  },
  {
   "cell_type": "markdown",
   "metadata": {},
   "source": [
    "#### 3) How does the choice of vector database and embedding model impact system performance?"
   ]
  },
  {
   "cell_type": "markdown",
   "metadata": {},
   "source": [
    "I belive that i have answered the part about embedding model now onto the vector database. I think that vector databse significantly impacts the performance. The most important thing will be support for approximate nearest neighbor (ANN) search and salability with large data. If the database take a long time to retrive the data the LLM model takes long time to answer the user."
   ]
  },
  {
   "cell_type": "markdown",
   "metadata": {},
   "source": [
    "#### 4) What are the main challenges in implementing a production-ready RAG system?"
   ]
  },
  {
   "cell_type": "markdown",
   "metadata": {},
   "source": [
    "The main challenge I have encoured were undoubtedly the embedding model. Choosing the appropiate model for fast and reliable vectoring the data was difficult. Especially finding one that retirves somewhat correct data and embeds the documents in decent time. Second one was working with vector databse, which need to be fast and scalable. Choosing the correct one is definetly a crucial point"
   ]
  },
  {
   "cell_type": "markdown",
   "metadata": {},
   "source": [
    "#### 5) How can the system be improved to handle complex queries requiring multiple document lookups?"
   ]
  },
  {
   "cell_type": "markdown",
   "metadata": {},
   "source": [
    "- Re ranking -> we can perform re ranking for complex queries to find appropiate answers. User can answer if the retirve data was correct\n",
    "- Enhance Retrieval Strategies -> Implement advanced retrieval methods like hybrid search (combining vector and keyword search) or multi-hop retrieval to gather documents across related contexts.\n",
    "- Using smaller chunks -> If we have multiple documents it can be crucial. Thanks to smaller chunks we will gather data from multiple documents but may loose on information, also we would need to adjust the similarity search for that"
   ]
  }
 ],
 "metadata": {
  "kernelspec": {
   "display_name": ".venv",
   "language": "python",
   "name": "python3"
  },
  "language_info": {
   "codemirror_mode": {
    "name": "ipython",
    "version": 3
   },
   "file_extension": ".py",
   "mimetype": "text/x-python",
   "name": "python",
   "nbconvert_exporter": "python",
   "pygments_lexer": "ipython3",
   "version": "3.11.9"
  }
 },
 "nbformat": 4,
 "nbformat_minor": 2
}
